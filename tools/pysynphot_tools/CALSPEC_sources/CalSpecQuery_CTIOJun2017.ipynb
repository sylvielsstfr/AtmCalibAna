{
 "cells": [
  {
   "cell_type": "markdown",
   "metadata": {
    "deletable": true,
    "editable": true,
    "slideshow": {
     "slide_type": "slide"
    }
   },
   "source": [
    "========================================================\n",
    "# Query Simbad on CALSPEC sources\n",
    "========================================================\n",
    "\n",
    "- author Sylvie Dagoret-Campagne\n",
    "- Affiliation LAL-IN2P3-CNRS\n",
    "- Work : LSST & StarDice\n",
    "- date May 4th 2017\n",
    "- update May 19th 2017\n",
    "\n",
    "\n",
    "\n",
    "Attention parfois la récupération de la localisation par adresse échoue à cause de google.\n",
    "Relancer la cellule à la main plusieurs fois."
   ]
  },
  {
   "cell_type": "markdown",
   "metadata": {
    "deletable": true,
    "editable": true
   },
   "source": [
    "# Configuration with packages\n",
    "---------------------------------------------"
   ]
  },
  {
   "cell_type": "code",
   "execution_count": 1,
   "metadata": {
    "collapsed": true,
    "deletable": true,
    "editable": true
   },
   "outputs": [],
   "source": [
    "import numpy as np\n",
    "# Set up matplotlib and use a nicer set of plot parameters\n",
    "import matplotlib\n",
    "import matplotlib.pyplot as plt\n",
    "%matplotlib inline"
   ]
  },
  {
   "cell_type": "code",
   "execution_count": 2,
   "metadata": {
    "collapsed": true,
    "deletable": true,
    "editable": true
   },
   "outputs": [],
   "source": [
    "import pandas as pd\n",
    "import os\n",
    "import re"
   ]
  },
  {
   "cell_type": "code",
   "execution_count": 3,
   "metadata": {
    "collapsed": true,
    "deletable": true,
    "editable": true
   },
   "outputs": [],
   "source": [
    "# to enlarge the sizes\n",
    "params = {'legend.fontsize': 'x-large',\n",
    "          'figure.figsize': (6, 4),\n",
    "         'axes.labelsize': 'x-large',\n",
    "         'axes.titlesize':'x-large',\n",
    "         'xtick.labelsize':'x-large',\n",
    "         'ytick.labelsize':'x-large'}\n",
    "plt.rcParams.update(params)"
   ]
  },
  {
   "cell_type": "code",
   "execution_count": 4,
   "metadata": {
    "collapsed": false,
    "deletable": true,
    "editable": true
   },
   "outputs": [
    {
     "data": {
      "text/plain": [
       "'/Users/dagoret-campagnesylvie/MacOsX/External/PySyn_CDBS/grp/hst/cdbs'"
      ]
     },
     "execution_count": 4,
     "metadata": {},
     "output_type": "execute_result"
    }
   ],
   "source": [
    "os.environ['PYSYN_CDBS']"
   ]
  },
  {
   "cell_type": "code",
   "execution_count": 5,
   "metadata": {
    "collapsed": true,
    "deletable": true,
    "editable": true
   },
   "outputs": [],
   "source": [
    "import astropy\n",
    "from astropy.io import fits\n",
    "import pysynphot as S"
   ]
  },
  {
   "cell_type": "code",
   "execution_count": 6,
   "metadata": {
    "collapsed": true,
    "deletable": true,
    "editable": true
   },
   "outputs": [],
   "source": [
    "from astropy import units as u\n",
    "from astropy.coordinates import SkyCoord\n",
    "from astropy.coordinates import Angle\n",
    "from astropy.table import Table\n",
    "from astropy.coordinates import Angle\n",
    "from astropy.time import Time, TimezoneInfo"
   ]
  },
  {
   "cell_type": "code",
   "execution_count": 7,
   "metadata": {
    "collapsed": true,
    "deletable": true,
    "editable": true
   },
   "outputs": [],
   "source": [
    "from astropy.visualization import astropy_mpl_style\n",
    "plt.style.use(astropy_mpl_style)\n"
   ]
  },
  {
   "cell_type": "code",
   "execution_count": 8,
   "metadata": {
    "collapsed": true,
    "deletable": true,
    "editable": true
   },
   "outputs": [],
   "source": [
    "from astropy.coordinates import SkyCoord, EarthLocation, AltAz"
   ]
  },
  {
   "cell_type": "code",
   "execution_count": 9,
   "metadata": {
    "collapsed": true,
    "deletable": true,
    "editable": true
   },
   "outputs": [],
   "source": [
    "from datetime import datetime\n",
    "from pytz import timezone\n",
    "import pytz"
   ]
  },
  {
   "cell_type": "code",
   "execution_count": 10,
   "metadata": {
    "collapsed": true,
    "deletable": true,
    "editable": true
   },
   "outputs": [],
   "source": [
    "from pytz import all_timezones,common_timezones"
   ]
  },
  {
   "cell_type": "code",
   "execution_count": 11,
   "metadata": {
    "collapsed": true,
    "deletable": true,
    "editable": true
   },
   "outputs": [],
   "source": [
    "from astroquery.simbad import Simbad"
   ]
  },
  {
   "cell_type": "code",
   "execution_count": 12,
   "metadata": {
    "collapsed": true,
    "deletable": true,
    "editable": true
   },
   "outputs": [],
   "source": [
    "from astropy.coordinates import get_sun,get_moon"
   ]
  },
  {
   "cell_type": "markdown",
   "metadata": {
    "deletable": true,
    "editable": true
   },
   "source": [
    "# Initialisation"
   ]
  },
  {
   "cell_type": "markdown",
   "metadata": {
    "deletable": true,
    "editable": true,
    "slideshow": {
     "slide_type": "slide"
    }
   },
   "source": [
    "## Simbad"
   ]
  },
  {
   "cell_type": "code",
   "execution_count": 13,
   "metadata": {
    "collapsed": false,
    "deletable": true,
    "editable": true,
    "slideshow": {
     "slide_type": "subslide"
    }
   },
   "outputs": [
    {
     "name": "stdout",
     "output_type": "stream",
     "text": [
      "--NOTES--\n",
      "\n",
      "1. The parameter filtername must correspond to an existing filter. Filters include: B,V,R,I,J,K.  They are checked by SIMBAD but not astroquery.simbad\n",
      "\n",
      "2. Fields beginning with rvz display the data as it is in the database. Fields beginning with rv force the display as a radial velocity. Fields beginning with z force the display as a redshift\n",
      "\n",
      "3. For each measurement catalog, the VOTable contains all fields of the first measurement. When applicable, the first measurement is the mean one. \n",
      "\n",
      "Available VOTABLE fields:\n",
      "\n",
      "          col0                   col1              col2     \n",
      "------------------------ -------------------- --------------\n",
      "      bibcodelist(y1-y2) fluxdata(filtername)       plx_qual\n",
      "                     cel                 gcrv             pm\n",
      "                    cl.g                  gen     pm_bibcode\n",
      "                coo(opt)                   gj   pm_err_angle\n",
      "             coo_bibcode                 hbet    pm_err_maja\n",
      "           coo_err_angle                hbet1    pm_err_mina\n",
      "            coo_err_maja                 hgam        pm_qual\n",
      "            coo_err_mina              id(opt)          pmdec\n",
      "                coo_qual                 iras     pmdec_prec\n",
      "          coo_wavelength                  irc           pmra\n",
      "             coordinates                  iso      pmra_prec\n",
      "                dec(opt)                  iue            pos\n",
      "                dec_prec                 jp11           posa\n",
      "                     dim              main_id  propermotions\n",
      "               dim_angle         measurements        ra(opt)\n",
      "             dim_bibcode               mesplx        ra_prec\n",
      "                dim_incl                mespm            rot\n",
      "             dim_majaxis                   mk       rv_value\n",
      "             dim_minaxis            morphtype           rvel\n",
      "                dim_qual                   mt    rvz_bibcode\n",
      "          dim_wavelength           mt_bibcode      rvz_error\n",
      "              dimensions              mt_qual       rvz_qual\n",
      "                einstein                  orv     rvz_radvel\n",
      "                    fe_h                otype       rvz_type\n",
      "        flux(filtername)           otype(opt) rvz_wavelength\n",
      "flux_bibcode(filtername)             parallax            sao\n",
      "  flux_error(filtername)                  plx             sp\n",
      "   flux_name(filtername)          plx_bibcode     sp_bibcode\n",
      "   flux_qual(filtername)            plx_error      sp_nature\n",
      "   flux_unit(filtername)             plx_prec        sp_qual\n",
      "                  sptype                   --             --\n",
      "For more information on a field :\n",
      "Simbad.get_field_description ('field_name') \n",
      "Currently active VOTABLE fields:\n",
      " ['main_id', 'coordinates']\n"
     ]
    }
   ],
   "source": [
    "Simbad.list_votable_fields()"
   ]
  },
  {
   "cell_type": "code",
   "execution_count": 14,
   "metadata": {
    "collapsed": false,
    "deletable": true,
    "editable": true,
    "slideshow": {
     "slide_type": "subslide"
    }
   },
   "outputs": [
    {
     "name": "stdout",
     "output_type": "stream",
     "text": [
      "value of the flux for the given filter\n"
     ]
    }
   ],
   "source": [
    "Simbad.get_field_description ('flux(filtername)') \n"
   ]
  },
  {
   "cell_type": "code",
   "execution_count": 15,
   "metadata": {
    "collapsed": false,
    "deletable": true,
    "editable": true
   },
   "outputs": [
    {
     "data": {
      "text/plain": [
       "['main_id', 'coordinates']"
      ]
     },
     "execution_count": 15,
     "metadata": {},
     "output_type": "execute_result"
    }
   ],
   "source": [
    "Simbad.get_votable_fields()"
   ]
  },
  {
   "cell_type": "markdown",
   "metadata": {
    "deletable": true,
    "editable": true,
    "slideshow": {
     "slide_type": "slide"
    }
   },
   "source": [
    "## Defines the configuration of my own Simbad"
   ]
  },
  {
   "cell_type": "code",
   "execution_count": 16,
   "metadata": {
    "collapsed": true,
    "deletable": true,
    "editable": true,
    "slideshow": {
     "slide_type": "-"
    }
   },
   "outputs": [],
   "source": [
    "customSimbad = Simbad()"
   ]
  },
  {
   "cell_type": "code",
   "execution_count": 17,
   "metadata": {
    "collapsed": false,
    "deletable": true,
    "editable": true
   },
   "outputs": [],
   "source": [
    "customSimbad.add_votable_fields('flux(U)','flux(B)','flux(V)','flux(R)','flux(I)','flux(J)')"
   ]
  },
  {
   "cell_type": "code",
   "execution_count": 18,
   "metadata": {
    "collapsed": false,
    "deletable": true,
    "editable": true
   },
   "outputs": [],
   "source": [
    "result_table = customSimbad.query_object('VEGA')   # Ask Simbad ALPHA_LYR"
   ]
  },
  {
   "cell_type": "code",
   "execution_count": 19,
   "metadata": {
    "collapsed": false,
    "deletable": true,
    "editable": true
   },
   "outputs": [
    {
     "name": "stdout",
     "output_type": "stream",
     "text": [
      " MAIN_ID        RA           DEC      RA_PREC ... FLUX_R FLUX_I    FLUX_J  \n",
      "             \"h:m:s\"       \"d:m:s\"            ...  mag    mag       mag    \n",
      "--------- ------------- ------------- ------- ... ------ ------ -----------\n",
      "* alf Lyr 18 36 56.3363 +38 47 01.280       9 ...   0.07    0.1 -0.18000001\n"
     ]
    }
   ],
   "source": [
    "print result_table"
   ]
  },
  {
   "cell_type": "markdown",
   "metadata": {
    "deletable": true,
    "editable": true,
    "slideshow": {
     "slide_type": "slide"
    }
   },
   "source": [
    "## Times zones"
   ]
  },
  {
   "cell_type": "code",
   "execution_count": 20,
   "metadata": {
    "collapsed": false,
    "deletable": true,
    "editable": true
   },
   "outputs": [],
   "source": [
    "#common_timezones"
   ]
  },
  {
   "cell_type": "markdown",
   "metadata": {
    "deletable": true,
    "editable": true,
    "slideshow": {
     "slide_type": "slide"
    }
   },
   "source": [
    "## Observatory sites"
   ]
  },
  {
   "cell_type": "code",
   "execution_count": 21,
   "metadata": {
    "collapsed": false,
    "deletable": true,
    "editable": true
   },
   "outputs": [],
   "source": [
    "#EarthLocation.get_site_names()"
   ]
  },
  {
   "cell_type": "markdown",
   "metadata": {
    "deletable": true,
    "editable": true
   },
   "source": [
    "### Set Observation Time\n",
    "\n",
    "- Choose the observation time (day) here"
   ]
  },
  {
   "cell_type": "code",
   "execution_count": 85,
   "metadata": {
    "collapsed": true,
    "deletable": true,
    "editable": true
   },
   "outputs": [],
   "source": [
    "observationtime=datetime(2017, 5, 27)"
   ]
  },
  {
   "cell_type": "markdown",
   "metadata": {
    "deletable": true,
    "editable": true,
    "slideshow": {
     "slide_type": "slide"
    }
   },
   "source": [
    "### CTIO\n",
    "\n",
    "- http://www.ctio.noao.edu/noao/\n",
    "- http://ast.noao.edu/facilities/ctio\n",
    "\n",
    " \t\n",
    "- Coordinates :\t30°10′10.78″S 70°48′23.49″ , WCoordinates: 30°10′10.78″S 70°48′23.49″W\n",
    "- Altitude \t  : 2,207 metres "
   ]
  },
  {
   "cell_type": "markdown",
   "metadata": {
    "deletable": true,
    "editable": true
   },
   "source": [
    "#### CTIO time and Time zone and UTC Offset"
   ]
  },
  {
   "cell_type": "code",
   "execution_count": 23,
   "metadata": {
    "collapsed": false,
    "deletable": true,
    "editable": true
   },
   "outputs": [],
   "source": [
    "CTIO_OBS_time=datetime(2017, 6, 1,0,0,0)"
   ]
  },
  {
   "cell_type": "code",
   "execution_count": 24,
   "metadata": {
    "collapsed": false,
    "deletable": true,
    "editable": true
   },
   "outputs": [],
   "source": [
    "CTIO_TZ = timezone('America/Santiago')"
   ]
  },
  {
   "cell_type": "code",
   "execution_count": 25,
   "metadata": {
    "collapsed": false,
    "deletable": true,
    "editable": true
   },
   "outputs": [],
   "source": [
    "td=CTIO_TZ.utcoffset(CTIO_OBS_time, is_dst=True)"
   ]
  },
  {
   "cell_type": "code",
   "execution_count": 26,
   "metadata": {
    "collapsed": false,
    "deletable": true,
    "editable": true
   },
   "outputs": [],
   "source": [
    "timeshift_hours=td.days*24+td.seconds/3600."
   ]
  },
  {
   "cell_type": "code",
   "execution_count": 27,
   "metadata": {
    "collapsed": true,
    "deletable": true,
    "editable": true
   },
   "outputs": [],
   "source": [
    "CTIO_UTC_OFFSET=int(timeshift_hours)"
   ]
  },
  {
   "cell_type": "code",
   "execution_count": 28,
   "metadata": {
    "collapsed": false,
    "deletable": true,
    "editable": true
   },
   "outputs": [
    {
     "name": "stdout",
     "output_type": "stream",
     "text": [
      "CTIO_UTC_OFFSET =  -4\n"
     ]
    }
   ],
   "source": [
    "print 'CTIO_UTC_OFFSET = ', CTIO_UTC_OFFSET"
   ]
  },
  {
   "cell_type": "markdown",
   "metadata": {
    "deletable": true,
    "editable": true,
    "slideshow": {
     "slide_type": "subslide"
    }
   },
   "source": [
    "#### CTIO Location"
   ]
  },
  {
   "cell_type": "code",
   "execution_count": 29,
   "metadata": {
    "collapsed": false,
    "deletable": true,
    "editable": true
   },
   "outputs": [],
   "source": [
    "CTIO_OBS_loc=EarthLocation.of_site('Cerro Tololo Interamerican Observatory')"
   ]
  },
  {
   "cell_type": "code",
   "execution_count": 30,
   "metadata": {
    "collapsed": false,
    "deletable": true,
    "editable": true
   },
   "outputs": [
    {
     "data": {
      "text/plain": [
       "(<Longitude -70.815 deg>,\n",
       " <Latitude -30.165277777777778 deg>,\n",
       " <Quantity 2214.9999999993697 m>)"
      ]
     },
     "execution_count": 30,
     "metadata": {},
     "output_type": "execute_result"
    }
   ],
   "source": [
    "CTIO_OBS_loc.to_geodetic()"
   ]
  },
  {
   "cell_type": "markdown",
   "metadata": {
    "deletable": true,
    "editable": true
   },
   "source": [
    "### My Work\n",
    "\n",
    "- For exemple to check with Stellarium which is configured at my position"
   ]
  },
  {
   "cell_type": "code",
   "execution_count": 86,
   "metadata": {
    "collapsed": true,
    "deletable": true,
    "editable": true,
    "slideshow": {
     "slide_type": "slide"
    }
   },
   "outputs": [],
   "source": [
    "WORK_OBS_time=datetime(2017, 5, 20,0,0,0) # Choose Today evening"
   ]
  },
  {
   "cell_type": "code",
   "execution_count": 32,
   "metadata": {
    "collapsed": true,
    "deletable": true,
    "editable": true
   },
   "outputs": [],
   "source": [
    "WORK_TZ = timezone('Europe/Paris')"
   ]
  },
  {
   "cell_type": "code",
   "execution_count": 33,
   "metadata": {
    "collapsed": false,
    "deletable": true,
    "editable": true
   },
   "outputs": [],
   "source": [
    "td=WORK_TZ.utcoffset(WORK_OBS_time, is_dst=True)"
   ]
  },
  {
   "cell_type": "code",
   "execution_count": 34,
   "metadata": {
    "collapsed": true,
    "deletable": true,
    "editable": true
   },
   "outputs": [],
   "source": [
    "timeshift_hours=td.days*24+td.seconds/3600."
   ]
  },
  {
   "cell_type": "code",
   "execution_count": 35,
   "metadata": {
    "collapsed": true,
    "deletable": true,
    "editable": true
   },
   "outputs": [],
   "source": [
    "WORK_UTC_OFFSET=int(timeshift_hours)"
   ]
  },
  {
   "cell_type": "code",
   "execution_count": 36,
   "metadata": {
    "collapsed": false,
    "deletable": true,
    "editable": true
   },
   "outputs": [
    {
     "name": "stdout",
     "output_type": "stream",
     "text": [
      "WORK_UTC_OFFSET 2\n"
     ]
    }
   ],
   "source": [
    "print 'WORK_UTC_OFFSET',WORK_UTC_OFFSET"
   ]
  },
  {
   "cell_type": "markdown",
   "metadata": {
    "deletable": true,
    "editable": true,
    "slideshow": {
     "slide_type": "slide"
    }
   },
   "source": [
    "### My local position"
   ]
  },
  {
   "cell_type": "markdown",
   "metadata": {
    "deletable": true,
    "editable": true
   },
   "source": [
    "\n",
    "- Just to remember we can get the Longitude/Latitude with Google world adresses database\n",
    "- Attention parfois la récupération de la localisation par adresse échoue à cause de google : Relancer la cellule à la main plusieurs fois :\n",
    "\n"
   ]
  },
  {
   "cell_type": "code",
   "execution_count": 37,
   "metadata": {
    "collapsed": false,
    "deletable": true,
    "editable": true
   },
   "outputs": [
    {
     "data": {
      "text/plain": [
       "(<Longitude 2.1709371 deg>,\n",
       " <Latitude 48.69931509999999 deg>,\n",
       " <Quantity 60.069522858033785 m>)"
      ]
     },
     "execution_count": 37,
     "metadata": {},
     "output_type": "execute_result"
    }
   ],
   "source": [
    "WORK_OBS_loc=EarthLocation.of_address('Laboratoire accelerateur lineaire, Universite Paris Sud, Orsay, FRANCE,',get_height=True)\n",
    "WORK_OBS_loc.to_geodetic()"
   ]
  },
  {
   "cell_type": "markdown",
   "metadata": {
    "deletable": true,
    "editable": true,
    "slideshow": {
     "slide_type": "slide"
    }
   },
   "source": [
    "### OHP\n",
    "\n",
    "- http://www.obs-hp.fr/info.shtml\n",
    "\n",
    "- Longitude = 5° 42' 44\" E \n",
    "- Latitude = +43° 55' 54\"\n",
    "\n",
    "\n",
    "- frame ICRS, FK5, FK4 ?"
   ]
  },
  {
   "cell_type": "code",
   "execution_count": 91,
   "metadata": {
    "collapsed": true
   },
   "outputs": [],
   "source": [
    "from astropy.coordinates import ICRS, Galactic, FK4, FK5 "
   ]
  },
  {
   "cell_type": "code",
   "execution_count": 98,
   "metadata": {
    "collapsed": false
   },
   "outputs": [],
   "source": [
    "coords_ohp = \"5:42:44 +43:55:54\"\n",
    "skcoord_ohp = SkyCoord(coords_ohp,frame=ICRS,unit=u.deg)"
   ]
  },
  {
   "cell_type": "code",
   "execution_count": 99,
   "metadata": {
    "collapsed": false
   },
   "outputs": [
    {
     "data": {
      "text/plain": [
       "<SkyCoord (ICRS): (ra, dec) in deg\n",
       "    ( 5.71222222,  43.93166667)>"
      ]
     },
     "execution_count": 99,
     "metadata": {},
     "output_type": "execute_result"
    }
   ],
   "source": [
    "skcoord_ohp"
   ]
  },
  {
   "cell_type": "markdown",
   "metadata": {
    "deletable": true,
    "editable": true
   },
   "source": [
    "#### OHP Observation Time"
   ]
  },
  {
   "cell_type": "code",
   "execution_count": 38,
   "metadata": {
    "collapsed": true,
    "deletable": true,
    "editable": true
   },
   "outputs": [],
   "source": [
    "OHP_OBS_time=datetime(2017, 6, 20,0,0,0)"
   ]
  },
  {
   "cell_type": "code",
   "execution_count": 39,
   "metadata": {
    "collapsed": true,
    "deletable": true,
    "editable": true
   },
   "outputs": [],
   "source": [
    "OHP_TZ = timezone('Europe/Paris')"
   ]
  },
  {
   "cell_type": "code",
   "execution_count": 40,
   "metadata": {
    "collapsed": true,
    "deletable": true,
    "editable": true
   },
   "outputs": [],
   "source": [
    "td=OHP_TZ.utcoffset(OHP_OBS_time, is_dst=True)"
   ]
  },
  {
   "cell_type": "code",
   "execution_count": 41,
   "metadata": {
    "collapsed": true,
    "deletable": true,
    "editable": true
   },
   "outputs": [],
   "source": [
    "timeshift_hours=td.days*24+td.seconds/3600."
   ]
  },
  {
   "cell_type": "code",
   "execution_count": 42,
   "metadata": {
    "collapsed": true,
    "deletable": true,
    "editable": true
   },
   "outputs": [],
   "source": [
    "OHP_UTC_OFFSET=int(timeshift_hours)"
   ]
  },
  {
   "cell_type": "code",
   "execution_count": 43,
   "metadata": {
    "collapsed": false,
    "deletable": true,
    "editable": true
   },
   "outputs": [
    {
     "name": "stdout",
     "output_type": "stream",
     "text": [
      "OHP_UTC_OFFSET =  2\n"
     ]
    }
   ],
   "source": [
    "print 'OHP_UTC_OFFSET = ', OHP_UTC_OFFSET"
   ]
  },
  {
   "cell_type": "markdown",
   "metadata": {
    "deletable": true,
    "editable": true,
    "slideshow": {
     "slide_type": "subslide"
    }
   },
   "source": [
    "####  OHP Location"
   ]
  },
  {
   "cell_type": "markdown",
   "metadata": {
    "deletable": true,
    "editable": true
   },
   "source": [
    "- Attention parfois la récupération de la localisation par adresse échoue à cause de google.  : Relancer la cellule à la main plusieurs fois."
   ]
  },
  {
   "cell_type": "code",
   "execution_count": 44,
   "metadata": {
    "collapsed": false,
    "deletable": true,
    "editable": true
   },
   "outputs": [],
   "source": [
    "# Use Google to get earth location from adress\n",
    "OHP_OBS_loc=EarthLocation.of_address('Observatoire de Haute Provence, FRANCE',get_height=True)"
   ]
  },
  {
   "cell_type": "code",
   "execution_count": 45,
   "metadata": {
    "collapsed": false,
    "deletable": true,
    "editable": true
   },
   "outputs": [
    {
     "data": {
      "text/plain": [
       "(<Longitude 5.71362 deg>,\n",
       " <Latitude 43.930415 deg>,\n",
       " <Quantity 639.0343627919294 m>)"
      ]
     },
     "execution_count": 45,
     "metadata": {},
     "output_type": "execute_result"
    }
   ],
   "source": [
    "OHP_OBS_loc.to_geodetic()"
   ]
  },
  {
   "cell_type": "markdown",
   "metadata": {
    "deletable": true,
    "editable": true,
    "slideshow": {
     "slide_type": "slide"
    }
   },
   "source": [
    "### LSST\n",
    "\n",
    "- could use more accurate position"
   ]
  },
  {
   "cell_type": "code",
   "execution_count": 46,
   "metadata": {
    "collapsed": true,
    "deletable": true,
    "editable": true
   },
   "outputs": [],
   "source": [
    "LSST_OBS_loc=EarthLocation.of_site('Cerro Pachon')"
   ]
  },
  {
   "cell_type": "code",
   "execution_count": 47,
   "metadata": {
    "collapsed": false,
    "deletable": true,
    "editable": true
   },
   "outputs": [
    {
     "data": {
      "text/plain": [
       "(<Longitude -70.7366833333333 deg>,\n",
       " <Latitude -30.240741666666672 deg>,\n",
       " <Quantity 2749.999999999238 m>)"
      ]
     },
     "execution_count": 47,
     "metadata": {},
     "output_type": "execute_result"
    }
   ],
   "source": [
    "LSST_OBS_loc.to_geodetic()"
   ]
  },
  {
   "cell_type": "markdown",
   "metadata": {
    "deletable": true,
    "editable": true,
    "slideshow": {
     "slide_type": "slide"
    }
   },
   "source": [
    "# Query Simbad:\n",
    "https://astroquery.readthedocs.io/en/latest/simbad/simbad.html"
   ]
  },
  {
   "cell_type": "code",
   "execution_count": 48,
   "metadata": {
    "collapsed": true,
    "deletable": true,
    "editable": true
   },
   "outputs": [],
   "source": [
    "from astroquery.simbad import Simbad"
   ]
  },
  {
   "cell_type": "code",
   "execution_count": 49,
   "metadata": {
    "collapsed": true,
    "deletable": true,
    "editable": true
   },
   "outputs": [],
   "source": [
    "SEDfile_dir=os.path.join(os.environ['PYSYN_CDBS'], 'calspec')"
   ]
  },
  {
   "cell_type": "code",
   "execution_count": 50,
   "metadata": {
    "collapsed": false,
    "deletable": true,
    "editable": true
   },
   "outputs": [],
   "source": [
    "filelist=os.listdir(SEDfile_dir) "
   ]
  },
  {
   "cell_type": "code",
   "execution_count": 51,
   "metadata": {
    "collapsed": false,
    "deletable": true,
    "editable": true
   },
   "outputs": [
    {
     "data": {
      "text/plain": [
       "['10lac_stis_001.fits',\n",
       " '10lac_stis_002.fits',\n",
       " '10lac_stis_003.fits',\n",
       " '1732526_nic_002.fits',\n",
       " '1732526_stisnic_001.fits',\n",
       " '1732526_stisnic_002.fits',\n",
       " '1732526_stisnic_003.fits',\n",
       " '1740346_nic_001.fits',\n",
       " '1740346_nic_002.fits',\n",
       " '1740346_stisnic_001.fits',\n",
       " '1740346_stisnic_002.fits',\n",
       " '1740346_stisnic_003.fits',\n",
       " '1743045_nic_001.fits',\n",
       " '1743045_nic_002.fits',\n",
       " '1743045_stisnic_001.fits',\n",
       " '1743045_stisnic_002.fits',\n",
       " '1743045_stisnic_003.fits',\n",
       " '1757132_stis_001.fits',\n",
       " '1757132_stis_002.fits',\n",
       " '1757132_stis_003.fits',\n",
       " '1802271_nic_002.fits',\n",
       " '1802271_stisnic_001.fits',\n",
       " '1802271_stisnic_002.fits',\n",
       " '1802271_stisnic_003.fits',\n",
       " '1805292_nic_001.fits',\n",
       " '1805292_nic_002.fits',\n",
       " '1805292_stisnic_001.fits',\n",
       " '1805292_stisnic_002.fits',\n",
       " '1805292_stisnic_003.fits',\n",
       " '1808347_stis_001.fits',\n",
       " '1808347_stis_002.fits',\n",
       " '1808347_stis_003.fits',\n",
       " '1812095_nic_001.fits',\n",
       " '1812095_nic_002.fits',\n",
       " '1812095_stisnic_001.fits',\n",
       " '1812095_stisnic_002.fits',\n",
       " '1812095_stisnic_003.fits',\n",
       " '1812524_nic_002.fits',\n",
       " '1812524_nic_003.fits',\n",
       " '1812524_nic_004.fits',\n",
       " '2m003618_stisnic_001.fits',\n",
       " '2m003618_stisnic_002.fits',\n",
       " '2m003618_stisnic_003.fits',\n",
       " '2m003618_stisnic_004.fits',\n",
       " '2m003618_stisnic_005.fits',\n",
       " '2m003618_stisnic_006.fits',\n",
       " '2m055914_stisnic_001.fits',\n",
       " '2m055914_stisnic_002.fits',\n",
       " '2m055914_stisnic_003.fits',\n",
       " '2m055914_stisnic_004.fits',\n",
       " '2m055914_stisnic_005.fits',\n",
       " '2m055914_stisnic_006.fits',\n",
       " 'agk_81d266_005.fits',\n",
       " 'agk_81d266_stis_001.fits',\n",
       " 'agk_81d266_stisnic_002.fits',\n",
       " 'agk_81d266_stisnic_003.fits',\n",
       " 'agk_81d266_stisnic_004.fits',\n",
       " 'agk_81d266_stisnic_005.fits',\n",
       " 'agk_81d266_stisnic_006.fits',\n",
       " 'alpha_lyr_004.fits',\n",
       " 'alpha_lyr_005.fits',\n",
       " 'alpha_lyr_mod_001.fits',\n",
       " 'alpha_lyr_mod_002.fits',\n",
       " 'alpha_lyr_stis_002.fits',\n",
       " 'alpha_lyr_stis_003.fits',\n",
       " 'alpha_lyr_stis_004.fits',\n",
       " 'alpha_lyr_stis_005.fits',\n",
       " 'alpha_lyr_stis_006.fits',\n",
       " 'alpha_lyr_stis_007.fits',\n",
       " 'alpha_lyr_stis_008.fits',\n",
       " 'bd02d3375_stis_001.fits',\n",
       " 'bd02d3375_stis_002.fits',\n",
       " 'bd02d3375_stis_003.fits',\n",
       " 'bd17d4708_stis_001.fits',\n",
       " 'bd17d4708_stisnic_001.fits',\n",
       " 'bd21d0607_stis_001.fits',\n",
       " 'bd21d0607_stis_002.fits',\n",
       " 'bd21d0607_stis_003.fits',\n",
       " 'bd26d2606_stis_001.fits',\n",
       " 'bd26d2606_stis_002.fits',\n",
       " 'bd26d2606_stis_003.fits',\n",
       " 'bd29d2091_stis_001.fits',\n",
       " 'bd29d2091_stis_002.fits',\n",
       " 'bd29d2091_stis_003.fits',\n",
       " 'bd54d1216_stis_001.fits',\n",
       " 'bd54d1216_stis_002.fits',\n",
       " 'bd54d1216_stis_003.fits',\n",
       " 'bd60d1753_stis_001.fits',\n",
       " 'bd60d1753_stis_002.fits',\n",
       " 'bd60d1753_stis_003.fits',\n",
       " 'bd_17d4708_stisnic_002.fits',\n",
       " 'bd_17d4708_stisnic_003.fits',\n",
       " 'bd_17d4708_stisnic_004.fits',\n",
       " 'bd_17d4708_stisnic_005.fits',\n",
       " 'bd_17d4708_stisnic_006.fits',\n",
       " 'bd_25d4655_002.fits',\n",
       " 'bd_28d4211_005.fits',\n",
       " 'bd_28d4211_fos_003.fits',\n",
       " 'bd_28d4211_stis_001.fits',\n",
       " 'bd_28d4211_stis_002.fits',\n",
       " 'bd_28d4211_stis_003.fits',\n",
       " 'bd_28d4211_stis_004.fits',\n",
       " 'bd_33d2642_004.fits',\n",
       " 'bd_33d2642_fos_003.fits',\n",
       " 'bd_75d325_005.fits',\n",
       " 'bd_75d325_fos_003.fits',\n",
       " 'bd_75d325_stis_001.fits',\n",
       " 'bd_75d325_stis_002.fits',\n",
       " 'bd_75d325_stis_003.fits',\n",
       " 'bd_75d325_stis_004.fits',\n",
       " 'c26202_stisnic_001.fits',\n",
       " 'c26202_stisnic_002.fits',\n",
       " 'c26202_stisnic_003.fits',\n",
       " 'c26202_stisnic_004.fits',\n",
       " 'c26202_stisnic_005.fits',\n",
       " 'c26202_stisnic_006.fits',\n",
       " 'calspec-09jan.html',\n",
       " 'etauma_stis_001.fits',\n",
       " 'etauma_stis_002.fits',\n",
       " 'etauma_stis_003.fits',\n",
       " 'feige110_005.fits',\n",
       " 'feige110_stis_001.fits',\n",
       " 'feige110_stisnic_002.fits',\n",
       " 'feige110_stisnic_003.fits',\n",
       " 'feige110_stisnic_004.fits',\n",
       " 'feige110_stisnic_005.fits',\n",
       " 'feige110_stisnic_006.fits',\n",
       " 'feige34_005.fits',\n",
       " 'feige34_stis_001.fits',\n",
       " 'feige34_stis_002.fits',\n",
       " 'feige34_stis_003.fits',\n",
       " 'feige34_stis_004.fits',\n",
       " 'feige66_002.fits',\n",
       " 'feige67_002.fits',\n",
       " 'g191b2b_005.fits',\n",
       " 'g191b2b_fos_003.fits',\n",
       " 'g191b2b_mod_004.fits',\n",
       " 'g191b2b_mod_005.fits',\n",
       " 'g191b2b_mod_007.fits',\n",
       " 'g191b2b_mod_008.fits',\n",
       " 'g191b2b_mod_009.fits',\n",
       " 'g191b2b_mod_010.fits',\n",
       " 'g191b2b_nic_001.fits',\n",
       " 'g191b2b_stis_001.fits',\n",
       " 'g191b2b_stisfuse_001.fits',\n",
       " 'g191b2b_stisnic_001.fits',\n",
       " 'g191b2b_stisnic_002.fits',\n",
       " 'g191b2b_stisnic_003.fits',\n",
       " 'g191b2b_stisnic_004.fits',\n",
       " 'g191b2b_stisnic_005.fits',\n",
       " 'g191b2b_stisnic_006.fits',\n",
       " 'g93_48_004.fits',\n",
       " 'gd108_005.fits',\n",
       " 'gd153_fos_003.fits',\n",
       " 'gd153_mod_004.fits',\n",
       " 'gd153_mod_005.fits',\n",
       " 'gd153_mod_007.fits',\n",
       " 'gd153_mod_008.fits',\n",
       " 'gd153_mod_009.fits',\n",
       " 'gd153_mod_010.fits',\n",
       " 'gd153_stis_001.fits',\n",
       " 'gd153_stisnic_001.fits',\n",
       " 'gd153_stisnic_002.fits',\n",
       " 'gd153_stisnic_003.fits',\n",
       " 'gd153_stisnic_004.fits',\n",
       " 'gd153_stisnic_005.fits',\n",
       " 'gd153_stisnic_006.fits',\n",
       " 'gd50_004.fits',\n",
       " 'gd71_fos_003.fits',\n",
       " 'gd71_mod_005.fits',\n",
       " 'gd71_mod_006.fits',\n",
       " 'gd71_mod_007.fits',\n",
       " 'gd71_mod_008.fits',\n",
       " 'gd71_mod_009.fits',\n",
       " 'gd71_mod_010.fits',\n",
       " 'gd71_stis_001.fits',\n",
       " 'gd71_stisnic_001.fits',\n",
       " 'gd71_stisnic_002.fits',\n",
       " 'gd71_stisnic_003.fits',\n",
       " 'gd71_stisnic_004.fits',\n",
       " 'gd71_stisnic_005.fits',\n",
       " 'gd71_stisnic_006.fits',\n",
       " 'gj7541a_stis_001.fits',\n",
       " 'gj7541a_stis_002.fits',\n",
       " 'gj7541a_stis_003.fits',\n",
       " 'grw_70d5824_005.fits',\n",
       " 'grw_70d5824_stis_001.fits',\n",
       " 'grw_70d5824_stisnic_002.fits',\n",
       " 'grw_70d5824_stisnic_003.fits',\n",
       " 'grw_70d5824_stisnic_004.fits',\n",
       " 'grw_70d5824_stisnic_005.fits',\n",
       " 'grw_70d5824_stisnic_006.fits',\n",
       " 'hd009051_stis_001.fits',\n",
       " 'hd009051_stis_002.fits',\n",
       " 'hd009051_stis_003.fits',\n",
       " 'hd031128_stis_001.fits',\n",
       " 'hd031128_stis_002.fits',\n",
       " 'hd031128_stis_003.fits',\n",
       " 'hd074000_stis_001.fits',\n",
       " 'hd074000_stis_002.fits',\n",
       " 'hd074000_stis_003.fits',\n",
       " 'hd106252_stis_001.fits',\n",
       " 'hd106252_stis_002.fits',\n",
       " 'hd106252_stis_003.fits',\n",
       " 'hd111980_stis_001.fits',\n",
       " 'hd111980_stis_002.fits',\n",
       " 'hd111980_stis_003.fits',\n",
       " 'hd116405_stis_001.fits',\n",
       " 'hd116405_stis_002.fits',\n",
       " 'hd116405_stis_003.fits',\n",
       " 'hd14943_stis_001.fits',\n",
       " 'hd14943_stis_002.fits',\n",
       " 'hd14943_stis_003.fits',\n",
       " 'hd158485_stis_001.fits',\n",
       " 'hd158485_stis_002.fits',\n",
       " 'hd158485_stis_003.fits',\n",
       " 'hd159222_stis_001.fits',\n",
       " 'hd159222_stis_002.fits',\n",
       " 'hd159222_stis_003.fits',\n",
       " 'hd160617_stis_001.fits',\n",
       " 'hd160617_stis_002.fits',\n",
       " 'hd160617_stis_003.fits',\n",
       " 'hd163466_stis_001.fits',\n",
       " 'hd163466_stis_002.fits',\n",
       " 'hd163466_stis_003.fits',\n",
       " 'hd165459_nic_002.fits',\n",
       " 'hd165459_stisnic_001.fits',\n",
       " 'hd165459_stisnic_002.fits',\n",
       " 'hd165459_stisnic_003.fits',\n",
       " 'hd180609_stis_001.fits',\n",
       " 'hd180609_stis_002.fits',\n",
       " 'hd180609_stis_003.fits',\n",
       " 'hd185975_stis_001.fits',\n",
       " 'hd185975_stis_002.fits',\n",
       " 'hd185975_stis_003.fits',\n",
       " 'hd200654_stis_001.fits',\n",
       " 'hd200654_stis_002.fits',\n",
       " 'hd200654_stis_003.fits',\n",
       " 'hd205905_stis_001.fits',\n",
       " 'hd205905_stis_002.fits',\n",
       " 'hd205905_stis_003.fits',\n",
       " 'hd209458_stisnic_002.fits',\n",
       " 'hd209458_stisnic_003.fits',\n",
       " 'hd209458_stisnic_004.fits',\n",
       " 'hd209458_stisnic_005.fits',\n",
       " 'hd209458_stisnic_006.fits',\n",
       " 'hd37725_stis_001.fits',\n",
       " 'hd37725_stis_002.fits',\n",
       " 'hd37725_stis_003.fits',\n",
       " 'hd37962_stis_001.fits',\n",
       " 'hd37962_stis_002.fits',\n",
       " 'hd37962_stis_003.fits',\n",
       " 'hd38949_stis_001.fits',\n",
       " 'hd38949_stis_002.fits',\n",
       " 'hd38949_stis_003.fits',\n",
       " 'hd60753_stis_001.fits',\n",
       " 'hd60753_stis_002.fits',\n",
       " 'hd60753_stis_003.fits',\n",
       " 'hd93521_005.fits',\n",
       " 'hd93521_stis_001.fits',\n",
       " 'hd93521_stis_002.fits',\n",
       " 'hd93521_stis_003.fits',\n",
       " 'hd93521_stis_004.fits',\n",
       " 'hs2027_stis_001.fits',\n",
       " 'hs2027_stis_002.fits',\n",
       " 'hs2027_stis_003.fits',\n",
       " 'hs2027_stis_004.fits',\n",
       " 'hz21_005.fits',\n",
       " 'hz21_stis_001.fits',\n",
       " 'hz21_stis_002.fits',\n",
       " 'hz21_stis_003.fits',\n",
       " 'hz21_stis_004.fits',\n",
       " 'hz2_005.fits',\n",
       " 'hz43_fos_003.fits',\n",
       " 'hz43_mod_004.fits',\n",
       " 'hz43_mod_005.fits',\n",
       " 'hz43_mod_008.fits',\n",
       " 'hz43_mod_009.fits',\n",
       " 'hz43_mod_010.fits',\n",
       " 'hz43_stis_001.fits',\n",
       " 'hz43_stis_002.fits',\n",
       " 'hz43_stis_003.fits',\n",
       " 'hz43_stis_004.fits',\n",
       " 'hz43b_stis_001.fits',\n",
       " 'hz43b_stis_002.fits',\n",
       " 'hz43b_stis_003.fits',\n",
       " 'hz43b_stis_004.fits',\n",
       " 'hz44_005.fits',\n",
       " 'hz44_fos_003.fits',\n",
       " 'hz44_stis_001.fits',\n",
       " 'hz44_stis_002.fits',\n",
       " 'hz44_stis_003.fits',\n",
       " 'hz44_stis_004.fits',\n",
       " 'hz4_004.fits',\n",
       " 'hz4_stis_001.fits',\n",
       " 'hz4_stis_002.fits',\n",
       " 'hz4_stis_003.fits',\n",
       " 'hz4_stis_004.fits',\n",
       " 'hz4_stis_005.fits',\n",
       " 'kf01t5_nic_001.fits',\n",
       " 'kf01t5_nic_002.fits',\n",
       " 'kf01t5_nic_003.fits',\n",
       " 'kf06t1_nic_001.fits',\n",
       " 'kf06t1_nic_002.fits',\n",
       " 'kf06t1_nic_003.fits',\n",
       " 'kf06t2_nic_001.fits',\n",
       " 'kf06t2_stisnic_001.fits',\n",
       " 'kf06t2_stisnic_002.fits',\n",
       " 'kf06t2_stisnic_003.fits',\n",
       " 'kf08t3_nic_001.fits',\n",
       " 'kf08t3_nic_002.fits',\n",
       " 'kf08t3_nic_003.fits',\n",
       " 'ksi2ceti_stis_001.fits',\n",
       " 'ksi2ceti_stis_002.fits',\n",
       " 'ksi2ceti_stis_003.fits',\n",
       " 'lamlep_stis_001.fits',\n",
       " 'lamlep_stis_002.fits',\n",
       " 'lamlep_stis_003.fits',\n",
       " 'lb227_004.fits',\n",
       " 'lds749b_005.fits',\n",
       " 'lds749b_mod_001.fits',\n",
       " 'lds749b_mod_002.fits',\n",
       " 'lds749b_mod_003.fits',\n",
       " 'lds749b_mod_004.fits',\n",
       " 'lds749b_mod_005.fits',\n",
       " 'lds749b_stis_001.fits',\n",
       " 'lds749b_stisnic_001.fits',\n",
       " 'lds749b_stisnic_002.fits',\n",
       " 'lds749b_stisnic_003.fits',\n",
       " 'lds749b_stisnic_004.fits',\n",
       " 'lds749b_stisnic_005.fits',\n",
       " 'lds749b_stisnic_006.fits',\n",
       " 'ltt9491_002.fits',\n",
       " 'mucol_stis_001.fits',\n",
       " 'mucol_stis_002.fits',\n",
       " 'mucol_stis_003.fits',\n",
       " 'names2',\n",
       " 'ngc7293_005.fits',\n",
       " 'p041c_001.fits',\n",
       " 'p041c_stis_001.fits',\n",
       " 'p041c_stisnic_001.fits',\n",
       " 'p041c_stisnic_002.fits',\n",
       " 'p041c_stisnic_003.fits',\n",
       " 'p041c_stisnic_004.fits',\n",
       " 'p041c_stisnic_005.fits',\n",
       " 'p041c_stisnic_006.fits',\n",
       " 'p177d_001.fits',\n",
       " 'p177d_stis_001.fits',\n",
       " 'p177d_stisnic_001.fits',\n",
       " 'p177d_stisnic_002.fits',\n",
       " 'p177d_stisnic_003.fits',\n",
       " 'p177d_stisnic_004.fits',\n",
       " 'p177d_stisnic_005.fits',\n",
       " 'p177d_stisnic_006.fits',\n",
       " 'p330e_001.fits',\n",
       " 'p330e_stis_001.fits',\n",
       " 'p330e_stisnic_001.fits',\n",
       " 'p330e_stisnic_002.fits',\n",
       " 'p330e_stisnic_003.fits',\n",
       " 'p330e_stisnic_004.fits',\n",
       " 'p330e_stisnic_005.fits',\n",
       " 'p330e_stisnic_006.fits',\n",
       " 'p330e_stisnic_007.fits',\n",
       " 'README',\n",
       " 'sf1615001a_stisnic_001.fits',\n",
       " 'sf1615_001a_stisnic_002.fits',\n",
       " 'sf1615_001a_stisnic_003.fits',\n",
       " 'sf1615_001a_stisnic_004.fits',\n",
       " 'sf1615_001a_stisnic_005.fits',\n",
       " 'sf1615_001a_stisnic_006.fits',\n",
       " 'sirius_mod_001.fits',\n",
       " 'sirius_mod_002.fits',\n",
       " 'sirius_stis_001.fits',\n",
       " 'sirius_stis_002.fits',\n",
       " 'snap1_stisnic_001.fits',\n",
       " 'snap1_stisnic_002.fits',\n",
       " 'snap1_stisnic_003.fits',\n",
       " 'snap1_stisnic_004.fits',\n",
       " 'snap1_stisnic_005.fits',\n",
       " 'snap1_stisnic_006.fits',\n",
       " 'snap2_stisnic_001.fits',\n",
       " 'snap2_stisnic_002.fits',\n",
       " 'snap2_stisnic_003.fits',\n",
       " 'snap2_stisnic_004.fits',\n",
       " 'snap2_stisnic_005.fits',\n",
       " 'snap2_stisnic_006.fits',\n",
       " 'sun_reference_001.fits',\n",
       " 'sun_reference_stis_001.fits',\n",
       " 'sun_reference_stis_002.fits',\n",
       " 'vb8_stisnic_001.fits',\n",
       " 'vb8_stisnic_002.fits',\n",
       " 'vb8_stisnic_003.fits',\n",
       " 'vb8_stisnic_004.fits',\n",
       " 'vb8_stisnic_005.fits',\n",
       " 'vb8_stisnic_006.fits',\n",
       " 'wd0308_565_mod_001.fits',\n",
       " 'wd0308_565_mod_002.fits',\n",
       " 'wd0308_565_mod_003.fits',\n",
       " 'wd0308_565_stis_001.fits',\n",
       " 'wd0308_565_stis_002.fits',\n",
       " 'wd0308_565_stis_003.fits',\n",
       " 'wd0308_565_stis_004.fits',\n",
       " 'wd0320_539_stis_001.fits',\n",
       " 'wd0320_539_stis_002.fits',\n",
       " 'wd0320_539_stis_003.fits',\n",
       " 'wd0320_539_stis_004.fits',\n",
       " 'wd0947_857_stis_001.fits',\n",
       " 'wd0947_857_stis_002.fits',\n",
       " 'wd0947_857_stis_003.fits',\n",
       " 'wd0947_857_stis_004.fits',\n",
       " 'wd1026_453_stis_001.fits',\n",
       " 'wd1026_453_stis_002.fits',\n",
       " 'wd1026_453_stis_003.fits',\n",
       " 'wd1026_453_stis_004.fits',\n",
       " 'wd1057_719_mod_001.fits',\n",
       " 'wd1057_719_mod_002.fits',\n",
       " 'wd1057_719_mod_003.fits',\n",
       " 'wd1057_719_mod_004.fits',\n",
       " 'wd1057_719_mod_005.fits',\n",
       " 'wd1057_719_stisnic_001.fits',\n",
       " 'wd1057_719_stisnic_002.fits',\n",
       " 'wd1057_719_stisnic_003.fits',\n",
       " 'wd1057_719_stisnic_004.fits',\n",
       " 'wd1057_719_stisnic_005.fits',\n",
       " 'wd1057_719_stisnic_006.fits',\n",
       " 'wd1657_343_mod_001.fits',\n",
       " 'wd1657_343_mod_002.fits',\n",
       " 'wd1657_343_mod_003.fits',\n",
       " 'wd1657_343_mod_004.fits',\n",
       " 'wd1657_343_mod_005.fits',\n",
       " 'wd1657_343_stisnic_001.fits',\n",
       " 'wd1657_343_stisnic_002.fits',\n",
       " 'wd1657_343_stisnic_003.fits',\n",
       " 'wd1657_343_stisnic_004.fits',\n",
       " 'wd1657_343_stisnic_005.fits',\n",
       " 'wd1657_343_stisnic_006.fits',\n",
       " 'WDcovar_001.fits']"
      ]
     },
     "execution_count": 51,
     "metadata": {},
     "output_type": "execute_result"
    }
   ],
   "source": [
    "filelist"
   ]
  },
  {
   "cell_type": "markdown",
   "metadata": {
    "deletable": true,
    "editable": true
   },
   "source": [
    "# Query CALSPEC database\n",
    "\n",
    "\n",
    "Look at PySynphot data and return the filename"
   ]
  },
  {
   "cell_type": "markdown",
   "metadata": {
    "collapsed": false,
    "deletable": true,
    "editable": true
   },
   "source": [
    "## Extract the fits file headers of CALSPEC"
   ]
  },
  {
   "cell_type": "code",
   "execution_count": 52,
   "metadata": {
    "collapsed": false,
    "deletable": true,
    "editable": true
   },
   "outputs": [
    {
     "name": "stderr",
     "output_type": "stream",
     "text": [
      "WARNING: The following header keyword is invalid or follows an unrecognized non-standard convention:\n",
      "    START STIS                                                                   [astropy.io.fits.card]\n",
      "WARNING: The following header keyword is invalid or follows an unrecognized non-standard convention:\n",
      "FILE WRITTEN BY ECHLREDUCE.PRO ON 11-Jun-2013 11:27:39.00                        [astropy.io.fits.card]\n",
      "WARNING: The following header keyword is invalid or follows an unrecognized non-standard convention:\n",
      "coadd list for E*H:                                                              [astropy.io.fits.card]\n",
      "WARNING: The following header keyword is invalid or follows an unrecognized non-standard convention:\n",
      " o57u01030 obb001040 obb005010 obb005020 obb001010 obb001090 obb005030           [astropy.io.fits.card]\n",
      "WARNING: The following header keyword is invalid or follows an unrecognized non-standard convention:\n",
      " obb005040 obb001060 obb001030 o57u01020 obb001050 obb001020 obb0010a0           [astropy.io.fits.card]\n",
      "WARNING: The following header keyword is invalid or follows an unrecognized non-standard convention:\n",
      " obb001070 o6hb100f0 obb001080 o57u01040 o5i011010 o5i011020 o5i011030           [astropy.io.fits.card]\n",
      "WARNING: The following header keyword is invalid or follows an unrecognized non-standard convention:\n",
      " obb0010b0 obb002090 obb0020b0 obb002010 obb002030 o6hb20060 obb002020           [astropy.io.fits.card]\n",
      "WARNING: The following header keyword is invalid or follows an unrecognized non-standard convention:\n",
      " o6hb20070 obb002040 o6hb20080 obb002050 obb002060 o6hb20090 obb002070           [astropy.io.fits.card]\n",
      "WARNING: The following header keyword is invalid or follows an unrecognized non-standard convention:\n",
      " obb002080 obb0020a0 obb0020c0 obb0020d0 obb004080 obb053040 obb053080           [astropy.io.fits.card]\n",
      "WARNING: The following header keyword is invalid or follows an unrecognized non-standard convention:\n",
      " obb053010 obb053020 obb053030 obb053050 obb053060 obb0530a0 obb053070           [astropy.io.fits.card]\n",
      "WARNING: The following header keyword is invalid or follows an unrecognized non-standard convention:\n",
      " obb053090 obb0530b0 obb004090 o5i010010 o5i010020 o5i010030 o5i013010           [astropy.io.fits.card]\n",
      "WARNING: The following header keyword is invalid or follows an unrecognized non-standard convention:\n",
      " o5i013020 o5i013030 o5i014010 o5i014020 o5i014030 o5i015010 o5i015020           [astropy.io.fits.card]\n",
      "WARNING: The following header keyword is invalid or follows an unrecognized non-standard convention:\n",
      " o5i015030 o6hb10010 o6hb10020 o6hb10030 o6hb10040 o6hb10050 o6hb10060           [astropy.io.fits.card]\n",
      "WARNING: The following header keyword is invalid or follows an unrecognized non-standard convention:\n",
      " o6hb10070 o6hb10080 o6hb10090 o6hb100a0 o6hb100b0 o6hb100c0 o6hb100d0           [astropy.io.fits.card]\n",
      "WARNING: The following header keyword is invalid or follows an unrecognized non-standard convention:\n",
      " o6hb100e0 o6hb20010 o6hb20020 o6hb20030 o6hb20040 o6hb20050 o6hb200a0           [astropy.io.fits.card]\n",
      "WARNING: The following header keyword is invalid or follows an unrecognized non-standard convention:\n",
      " o6hb200b0 o6hb200c0 o6hb200d0 o6hb200e0 o6hb200f0 o6hb30010 o6hb30020           [astropy.io.fits.card]\n",
      "WARNING: The following header keyword is invalid or follows an unrecognized non-standard convention:\n",
      " o6hb30030 o6hb30040 o6hb30050 o6hb30060 o6hb30070 o6hb30080 o6hb30090           [astropy.io.fits.card]\n",
      "WARNING: The following header keyword is invalid or follows an unrecognized non-standard convention:\n",
      " o6hb300a0 o6hb300b0 o6hb300c0 o6hb300d0 o6hb300e0 o6hb40080 o6hb40090           [astropy.io.fits.card]\n",
      "WARNING: The following header keyword is invalid or follows an unrecognized non-standard convention:\n",
      "SYS-ERROR is the broadband ~2% INTERNAL repeatability of echelles.               [astropy.io.fits.card]\n",
      "WARNING: The following header keyword is invalid or follows an unrecognized non-standard convention:\n",
      "IN ADDITION, THERE IS A SYSTEMATIC UNCERTAINTY IN THE ABS CALIB OF ~2-4%         [astropy.io.fits.card]\n",
      "WARNING: The following header keyword is invalid or follows an unrecognized non-standard convention:\n",
      "    Bohlin (2000,AJ,120,437). BOTH THE STAT-ERR AND SYS-ERR ARE 1-SIGMA.         [astropy.io.fits.card]\n",
      "WARNING: The following header keyword is invalid or follows an unrecognized non-standard convention:\n",
      "NO correction for stellar RADIAL VELOCITY                                        [astropy.io.fits.card]\n",
      "WARNING: The following header keyword is invalid or follows an unrecognized non-standard convention:\n",
      "G191B2B Sum of 105 OBS with STIS E*H Echelles                                    [astropy.io.fits.card]\n"
     ]
    }
   ],
   "source": [
    "star_header = []\n",
    "star_file_calspec = []\n",
    "for filename in filelist:\n",
    "    index=0\n",
    "    if re.search('fits',filename):  #example of filename filter\n",
    "        index+=1\n",
    "        fullfilename = os.path.join(os.environ['PYSYN_CDBS'], 'calspec',filename)\n",
    "        hdr = fits.getheader(fullfilename)\n",
    "        star_header.append(hdr)\n",
    "        star_file_calspec.append(filename)"
   ]
  },
  {
   "cell_type": "code",
   "execution_count": 53,
   "metadata": {
    "collapsed": false,
    "deletable": true,
    "editable": true
   },
   "outputs": [
    {
     "data": {
      "text/plain": [
       "434"
      ]
     },
     "execution_count": 53,
     "metadata": {},
     "output_type": "execute_result"
    }
   ],
   "source": [
    "len(star_header)"
   ]
  },
  {
   "cell_type": "code",
   "execution_count": 54,
   "metadata": {
    "collapsed": false,
    "deletable": true,
    "editable": true
   },
   "outputs": [
    {
     "data": {
      "text/plain": [
       "434"
      ]
     },
     "execution_count": 54,
     "metadata": {},
     "output_type": "execute_result"
    }
   ],
   "source": [
    "len(star_file_calspec)"
   ]
  },
  {
   "cell_type": "code",
   "execution_count": 55,
   "metadata": {
    "collapsed": false,
    "deletable": true,
    "editable": true
   },
   "outputs": [
    {
     "data": {
      "text/plain": [
       "'10LAC'"
      ]
     },
     "execution_count": 55,
     "metadata": {},
     "output_type": "execute_result"
    }
   ],
   "source": [
    "star_header[1][7] # TARGETID"
   ]
  },
  {
   "cell_type": "code",
   "execution_count": null,
   "metadata": {
    "collapsed": true,
    "deletable": true,
    "editable": true
   },
   "outputs": [],
   "source": []
  },
  {
   "cell_type": "markdown",
   "metadata": {
    "deletable": true,
    "editable": true
   },
   "source": [
    "## Extract the object name from the headers of fits file"
   ]
  },
  {
   "cell_type": "code",
   "execution_count": 56,
   "metadata": {
    "collapsed": false,
    "deletable": true,
    "editable": true
   },
   "outputs": [],
   "source": [
    "star_names = []\n",
    "index=0\n",
    "for hdr in star_header:    \n",
    "    star_name=star_header[index][7]\n",
    "    star_names.append(star_name)\n",
    "    index+=1"
   ]
  },
  {
   "cell_type": "code",
   "execution_count": 57,
   "metadata": {
    "collapsed": false,
    "deletable": true,
    "editable": true
   },
   "outputs": [
    {
     "data": {
      "text/plain": [
       "434"
      ]
     },
     "execution_count": 57,
     "metadata": {},
     "output_type": "execute_result"
    }
   ],
   "source": [
    "len(star_names)"
   ]
  },
  {
   "cell_type": "markdown",
   "metadata": {
    "deletable": true,
    "editable": true
   },
   "source": [
    "### Star names from fits file\n",
    "\n",
    "There is much blabla"
   ]
  },
  {
   "cell_type": "code",
   "execution_count": 58,
   "metadata": {
    "collapsed": false,
    "deletable": true,
    "editable": true
   },
   "outputs": [
    {
     "name": "stdout",
     "output_type": "stream",
     "text": [
      "['10LAC', '10LAC', '10LAC', '1732526 with NICMOS observations', '1732526', '1732526', '1732526', '1740346 with NICMOS observations', '1740346 with NICMOS observations', '1740346', '1740346', '1740346', '1743045 with NICMOS observations', '1743045 with NICMOS observations', '1743045', '1743045', '1743045', '1757132', '1757132', '1757132', '1802271 with NICMOS observations', '1802271', '1802271', '1802271', '1805292 with NICMOS observations', '1805292 with NICMOS observations', '1805292', '1805292', '1805292', '1808347', '1808347', '1808347', '1812095 with NICMOS observations', '1812095 with NICMOS observations', '1812095', '1812095', '1812095', '1812524 with NICMOS observations', '1812524', '1812524', '2M0036+18 with STIS & NICMOS observations', '2M0036+18 with STIS & NICMOS observations', 'Standard star flux with re-calibrated STIS & NICMOS observations---', '2M0036+18', '2M0036+18', '2M0036+18', '2M0559-14 with STIS & NICMOS observations', '2M0559-14 with STIS & NICMOS observations', 'Standard star flux with re-calibrated STIS & NICMOS observations---', '2M0559-14', '2M0559-14', '2M0559-14', '  Astrophysics Supplement Series v44/p363, v44/p371, v73/p359, v73/p365.', 'AGK+81D266 with STIS observations', 'AGK+81D266 with IUE, STIS, & NICMOS observations', 'Standard star flux with re-calibrated STIS & NICMOS observations---', 'AGK+81D266', 'AGK+81D266', 'AGK+81D266', '  Astrophysics Supplement Series v44/p363, v44/p371, v73/p359, v73/p365.', '  Astrophysics Supplement Series v44/p363, v44/p371, v73/p359, v73/p365.', 'Bohlin, R. C. 2014, AJ, submitted', 'Bohlin, R. C. 2014, AJ, 147, 127', 'ALPHA_LYR with STIS observations', 'ALPHA_LYR with STIS observations', 'ALPHA_LYR with STIS observations', 'ALPHA_LYR with STIS observations', 'ALPHA_LYR', 'ALPHA_LYR', 'ALPHA_LYR', 'BD02D3375', 'BD02D3375', 'BD02D3375', 'BD17D4708 with STIS observations', 'BD17D4708 with STIS & NICMOS observations', 'BD21D0607', 'BD21D0607', 'BD21D0607', 'BD26D2606', 'BD26D2606', 'BD26D2606', 'BD29D2091', 'BD29D2091', 'BD29D2091', 'BD54D1216', 'BD54D1216', 'BD54D1216', 'BD60D1753', 'BD60D1753', 'BD60D1753', 'BD+17D4708 with STIS & NICMOS observations', 'Standard star flux with re-calibrated STIS & NICMOS observations---', 'BD+17D4708', 'BD+17D4708', 'BD+17D4708', '  Astrophysics Supplement Series v44/p363, v44/p371, v73/p359, v73/p365.', '  Astrophysics Supplement Series v44/p363, v44/p371, v73/p359, v73/p365.', '  Astrophysics Supplement Series v44/p363, v44/p371, v73/p359, v73/p365.', 'BD+28D4211 with STIS observations', 'BD28D4211', 'BD28D4211', 'BD28D4211', '  Astrophysics Supplement Series v44/p363, v44/p371, v73/p359, v73/p365.', '  Astrophysics Supplement Series v44/p363, v44/p371, v73/p359, v73/p365.', '  Astrophysics Supplement Series v44/p363, v44/p371, v73/p359, v73/p365.', '  Astrophysics Supplement Series v44/p363, v44/p371, v73/p359, v73/p365.', 'BD+75D325 with STIS observations', 'BD75', 'BD75', 'BD75', 'C26202 with STIS & NICMOS observations', 'C26202 with STIS & NICMOS observations', 'Standard star flux with re-calibrated STIS & NICMOS observations---', 'C26202', 'C26202', 'C26202', 'ETAUMA', 'ETAUMA', 'ETAUMA', '  Astrophysics Supplement Series v44/p363, v44/p371, v73/p359, v73/p365.', 'FEIGE110 with STIS observations', 'FEIGE110 with IUE, STIS, Oke, & NICMOS observations', 'Standard star flux with re-calibrated STIS & NICMOS observations---', 'FEIGE110', 'FEIGE110', 'FEIGE110', '  Astrophysics Supplement Series v44/p363, v44/p371, v73/p359, v73/p365.', 'FEIGE34 with STIS observations', 'FEIGE34', 'FEIGE34', 'FEIGE34', '  Astrophysics Supplement Series v44/p363, v44/p371, v73/p359, v73/p365.', '  Astrophysics Supplement Series v44/p363, v44/p371, v73/p359, v73/p365.', '  Astrophysics Supplement Series v44/p363, v44/p371, v73/p359, v73/p365.', '  Astrophysics Supplement Series v44/p363, v44/p371, v73/p359, v73/p365.', 'g191b2b_mod_004.fits', 'Bohlin, R. C. 2009, in preparation', 'New STIS g=4 value --> new Vega mag, update G191B2B mag', 'Rauch, Werner, Bohlin, & Kruk 2013, A&A, in press', 'Rauch, Werner, Bohlin, & Kruk 2013, A&A, 560, A106', 'Bohlin, Gordon, Tremblay 2014, PASP, 126, 711', '  Astrophysics Supplement Series v44/p363, v44/p371, v73/p359, v73/p365.', 'G191B2B with STIS observations', 'Rauch, et al. 2013, A&A, in press', 'G191B2B with STIS & NICMOS observations', 'G191B2B with STIS & NICMOS observations', 'Standard star flux with re-calibrated STIS & NICMOS observations---', 'G191B2B', 'G191B2B', 'G191B2B', '  Astrophysics Supplement Series v44/p363, v44/p371, v73/p359, v73/p365.', '  Astrophysics Supplement Series v44/p363, v44/p371, v73/p359, v73/p365.', '  Astrophysics Supplement Series v44/p363, v44/p371, v73/p359, v73/p365.', 'gd153_mod_004.fits', 'Bohlin, R. C. 2009, in preparation', 'New STIS g=4 value --> new Vega mag, update G191B2B mag', 'Rauch, Bohlin, & Kruk 2013', 'Rauch, Werner, Bohlin, & Kruk 2013, A&A, 560, A106', 'Bohlin, Gordon, Tremblay 2014, PASP, 126, 711', 'GD153 with STIS observations', 'GD153 with STIS & NICMOS observations', 'GD153 with STIS & NICMOS observations', 'Standard star flux with re-calibrated STIS & NICMOS observations---', 'GD153', 'GD153', 'GD153', '  Astrophysics Supplement Series v44/p363, v44/p371, v73/p359, v73/p365.', '  Astrophysics Supplement Series v44/p363, v44/p371, v73/p359, v73/p365.', 'gd71_mod_005.fits', 'Bohlin, R. C. 2009, in preparation', 'New STIS g=4 value --> new Vega mag, update G191B2B mag', 'Rauch, Bohlin, & Kruk 2013', 'Rauch, Werner, Bohlin, & Kruk 2013, A&A, 560, A106', 'Bohlin, Gordon, Tremblay 2014, PASP, 126, 711', 'GD71 with STIS observations', 'GD71 with STIS & NICMOS observations', 'GD71 with STIS & NICMOS observations', 'Standard star flux with re-calibrated STIS & NICMOS observations---', 'GD71', 'GD71', 'GD71', 'GJ7541A', 'GJ7541A', 'GJ7541A', '  Astrophysics Supplement Series v44/p363, v44/p371, v73/p359, v73/p365.', 'GRW+70D5824 with STIS observations', 'GRW+70D5824 with STIS & NICMOS observations', 'Standard star flux with re-calibrated STIS & NICMOS observations---', 'GRW+70D5824', 'GRW+70D5824', 'GRW+70D5824', 'HD009051', 'HD009051', 'HD009051', 'HD031128', 'HD031128', 'HD031128', 'HD074000', 'HD074000', 'HD074000', 'HD106252', 'HD106252', 'HD106252', 'HD111980', 'HD111980', 'HD111980', 'HD116405', 'HD116405', 'HD116405', 'HD14943', 'HD14943', 'HD14943', 'HD158485', 'HD158485', 'HD158485', 'HD159222', 'HD159222', 'HD159222', 'HD160617', 'HD160617', 'HD160617', 'HD163466', 'HD163466', 'HD163466', 'HD165459 with NICMOS observations', 'HD165459', 'HD165459', 'HD165459', 'HD180609', 'HD180609', 'HD180609', 'HD185975', 'HD185975', 'HD185975', 'HD200654', 'HD200654', 'HD200654', 'HD205905', 'HD205905', 'HD205905', 'HD209458 with STIS & NICMOS observations', 'Standard star flux with re-calibrated STIS & NICMOS observations---', 'HD209458', 'HD209458', 'HD209458', 'HD37725', 'HD37725', 'HD37725', 'HD37962', 'HD37962', 'HD37962', 'HD38949', 'HD38949', 'HD38949', 'HD60753', 'HD60753', 'HD60753', '  Astrophysics Supplement Series v44/p363, v44/p371, v73/p359, v73/p365.', 'HD93521 with STIS observations', 'HD93521', 'HD93521', 'HD93521', 'HS2027 with STIS observations', 'HS2027', 'HS2027', 'HS2027', '  Astrophysics Supplement Series v44/p363, v44/p371, v73/p359, v73/p365.', 'HZ21 with STIS observations', 'HZ21', 'HZ21', 'HZ21', '  Astrophysics Supplement Series v44/p363, v44/p371, v73/p359, v73/p365.', '  Astrophysics Supplement Series v44/p363, v44/p371, v73/p359, v73/p365.', 'hz43_mod_004.fits', 'Bohlin, R. C. 2009, in preparation', 'Rauch, Bohlin, & Kruk 2013', 'Rauch, Werner, Bohlin, & Kruk 2013, A&A, 560, A106', 'Bohlin, Gordon, Tremblay 2014, PASP, 126, 711', 'HZ43 with STIS observations', 'HZ43', 'HZ43', 'HZ43', 'HZ43B with STIS observations', 'HZ43B', 'HZ43B', 'HZ43B', '  Astrophysics Supplement Series v44/p363, v44/p371, v73/p359, v73/p365.', '  Astrophysics Supplement Series v44/p363, v44/p371, v73/p359, v73/p365.', 'HZ44 with STIS observations', 'HZ44', 'HZ44', 'HZ44', '  Astrophysics Supplement Series v44/p363, v44/p371, v73/p359, v73/p365.', 'HZ4 with STIS observations', 'HZ4 with STIS observations', 'HZ4', 'HZ4', 'HZ4', 'KF01T5 with NICMOS observations', 'KF01T5', 'KF01T5', 'KF06T1 with NICMOS observations', 'KF06T1', 'KF06T1', 'KF06T2 with NICMOS observations', 'KF06T2', 'KF06T2', 'KF06T2', 'KF08T3 with NICMOS observations', 'KF08T3', 'KF08T3', 'KSI2CETI', 'KSI2CETI', 'KSI2CETI', 'LAMLEP', 'LAMLEP', 'LAMLEP', '  Astrophysics Supplement Series v44/p363, v44/p371, v73/p359, v73/p365.', '  Astrophysics Supplement Series v44/p363, v44/p371, v73/p359, v73/p365.', 'Bohlin, R. C., & Koester, D. 2008, AJ, submitted', 'New STIS g=4 value --> new Vega mag, update G191B2B mag', 'Bohlin, R. C., & Koester, D. 2008, AJ, 135, 1092', 'Bohlin, R. C., & Koester, D. 2008, AJ, 135, 1092', 'Bohlin, R. C. 2014, AJ, 147, 127', 'LDS749B with STIS observations', 'LDS749B with STIS & NICMOS observations', 'LDS749B with STIS & NICMOS observations', 'Standard star flux with re-calibrated STIS & NICMOS observations---', 'LDS749B', 'LDS749B', 'LDS749B', '  Astrophysics Supplement Series v44/p363, v44/p371, v73/p359, v73/p365.', 'MUCOL', 'MUCOL', 'MUCOL', '  Astrophysics Supplement Series v44/p363, v44/p371, v73/p359, v73/p365.', '  Astrophysics Supplement Series v44/p363, v44/p371, v73/p359, v73/p365.', 'P041C with STIS observations', 'P041C with STIS & NICMOS observations', 'P041C with STIS & NICMOS observations', 'Standard star flux with re-calibrated STIS & NICMOS observations---', 'P041C', 'P041C', 'P041C', '  Astrophysics Supplement Series v44/p363, v44/p371, v73/p359, v73/p365.', 'P177D with STIS observations', 'P177D with STIS & NICMOS observations', 'P177D with STIS & NICMOS observations', 'Standard star flux with re-calibrated STIS & NICMOS observations---', 'P177D', 'P177D', 'P177D', '  Astrophysics Supplement Series v44/p363, v44/p371, v73/p359, v73/p365.', 'P330E with STIS observations', 'P330E with STIS & NICMOS observations', 'P330E with STIS & NICMOS observations', 'Standard star flux with re-calibrated STIS & NICMOS observations---', 'P330E', 'P330E', 'P330E', 0.0, 'SF1615+001A with STIS & NICMOS observations', 'SF1615+001A with STIS & NICMOS observations', 'Standard star flux with re-calibrated STIS & NICMOS observations---', 'SF1615+001A', 'SF1615+001A', 'SF1615+001A', 'Bohlin, R. C. 2014, AJ, submitted', 'Bohlin, R. C. 2014, AJ, 147, 127', 'SIRIUS', 'SIRIUS', 'SNAP-1 with STIS & NICMOS observations', 'SNAP-1 with STIS & NICMOS observations', 'Standard star flux with re-calibrated STIS & NICMOS observations---', 'SNAP-1', 'SNAP-1', 'SNAP-1', 'SNAP-2 with STIS & NICMOS observations', 'SNAP-2 with STIS & NICMOS observations', 'Standard star flux with re-calibrated STIS & NICMOS observations---', 'SNAP-2', 'SNAP-2', 'SNAP-2', '  Astrophysics Supplement Series v44/p363, v44/p371, v73/p359, v73/p365.', 'Sun with 2.5 to 2.7 micron extension', 'Sun with 2.5 to 2.7 micron extension-------------------------------', 'VB8 with STIS & NICMOS observations', 'VB8 with STIS & NICMOS observations', 'Standard star flux with re-calibrated STIS & NICMOS observations---', 'VB8', 'VB8', 'VB8', 'Koester He Model', 'Koester He Model', 'Bohlin, R. C. 2014, AJ, 147, 127', 'Standard star flux with STIS observations--------------------------', 'WD0308-565', 'WD0308-565', 'WD0308-565', 'WD0320-539 with STIS observations', 'WD0320-539', 'WD0320-539', 'WD0320-539', 'WD0947_857 with STIS observations', 'WD0947_857', 'WD0947_857', 'WD0947_857', 'WD1026_453 with STIS observations', 'WD1026_453', 'WD1026_453', 'WD1026_453', 'Bohlin, R. C. 2009, in preparation', 'New STIS g=4 value --> new Vega mag, update G191B2B mag', 'Hubeny TLusty203: PURE HYDROGEN NLTE MODEL', 'Hubeny TLusty203: PURE HYDROGEN NLTE MODEL', 'Bohlin, R. C. 2014, AJ, 147, 127', 'WD1057+719 with STIS & NICMOS observations', 'WD1057+719 with STIS & NICMOS observations', 'Standard star flux with re-calibrated STIS & NICMOS observations---', 'WD1057+719', 'WD1057+719', 'WD1057+719', 'Bohlin, R. C. 2009, in preparation', 'New STIS g=4 value --> new Vega mag, update G191B2B mag', 'Hubeny TLusty203: PURE HYDROGEN NLTE MODEL', 'Hubeny TLusty203: PURE HYDROGEN NLTE MODEL', 'Bohlin, R. C. 2014, AJ, 147, 127', 'WD1657+343 with STIS & NICMOS observations', 'WD1657+343 with STIS & NICMOS observations', 'Standard star flux with re-calibrated STIS & NICMOS observations---', 'WD1657+343', 'WD1657+343', 'WD1657+343', 'WDcovar.fits']\n"
     ]
    }
   ],
   "source": [
    "print star_names"
   ]
  },
  {
   "cell_type": "markdown",
   "metadata": {
    "deletable": true,
    "editable": true
   },
   "source": [
    "### Defines classes to Backup usefull information from Simbad"
   ]
  },
  {
   "cell_type": "code",
   "execution_count": 59,
   "metadata": {
    "collapsed": false,
    "deletable": true,
    "editable": true
   },
   "outputs": [],
   "source": [
    "class CalibSpecStarSmb:\n",
    "    \"\"\"\n",
    "    Class for the CALSPEC stars from Simbad Query\n",
    "    \"\"\"\n",
    "    name = \"\"          # the name of the star from CALSPEC/Pysynphot\n",
    "    simbadname=\"\"      # the name of the star returned by Astroquery-Simbad \n",
    "    RA =\"\"             # string Right assension\n",
    "    DEC=\"\"             # string declination\n",
    "    U=0                # magnitudes\n",
    "    B=0\n",
    "    V=0\n",
    "    R=0\n",
    "    I=0\n",
    "    J=0\n",
    "    calspecfitsname=\"\"\n",
    "\n",
    "    def __init__(self, name,simbname,ra,dec,u,b,v,r,i,j,filename):   # constructor\n",
    "        self.name=name\n",
    "        self.simbname=simbname\n",
    "        self.RA=ra\n",
    "        self.DEC=dec\n",
    "        self.U=u\n",
    "        self.B=b\n",
    "        self.V=v\n",
    "        self.R=r\n",
    "        self.I=i\n",
    "        self.J=j\n",
    "        self.calspecfitsname=filename\n",
    "    def show(self):                             # print \n",
    "        print 'name=',self.name,', ra=',self.RA,', dec=',self.DEC, ' V=',self.V,'mag ','file = ',self.calspecfitsname\n",
    "    def getName(self):                          # getters\n",
    "        return self.name\n",
    "    def getRA(self):\n",
    "        return self.RA\n",
    "    def getDEC(self):\n",
    "        return self.DEC\n",
    "    def getCalspecFile(self):\n",
    "        return self.calspecfitsname"
   ]
  },
  {
   "cell_type": "code",
   "execution_count": 60,
   "metadata": {
    "collapsed": false,
    "deletable": true,
    "editable": true
   },
   "outputs": [],
   "source": [
    "class CalibSpecStarSkc:\n",
    "    \"\"\"\n",
    "    Class for the CALSPEC stars from SkyCoord Query\n",
    "    \"\"\"\n",
    "    name = \"\"          # the name of the star from CALSPEC/Pysynphot\n",
    "    RA =0             # number Right ascension in deg\n",
    "    DEC=0             # number declination\n",
    "    calspecfitsname=\"\"\n",
    "\n",
    "    skycoord=astropy.coordinates.SkyCoord.from_name(\"VEGA\")  # creazy init with Vega\n",
    "\n",
    "    def __init__(self, name,ra,dec,filename):   # constructor\n",
    "        self.name=name\n",
    "        self.RA=ra\n",
    "        self.DEC=dec\n",
    "        self.skycoord=astropy.coordinates.SkyCoord.from_name(name)\n",
    "        self.calspecfitsname=filename\n",
    "        \n",
    "    def show(self):                             # print \n",
    "        #print 'name=',self.name,', ra=',self.RA,', dec=',self.DEC\n",
    "        print 'name',self.name,' :: ', self.skycoord, ' ', self.calspecfitsname\n",
    "    def getName(self):                          # getters\n",
    "        return self.name\n",
    "    def getRA(self):\n",
    "        return self.RA\n",
    "    def getDEC(self):\n",
    "        return self.DEC \n",
    "    def getSkyCoord(self):\n",
    "        return self.skycoord\n",
    "    def getCalspecFile(self):\n",
    "        return self.calspecfitsname"
   ]
  },
  {
   "cell_type": "markdown",
   "metadata": {
    "deletable": true,
    "editable": true,
    "slideshow": {
     "slide_type": "slide"
    }
   },
   "source": [
    "## Loop on entries to get info on coordinates on CALSPEC from Simbad\n",
    "\n",
    "- This is a way to sort the good name for stars\n",
    "- Can access to different magntitudes\n",
    "- Moreover it does not crash if Simbad does not recognize a name"
   ]
  },
  {
   "cell_type": "code",
   "execution_count": 61,
   "metadata": {
    "collapsed": false,
    "deletable": true,
    "editable": true
   },
   "outputs": [
    {
     "name": "stderr",
     "output_type": "stream",
     "text": [
      "/Users/dagoret-campagnesylvie/anaconda/envs/pyastrophys/lib/python2.7/site-packages/astropy/table/table.py:2517: FutureWarning: comparison to `None` will result in an elementwise object comparison in the future.\n",
      "  result = (self.as_array().data == other) & (self.mask == false_mask)\n",
      "/Users/dagoret-campagnesylvie/anaconda/envs/pyastrophys/lib/python2.7/site-packages/astroquery/simbad/core.py:136: UserWarning: Warning: The script line number 3 raised an error (recorded in the `errors` attribute of the result table): '1732526 with NICMOS observations': No known catalog could be found\n",
      "  (error.line, error.msg))\n",
      "/Users/dagoret-campagnesylvie/anaconda/envs/pyastrophys/lib/python2.7/site-packages/astroquery/simbad/core.py:136: UserWarning: Warning: The script line number 3 raised an error (recorded in the `errors` attribute of the result table): '1732526': No known catalog could be found\n",
      "  (error.line, error.msg))\n",
      "/Users/dagoret-campagnesylvie/anaconda/envs/pyastrophys/lib/python2.7/site-packages/astroquery/simbad/core.py:136: UserWarning: Warning: The script line number 3 raised an error (recorded in the `errors` attribute of the result table): '1740346 with NICMOS observations': No known catalog could be found\n",
      "  (error.line, error.msg))\n",
      "/Users/dagoret-campagnesylvie/anaconda/envs/pyastrophys/lib/python2.7/site-packages/astroquery/simbad/core.py:136: UserWarning: Warning: The script line number 3 raised an error (recorded in the `errors` attribute of the result table): '1740346': No known catalog could be found\n",
      "  (error.line, error.msg))\n"
     ]
    },
    {
     "name": "stdout",
     "output_type": "stream",
     "text": [
      "--------------------- 1 )  10LAC --------------- 10lac_stis_001.fits\n",
      " MAIN_ID        RA           DEC      RA_PREC ... FLUX_R   FLUX_I    FLUX_J \n",
      "             \"h:m:s\"       \"d:m:s\"            ...  mag      mag       mag   \n",
      "--------- ------------- ------------- ------- ... ------ --------- ---------\n",
      "*  10 Lac 22 39 15.6786 +39 03 00.971       9 ...   4.98 5.1900001 5.3899999\n",
      "--------------------- 2 )  10LAC --------------- 10lac_stis_002.fits\n",
      " MAIN_ID        RA           DEC      RA_PREC ... FLUX_R   FLUX_I    FLUX_J \n",
      "             \"h:m:s\"       \"d:m:s\"            ...  mag      mag       mag   \n",
      "--------- ------------- ------------- ------- ... ------ --------- ---------\n",
      "*  10 Lac 22 39 15.6786 +39 03 00.971       9 ...   4.98 5.1900001 5.3899999\n",
      "--------------------- 3 )  10LAC --------------- 10lac_stis_003.fits\n",
      " MAIN_ID        RA           DEC      RA_PREC ... FLUX_R   FLUX_I    FLUX_J \n",
      "             \"h:m:s\"       \"d:m:s\"            ...  mag      mag       mag   \n",
      "--------- ------------- ------------- ------- ... ------ --------- ---------\n",
      "*  10 Lac 22 39 15.6786 +39 03 00.971       9 ...   4.98 5.1900001 5.3899999\n"
     ]
    },
    {
     "name": "stderr",
     "output_type": "stream",
     "text": [
      "/Users/dagoret-campagnesylvie/anaconda/envs/pyastrophys/lib/python2.7/site-packages/astroquery/simbad/core.py:136: UserWarning: Warning: The script line number 3 raised an error (recorded in the `errors` attribute of the result table): '1743045 with NICMOS observations': No known catalog could be found\n",
      "  (error.line, error.msg))\n",
      "/Users/dagoret-campagnesylvie/anaconda/envs/pyastrophys/lib/python2.7/site-packages/astroquery/simbad/core.py:136: UserWarning: Warning: The script line number 3 raised an error (recorded in the `errors` attribute of the result table): '1743045': No known catalog could be found\n",
      "  (error.line, error.msg))\n",
      "/Users/dagoret-campagnesylvie/anaconda/envs/pyastrophys/lib/python2.7/site-packages/astroquery/simbad/core.py:136: UserWarning: Warning: The script line number 3 raised an error (recorded in the `errors` attribute of the result table): '1757132': No known catalog could be found\n",
      "  (error.line, error.msg))\n",
      "/Users/dagoret-campagnesylvie/anaconda/envs/pyastrophys/lib/python2.7/site-packages/astroquery/simbad/core.py:136: UserWarning: Warning: The script line number 3 raised an error (recorded in the `errors` attribute of the result table): '1802271 with NICMOS observations': No known catalog could be found\n",
      "  (error.line, error.msg))\n",
      "/Users/dagoret-campagnesylvie/anaconda/envs/pyastrophys/lib/python2.7/site-packages/astroquery/simbad/core.py:136: UserWarning: Warning: The script line number 3 raised an error (recorded in the `errors` attribute of the result table): '1802271': No known catalog could be found\n",
      "  (error.line, error.msg))\n",
      "/Users/dagoret-campagnesylvie/anaconda/envs/pyastrophys/lib/python2.7/site-packages/astroquery/simbad/core.py:136: UserWarning: Warning: The script line number 3 raised an error (recorded in the `errors` attribute of the result table): '1805292 with NICMOS observations': No known catalog could be found\n",
      "  (error.line, error.msg))\n",
      "/Users/dagoret-campagnesylvie/anaconda/envs/pyastrophys/lib/python2.7/site-packages/astroquery/simbad/core.py:136: UserWarning: Warning: The script line number 3 raised an error (recorded in the `errors` attribute of the result table): '1805292': No known catalog could be found\n",
      "  (error.line, error.msg))\n",
      "/Users/dagoret-campagnesylvie/anaconda/envs/pyastrophys/lib/python2.7/site-packages/astroquery/simbad/core.py:136: UserWarning: Warning: The script line number 3 raised an error (recorded in the `errors` attribute of the result table): '1808347': No known catalog could be found\n",
      "  (error.line, error.msg))\n",
      "/Users/dagoret-campagnesylvie/anaconda/envs/pyastrophys/lib/python2.7/site-packages/astroquery/simbad/core.py:136: UserWarning: Warning: The script line number 3 raised an error (recorded in the `errors` attribute of the result table): '1812095 with NICMOS observations': No known catalog could be found\n",
      "  (error.line, error.msg))\n",
      "/Users/dagoret-campagnesylvie/anaconda/envs/pyastrophys/lib/python2.7/site-packages/astroquery/simbad/core.py:136: UserWarning: Warning: The script line number 3 raised an error (recorded in the `errors` attribute of the result table): '1812095': No known catalog could be found\n",
      "  (error.line, error.msg))\n",
      "/Users/dagoret-campagnesylvie/anaconda/envs/pyastrophys/lib/python2.7/site-packages/astroquery/simbad/core.py:136: UserWarning: Warning: The script line number 3 raised an error (recorded in the `errors` attribute of the result table): '1812524 with NICMOS observations': No known catalog could be found\n",
      "  (error.line, error.msg))\n",
      "/Users/dagoret-campagnesylvie/anaconda/envs/pyastrophys/lib/python2.7/site-packages/astroquery/simbad/core.py:136: UserWarning: Warning: The script line number 3 raised an error (recorded in the `errors` attribute of the result table): '1812524': No known catalog could be found\n",
      "  (error.line, error.msg))\n",
      "/Users/dagoret-campagnesylvie/anaconda/envs/pyastrophys/lib/python2.7/site-packages/astroquery/simbad/core.py:136: UserWarning: Warning: The script line number 3 raised an error (recorded in the `errors` attribute of the result table): '2M0036+18 with STIS & NICMOS observations': No known catalog could be found\n",
      "  (error.line, error.msg))\n",
      "/Users/dagoret-campagnesylvie/anaconda/envs/pyastrophys/lib/python2.7/site-packages/astroquery/simbad/core.py:136: UserWarning: Warning: The script line number 3 raised an error (recorded in the `errors` attribute of the result table): 'Standard star flux with re-calibrated STIS & NICMOS observations---': No known catalog could be found\n",
      "  (error.line, error.msg))\n",
      "/Users/dagoret-campagnesylvie/anaconda/envs/pyastrophys/lib/python2.7/site-packages/astroquery/simbad/core.py:136: UserWarning: Warning: The script line number 3 raised an error (recorded in the `errors` attribute of the result table): '2M0036+18': No known catalog could be found\n",
      "  (error.line, error.msg))\n",
      "/Users/dagoret-campagnesylvie/anaconda/envs/pyastrophys/lib/python2.7/site-packages/astroquery/simbad/core.py:136: UserWarning: Warning: The script line number 3 raised an error (recorded in the `errors` attribute of the result table): '2M0559-14 with STIS & NICMOS observations': No known catalog could be found\n",
      "  (error.line, error.msg))\n",
      "/Users/dagoret-campagnesylvie/anaconda/envs/pyastrophys/lib/python2.7/site-packages/astroquery/simbad/core.py:136: UserWarning: Warning: The script line number 3 raised an error (recorded in the `errors` attribute of the result table): '2M0559-14': No known catalog could be found\n",
      "  (error.line, error.msg))\n",
      "/Users/dagoret-campagnesylvie/anaconda/envs/pyastrophys/lib/python2.7/site-packages/astroquery/simbad/core.py:136: UserWarning: Warning: The script line number 3 raised an error (recorded in the `errors` attribute of the result table): 'Astrophysics Supplement Series v44/p363, v44/p371, v73/p359, v73/p365.': this identifier has an incorrect format for catalog: \tA (ACO): Abell, Corwin, Olowin\n",
      "  (error.line, error.msg))\n",
      "/Users/dagoret-campagnesylvie/anaconda/envs/pyastrophys/lib/python2.7/site-packages/astroquery/simbad/core.py:136: UserWarning: Warning: The script line number 3 raised an error (recorded in the `errors` attribute of the result table): Identifier not found in the database : NAME AGK+81D266 with STIS observations\n",
      "  (error.line, error.msg))\n",
      "/Users/dagoret-campagnesylvie/anaconda/envs/pyastrophys/lib/python2.7/site-packages/astroquery/simbad/core.py:136: UserWarning: Warning: The script line number 3 raised an error (recorded in the `errors` attribute of the result table): 'AGK+81D266 with IUE, STIS, & NICMOS observations': this identifier has an incorrect format for catalog: \tAGK (AG): catalogue AG\n",
      "  (error.line, error.msg))\n",
      "/Users/dagoret-campagnesylvie/anaconda/envs/pyastrophys/lib/python2.7/site-packages/astroquery/simbad/core.py:136: UserWarning: Warning: The script line number 3 raised an error (recorded in the `errors` attribute of the result table): Identifier not found in the database : NAME AGK+81D266\n",
      "  (error.line, error.msg))\n",
      "/Users/dagoret-campagnesylvie/anaconda/envs/pyastrophys/lib/python2.7/site-packages/astroquery/simbad/core.py:136: UserWarning: Warning: The script line number 3 raised an error (recorded in the `errors` attribute of the result table): 'Bohlin, R. C. 2014, AJ, submitted': this identifier has an incorrect format for catalogs: \tB (GC): General Cat. Boss \tB (Batten): Batten \tB (BBB): Basinski, Bok, Bok \tB (Barnard): catalogue Barnard\n",
      "  (error.line, error.msg))\n",
      "/Users/dagoret-campagnesylvie/anaconda/envs/pyastrophys/lib/python2.7/site-packages/astroquery/simbad/core.py:136: UserWarning: Warning: The script line number 3 raised an error (recorded in the `errors` attribute of the result table): 'Bohlin, R. C. 2014, AJ, 147, 127': this identifier has an incorrect format for catalogs: \tB (GC): General Cat. Boss \tB (Batten): Batten \tB (BBB): Basinski, Bok, Bok \tB (Barnard): catalogue Barnard\n",
      "  (error.line, error.msg))\n",
      "/Users/dagoret-campagnesylvie/anaconda/envs/pyastrophys/lib/python2.7/site-packages/astroquery/simbad/core.py:136: UserWarning: Warning: The script line number 3 raised an error (recorded in the `errors` attribute of the result table): Identifier not found in the database : NAME ALPHA LYR with STIS observations\n",
      "  (error.line, error.msg))\n"
     ]
    },
    {
     "name": "stdout",
     "output_type": "stream",
     "text": [
      "--------------------- 4 )  ALPHA_LYR --------------- alpha_lyr_stis_006.fits\n",
      " MAIN_ID        RA           DEC      RA_PREC ... FLUX_R FLUX_I    FLUX_J  \n",
      "             \"h:m:s\"       \"d:m:s\"            ...  mag    mag       mag    \n",
      "--------- ------------- ------------- ------- ... ------ ------ -----------\n",
      "* alf Lyr 18 36 56.3363 +38 47 01.280       9 ...   0.07    0.1 -0.18000001\n",
      "--------------------- 5 )  ALPHA_LYR --------------- alpha_lyr_stis_007.fits\n",
      " MAIN_ID        RA           DEC      RA_PREC ... FLUX_R FLUX_I    FLUX_J  \n",
      "             \"h:m:s\"       \"d:m:s\"            ...  mag    mag       mag    \n",
      "--------- ------------- ------------- ------- ... ------ ------ -----------\n",
      "* alf Lyr 18 36 56.3363 +38 47 01.280       9 ...   0.07    0.1 -0.18000001\n",
      "--------------------- 6 )  ALPHA_LYR --------------- alpha_lyr_stis_008.fits\n",
      " MAIN_ID        RA           DEC      RA_PREC ... FLUX_R FLUX_I    FLUX_J  \n",
      "             \"h:m:s\"       \"d:m:s\"            ...  mag    mag       mag    \n",
      "--------- ------------- ------------- ------- ... ------ ------ -----------\n",
      "* alf Lyr 18 36 56.3363 +38 47 01.280       9 ...   0.07    0.1 -0.18000001\n"
     ]
    },
    {
     "name": "stderr",
     "output_type": "stream",
     "text": [
      "/Users/dagoret-campagnesylvie/anaconda/envs/pyastrophys/lib/python2.7/site-packages/astroquery/simbad/core.py:136: UserWarning: Warning: The script line number 3 raised an error (recorded in the `errors` attribute of the result table): Identifier not found in the database : NAME BD02D3375\n",
      "  (error.line, error.msg))\n",
      "/Users/dagoret-campagnesylvie/anaconda/envs/pyastrophys/lib/python2.7/site-packages/astroquery/simbad/core.py:136: UserWarning: Warning: The script line number 3 raised an error (recorded in the `errors` attribute of the result table): Identifier not found in the database : NAME BD17D4708 with STIS observations\n",
      "  (error.line, error.msg))\n",
      "/Users/dagoret-campagnesylvie/anaconda/envs/pyastrophys/lib/python2.7/site-packages/astroquery/simbad/core.py:136: UserWarning: Warning: The script line number 3 raised an error (recorded in the `errors` attribute of the result table): 'BD17D4708 with STIS & NICMOS observations': this identifier has an incorrect format for catalog: \tBD : Bonner Durchmusterung\n",
      "  (error.line, error.msg))\n",
      "/Users/dagoret-campagnesylvie/anaconda/envs/pyastrophys/lib/python2.7/site-packages/astroquery/simbad/core.py:136: UserWarning: Warning: The script line number 3 raised an error (recorded in the `errors` attribute of the result table): Identifier not found in the database : NAME BD21D0607\n",
      "  (error.line, error.msg))\n",
      "/Users/dagoret-campagnesylvie/anaconda/envs/pyastrophys/lib/python2.7/site-packages/astroquery/simbad/core.py:136: UserWarning: Warning: The script line number 3 raised an error (recorded in the `errors` attribute of the result table): Identifier not found in the database : NAME BD26D2606\n",
      "  (error.line, error.msg))\n",
      "/Users/dagoret-campagnesylvie/anaconda/envs/pyastrophys/lib/python2.7/site-packages/astroquery/simbad/core.py:136: UserWarning: Warning: The script line number 3 raised an error (recorded in the `errors` attribute of the result table): Identifier not found in the database : NAME BD29D2091\n",
      "  (error.line, error.msg))\n",
      "/Users/dagoret-campagnesylvie/anaconda/envs/pyastrophys/lib/python2.7/site-packages/astroquery/simbad/core.py:136: UserWarning: Warning: The script line number 3 raised an error (recorded in the `errors` attribute of the result table): Identifier not found in the database : NAME BD54D1216\n",
      "  (error.line, error.msg))\n",
      "/Users/dagoret-campagnesylvie/anaconda/envs/pyastrophys/lib/python2.7/site-packages/astroquery/simbad/core.py:136: UserWarning: Warning: The script line number 3 raised an error (recorded in the `errors` attribute of the result table): Identifier not found in the database : NAME BD60D1753\n",
      "  (error.line, error.msg))\n",
      "/Users/dagoret-campagnesylvie/anaconda/envs/pyastrophys/lib/python2.7/site-packages/astroquery/simbad/core.py:136: UserWarning: Warning: The script line number 3 raised an error (recorded in the `errors` attribute of the result table): 'BD+17D4708 with STIS & NICMOS observations': this identifier has an incorrect format for catalog: \tBD : Bonner Durchmusterung\n",
      "  (error.line, error.msg))\n",
      "/Users/dagoret-campagnesylvie/anaconda/envs/pyastrophys/lib/python2.7/site-packages/astroquery/simbad/core.py:136: UserWarning: Warning: The script line number 3 raised an error (recorded in the `errors` attribute of the result table): Identifier not found in the database : NAME BD+17D4708\n",
      "  (error.line, error.msg))\n",
      "/Users/dagoret-campagnesylvie/anaconda/envs/pyastrophys/lib/python2.7/site-packages/astroquery/simbad/core.py:136: UserWarning: Warning: The script line number 3 raised an error (recorded in the `errors` attribute of the result table): Identifier not found in the database : NAME BD+28D4211 with STIS observations\n",
      "  (error.line, error.msg))\n",
      "/Users/dagoret-campagnesylvie/anaconda/envs/pyastrophys/lib/python2.7/site-packages/astroquery/simbad/core.py:136: UserWarning: Warning: The script line number 3 raised an error (recorded in the `errors` attribute of the result table): Identifier not found in the database : NAME BD28D4211\n",
      "  (error.line, error.msg))\n",
      "/Users/dagoret-campagnesylvie/anaconda/envs/pyastrophys/lib/python2.7/site-packages/astroquery/simbad/core.py:136: UserWarning: Warning: The script line number 3 raised an error (recorded in the `errors` attribute of the result table): Identifier not found in the database : NAME BD+75D325 with STIS observations\n",
      "  (error.line, error.msg))\n",
      "/Users/dagoret-campagnesylvie/anaconda/envs/pyastrophys/lib/python2.7/site-packages/astroquery/simbad/core.py:136: UserWarning: Warning: The script line number 3 raised an error (recorded in the `errors` attribute of the result table): Identifier not found in the database : NAME BD75\n",
      "  (error.line, error.msg))\n",
      "/Users/dagoret-campagnesylvie/anaconda/envs/pyastrophys/lib/python2.7/site-packages/astroquery/simbad/core.py:136: UserWarning: Warning: The script line number 3 raised an error (recorded in the `errors` attribute of the result table): 'C26202 with STIS & NICMOS observations': this identifier has an incorrect format for catalog: \tC : Cluster\n",
      "  (error.line, error.msg))\n",
      "/Users/dagoret-campagnesylvie/anaconda/envs/pyastrophys/lib/python2.7/site-packages/astroquery/simbad/core.py:136: UserWarning: Warning: The script line number 3 raised an error (recorded in the `errors` attribute of the result table): Identifier not found in the database : NAME C 26202\n",
      "  (error.line, error.msg))\n",
      "/Users/dagoret-campagnesylvie/anaconda/envs/pyastrophys/lib/python2.7/site-packages/astroquery/simbad/core.py:136: UserWarning: Warning: The script line number 3 raised an error (recorded in the `errors` attribute of the result table): Identifier not found in the database : NAME ETAUMA\n",
      "  (error.line, error.msg))\n",
      "/Users/dagoret-campagnesylvie/anaconda/envs/pyastrophys/lib/python2.7/site-packages/astroquery/simbad/core.py:136: UserWarning: Warning: The script line number 3 raised an error (recorded in the `errors` attribute of the result table): Identifier not found in the database : NAME FEIGE110 with STIS observations\n",
      "  (error.line, error.msg))\n",
      "/Users/dagoret-campagnesylvie/anaconda/envs/pyastrophys/lib/python2.7/site-packages/astroquery/simbad/core.py:136: UserWarning: Warning: The script line number 3 raised an error (recorded in the `errors` attribute of the result table): 'FEIGE110 with IUE, STIS, Oke, & NICMOS observations': this identifier has an incorrect format for catalog: \tFEIGE : catalogue Feige\n",
      "  (error.line, error.msg))\n"
     ]
    },
    {
     "name": "stdout",
     "output_type": "stream",
     "text": [
      "--------------------- 7 )  FEIGE110 --------------- feige110_stisnic_004.fits\n",
      " MAIN_ID        RA           DEC      RA_PREC ... FLUX_V FLUX_R FLUX_I FLUX_J\n",
      "             \"h:m:s\"       \"d:m:s\"            ...  mag    mag    mag    mag  \n",
      "--------- ------------- ------------- ------- ... ------ ------ ------ ------\n",
      "Feige 110 23 19 58.3981 -05 09 56.160       9 ...   11.5  11.97 12.145 12.548\n",
      "--------------------- 8 )  FEIGE110 --------------- feige110_stisnic_005.fits\n",
      " MAIN_ID        RA           DEC      RA_PREC ... FLUX_V FLUX_R FLUX_I FLUX_J\n",
      "             \"h:m:s\"       \"d:m:s\"            ...  mag    mag    mag    mag  \n",
      "--------- ------------- ------------- ------- ... ------ ------ ------ ------\n",
      "Feige 110 23 19 58.3981 -05 09 56.160       9 ...   11.5  11.97 12.145 12.548\n",
      "--------------------- 9 )  FEIGE110 --------------- feige110_stisnic_006.fits\n",
      " MAIN_ID        RA           DEC      RA_PREC ... FLUX_V FLUX_R FLUX_I FLUX_J\n",
      "             \"h:m:s\"       \"d:m:s\"            ...  mag    mag    mag    mag  \n",
      "--------- ------------- ------------- ------- ... ------ ------ ------ ------\n",
      "Feige 110 23 19 58.3981 -05 09 56.160       9 ...   11.5  11.97 12.145 12.548\n",
      "--------------------- 10 )  FEIGE34 --------------- feige34_stis_002.fits\n",
      " MAIN_ID        RA           DEC      RA_PREC ... FLUX_V FLUX_R FLUX_I FLUX_J\n",
      "             \"h:m:s\"       \"d:m:s\"            ...  mag    mag    mag    mag  \n",
      "--------- ------------- ------------- ------- ... ------ ------ ------ ------\n",
      "Feige  34 10 39 36.7403 +43 06 09.255       9 ...  11.14 11.319 11.464 11.643\n",
      "--------------------- 11 )  FEIGE34 --------------- feige34_stis_003.fits\n",
      " MAIN_ID        RA           DEC      RA_PREC ... FLUX_V FLUX_R FLUX_I FLUX_J\n",
      "             \"h:m:s\"       \"d:m:s\"            ...  mag    mag    mag    mag  \n",
      "--------- ------------- ------------- ------- ... ------ ------ ------ ------\n",
      "Feige  34 10 39 36.7403 +43 06 09.255       9 ...  11.14 11.319 11.464 11.643\n",
      "--------------------- 12 )  "
     ]
    },
    {
     "name": "stderr",
     "output_type": "stream",
     "text": [
      "/Users/dagoret-campagnesylvie/anaconda/envs/pyastrophys/lib/python2.7/site-packages/astroquery/simbad/core.py:136: UserWarning: Warning: The script line number 3 raised an error (recorded in the `errors` attribute of the result table): Identifier not found in the database : NAME FEIGE34 with STIS observations\n",
      "  (error.line, error.msg))\n",
      "/Users/dagoret-campagnesylvie/anaconda/envs/pyastrophys/lib/python2.7/site-packages/astroquery/simbad/core.py:136: UserWarning: Warning: The script line number 3 raised an error (recorded in the `errors` attribute of the result table): 'g191b2b mod 004.fits': this identifier has an incorrect format for catalog: \tg : Giclas\n",
      "  (error.line, error.msg))\n",
      "/Users/dagoret-campagnesylvie/anaconda/envs/pyastrophys/lib/python2.7/site-packages/astroquery/simbad/core.py:136: UserWarning: Warning: The script line number 3 raised an error (recorded in the `errors` attribute of the result table): 'Bohlin, R. C. 2009, in preparation': this identifier has an incorrect format for catalogs: \tB (GC): General Cat. Boss \tB (Batten): Batten \tB (BBB): Basinski, Bok, Bok \tB (Barnard): catalogue Barnard\n",
      "  (error.line, error.msg))\n",
      "/Users/dagoret-campagnesylvie/anaconda/envs/pyastrophys/lib/python2.7/site-packages/astroquery/simbad/core.py:136: UserWarning: Warning: The script line number 3 raised an error (recorded in the `errors` attribute of the result table): 'New STIS g=4 value --> new Vega mag, update G191B2B mag': this identifier has an incorrect format for catalogs: \tN (NOVA): catalogue NOVA \tN (NGC): catalogue NGC\n",
      "  (error.line, error.msg))\n",
      "/Users/dagoret-campagnesylvie/anaconda/envs/pyastrophys/lib/python2.7/site-packages/astroquery/simbad/core.py:136: UserWarning: Warning: The script line number 3 raised an error (recorded in the `errors` attribute of the result table): 'Rauch, Werner, Bohlin, & Kruk 2013, A&A, in press': No known catalog could be found\n",
      "  (error.line, error.msg))\n",
      "/Users/dagoret-campagnesylvie/anaconda/envs/pyastrophys/lib/python2.7/site-packages/astroquery/simbad/core.py:136: UserWarning: Warning: The script line number 3 raised an error (recorded in the `errors` attribute of the result table): 'Rauch, Werner, Bohlin, & Kruk 2013, A&A, 560, A106': No known catalog could be found\n",
      "  (error.line, error.msg))\n",
      "/Users/dagoret-campagnesylvie/anaconda/envs/pyastrophys/lib/python2.7/site-packages/astroquery/simbad/core.py:136: UserWarning: Warning: The script line number 3 raised an error (recorded in the `errors` attribute of the result table): 'Bohlin, Gordon, Tremblay 2014, PASP, 126, 711': this identifier has an incorrect format for catalogs: \tB (GC): General Cat. Boss \tB (Batten): Batten \tB (BBB): Basinski, Bok, Bok \tB (Barnard): catalogue Barnard\n",
      "  (error.line, error.msg))\n",
      "/Users/dagoret-campagnesylvie/anaconda/envs/pyastrophys/lib/python2.7/site-packages/astroquery/simbad/core.py:136: UserWarning: Warning: The script line number 3 raised an error (recorded in the `errors` attribute of the result table): Identifier not found in the database : NAME G191B2B with STIS observations\n",
      "  (error.line, error.msg))\n",
      "/Users/dagoret-campagnesylvie/anaconda/envs/pyastrophys/lib/python2.7/site-packages/astroquery/simbad/core.py:136: UserWarning: Warning: The script line number 3 raised an error (recorded in the `errors` attribute of the result table): 'Rauch, et al. 2013, A&A, in press': No known catalog could be found\n",
      "  (error.line, error.msg))\n",
      "/Users/dagoret-campagnesylvie/anaconda/envs/pyastrophys/lib/python2.7/site-packages/astroquery/simbad/core.py:136: UserWarning: Warning: The script line number 3 raised an error (recorded in the `errors` attribute of the result table): 'G191B2B with STIS & NICMOS observations': this identifier has an incorrect format for catalog: \tG : Giclas\n",
      "  (error.line, error.msg))\n"
     ]
    },
    {
     "name": "stdout",
     "output_type": "stream",
     "text": [
      "FEIGE34 --------------- feige34_stis_004.fits\n",
      " MAIN_ID        RA           DEC      RA_PREC ... FLUX_V FLUX_R FLUX_I FLUX_J\n",
      "             \"h:m:s\"       \"d:m:s\"            ...  mag    mag    mag    mag  \n",
      "--------- ------------- ------------- ------- ... ------ ------ ------ ------\n",
      "Feige  34 10 39 36.7403 +43 06 09.255       9 ...  11.14 11.319 11.464 11.643\n",
      "--------------------- 13 )  G191B2B --------------- g191b2b_stisnic_004.fits\n",
      "  MAIN_ID         RA           DEC      RA_PREC ... FLUX_V FLUX_R FLUX_I FLUX_J\n",
      "               \"h:m:s\"       \"d:m:s\"            ...  mag    mag    mag    mag  \n",
      "----------- ------------- ------------- ------- ... ------ ------ ------ ------\n",
      "BD+52   913 05 05 30.6128 +52 49 51.955       9 ...  11.69  11.93 12.108 12.543\n",
      "--------------------- 14 )  G191B2B --------------- g191b2b_stisnic_005.fits\n",
      "  MAIN_ID         RA           DEC      RA_PREC ... FLUX_V FLUX_R FLUX_I FLUX_J\n",
      "               \"h:m:s\"       \"d:m:s\"            ...  mag    mag    mag    mag  \n",
      "----------- ------------- ------------- ------- ... ------ ------ ------ ------\n",
      "BD+52   913 05 05 30.6128 +52 49 51.955       9 ...  11.69  11.93 12.108 12.543\n",
      "--------------------- 15 )  G191B2B --------------- g191b2b_stisnic_006.fits\n",
      "  MAIN_ID         RA           DEC      RA_PREC ... FLUX_V FLUX_R FLUX_I FLUX_J\n",
      "               \"h:m:s\"       \"d:m:s\"            ...  mag    mag    mag    mag  \n",
      "----------- ------------- ------------- ------- ... ------ ------ ------ ------\n",
      "BD+52   913 05 05 30.6128 +52 49 51.955       9 ...  11.69  11.93 12.108 12.543\n"
     ]
    },
    {
     "name": "stderr",
     "output_type": "stream",
     "text": [
      "/Users/dagoret-campagnesylvie/anaconda/envs/pyastrophys/lib/python2.7/site-packages/astroquery/simbad/core.py:136: UserWarning: Warning: The script line number 3 raised an error (recorded in the `errors` attribute of the result table): 'gd153 mod 004.fits': this identifier has an incorrect format for catalog: \tgd : Giclas, Dwarf\n",
      "  (error.line, error.msg))\n",
      "/Users/dagoret-campagnesylvie/anaconda/envs/pyastrophys/lib/python2.7/site-packages/astroquery/simbad/core.py:136: UserWarning: Warning: The script line number 3 raised an error (recorded in the `errors` attribute of the result table): 'Rauch, Bohlin, & Kruk 2013': No known catalog could be found\n",
      "  (error.line, error.msg))\n",
      "/Users/dagoret-campagnesylvie/anaconda/envs/pyastrophys/lib/python2.7/site-packages/astroquery/simbad/core.py:136: UserWarning: Warning: The script line number 3 raised an error (recorded in the `errors` attribute of the result table): Identifier not found in the database : NAME GD153 with STIS observations\n",
      "  (error.line, error.msg))\n",
      "/Users/dagoret-campagnesylvie/anaconda/envs/pyastrophys/lib/python2.7/site-packages/astroquery/simbad/core.py:136: UserWarning: Warning: The script line number 3 raised an error (recorded in the `errors` attribute of the result table): 'GD153 with STIS & NICMOS observations': this identifier has an incorrect format for catalog: \tGD : Giclas, Dwarf\n",
      "  (error.line, error.msg))\n"
     ]
    },
    {
     "name": "stdout",
     "output_type": "stream",
     "text": [
      "--------------------- 16 )  GD153 --------------- gd153_stisnic_004.fits\n",
      "MAIN_ID      RA          DEC      RA_PREC ... FLUX_V FLUX_R FLUX_I FLUX_J\n",
      "          \"h:m:s\"      \"d:m:s\"            ...  mag    mag    mag    mag  \n",
      "------- ------------ ------------ ------- ... ------ ------ ------ ------\n",
      " GD 153 12 57 02.337 +22 01 52.68       7 ... 13.349 13.488 13.669 14.012\n",
      "--------------------- 17 )  GD153 --------------- gd153_stisnic_005.fits\n",
      "MAIN_ID      RA          DEC      RA_PREC ... FLUX_V FLUX_R FLUX_I FLUX_J\n",
      "          \"h:m:s\"      \"d:m:s\"            ...  mag    mag    mag    mag  \n",
      "------- ------------ ------------ ------- ... ------ ------ ------ ------\n",
      " GD 153 12 57 02.337 +22 01 52.68       7 ... 13.349 13.488 13.669 14.012\n",
      "--------------------- 18 )  GD153 --------------- gd153_stisnic_006.fits\n",
      "MAIN_ID      RA          DEC      RA_PREC ... FLUX_V FLUX_R FLUX_I FLUX_J\n",
      "          \"h:m:s\"      \"d:m:s\"            ...  mag    mag    mag    mag  \n",
      "------- ------------ ------------ ------- ... ------ ------ ------ ------\n",
      " GD 153 12 57 02.337 +22 01 52.68       7 ... 13.349 13.488 13.669 14.012\n"
     ]
    },
    {
     "name": "stderr",
     "output_type": "stream",
     "text": [
      "/Users/dagoret-campagnesylvie/anaconda/envs/pyastrophys/lib/python2.7/site-packages/astroquery/simbad/core.py:136: UserWarning: Warning: The script line number 3 raised an error (recorded in the `errors` attribute of the result table): 'gd71 mod 005.fits': this identifier has an incorrect format for catalog: \tgd : Giclas, Dwarf\n",
      "  (error.line, error.msg))\n",
      "/Users/dagoret-campagnesylvie/anaconda/envs/pyastrophys/lib/python2.7/site-packages/astroquery/simbad/core.py:136: UserWarning: Warning: The script line number 3 raised an error (recorded in the `errors` attribute of the result table): Identifier not found in the database : NAME GD71 with STIS observations\n",
      "  (error.line, error.msg))\n",
      "/Users/dagoret-campagnesylvie/anaconda/envs/pyastrophys/lib/python2.7/site-packages/astroquery/simbad/core.py:136: UserWarning: Warning: The script line number 3 raised an error (recorded in the `errors` attribute of the result table): 'GD71 with STIS & NICMOS observations': this identifier has an incorrect format for catalog: \tGD : Giclas, Dwarf\n",
      "  (error.line, error.msg))\n"
     ]
    },
    {
     "name": "stdout",
     "output_type": "stream",
     "text": [
      "--------------------- 19 )  GD71 --------------- gd71_stisnic_004.fits\n",
      "MAIN_ID      RA          DEC      RA_PREC ... FLUX_V FLUX_R FLUX_I FLUX_J\n",
      "          \"h:m:s\"      \"d:m:s\"            ...  mag    mag    mag    mag  \n",
      "------- ------------ ------------ ------- ... ------ ------ ------ ------\n",
      "  GD 71 05 52 27.614 +15 53 13.75       7 ... 13.032 13.169 13.337 13.728\n",
      "--------------------- 20 )  GD71 --------------- gd71_stisnic_005.fits\n",
      "MAIN_ID      RA          DEC      RA_PREC ... FLUX_V FLUX_R FLUX_I FLUX_J\n",
      "          \"h:m:s\"      \"d:m:s\"            ...  mag    mag    mag    mag  \n",
      "------- ------------ ------------ ------- ... ------ ------ ------ ------\n",
      "  GD 71 05 52 27.614 +15 53 13.75       7 ... 13.032 13.169 13.337 13.728\n",
      "--------------------- 21 )  GD71 --------------- gd71_stisnic_006.fits\n",
      "MAIN_ID      RA          DEC      RA_PREC ... FLUX_V FLUX_R FLUX_I FLUX_J\n",
      "          \"h:m:s\"      \"d:m:s\"            ...  mag    mag    mag    mag  \n",
      "------- ------------ ------------ ------- ... ------ ------ ------ ------\n",
      "  GD 71 05 52 27.614 +15 53 13.75       7 ... 13.032 13.169 13.337 13.728\n"
     ]
    },
    {
     "name": "stderr",
     "output_type": "stream",
     "text": [
      "/Users/dagoret-campagnesylvie/anaconda/envs/pyastrophys/lib/python2.7/site-packages/astroquery/simbad/core.py:136: UserWarning: Warning: The script line number 3 raised an error (recorded in the `errors` attribute of the result table): Identifier not found in the database : GJ  7541 A\n",
      "  (error.line, error.msg))\n",
      "/Users/dagoret-campagnesylvie/anaconda/envs/pyastrophys/lib/python2.7/site-packages/astroquery/simbad/core.py:136: UserWarning: Warning: The script line number 3 raised an error (recorded in the `errors` attribute of the result table): Identifier not found in the database : NAME AC +70D5824 with STIS observations\n",
      "  (error.line, error.msg))\n",
      "/Users/dagoret-campagnesylvie/anaconda/envs/pyastrophys/lib/python2.7/site-packages/astroquery/simbad/core.py:136: UserWarning: Warning: The script line number 3 raised an error (recorded in the `errors` attribute of the result table): 'GRW+70D5824 with STIS & NICMOS observations': this identifier has an incorrect format for catalog: \tAC : catalogue AC\n",
      "  (error.line, error.msg))\n",
      "/Users/dagoret-campagnesylvie/anaconda/envs/pyastrophys/lib/python2.7/site-packages/astroquery/simbad/core.py:136: UserWarning: Warning: The script line number 3 raised an error (recorded in the `errors` attribute of the result table): Identifier not found in the database : NAME AC +70D5824\n",
      "  (error.line, error.msg))\n"
     ]
    },
    {
     "name": "stdout",
     "output_type": "stream",
     "text": [
      "--------------------- 22 )  HD009051 --------------- hd009051_stis_001.fits\n",
      " MAIN_ID        RA           DEC      RA_PREC ...   FLUX_V  FLUX_R FLUX_I FLUX_J\n",
      "             \"h:m:s\"       \"d:m:s\"            ...    mag     mag    mag    mag  \n",
      "--------- ------------- ------------- ------- ... --------- ------ ------ ------\n",
      "HD   9051 01 28 46.5020 -24 20 25.443       9 ... 8.9200001     --     --  7.289\n",
      "--------------------- 23 )  HD009051 --------------- hd009051_stis_002.fits\n",
      " MAIN_ID        RA           DEC      RA_PREC ...   FLUX_V  FLUX_R FLUX_I FLUX_J\n",
      "             \"h:m:s\"       \"d:m:s\"            ...    mag     mag    mag    mag  \n",
      "--------- ------------- ------------- ------- ... --------- ------ ------ ------\n",
      "HD   9051 01 28 46.5020 -24 20 25.443       9 ... 8.9200001     --     --  7.289\n",
      "--------------------- 24 )  HD009051 --------------- hd009051_stis_003.fits\n",
      " MAIN_ID        RA           DEC      RA_PREC ...   FLUX_V  FLUX_R FLUX_I FLUX_J\n",
      "             \"h:m:s\"       \"d:m:s\"            ...    mag     mag    mag    mag  \n",
      "--------- ------------- ------------- ------- ... --------- ------ ------ ------\n",
      "HD   9051 01 28 46.5020 -24 20 25.443       9 ... 8.9200001     --     --  7.289\n",
      "--------------------- 25 )  HD031128 --------------- hd031128_stis_001.fits\n",
      " MAIN_ID        RA           DEC      RA_PREC ... FLUX_R FLUX_I   FLUX_J \n",
      "             \"h:m:s\"       \"d:m:s\"            ...  mag    mag      mag   \n",
      "--------- ------------- ------------- ------- ... ------ ------ ---------\n",
      "HD  31128 04 52 09.9101 -27 03 50.950       9 ...     --     -- 8.0319996\n",
      "--------------------- 26 )  HD031128 --------------- hd031128_stis_002.fits\n",
      " MAIN_ID        RA           DEC      RA_PREC ... FLUX_R FLUX_I   FLUX_J \n",
      "             \"h:m:s\"       \"d:m:s\"            ...  mag    mag      mag   \n",
      "--------- ------------- ------------- ------- ... ------ ------ ---------\n",
      "HD  31128 04 52 09.9101 -27 03 50.950       9 ...     --     -- 8.0319996\n",
      "--------------------- 27 )  HD031128 --------------- hd031128_stis_003.fits\n",
      " MAIN_ID        RA           DEC      RA_PREC ... FLUX_R FLUX_I   FLUX_J \n",
      "             \"h:m:s\"       \"d:m:s\"            ...  mag    mag      mag   \n",
      "--------- ------------- ------------- ------- ... ------ ------ ---------\n",
      "HD  31128 04 52 09.9101 -27 03 50.950       9 ...     --     -- 8.0319996\n",
      "--------------------- 28 )  HD074000 --------------- hd074000_stis_001.fits\n",
      " MAIN_ID        RA           DEC      RA_PREC ... FLUX_R FLUX_I   FLUX_J \n",
      "             \"h:m:s\"       \"d:m:s\"            ...  mag    mag      mag   \n",
      "--------- ------------- ------------- ------- ... ------ ------ ---------\n",
      "HD  74000 08 40 50.8036 -16 20 42.520       9 ...     --     -- 8.7159996\n",
      "--------------------- 29 )  HD074000 --------------- hd074000_stis_002.fits\n",
      " MAIN_ID        RA           DEC      RA_PREC ... FLUX_R FLUX_I   FLUX_J \n",
      "             \"h:m:s\"       \"d:m:s\"            ...  mag    mag      mag   \n",
      "--------- ------------- ------------- ------- ... ------ ------ ---------\n",
      "HD  74000 08 40 50.8036 -16 20 42.520       9 ...     --     -- 8.7159996\n",
      "--------------------- 30 )  HD074000 --------------- hd074000_stis_003.fits\n",
      " MAIN_ID        RA           DEC      RA_PREC ... FLUX_R FLUX_I   FLUX_J \n",
      "             \"h:m:s\"       \"d:m:s\"            ...  mag    mag      mag   \n",
      "--------- ------------- ------------- ------- ... ------ ------ ---------\n",
      "HD  74000 08 40 50.8036 -16 20 42.520       9 ...     --     -- 8.7159996\n",
      "--------------------- 31 )  HD106252 --------------- hd106252_stis_001.fits\n",
      " MAIN_ID        RA           DEC      RA_PREC ... FLUX_R   FLUX_I    FLUX_J \n",
      "             \"h:m:s\"       \"d:m:s\"            ...  mag      mag       mag   \n",
      "--------- ------------- ------------- ------- ... ------ --------- ---------\n",
      "HD 106252 12 13 29.5093 +10 02 29.897       9 ...    7.0 6.6999998 6.3000002\n",
      "--------------------- 32 )  HD106252 --------------- hd106252_stis_002.fits\n",
      " MAIN_ID        RA           DEC      RA_PREC ... FLUX_R   FLUX_I    FLUX_J \n",
      "             \"h:m:s\"       \"d:m:s\"            ...  mag      mag       mag   \n",
      "--------- ------------- ------------- ------- ... ------ --------- ---------\n",
      "HD 106252 12 13 29.5093 +10 02 29.897       9 ...    7.0 6.6999998 6.3000002\n",
      "--------------------- 33 )  HD106252 --------------- hd106252_stis_003.fits\n",
      " MAIN_ID        RA           DEC      RA_PREC ... FLUX_R   FLUX_I    FLUX_J \n",
      "             \"h:m:s\"       \"d:m:s\"            ...  mag      mag       mag   \n",
      "--------- ------------- ------------- ------- ... ------ --------- ---------\n",
      "HD 106252 12 13 29.5093 +10 02 29.897       9 ...    7.0 6.6999998 6.3000002\n",
      "--------------------- 34 )  HD111980 --------------- hd111980_stis_001.fits\n",
      " MAIN_ID        RA           DEC      RA_PREC ... FLUX_R FLUX_I   FLUX_J \n",
      "             \"h:m:s\"       \"d:m:s\"            ...  mag    mag      mag   \n",
      "--------- ------------- ------------- ------- ... ------ ------ ---------\n",
      "HD 111980 12 53 15.0532 -18 31 19.999       9 ...     --     -- 7.1760001\n",
      "--------------------- 35 )  HD111980 --------------- hd111980_stis_002.fits\n",
      " MAIN_ID        RA           DEC      RA_PREC ... FLUX_R FLUX_I   FLUX_J \n",
      "             \"h:m:s\"       \"d:m:s\"            ...  mag    mag      mag   \n",
      "--------- ------------- ------------- ------- ... ------ ------ ---------\n",
      "HD 111980 12 53 15.0532 -18 31 19.999       9 ...     --     -- 7.1760001\n",
      "--------------------- 36 )  HD111980 --------------- hd111980_stis_003.fits\n",
      " MAIN_ID        RA           DEC      RA_PREC ... FLUX_R FLUX_I   FLUX_J \n",
      "             \"h:m:s\"       \"d:m:s\"            ...  mag    mag      mag   \n",
      "--------- ------------- ------------- ------- ... ------ ------ ---------\n",
      "HD 111980 12 53 15.0532 -18 31 19.999       9 ...     --     -- 7.1760001\n",
      "--------------------- 37 )  HD116405 --------------- hd116405_stis_001.fits\n",
      " MAIN_ID        RA           DEC      RA_PREC ... FLUX_R FLUX_I   FLUX_J \n",
      "             \"h:m:s\"       \"d:m:s\"            ...  mag    mag      mag   \n",
      "--------- ------------- ------------- ------- ... ------ ------ ---------\n",
      "HD 116405 13 22 45.1228 +44 42 53.899       9 ...     --     -- 8.3929996\n",
      "--------------------- 38 )  HD116405 --------------- hd116405_stis_002.fits\n",
      " MAIN_ID        RA           DEC      RA_PREC ... FLUX_R FLUX_I   FLUX_J \n",
      "             \"h:m:s\"       \"d:m:s\"            ...  mag    mag      mag   \n",
      "--------- ------------- ------------- ------- ... ------ ------ ---------\n",
      "HD 116405 13 22 45.1228 +44 42 53.899       9 ...     --     -- 8.3929996\n",
      "--------------------- 39 )  HD116405 --------------- hd116405_stis_003.fits\n",
      " MAIN_ID        RA           DEC      RA_PREC ... FLUX_R FLUX_I   FLUX_J \n",
      "             \"h:m:s\"       \"d:m:s\"            ...  mag    mag      mag   \n",
      "--------- ------------- ------------- ------- ... ------ ------ ---------\n",
      "HD 116405 13 22 45.1228 +44 42 53.899       9 ...     --     -- 8.3929996\n",
      "--------------------- 40 )  HD14943 --------------- hd14943_stis_001.fits\n",
      " MAIN_ID        RA           DEC      RA_PREC ...   FLUX_V  FLUX_R FLUX_I FLUX_J\n",
      "             \"h:m:s\"       \"d:m:s\"            ...    mag     mag    mag    mag  \n",
      "--------- ------------- ------------- ------- ... --------- ------ ------ ------\n",
      "HD  14943 02 22 54.6748 -51 05 31.665       9 ... 5.8979998     --     --  5.585\n",
      "--------------------- 41 )  HD14943 --------------- hd14943_stis_002.fits\n",
      " MAIN_ID        RA           DEC      RA_PREC ...   FLUX_V  FLUX_R FLUX_I FLUX_J\n",
      "             \"h:m:s\"       \"d:m:s\"            ...    mag     mag    mag    mag  \n",
      "--------- ------------- ------------- ------- ... --------- ------ ------ ------\n",
      "HD  14943 02 22 54.6748 -51 05 31.665       9 ... 5.8979998     --     --  5.585\n",
      "--------------------- 42 )  HD14943 --------------- hd14943_stis_003.fits\n",
      " MAIN_ID        RA           DEC      RA_PREC ...   FLUX_V  FLUX_R FLUX_I FLUX_J\n",
      "             \"h:m:s\"       \"d:m:s\"            ...    mag     mag    mag    mag  \n",
      "--------- ------------- ------------- ------- ... --------- ------ ------ ------\n",
      "HD  14943 02 22 54.6748 -51 05 31.665       9 ... 5.8979998     --     --  5.585\n",
      "--------------------- 43 )  HD158485 --------------- hd158485_stis_001.fits\n",
      "MAIN_ID        RA           DEC      RA_PREC ... FLUX_V FLUX_R FLUX_I   FLUX_J \n",
      "            \"h:m:s\"       \"d:m:s\"            ...  mag    mag    mag      mag   \n",
      "-------- ------------- ------------- ------- ... ------ ------ ------ ---------\n",
      "HR  6514 17 26 04.8365 +58 39 06.824       9 ...  6.494     --     -- 6.1719999\n",
      "--------------------- 44 )  HD158485 --------------- hd158485_stis_002.fits\n",
      "MAIN_ID        RA           DEC      RA_PREC ... FLUX_V FLUX_R FLUX_I   FLUX_J \n",
      "            \"h:m:s\"       \"d:m:s\"            ...  mag    mag    mag      mag   \n",
      "-------- ------------- ------------- ------- ... ------ ------ ------ ---------\n",
      "HR  6514 17 26 04.8365 +58 39 06.824       9 ...  6.494     --     -- 6.1719999\n",
      "--------------------- 45 )  HD158485 --------------- hd158485_stis_003.fits\n",
      "MAIN_ID        RA           DEC      RA_PREC ... FLUX_V FLUX_R FLUX_I   FLUX_J \n",
      "            \"h:m:s\"       \"d:m:s\"            ...  mag    mag    mag      mag   \n",
      "-------- ------------- ------------- ------- ... ------ ------ ------ ---------\n",
      "HR  6514 17 26 04.8365 +58 39 06.824       9 ...  6.494     --     -- 6.1719999\n",
      "--------------------- 46 )  HD159222 --------------- hd159222_stis_001.fits\n",
      " MAIN_ID        RA           DEC      RA_PREC ...   FLUX_R    FLUX_I  FLUX_J\n",
      "             \"h:m:s\"       \"d:m:s\"            ...    mag       mag     mag  \n",
      "--------- ------------- ------------- ------- ... --------- --------- ------\n",
      "HD 159222 17 32 00.9925 +34 16 16.130       9 ... 6.0999999 5.8000002  5.342\n",
      "--------------------- 47 )  HD159222 --------------- hd159222_stis_002.fits\n",
      " MAIN_ID        RA           DEC      RA_PREC ...   FLUX_R    FLUX_I  FLUX_J\n",
      "             \"h:m:s\"       \"d:m:s\"            ...    mag       mag     mag  \n",
      "--------- ------------- ------------- ------- ... --------- --------- ------\n",
      "HD 159222 17 32 00.9925 +34 16 16.130       9 ... 6.0999999 5.8000002  5.342\n",
      "--------------------- 48 )  HD159222 --------------- hd159222_stis_003.fits\n",
      " MAIN_ID        RA           DEC      RA_PREC ...   FLUX_R    FLUX_I  FLUX_J\n",
      "             \"h:m:s\"       \"d:m:s\"            ...    mag       mag     mag  \n",
      "--------- ------------- ------------- ------- ... --------- --------- ------\n",
      "HD 159222 17 32 00.9925 +34 16 16.130       9 ... 6.0999999 5.8000002  5.342\n",
      "--------------------- 49 )  HD160617 --------------- hd160617_stis_001.fits\n",
      " MAIN_ID        RA           DEC      RA_PREC ...   FLUX_R    FLUX_I    FLUX_J \n",
      "             \"h:m:s\"       \"d:m:s\"            ...    mag       mag       mag   \n",
      "--------- ------------- ------------- ------- ... --------- --------- ---------\n",
      "HD 160617 17 42 49.3240 -40 19 15.525       9 ... 8.3940001 8.0649996 7.6279998\n",
      "--------------------- 50 )  HD160617 --------------- hd160617_stis_002.fits\n",
      " MAIN_ID        RA           DEC      RA_PREC ...   FLUX_R    FLUX_I    FLUX_J \n",
      "             \"h:m:s\"       \"d:m:s\"            ...    mag       mag       mag   \n",
      "--------- ------------- ------------- ------- ... --------- --------- ---------\n",
      "HD 160617 17 42 49.3240 -40 19 15.525       9 ... 8.3940001 8.0649996 7.6279998\n",
      "--------------------- 51 )  HD160617 --------------- hd160617_stis_003.fits\n",
      " MAIN_ID        RA           DEC      RA_PREC ...   FLUX_R    FLUX_I    FLUX_J \n",
      "             \"h:m:s\"       \"d:m:s\"            ...    mag       mag       mag   \n",
      "--------- ------------- ------------- ------- ... --------- --------- ---------\n",
      "HD 160617 17 42 49.3240 -40 19 15.525       9 ... 8.3940001 8.0649996 7.6279998\n",
      "--------------------- 52 )  HD163466 --------------- hd163466_stis_001.fits\n",
      " MAIN_ID        RA           DEC      RA_PREC ...   FLUX_V  FLUX_R FLUX_I FLUX_J\n",
      "             \"h:m:s\"       \"d:m:s\"            ...    mag     mag    mag    mag  \n",
      "--------- ------------- ------------- ------- ... --------- ------ ------ ------\n",
      "HD 163466 17 52 25.3743 +60 23 46.946       9 ... 6.8499999     --     --  6.402\n",
      "--------------------- 53 )  HD163466 --------------- hd163466_stis_002.fits\n",
      " MAIN_ID        RA           DEC      RA_PREC ...   FLUX_V  FLUX_R FLUX_I FLUX_J\n",
      "             \"h:m:s\"       \"d:m:s\"            ...    mag     mag    mag    mag  \n",
      "--------- ------------- ------------- ------- ... --------- ------ ------ ------\n",
      "HD 163466 17 52 25.3743 +60 23 46.946       9 ... 6.8499999     --     --  6.402\n",
      "--------------------- 54 )  HD163466 --------------- hd163466_stis_003.fits\n",
      " MAIN_ID        RA           DEC      RA_PREC ...   FLUX_V  FLUX_R FLUX_I FLUX_J\n",
      "             \"h:m:s\"       \"d:m:s\"            ...    mag     mag    mag    mag  \n",
      "--------- ------------- ------------- ------- ... --------- ------ ------ ------\n",
      "HD 163466 17 52 25.3743 +60 23 46.946       9 ... 6.8499999     --     --  6.402\n",
      "--------------------- 55 )  HD165459 --------------- hd165459_stisnic_001.fits\n",
      " MAIN_ID        RA           DEC      RA_PREC ... FLUX_R   FLUX_I    FLUX_J \n",
      "             \"h:m:s\"       \"d:m:s\"            ...  mag      mag       mag   \n",
      "--------- ------------- ------------- ------- ... ------ --------- ---------\n",
      "HD 165459 18 02 30.7405 +58 37 38.159       9 ...     -- 6.6999998 6.6370001\n",
      "--------------------- 56 )  HD165459 --------------- hd165459_stisnic_002.fits\n",
      " MAIN_ID        RA           DEC      RA_PREC ... FLUX_R   FLUX_I    FLUX_J \n",
      "             \"h:m:s\"       \"d:m:s\"            ...  mag      mag       mag   \n",
      "--------- ------------- ------------- ------- ... ------ --------- ---------\n",
      "HD 165459 18 02 30.7405 +58 37 38.159       9 ...     -- 6.6999998 6.6370001\n",
      "--------------------- 57 )  HD165459 --------------- hd165459_stisnic_003.fits\n",
      " MAIN_ID        RA           DEC      RA_PREC ... FLUX_R   FLUX_I    FLUX_J \n",
      "             \"h:m:s\"       \"d:m:s\"            ...  mag      mag       mag   \n",
      "--------- ------------- ------------- ------- ... ------ --------- ---------\n",
      "HD 165459 18 02 30.7405 +58 37 38.159       9 ...     -- 6.6999998 6.6370001\n",
      "--------------------- 58 )  HD180609 --------------- hd180609_stis_001.fits\n",
      " MAIN_ID        RA           DEC      RA_PREC ... FLUX_R FLUX_I   FLUX_J \n",
      "             \"h:m:s\"       \"d:m:s\"            ...  mag    mag      mag   \n",
      "--------- ------------- ------------- ------- ... ------ ------ ---------\n",
      "HD 180609 19 12 47.1992 +64 10 37.179       9 ...     --     -- 9.1660004\n",
      "--------------------- 59 )  HD180609 --------------- hd180609_stis_002.fits\n",
      " MAIN_ID        RA           DEC      RA_PREC ... FLUX_R FLUX_I   FLUX_J \n",
      "             \"h:m:s\"       \"d:m:s\"            ...  mag    mag      mag   \n",
      "--------- ------------- ------------- ------- ... ------ ------ ---------\n",
      "HD 180609 19 12 47.1992 +64 10 37.179       9 ...     --     -- 9.1660004\n",
      "--------------------- 60 )  HD180609 --------------- hd180609_stis_003.fits\n",
      " MAIN_ID        RA           DEC      RA_PREC ... FLUX_R FLUX_I   FLUX_J \n",
      "             \"h:m:s\"       \"d:m:s\"            ...  mag    mag      mag   \n",
      "--------- ------------- ------------- ------- ... ------ ------ ---------\n",
      "HD 180609 19 12 47.1992 +64 10 37.179       9 ...     --     -- 9.1660004\n",
      "--------------------- 61 ) "
     ]
    },
    {
     "name": "stderr",
     "output_type": "stream",
     "text": [
      "/Users/dagoret-campagnesylvie/anaconda/envs/pyastrophys/lib/python2.7/site-packages/astroquery/simbad/core.py:136: UserWarning: Warning: The script line number 3 raised an error (recorded in the `errors` attribute of the result table): Identifier not found in the database : NAME HD165459 with NICMOS observations\n",
      "  (error.line, error.msg))\n"
     ]
    },
    {
     "name": "stdout",
     "output_type": "stream",
     "text": [
      " HD185975 --------------- hd185975_stis_001.fits\n",
      " MAIN_ID        RA           DEC      RA_PREC ... FLUX_R FLUX_I   FLUX_J \n",
      "             \"h:m:s\"       \"d:m:s\"            ...  mag    mag      mag   \n",
      "--------- ------------- ------------- ------- ... ------ ------ ---------\n",
      "HD 185975 20 28 18.7284 -87 28 19.941       9 ...     --     -- 6.8629999\n",
      "--------------------- 62 )  HD185975 --------------- hd185975_stis_002.fits\n",
      " MAIN_ID        RA           DEC      RA_PREC ... FLUX_R FLUX_I   FLUX_J \n",
      "             \"h:m:s\"       \"d:m:s\"            ...  mag    mag      mag   \n",
      "--------- ------------- ------------- ------- ... ------ ------ ---------\n",
      "HD 185975 20 28 18.7284 -87 28 19.941       9 ...     --     -- 6.8629999\n",
      "--------------------- 63 )  HD185975 --------------- hd185975_stis_003.fits\n",
      " MAIN_ID        RA           DEC      RA_PREC ... FLUX_R FLUX_I   FLUX_J \n",
      "             \"h:m:s\"       \"d:m:s\"            ...  mag    mag      mag   \n",
      "--------- ------------- ------------- ------- ... ------ ------ ---------\n",
      "HD 185975 20 28 18.7284 -87 28 19.941       9 ...     --     -- 6.8629999\n",
      "--------------------- 64 )  HD200654 --------------- hd200654_stis_001.fits\n",
      " MAIN_ID        RA           DEC      RA_PREC ... FLUX_R FLUX_I   FLUX_J \n",
      "             \"h:m:s\"       \"d:m:s\"            ...  mag    mag      mag   \n",
      "--------- ------------- ------------- ------- ... ------ ------ ---------\n",
      "HD 200654 21 06 34.7498 -49 57 50.277       9 ...     --     -- 7.6479998\n",
      "--------------------- 65 )  HD200654 --------------- hd200654_stis_002.fits\n",
      " MAIN_ID        RA           DEC      RA_PREC ... FLUX_R FLUX_I   FLUX_J \n",
      "             \"h:m:s\"       \"d:m:s\"            ...  mag    mag      mag   \n",
      "--------- ------------- ------------- ------- ... ------ ------ ---------\n",
      "HD 200654 21 06 34.7498 -49 57 50.277       9 ...     --     -- 7.6479998\n",
      "--------------------- 66 )  HD200654 --------------- hd200654_stis_003.fits\n",
      " MAIN_ID        RA           DEC      RA_PREC ... FLUX_R FLUX_I   FLUX_J \n",
      "             \"h:m:s\"       \"d:m:s\"            ...  mag    mag      mag   \n",
      "--------- ------------- ------------- ------- ... ------ ------ ---------\n",
      "HD 200654 21 06 34.7498 -49 57 50.277       9 ...     --     -- 7.6479998\n",
      "--------------------- 67 )  HD205905 --------------- hd205905_stis_001.fits\n",
      " MAIN_ID        RA           DEC      RA_PREC ... FLUX_R FLUX_I   FLUX_J \n",
      "             \"h:m:s\"       \"d:m:s\"            ...  mag    mag      mag   \n",
      "--------- ------------- ------------- ------- ... ------ ------ ---------\n",
      "HD 205905 21 39 10.1515 -27 18 23.668       9 ...     --     -- 5.6950002\n",
      "--------------------- 68 )  HD205905 --------------- hd205905_stis_002.fits\n",
      " MAIN_ID        RA           DEC      RA_PREC ... FLUX_R FLUX_I   FLUX_J \n",
      "             \"h:m:s\"       \"d:m:s\"            ...  mag    mag      mag   \n",
      "--------- ------------- ------------- ------- ... ------ ------ ---------\n",
      "HD 205905 21 39 10.1515 -27 18 23.668       9 ...     --     -- 5.6950002\n",
      "--------------------- 69 )  HD205905 --------------- hd205905_stis_003.fits\n",
      " MAIN_ID        RA           DEC      RA_PREC ... FLUX_R FLUX_I   FLUX_J \n",
      "             \"h:m:s\"       \"d:m:s\"            ...  mag    mag      mag   \n",
      "--------- ------------- ------------- ------- ... ------ ------ ---------\n",
      "HD 205905 21 39 10.1515 -27 18 23.668       9 ...     --     -- 5.6950002\n"
     ]
    },
    {
     "name": "stderr",
     "output_type": "stream",
     "text": [
      "/Users/dagoret-campagnesylvie/anaconda/envs/pyastrophys/lib/python2.7/site-packages/astroquery/simbad/core.py:136: UserWarning: Warning: The script line number 3 raised an error (recorded in the `errors` attribute of the result table): 'HD209458 with STIS & NICMOS observations': this identifier has an incorrect format for catalog: \tHD : Henry Draper\n",
      "  (error.line, error.msg))\n"
     ]
    },
    {
     "name": "stdout",
     "output_type": "stream",
     "text": [
      "--------------------- 70 )  HD209458 --------------- hd209458_stisnic_004.fits\n",
      "  MAIN_ID         RA           DEC      RA_PREC ... FLUX_R FLUX_I   FLUX_J \n",
      "               \"h:m:s\"       \"d:m:s\"            ...  mag    mag      mag   \n",
      "----------- ------------- ------------- ------- ... ------ ------ ---------\n",
      "V* V376 Peg 22 03 10.7720 +18 53 03.543       9 ...     --     -- 6.5910001\n",
      "--------------------- 71 )  HD209458 --------------- hd209458_stisnic_005.fits\n",
      "  MAIN_ID         RA           DEC      RA_PREC ... FLUX_R FLUX_I   FLUX_J \n",
      "               \"h:m:s\"       \"d:m:s\"            ...  mag    mag      mag   \n",
      "----------- ------------- ------------- ------- ... ------ ------ ---------\n",
      "V* V376 Peg 22 03 10.7720 +18 53 03.543       9 ...     --     -- 6.5910001\n",
      "--------------------- 72 )  HD209458 --------------- hd209458_stisnic_006.fits\n",
      "  MAIN_ID         RA           DEC      RA_PREC ... FLUX_R FLUX_I   FLUX_J \n",
      "               \"h:m:s\"       \"d:m:s\"            ...  mag    mag      mag   \n",
      "----------- ------------- ------------- ------- ... ------ ------ ---------\n",
      "V* V376 Peg 22 03 10.7720 +18 53 03.543       9 ...     --     -- 6.5910001\n",
      "--------------------- 73 )  HD37725 --------------- hd37725_stis_001.fits\n",
      " MAIN_ID        RA           DEC      RA_PREC ... FLUX_R FLUX_I   FLUX_J \n",
      "             \"h:m:s\"       \"d:m:s\"            ...  mag    mag      mag   \n",
      "--------- ------------- ------------- ------- ... ------ ------ ---------\n",
      "HD  37725 05 41 54.3707 +29 17 50.925       8 ...     --     -- 7.9530001\n",
      "--------------------- 74 )  HD37725 --------------- hd37725_stis_002.fits\n",
      " MAIN_ID        RA           DEC      RA_PREC ... FLUX_R FLUX_I   FLUX_J \n",
      "             \"h:m:s\"       \"d:m:s\"            ...  mag    mag      mag   \n",
      "--------- ------------- ------------- ------- ... ------ ------ ---------\n",
      "HD  37725 05 41 54.3707 +29 17 50.925       8 ...     --     -- 7.9530001\n",
      "--------------------- 75 )  HD37725 --------------- hd37725_stis_003.fits\n",
      " MAIN_ID        RA           DEC      RA_PREC ... FLUX_R FLUX_I   FLUX_J \n",
      "             \"h:m:s\"       \"d:m:s\"            ...  mag    mag      mag   \n",
      "--------- ------------- ------------- ------- ... ------ ------ ---------\n",
      "HD  37725 05 41 54.3707 +29 17 50.925       8 ...     --     -- 7.9530001\n",
      "--------------------- 76 )  HD37962 --------------- hd37962_stis_001.fits\n",
      " MAIN_ID        RA           DEC      RA_PREC ... FLUX_R FLUX_I   FLUX_J \n",
      "             \"h:m:s\"       \"d:m:s\"            ...  mag    mag      mag   \n",
      "--------- ------------- ------------- ------- ... ------ ------ ---------\n",
      "HD  37962 05 40 51.9668 -31 21 03.987       9 ...     --     -- 6.6750002\n",
      "--------------------- 77 )  HD37962 --------------- hd37962_stis_002.fits\n",
      " MAIN_ID        RA           DEC      RA_PREC ... FLUX_R FLUX_I   FLUX_J \n",
      "             \"h:m:s\"       \"d:m:s\"            ...  mag    mag      mag   \n",
      "--------- ------------- ------------- ------- ... ------ ------ ---------\n",
      "HD  37962 05 40 51.9668 -31 21 03.987       9 ...     --     -- 6.6750002\n",
      "--------------------- 78 )  HD37962 --------------- hd37962_stis_003.fits\n",
      " MAIN_ID        RA           DEC      RA_PREC ... FLUX_R FLUX_I   FLUX_J \n",
      "             \"h:m:s\"       \"d:m:s\"            ...  mag    mag      mag   \n",
      "--------- ------------- ------------- ------- ... ------ ------ ---------\n",
      "HD  37962 05 40 51.9668 -31 21 03.987       9 ...     --     -- 6.6750002\n",
      "--------------------- 79 )  HD38949 --------------- hd38949_stis_001.fits\n",
      " MAIN_ID        RA           DEC      RA_PREC ... FLUX_R FLUX_I   FLUX_J \n",
      "             \"h:m:s\"       \"d:m:s\"            ...  mag    mag      mag   \n",
      "--------- ------------- ------------- ------- ... ------ ------ ---------\n",
      "HD  38949 05 48 20.0586 -24 27 49.861       9 ...     --     -- 6.7480001\n",
      "--------------------- 80 )  HD38949 --------------- hd38949_stis_002.fits\n",
      " MAIN_ID        RA           DEC      RA_PREC ... FLUX_R FLUX_I   FLUX_J \n",
      "             \"h:m:s\"       \"d:m:s\"            ...  mag    mag      mag   \n",
      "--------- ------------- ------------- ------- ... ------ ------ ---------\n",
      "HD  38949 05 48 20.0586 -24 27 49.861       9 ...     --     -- 6.7480001\n",
      "--------------------- 81 )  HD38949 --------------- hd38949_stis_003.fits\n",
      " MAIN_ID        RA           DEC      RA_PREC ... FLUX_R FLUX_I   FLUX_J \n",
      "             \"h:m:s\"       \"d:m:s\"            ...  mag    mag      mag   \n",
      "--------- ------------- ------------- ------- ... ------ ------ ---------\n",
      "HD  38949 05 48 20.0586 -24 27 49.861       9 ...     --     -- 6.7480001\n",
      "--------------------- 82 )  HD60753 --------------- hd60753_stis_001.fits\n",
      " MAIN_ID        RA           DEC      RA_PREC ... FLUX_R FLUX_I   FLUX_J \n",
      "             \"h:m:s\"       \"d:m:s\"            ...  mag    mag      mag   \n",
      "--------- ------------- ------------- ------- ... ------ ------ ---------\n",
      "HD  60753 07 33 27.3183 -50 35 03.318       9 ...     --     -- 6.7779999\n",
      "--------------------- 83 )  HD60753 --------------- hd60753_stis_002.fits\n",
      " MAIN_ID        RA           DEC      RA_PREC ... FLUX_R FLUX_I   FLUX_J \n",
      "             \"h:m:s\"       \"d:m:s\"            ...  mag    mag      mag   \n",
      "--------- ------------- ------------- ------- ... ------ ------ ---------\n",
      "HD  60753 07 33 27.3183 -50 35 03.318       9 ...     --     -- 6.7779999\n",
      "--------------------- 84 )  HD60753 --------------- hd60753_stis_003.fits\n",
      " MAIN_ID        RA           DEC      RA_PREC ... FLUX_R FLUX_I   FLUX_J \n",
      "             \"h:m:s\"       \"d:m:s\"            ...  mag    mag      mag   \n",
      "--------- ------------- ------------- ------- ... ------ ------ ---------\n",
      "HD  60753 07 33 27.3183 -50 35 03.318       9 ...     --     -- 6.7779999\n"
     ]
    },
    {
     "name": "stderr",
     "output_type": "stream",
     "text": [
      "/Users/dagoret-campagnesylvie/anaconda/envs/pyastrophys/lib/python2.7/site-packages/astroquery/simbad/core.py:136: UserWarning: Warning: The script line number 3 raised an error (recorded in the `errors` attribute of the result table): Identifier not found in the database : NAME HD93521 with STIS observations\n",
      "  (error.line, error.msg))\n",
      "/Users/dagoret-campagnesylvie/anaconda/envs/pyastrophys/lib/python2.7/site-packages/astroquery/simbad/core.py:136: UserWarning: Warning: The script line number 3 raised an error (recorded in the `errors` attribute of the result table): Identifier not found in the database : NAME HS2027 with STIS observations\n",
      "  (error.line, error.msg))\n",
      "/Users/dagoret-campagnesylvie/anaconda/envs/pyastrophys/lib/python2.7/site-packages/astroquery/simbad/core.py:136: UserWarning: Warning: The script line number 3 raised an error (recorded in the `errors` attribute of the result table): Identifier not found in the database : NAME HS2027\n",
      "  (error.line, error.msg))\n",
      "/Users/dagoret-campagnesylvie/anaconda/envs/pyastrophys/lib/python2.7/site-packages/astroquery/simbad/core.py:136: UserWarning: Warning: The script line number 3 raised an error (recorded in the `errors` attribute of the result table): Identifier not found in the database : NAME HZ21 with STIS observations\n",
      "  (error.line, error.msg))\n"
     ]
    },
    {
     "name": "stdout",
     "output_type": "stream",
     "text": [
      "--------------------- 85 )  HD93521 --------------- hd93521_stis_002.fits\n",
      " MAIN_ID        RA           DEC      RA_PREC ... FLUX_R FLUX_I   FLUX_J \n",
      "             \"h:m:s\"       \"d:m:s\"            ...  mag    mag      mag   \n",
      "--------- ------------- ------------- ------- ... ------ ------ ---------\n",
      "HD  93521 10 48 23.5113 +37 34 13.092       9 ...     --     -- 7.4990001\n",
      "--------------------- 86 )  HD93521 --------------- hd93521_stis_003.fits\n",
      " MAIN_ID        RA           DEC      RA_PREC ... FLUX_R FLUX_I   FLUX_J \n",
      "             \"h:m:s\"       \"d:m:s\"            ...  mag    mag      mag   \n",
      "--------- ------------- ------------- ------- ... ------ ------ ---------\n",
      "HD  93521 10 48 23.5113 +37 34 13.092       9 ...     --     -- 7.4990001\n",
      "--------------------- 87 )  HD93521 --------------- hd93521_stis_004.fits\n",
      " MAIN_ID        RA           DEC      RA_PREC ... FLUX_R FLUX_I   FLUX_J \n",
      "             \"h:m:s\"       \"d:m:s\"            ...  mag    mag      mag   \n",
      "--------- ------------- ------------- ------- ... ------ ------ ---------\n",
      "HD  93521 10 48 23.5113 +37 34 13.092       9 ...     --     -- 7.4990001\n",
      "--------------------- 88 )  HZ21 --------------- hz21_stis_002.fits\n",
      "MAIN_ID      RA         DEC     RA_PREC DEC_PREC ... FLUX_V FLUX_R FLUX_I FLUX_J\n",
      "          \"h:m:s\"     \"d:m:s\"                    ...  mag    mag    mag    mag  \n",
      "------- ----------- ----------- ------- -------- ... ------ ------ ------ ------\n",
      "  HZ 21 12 13 56.25 +32 56 31.4       6        6 ... 14.688 14.837 15.038 15.351\n",
      "--------------------- 89 )  HZ21 --------------- hz21_stis_003.fits\n",
      "MAIN_ID      RA         DEC     RA_PREC DEC_PREC ... FLUX_V FLUX_R FLUX_I FLUX_J\n",
      "          \"h:m:s\"     \"d:m:s\"                    ...  mag    mag    mag    mag  \n",
      "------- ----------- ----------- ------- -------- ... ------ ------ ------ ------\n",
      "  HZ 21 12 13 56.25 +32 56 31.4       6        6 ... 14.688 14.837 15.038 15.351\n",
      "--------------------- 90 )  HZ21 --------------- hz21_stis_004.fits\n",
      "MAIN_ID      RA         DEC     RA_PREC DEC_PREC ... FLUX_V FLUX_R FLUX_I FLUX_J\n",
      "          \"h:m:s\"     \"d:m:s\"                    ...  mag    mag    mag    mag  \n",
      "------- ----------- ----------- ------- -------- ... ------ ------ ------ ------\n",
      "  HZ 21 12 13 56.25 +32 56 31.4       6        6 ... 14.688 14.837 15.038 15.351\n",
      "--------------------- 91 )  HZ43 --------------- hz43_stis_002.fits\n",
      "MAIN_ID       RA           DEC      RA_PREC ... FLUX_V FLUX_R FLUX_I FLUX_J\n",
      "           \"h:m:s\"       \"d:m:s\"            ...  mag    mag    mag    mag  \n",
      "------- ------------- ------------- ------- ... ------ ------ ------ ------\n",
      "  HZ 43 13 16 21.8532 +29 05 55.379       9 ...  12.66     --     -- 10.373\n",
      "--------------------- 92 )  HZ43 --------------- hz43_stis_003.fits\n",
      "MAIN_ID       RA           DEC      RA_PREC ... FLUX_V FLUX_R FLUX_I FLUX_J\n",
      "           \"h:m:s\"       \"d:m:s\"            ...  mag    mag    mag    mag  \n",
      "------- ------------- ------------- ------- ... ------ ------ ------ ------\n",
      "  HZ 43 13 16 21.8532 +29 05 55.379       9 ...  12.66     --     -- 10.373\n"
     ]
    },
    {
     "name": "stderr",
     "output_type": "stream",
     "text": [
      "/Users/dagoret-campagnesylvie/anaconda/envs/pyastrophys/lib/python2.7/site-packages/astroquery/simbad/core.py:136: UserWarning: Warning: The script line number 3 raised an error (recorded in the `errors` attribute of the result table): 'hz43 mod 004.fits': this identifier has an incorrect format for catalog: \thz : Humason-Zwicky\n",
      "  (error.line, error.msg))\n",
      "/Users/dagoret-campagnesylvie/anaconda/envs/pyastrophys/lib/python2.7/site-packages/astroquery/simbad/core.py:136: UserWarning: Warning: The script line number 3 raised an error (recorded in the `errors` attribute of the result table): Identifier not found in the database : NAME HZ43 with STIS observations\n",
      "  (error.line, error.msg))\n",
      "/Users/dagoret-campagnesylvie/anaconda/envs/pyastrophys/lib/python2.7/site-packages/astroquery/simbad/core.py:136: UserWarning: Warning: The script line number 3 raised an error (recorded in the `errors` attribute of the result table): Identifier not found in the database : NAME HZ43B with STIS observations\n",
      "  (error.line, error.msg))\n"
     ]
    },
    {
     "name": "stdout",
     "output_type": "stream",
     "text": [
      "--------------------- 93 )  HZ43 --------------- hz43_stis_004.fits\n",
      "MAIN_ID       RA           DEC      RA_PREC ... FLUX_V FLUX_R FLUX_I FLUX_J\n",
      "           \"h:m:s\"       \"d:m:s\"            ...  mag    mag    mag    mag  \n",
      "------- ------------- ------------- ------- ... ------ ------ ------ ------\n",
      "  HZ 43 13 16 21.8532 +29 05 55.379       9 ...  12.66     --     -- 10.373\n",
      "--------------------- 94 )  HZ43B --------------- hz43b_stis_002.fits\n",
      "MAIN_ID      RA          DEC      RA_PREC ... FLUX_V FLUX_R FLUX_I FLUX_J\n",
      "          \"h:m:s\"      \"d:m:s\"            ...  mag    mag    mag    mag  \n",
      "------- ------------ ------------ ------- ... ------ ------ ------ ------\n",
      " HZ 43B 13 16 21.630 +29 05 54.38       7 ...  12.66     --     -- 12.806\n",
      "--------------------- 95 )  HZ43B --------------- hz43b_stis_003.fits\n",
      "MAIN_ID      RA          DEC      RA_PREC ... FLUX_V FLUX_R FLUX_I FLUX_J\n",
      "          \"h:m:s\"      \"d:m:s\"            ...  mag    mag    mag    mag  \n",
      "------- ------------ ------------ ------- ... ------ ------ ------ ------\n",
      " HZ 43B 13 16 21.630 +29 05 54.38       7 ...  12.66     --     -- 12.806\n",
      "--------------------- 96 )  HZ43B --------------- hz43b_stis_004.fits\n",
      "MAIN_ID      RA          DEC      RA_PREC ... FLUX_V FLUX_R FLUX_I FLUX_J\n",
      "          \"h:m:s\"      \"d:m:s\"            ...  mag    mag    mag    mag  \n",
      "------- ------------ ------------ ------- ... ------ ------ ------ ------\n",
      " HZ 43B 13 16 21.630 +29 05 54.38       7 ...  12.66     --     -- 12.806\n",
      "--------------------- 97 )  HZ44 --------------- hz44_stis_002.fits\n",
      "MAIN_ID      RA          DEC      RA_PREC ... FLUX_V FLUX_R FLUX_I FLUX_J\n",
      "          \"h:m:s\"      \"d:m:s\"            ...  mag    mag    mag    mag  \n",
      "------- ------------ ------------ ------- ... ------ ------ ------ ------\n",
      "  HZ 44 13 23 35.264 +36 07 59.54       7 ...  11.65   12.0 11.995 12.386\n"
     ]
    },
    {
     "name": "stderr",
     "output_type": "stream",
     "text": [
      "/Users/dagoret-campagnesylvie/anaconda/envs/pyastrophys/lib/python2.7/site-packages/astroquery/simbad/core.py:136: UserWarning: Warning: The script line number 3 raised an error (recorded in the `errors` attribute of the result table): Identifier not found in the database : NAME HZ44 with STIS observations\n",
      "  (error.line, error.msg))\n",
      "/Users/dagoret-campagnesylvie/anaconda/envs/pyastrophys/lib/python2.7/site-packages/astroquery/simbad/core.py:136: UserWarning: Warning: The script line number 3 raised an error (recorded in the `errors` attribute of the result table): Identifier not found in the database : NAME HZ4 with STIS observations\n",
      "  (error.line, error.msg))\n"
     ]
    },
    {
     "name": "stdout",
     "output_type": "stream",
     "text": [
      "--------------------- 98 )  HZ44 --------------- hz44_stis_003.fits\n",
      "MAIN_ID      RA          DEC      RA_PREC ... FLUX_V FLUX_R FLUX_I FLUX_J\n",
      "          \"h:m:s\"      \"d:m:s\"            ...  mag    mag    mag    mag  \n",
      "------- ------------ ------------ ------- ... ------ ------ ------ ------\n",
      "  HZ 44 13 23 35.264 +36 07 59.54       7 ...  11.65   12.0 11.995 12.386\n",
      "--------------------- 99 )  HZ44 --------------- hz44_stis_004.fits\n",
      "MAIN_ID      RA          DEC      RA_PREC ... FLUX_V FLUX_R FLUX_I FLUX_J\n",
      "          \"h:m:s\"      \"d:m:s\"            ...  mag    mag    mag    mag  \n",
      "------- ------------ ------------ ------- ... ------ ------ ------ ------\n",
      "  HZ 44 13 23 35.264 +36 07 59.54       7 ...  11.65   12.0 11.995 12.386\n",
      "--------------------- 100 )  HZ4 --------------- hz4_stis_003.fits\n",
      "MAIN_ID      RA         DEC     RA_PREC DEC_PREC ... FLUX_V FLUX_R FLUX_I FLUX_J\n",
      "          \"h:m:s\"     \"d:m:s\"                    ...  mag    mag    mag    mag  \n",
      "------- ----------- ----------- ------- -------- ... ------ ------ ------ ------\n",
      "  HZ  4 03 55 21.99 +09 47 18.0       6        6 ... 14.506  14.58 14.642 14.831\n",
      "--------------------- 101 )  HZ4 --------------- hz4_stis_004.fits\n",
      "MAIN_ID      RA         DEC     RA_PREC DEC_PREC ... FLUX_V FLUX_R FLUX_I FLUX_J\n",
      "          \"h:m:s\"     \"d:m:s\"                    ...  mag    mag    mag    mag  \n",
      "------- ----------- ----------- ------- -------- ... ------ ------ ------ ------\n",
      "  HZ  4 03 55 21.99 +09 47 18.0       6        6 ... 14.506  14.58 14.642 14.831\n",
      "--------------------- 102 )  HZ4 --------------- hz4_stis_005.fits\n",
      "MAIN_ID      RA         DEC     RA_PREC DEC_PREC ... FLUX_V FLUX_R FLUX_I FLUX_J\n",
      "          \"h:m:s\"     \"d:m:s\"                    ...  mag    mag    mag    mag  \n",
      "------- ----------- ----------- ------- -------- ... ------ ------ ------ ------\n",
      "  HZ  4 03 55 21.99 +09 47 18.0       6        6 ... 14.506  14.58 14.642 14.831\n"
     ]
    },
    {
     "name": "stderr",
     "output_type": "stream",
     "text": [
      "/Users/dagoret-campagnesylvie/anaconda/envs/pyastrophys/lib/python2.7/site-packages/astroquery/simbad/core.py:136: UserWarning: Warning: The script line number 3 raised an error (recorded in the `errors` attribute of the result table): Identifier not found in the database : NAME KF01T5 with NICMOS observations\n",
      "  (error.line, error.msg))\n",
      "/Users/dagoret-campagnesylvie/anaconda/envs/pyastrophys/lib/python2.7/site-packages/astroquery/simbad/core.py:136: UserWarning: Warning: The script line number 3 raised an error (recorded in the `errors` attribute of the result table): Identifier not found in the database : NAME KF01T5\n",
      "  (error.line, error.msg))\n",
      "/Users/dagoret-campagnesylvie/anaconda/envs/pyastrophys/lib/python2.7/site-packages/astroquery/simbad/core.py:136: UserWarning: Warning: The script line number 3 raised an error (recorded in the `errors` attribute of the result table): Identifier not found in the database : NAME KF06T1 with NICMOS observations\n",
      "  (error.line, error.msg))\n",
      "/Users/dagoret-campagnesylvie/anaconda/envs/pyastrophys/lib/python2.7/site-packages/astroquery/simbad/core.py:136: UserWarning: Warning: The script line number 3 raised an error (recorded in the `errors` attribute of the result table): Identifier not found in the database : NAME KF06T1\n",
      "  (error.line, error.msg))\n",
      "/Users/dagoret-campagnesylvie/anaconda/envs/pyastrophys/lib/python2.7/site-packages/astroquery/simbad/core.py:136: UserWarning: Warning: The script line number 3 raised an error (recorded in the `errors` attribute of the result table): Identifier not found in the database : NAME KF06T2 with NICMOS observations\n",
      "  (error.line, error.msg))\n",
      "/Users/dagoret-campagnesylvie/anaconda/envs/pyastrophys/lib/python2.7/site-packages/astroquery/simbad/core.py:136: UserWarning: Warning: The script line number 3 raised an error (recorded in the `errors` attribute of the result table): Identifier not found in the database : NAME KF06T2\n",
      "  (error.line, error.msg))\n",
      "/Users/dagoret-campagnesylvie/anaconda/envs/pyastrophys/lib/python2.7/site-packages/astroquery/simbad/core.py:136: UserWarning: Warning: The script line number 3 raised an error (recorded in the `errors` attribute of the result table): Identifier not found in the database : NAME KF08T3 with NICMOS observations\n",
      "  (error.line, error.msg))\n",
      "/Users/dagoret-campagnesylvie/anaconda/envs/pyastrophys/lib/python2.7/site-packages/astroquery/simbad/core.py:136: UserWarning: Warning: The script line number 3 raised an error (recorded in the `errors` attribute of the result table): Identifier not found in the database : NAME KF08T3\n",
      "  (error.line, error.msg))\n",
      "/Users/dagoret-campagnesylvie/anaconda/envs/pyastrophys/lib/python2.7/site-packages/astroquery/simbad/core.py:136: UserWarning: Warning: The script line number 3 raised an error (recorded in the `errors` attribute of the result table): Identifier not found in the database : NAME KSI2CETI\n",
      "  (error.line, error.msg))\n",
      "/Users/dagoret-campagnesylvie/anaconda/envs/pyastrophys/lib/python2.7/site-packages/astroquery/simbad/core.py:136: UserWarning: Warning: The script line number 3 raised an error (recorded in the `errors` attribute of the result table): Identifier not found in the database : NAME LAMLEP\n",
      "  (error.line, error.msg))\n",
      "/Users/dagoret-campagnesylvie/anaconda/envs/pyastrophys/lib/python2.7/site-packages/astroquery/simbad/core.py:136: UserWarning: Warning: The script line number 3 raised an error (recorded in the `errors` attribute of the result table): 'Bohlin, R. C., & Koester, D. 2008, AJ, submitted': this identifier has an incorrect format for catalogs: \tB (GC): General Cat. Boss \tB (Batten): Batten \tB (BBB): Basinski, Bok, Bok \tB (Barnard): catalogue Barnard\n",
      "  (error.line, error.msg))\n",
      "/Users/dagoret-campagnesylvie/anaconda/envs/pyastrophys/lib/python2.7/site-packages/astroquery/simbad/core.py:136: UserWarning: Warning: The script line number 3 raised an error (recorded in the `errors` attribute of the result table): 'Bohlin, R. C., & Koester, D. 2008, AJ, 135, 1092': this identifier has an incorrect format for catalogs: \tB (GC): General Cat. Boss \tB (Batten): Batten \tB (BBB): Basinski, Bok, Bok \tB (Barnard): catalogue Barnard\n",
      "  (error.line, error.msg))\n",
      "/Users/dagoret-campagnesylvie/anaconda/envs/pyastrophys/lib/python2.7/site-packages/astroquery/simbad/core.py:136: UserWarning: Warning: The script line number 3 raised an error (recorded in the `errors` attribute of the result table): 'LDS749B with STIS observations': this identifier has an incorrect format for catalog: \t** : Double Star\n",
      "  (error.line, error.msg))\n",
      "/Users/dagoret-campagnesylvie/anaconda/envs/pyastrophys/lib/python2.7/site-packages/astroquery/simbad/core.py:136: UserWarning: Warning: The script line number 3 raised an error (recorded in the `errors` attribute of the result table): 'LDS749B with STIS & NICMOS observations': this identifier has an incorrect format for catalog: \t** : Double Star\n",
      "  (error.line, error.msg))\n"
     ]
    },
    {
     "name": "stdout",
     "output_type": "stream",
     "text": [
      "--------------------- 103 )  LDS749B --------------- lds749b_stisnic_004.fits\n",
      "MAIN_ID      RA         DEC     RA_PREC DEC_PREC ... FLUX_V FLUX_R FLUX_I FLUX_J\n",
      "          \"h:m:s\"     \"d:m:s\"                    ...  mag    mag    mag    mag  \n",
      "------- ----------- ----------- ------- -------- ... ------ ------ ------ ------\n",
      "LAWD 87 21 32 16.24 +00 15 14.4       6        6 ... 14.674 14.675 14.676 14.894\n",
      "--------------------- 104 )  LDS749B --------------- lds749b_stisnic_005.fits\n",
      "MAIN_ID      RA         DEC     RA_PREC DEC_PREC ... FLUX_V FLUX_R FLUX_I FLUX_J\n",
      "          \"h:m:s\"     \"d:m:s\"                    ...  mag    mag    mag    mag  \n",
      "------- ----------- ----------- ------- -------- ... ------ ------ ------ ------\n",
      "LAWD 87 21 32 16.24 +00 15 14.4       6        6 ... 14.674 14.675 14.676 14.894\n",
      "--------------------- 105 )  LDS749B --------------- lds749b_stisnic_006.fits\n",
      "MAIN_ID      RA         DEC     RA_PREC DEC_PREC ... FLUX_V FLUX_R FLUX_I FLUX_J\n",
      "          \"h:m:s\"     \"d:m:s\"                    ...  mag    mag    mag    mag  \n",
      "------- ----------- ----------- ------- -------- ... ------ ------ ------ ------\n",
      "LAWD 87 21 32 16.24 +00 15 14.4       6        6 ... 14.674 14.675 14.676 14.894\n"
     ]
    },
    {
     "name": "stderr",
     "output_type": "stream",
     "text": [
      "/Users/dagoret-campagnesylvie/anaconda/envs/pyastrophys/lib/python2.7/site-packages/astroquery/simbad/core.py:136: UserWarning: Warning: The script line number 3 raised an error (recorded in the `errors` attribute of the result table): Identifier not found in the database : NAME MUCOL\n",
      "  (error.line, error.msg))\n",
      "/Users/dagoret-campagnesylvie/anaconda/envs/pyastrophys/lib/python2.7/site-packages/astroquery/simbad/core.py:136: UserWarning: Warning: The script line number 3 raised an error (recorded in the `errors` attribute of the result table): Identifier not found in the database : NAME P041C with STIS observations\n",
      "  (error.line, error.msg))\n",
      "/Users/dagoret-campagnesylvie/anaconda/envs/pyastrophys/lib/python2.7/site-packages/astroquery/simbad/core.py:136: UserWarning: Warning: The script line number 3 raised an error (recorded in the `errors` attribute of the result table): 'P041C with STIS & NICMOS observations': No known catalog could be found\n",
      "  (error.line, error.msg))\n",
      "/Users/dagoret-campagnesylvie/anaconda/envs/pyastrophys/lib/python2.7/site-packages/astroquery/simbad/core.py:136: UserWarning: Warning: The script line number 3 raised an error (recorded in the `errors` attribute of the result table): Identifier not found in the database : NAME P 041C\n",
      "  (error.line, error.msg))\n",
      "/Users/dagoret-campagnesylvie/anaconda/envs/pyastrophys/lib/python2.7/site-packages/astroquery/simbad/core.py:136: UserWarning: Warning: The script line number 3 raised an error (recorded in the `errors` attribute of the result table): Identifier not found in the database : NAME P177D with STIS observations\n",
      "  (error.line, error.msg))\n",
      "/Users/dagoret-campagnesylvie/anaconda/envs/pyastrophys/lib/python2.7/site-packages/astroquery/simbad/core.py:136: UserWarning: Warning: The script line number 3 raised an error (recorded in the `errors` attribute of the result table): 'P177D with STIS & NICMOS observations': No known catalog could be found\n",
      "  (error.line, error.msg))\n",
      "/Users/dagoret-campagnesylvie/anaconda/envs/pyastrophys/lib/python2.7/site-packages/astroquery/simbad/core.py:136: UserWarning: Warning: The script line number 3 raised an error (recorded in the `errors` attribute of the result table): Identifier not found in the database : NAME P 177D\n",
      "  (error.line, error.msg))\n",
      "/Users/dagoret-campagnesylvie/anaconda/envs/pyastrophys/lib/python2.7/site-packages/astroquery/simbad/core.py:136: UserWarning: Warning: The script line number 3 raised an error (recorded in the `errors` attribute of the result table): Identifier not found in the database : NAME P330E with STIS observations\n",
      "  (error.line, error.msg))\n",
      "/Users/dagoret-campagnesylvie/anaconda/envs/pyastrophys/lib/python2.7/site-packages/astroquery/simbad/core.py:136: UserWarning: Warning: The script line number 3 raised an error (recorded in the `errors` attribute of the result table): 'P330E with STIS & NICMOS observations': No known catalog could be found\n",
      "  (error.line, error.msg))\n",
      "/Users/dagoret-campagnesylvie/anaconda/envs/pyastrophys/lib/python2.7/site-packages/astroquery/simbad/core.py:136: UserWarning: Warning: The script line number 3 raised an error (recorded in the `errors` attribute of the result table): Identifier not found in the database : NAME P 330E\n",
      "  (error.line, error.msg))\n",
      "/Users/dagoret-campagnesylvie/anaconda/envs/pyastrophys/lib/python2.7/site-packages/astroquery/simbad/core.py:136: UserWarning: Warning: The script line number 3 raised an error (recorded in the `errors` attribute of the result table): '0.0': No known catalog could be found\n",
      "  (error.line, error.msg))\n",
      "/Users/dagoret-campagnesylvie/anaconda/envs/pyastrophys/lib/python2.7/site-packages/astroquery/simbad/core.py:136: UserWarning: Warning: The script line number 3 raised an error (recorded in the `errors` attribute of the result table): 'SF1615+001A with STIS & NICMOS observations': No known catalog could be found\n",
      "  (error.line, error.msg))\n",
      "/Users/dagoret-campagnesylvie/anaconda/envs/pyastrophys/lib/python2.7/site-packages/astroquery/simbad/core.py:136: UserWarning: Warning: The script line number 3 raised an error (recorded in the `errors` attribute of the result table): Identifier not found in the database : NAME SF1615+001A\n",
      "  (error.line, error.msg))\n"
     ]
    },
    {
     "name": "stdout",
     "output_type": "stream",
     "text": [
      "--------------------- 106 )  SIRIUS --------------- sirius_stis_001.fits\n",
      " MAIN_ID        RA           DEC      RA_PREC ... FLUX_R   FLUX_I   FLUX_J\n",
      "             \"h:m:s\"       \"d:m:s\"            ...  mag      mag      mag  \n",
      "--------- ------------- ------------- ------- ... ------ ---------- ------\n",
      "* alf CMa 06 45 08.9172 -16 42 58.017       9 ...  -1.46 -1.4299999  -1.36\n",
      "--------------------- 107 )  SIRIUS --------------- sirius_stis_002.fits\n",
      " MAIN_ID        RA           DEC      RA_PREC ... FLUX_R   FLUX_I   FLUX_J\n",
      "             \"h:m:s\"       \"d:m:s\"            ...  mag      mag      mag  \n",
      "--------- ------------- ------------- ------- ... ------ ---------- ------\n",
      "* alf CMa 06 45 08.9172 -16 42 58.017       9 ...  -1.46 -1.4299999  -1.36\n"
     ]
    },
    {
     "name": "stderr",
     "output_type": "stream",
     "text": [
      "/Users/dagoret-campagnesylvie/anaconda/envs/pyastrophys/lib/python2.7/site-packages/astroquery/simbad/core.py:136: UserWarning: Warning: The script line number 3 raised an error (recorded in the `errors` attribute of the result table): 'SNAP-1 with STIS & NICMOS observations': No known catalog could be found\n",
      "  (error.line, error.msg))\n",
      "/Users/dagoret-campagnesylvie/anaconda/envs/pyastrophys/lib/python2.7/site-packages/astroquery/simbad/core.py:136: UserWarning: Warning: The script line number 3 raised an error (recorded in the `errors` attribute of the result table): Identifier not found in the database : NAME SNAP-1\n",
      "  (error.line, error.msg))\n",
      "/Users/dagoret-campagnesylvie/anaconda/envs/pyastrophys/lib/python2.7/site-packages/astroquery/simbad/core.py:136: UserWarning: Warning: The script line number 3 raised an error (recorded in the `errors` attribute of the result table): 'SNAP-2 with STIS & NICMOS observations': No known catalog could be found\n",
      "  (error.line, error.msg))\n",
      "/Users/dagoret-campagnesylvie/anaconda/envs/pyastrophys/lib/python2.7/site-packages/astroquery/simbad/core.py:136: UserWarning: Warning: The script line number 3 raised an error (recorded in the `errors` attribute of the result table): Identifier not found in the database : NAME SNAP-2\n",
      "  (error.line, error.msg))\n",
      "/Users/dagoret-campagnesylvie/anaconda/envs/pyastrophys/lib/python2.7/site-packages/astroquery/simbad/core.py:136: UserWarning: Warning: The script line number 3 raised an error (recorded in the `errors` attribute of the result table): 'Sun with 2.5 to 2.7 micron extension': No known catalog could be found\n",
      "  (error.line, error.msg))\n",
      "/Users/dagoret-campagnesylvie/anaconda/envs/pyastrophys/lib/python2.7/site-packages/astroquery/simbad/core.py:136: UserWarning: Warning: The script line number 3 raised an error (recorded in the `errors` attribute of the result table): 'Sun with 2.5 to 2.7 micron extension-------------------------------': No known catalog could be found\n",
      "  (error.line, error.msg))\n",
      "/Users/dagoret-campagnesylvie/anaconda/envs/pyastrophys/lib/python2.7/site-packages/astroquery/simbad/core.py:136: UserWarning: Warning: The script line number 3 raised an error (recorded in the `errors` attribute of the result table): 'VB8 with STIS & NICMOS observations': this identifier has an incorrect format for catalog: \tVB : catalogue VB\n",
      "  (error.line, error.msg))\n",
      "/Users/dagoret-campagnesylvie/anaconda/envs/pyastrophys/lib/python2.7/site-packages/astroquery/simbad/core.py:136: UserWarning: Warning: The script line number 3 raised an error (recorded in the `errors` attribute of the result table): Identifier not found in the database : NAME Koester He Model\n",
      "  (error.line, error.msg))\n"
     ]
    },
    {
     "name": "stdout",
     "output_type": "stream",
     "text": [
      "--------------------- 108 )  VB8 --------------- vb8_stisnic_004.fits\n",
      " MAIN_ID        RA          DEC      RA_PREC ... FLUX_V FLUX_R FLUX_I FLUX_J\n",
      "             \"h:m:s\"      \"d:m:s\"            ...  mag    mag    mag    mag  \n",
      "---------- ------------ ------------ ------- ... ------ ------ ------ ------\n",
      "GJ   644 C 16 55 35.293 -08 23 40.11       7 ... 16.916 14.566  12.24  9.776\n",
      "--------------------- 109 )  VB8 --------------- vb8_stisnic_005.fits\n",
      " MAIN_ID        RA          DEC      RA_PREC ... FLUX_V FLUX_R FLUX_I FLUX_J\n",
      "             \"h:m:s\"      \"d:m:s\"            ...  mag    mag    mag    mag  \n",
      "---------- ------------ ------------ ------- ... ------ ------ ------ ------\n",
      "GJ   644 C 16 55 35.293 -08 23 40.11       7 ... 16.916 14.566  12.24  9.776\n",
      "--------------------- 110 )  VB8 --------------- vb8_stisnic_006.fits\n",
      " MAIN_ID        RA          DEC      RA_PREC ... FLUX_V FLUX_R FLUX_I FLUX_J\n",
      "             \"h:m:s\"      \"d:m:s\"            ...  mag    mag    mag    mag  \n",
      "---------- ------------ ------------ ------- ... ------ ------ ------ ------\n",
      "GJ   644 C 16 55 35.293 -08 23 40.11       7 ... 16.916 14.566  12.24  9.776\n",
      "--------------------- 111 )  WD0308-565 --------------- wd0308_565_stis_002.fits\n",
      "MAIN_ID      RA         DEC     RA_PREC DEC_PREC ... FLUX_V FLUX_R FLUX_I FLUX_J\n",
      "          \"h:m:s\"     \"d:m:s\"                    ...  mag    mag    mag    mag  \n",
      "------- ----------- ----------- ------- -------- ... ------ ------ ------ ------\n",
      " WG   7 03 09 47.91 -56 23 49.5       6        6 ...  14.14  14.42     -- 14.598\n",
      "--------------------- 112 )  WD0308-565 --------------- wd0308_565_stis_003.fits\n"
     ]
    },
    {
     "name": "stderr",
     "output_type": "stream",
     "text": [
      "/Users/dagoret-campagnesylvie/anaconda/envs/pyastrophys/lib/python2.7/site-packages/astroquery/simbad/core.py:136: UserWarning: Warning: The script line number 3 raised an error (recorded in the `errors` attribute of the result table): Identifier not found in the database : NAME Standard star flux with STIS observations--------------------------\n",
      "  (error.line, error.msg))\n",
      "/Users/dagoret-campagnesylvie/anaconda/envs/pyastrophys/lib/python2.7/site-packages/astroquery/simbad/core.py:136: UserWarning: Warning: The script line number 3 raised an error (recorded in the `errors` attribute of the result table): Identifier not found in the database : NAME WD0320-539 with STIS observations\n",
      "  (error.line, error.msg))\n"
     ]
    },
    {
     "name": "stdout",
     "output_type": "stream",
     "text": [
      "MAIN_ID      RA         DEC     RA_PREC DEC_PREC ... FLUX_V FLUX_R FLUX_I FLUX_J\n",
      "          \"h:m:s\"     \"d:m:s\"                    ...  mag    mag    mag    mag  \n",
      "------- ----------- ----------- ------- -------- ... ------ ------ ------ ------\n",
      " WG   7 03 09 47.91 -56 23 49.5       6        6 ...  14.14  14.42     -- 14.598\n",
      "--------------------- 113 )  WD0308-565 --------------- wd0308_565_stis_004.fits\n",
      "MAIN_ID      RA         DEC     RA_PREC DEC_PREC ... FLUX_V FLUX_R FLUX_I FLUX_J\n",
      "          \"h:m:s\"     \"d:m:s\"                    ...  mag    mag    mag    mag  \n",
      "------- ----------- ----------- ------- -------- ... ------ ------ ------ ------\n",
      " WG   7 03 09 47.91 -56 23 49.5       6        6 ...  14.14  14.42     -- 14.598\n",
      "--------------------- 114 )  WD0320-539 --------------- wd0320_539_stis_002.fits\n",
      "MAIN_ID       RA         DEC     RA_PREC ... FLUX_V FLUX_R FLUX_I FLUX_J\n",
      "           \"h:m:s\"     \"d:m:s\"           ...  mag    mag    mag    mag  \n",
      "-------- ----------- ----------- ------- ... ------ ------ ------ ------\n",
      "LB  1663 03 22 14.83 -53 45 16.5       6 ...   14.9  15.51  15.21  15.61\n",
      "--------------------- 115 )  WD0320-539 --------------- wd0320_539_stis_003.fits\n",
      "MAIN_ID       RA         DEC     RA_PREC ... FLUX_V FLUX_R FLUX_I FLUX_J\n",
      "           \"h:m:s\"     \"d:m:s\"           ...  mag    mag    mag    mag  \n",
      "-------- ----------- ----------- ------- ... ------ ------ ------ ------\n",
      "LB  1663 03 22 14.83 -53 45 16.5       6 ...   14.9  15.51  15.21  15.61\n",
      "--------------------- 116 )  WD0320-539 --------------- wd0320_539_stis_004.fits\n",
      "MAIN_ID       RA         DEC     RA_PREC ... FLUX_V FLUX_R FLUX_I FLUX_J\n",
      "           \"h:m:s\"     \"d:m:s\"           ...  mag    mag    mag    mag  \n",
      "-------- ----------- ----------- ------- ... ------ ------ ------ ------\n",
      "LB  1663 03 22 14.83 -53 45 16.5       6 ...   14.9  15.51  15.21  15.61\n"
     ]
    },
    {
     "name": "stderr",
     "output_type": "stream",
     "text": [
      "/Users/dagoret-campagnesylvie/anaconda/envs/pyastrophys/lib/python2.7/site-packages/astroquery/simbad/core.py:136: UserWarning: Warning: The script line number 3 raised an error (recorded in the `errors` attribute of the result table): Identifier not found in the database : NAME WD0947 857 with STIS observations\n",
      "  (error.line, error.msg))\n",
      "/Users/dagoret-campagnesylvie/anaconda/envs/pyastrophys/lib/python2.7/site-packages/astroquery/simbad/core.py:136: UserWarning: Warning: The script line number 3 raised an error (recorded in the `errors` attribute of the result table): Identifier not found in the database : NAME WD0947 857\n",
      "  (error.line, error.msg))\n",
      "/Users/dagoret-campagnesylvie/anaconda/envs/pyastrophys/lib/python2.7/site-packages/astroquery/simbad/core.py:136: UserWarning: Warning: The script line number 3 raised an error (recorded in the `errors` attribute of the result table): Identifier not found in the database : NAME WD1026 453 with STIS observations\n",
      "  (error.line, error.msg))\n",
      "/Users/dagoret-campagnesylvie/anaconda/envs/pyastrophys/lib/python2.7/site-packages/astroquery/simbad/core.py:136: UserWarning: Warning: The script line number 3 raised an error (recorded in the `errors` attribute of the result table): Identifier not found in the database : NAME WD1026 453\n",
      "  (error.line, error.msg))\n",
      "/Users/dagoret-campagnesylvie/anaconda/envs/pyastrophys/lib/python2.7/site-packages/astroquery/simbad/core.py:136: UserWarning: Warning: The script line number 3 raised an error (recorded in the `errors` attribute of the result table): 'Hubeny TLusty203: PURE HYDROGEN NLTE MODEL': this identifier has an incorrect format for catalogs: \tH : catalogue H \tH (\n",
      "  (error.line, error.msg))\n",
      "/Users/dagoret-campagnesylvie/anaconda/envs/pyastrophys/lib/python2.7/site-packages/astroquery/simbad/core.py:136: UserWarning: Warning: The script line number 3 raised an error (recorded in the `errors` attribute of the result table): 'WD1057+719 with STIS & NICMOS observations': this identifier has an incorrect format for catalogs: \tWD (\n",
      "  (error.line, error.msg))\n",
      "/Users/dagoret-campagnesylvie/anaconda/envs/pyastrophys/lib/python2.7/site-packages/astroquery/simbad/core.py:136: UserWarning: Warning: The script line number 3 raised an error (recorded in the `errors` attribute of the result table): 'WD1657+343 with STIS & NICMOS observations': this identifier has an incorrect format for catalogs: \tWD (\n",
      "  (error.line, error.msg))\n"
     ]
    },
    {
     "name": "stdout",
     "output_type": "stream",
     "text": [
      "--------------------- 117 )  WD1057+719 --------------- wd1057_719_stisnic_004.fits\n",
      "  MAIN_ID        RA         DEC     RA_PREC ... FLUX_V FLUX_R FLUX_I FLUX_J\n",
      "              \"h:m:s\"     \"d:m:s\"           ...  mag    mag    mag    mag  \n",
      "----------- ----------- ----------- ------- ... ------ ------ ------ ------\n",
      "PG 1057+719 11 00 34.24 +71 38 02.9       6 ...  14.68  15.23     -- 15.472\n",
      "--------------------- 118 )  WD1057+719 --------------- wd1057_719_stisnic_005.fits\n",
      "  MAIN_ID        RA         DEC     RA_PREC ... FLUX_V FLUX_R FLUX_I FLUX_J\n",
      "              \"h:m:s\"     \"d:m:s\"           ...  mag    mag    mag    mag  \n",
      "----------- ----------- ----------- ------- ... ------ ------ ------ ------\n",
      "PG 1057+719 11 00 34.24 +71 38 02.9       6 ...  14.68  15.23     -- 15.472\n",
      "--------------------- 119 )  WD1057+719 --------------- wd1057_719_stisnic_006.fits\n",
      "  MAIN_ID        RA         DEC     RA_PREC ... FLUX_V FLUX_R FLUX_I FLUX_J\n",
      "              \"h:m:s\"     \"d:m:s\"           ...  mag    mag    mag    mag  \n",
      "----------- ----------- ----------- ------- ... ------ ------ ------ ------\n",
      "PG 1057+719 11 00 34.24 +71 38 02.9       6 ...  14.68  15.23     -- 15.472\n",
      "--------------------- 120 )  WD1657+343 --------------- wd1657_343_stisnic_004.fits\n",
      "  MAIN_ID         RA           DEC      RA_PREC ... FLUX_V FLUX_R FLUX_I FLUX_J\n",
      "               \"h:m:s\"       \"d:m:s\"            ...  mag    mag    mag    mag  \n",
      "----------- ------------- ------------- ------- ... ------ ------ ------ ------\n",
      "PG 1657+344 16 58 51.1202 +34 18 53.293       8 ...     --     --     --     --\n",
      "--------------------- 121 )  WD1657+343 --------------- wd1657_343_stisnic_005.fits\n",
      "  MAIN_ID         RA           DEC      RA_PREC ... FLUX_V FLUX_R FLUX_I FLUX_J\n",
      "               \"h:m:s\"       \"d:m:s\"            ...  mag    mag    mag    mag  \n",
      "----------- ------------- ------------- ------- ... ------ ------ ------ ------\n",
      "PG 1657+344 16 58 51.1202 +34 18 53.293       8 ...     --     --     --     --\n",
      "--------------------- 122 )  WD1657+343 --------------- wd1657_343_stisnic_006.fits\n",
      "  MAIN_ID         RA           DEC      RA_PREC ... FLUX_V FLUX_R FLUX_I FLUX_J\n",
      "               \"h:m:s\"       \"d:m:s\"            ...  mag    mag    mag    mag  \n",
      "----------- ------------- ------------- ------- ... ------ ------ ------ ------\n",
      "PG 1657+344 16 58 51.1202 +34 18 53.293       8 ...     --     --     --     --\n"
     ]
    },
    {
     "name": "stderr",
     "output_type": "stream",
     "text": [
      "/Users/dagoret-campagnesylvie/anaconda/envs/pyastrophys/lib/python2.7/site-packages/astroquery/simbad/core.py:136: UserWarning: Warning: The script line number 3 raised an error (recorded in the `errors` attribute of the result table): 'WDcovar.fits': this identifier has an incorrect format for catalogs: \tWD (\n",
      "  (error.line, error.msg))\n"
     ]
    }
   ],
   "source": [
    "All_CALSPEC_Stars_InSimbad = {} #dictionnary of stars recognized inside Simbad\n",
    "count = 0\n",
    "index = 0\n",
    "for name in star_names: # loop on star names from Pysynphot-CALSPEC\n",
    "    \n",
    "    result_table = customSimbad.query_object(name)   # Ask Simbad, Simbad does what it can with name\n",
    "    if result_table != None:                   #check if Simbad has found the star\n",
    "        count+=1\n",
    "        filen=star_file_calspec[index]\n",
    "        print \"---------------------\",count,') ',name,'---------------',filen\n",
    "        print result_table\n",
    "        # create an object with the found star\n",
    "        #----------------------------------------\n",
    "        newstar=CalibSpecStarSmb(name,result_table[\"MAIN_ID\"][0],result_table[\"RA\"][0],result_table[\"DEC\"][0],result_table[\"FLUX_U\"][0],result_table[\"FLUX_B\"][0],result_table[\"FLUX_V\"][0],result_table[\"FLUX_R\"][0],result_table[\"FLUX_I\"][0],result_table[\"FLUX_J\"][0],filen)\n",
    "        # fill the dictionnary only if there is no instance of that star already in dictionnary\n",
    "        if not newstar.getName() in All_CALSPEC_Stars_InSimbad.keys():\n",
    "            All_CALSPEC_Stars_InSimbad[newstar.getName()]= newstar # fill the directionary with the new star- object\n",
    "    index+=1\n",
    "            "
   ]
  },
  {
   "cell_type": "code",
   "execution_count": 62,
   "metadata": {
    "collapsed": false,
    "deletable": true,
    "editable": true,
    "slideshow": {
     "slide_type": "subslide"
    }
   },
   "outputs": [
    {
     "name": "stdout",
     "output_type": "stream",
     "text": [
      " Number of CALSPEC stars recognised by Simbad :  41\n"
     ]
    }
   ],
   "source": [
    "print \" Number of CALSPEC stars recognised by Simbad : \",len(All_CALSPEC_Stars_InSimbad)"
   ]
  },
  {
   "cell_type": "markdown",
   "metadata": {
    "deletable": true,
    "editable": true
   },
   "source": [
    "### shows list of CALSPEC stars from SimBad"
   ]
  },
  {
   "cell_type": "code",
   "execution_count": 63,
   "metadata": {
    "collapsed": false,
    "deletable": true,
    "editable": true,
    "slideshow": {
     "slide_type": "subslide"
    }
   },
   "outputs": [
    {
     "name": "stdout",
     "output_type": "stream",
     "text": [
      "['10LAC', 'HD205905', 'HD14943', 'HD37725', 'HD160617', 'FEIGE34', 'HD159222', 'HZ43', 'HZ44', 'HZ21', 'WD1057+719', 'HZ4', 'FEIGE110', 'HD031128', 'GD71', 'HD209458', 'SIRIUS', 'WD0320-539', 'HD111980', 'HD009051', 'HD60753', 'LDS749B', 'HD180609', 'HD158485', 'HD37962', 'HD163466', 'HD185975', 'G191B2B', 'HD116405', 'ALPHA_LYR', 'HD200654', 'HZ43B', 'WD1657+343', 'HD165459', 'HD93521', 'GD153', 'WD0308-565', 'HD38949', 'VB8', 'HD106252', 'HD074000']\n"
     ]
    }
   ],
   "source": [
    "print All_CALSPEC_Stars_InSimbad.keys()"
   ]
  },
  {
   "cell_type": "markdown",
   "metadata": {
    "deletable": true,
    "editable": true,
    "slideshow": {
     "slide_type": "slide"
    }
   },
   "source": [
    "## From SkyCoord, also get the coordinates of the star\n",
    "\n",
    "We can check if SkyCoord also find the CALSPEC star recognized by Simbad"
   ]
  },
  {
   "cell_type": "code",
   "execution_count": 64,
   "metadata": {
    "collapsed": false,
    "deletable": true,
    "editable": true
   },
   "outputs": [],
   "source": [
    "All_CALSPEC_Stars_InSkyCoord = {} #dictionnary of stars\n",
    "for starnam in All_CALSPEC_Stars_InSimbad.keys():\n",
    "    starloc=astropy.coordinates.SkyCoord.from_name(starnam)\n",
    "    file=All_CALSPEC_Stars_InSimbad[starnam].getCalspecFile()\n",
    "    newstar=CalibSpecStarSkc(starnam,starloc.ra.deg,starloc.dec.deg,file)\n",
    "    All_CALSPEC_Stars_InSkyCoord [starnam] = newstar"
   ]
  },
  {
   "cell_type": "code",
   "execution_count": 65,
   "metadata": {
    "collapsed": false,
    "deletable": true,
    "editable": true
   },
   "outputs": [
    {
     "name": "stdout",
     "output_type": "stream",
     "text": [
      " Number of CALSPEC stars recognised by SkyCoord :  41\n"
     ]
    }
   ],
   "source": [
    "print \" Number of CALSPEC stars recognised by SkyCoord : \",len(All_CALSPEC_Stars_InSkyCoord)"
   ]
  },
  {
   "cell_type": "code",
   "execution_count": 66,
   "metadata": {
    "collapsed": false,
    "deletable": true,
    "editable": true
   },
   "outputs": [
    {
     "name": "stdout",
     "output_type": "stream",
     "text": [
      "['10LAC', 'HD205905', 'WD0320-539', 'HD37725', 'HD160617', 'FEIGE34', 'HD159222', 'HZ43', 'HZ44', 'HZ21', 'WD1057+719', 'HZ4', 'FEIGE110', 'HD031128', 'GD71', 'HD209458', 'SIRIUS', 'ALPHA_LYR', 'HD111980', 'HD009051', 'HD60753', 'LDS749B', 'HD180609', 'HD158485', 'HD37962', 'HD163466', 'HD185975', 'G191B2B', 'HD116405', 'HD14943', 'HD200654', 'HZ43B', 'WD1657+343', 'HD165459', 'HD93521', 'GD153', 'WD0308-565', 'HD38949', 'VB8', 'HD106252', 'HD074000']\n"
     ]
    }
   ],
   "source": [
    "print All_CALSPEC_Stars_InSkyCoord.keys()"
   ]
  },
  {
   "cell_type": "code",
   "execution_count": 67,
   "metadata": {
    "collapsed": false,
    "deletable": true,
    "editable": true,
    "slideshow": {
     "slide_type": "subslide"
    }
   },
   "outputs": [
    {
     "name": "stdout",
     "output_type": "stream",
     "text": [
      "name 10LAC  ::  <SkyCoord (ICRS): (ra, dec) in deg\n",
      "    ( 339.81532766,  39.05026977)>   10lac_stis_001.fits\n",
      "None\n",
      "name HD205905  ::  <SkyCoord (ICRS): (ra, dec) in deg\n",
      "    ( 324.79229796, -27.30657448)>   hd205905_stis_001.fits\n",
      "None\n",
      "name WD0320-539  ::  <SkyCoord (ICRS): (ra, dec) in deg\n",
      "    ( 50.561792, -53.754583)>   wd0320_539_stis_002.fits\n",
      "None\n",
      "name HD37725  ::  <SkyCoord (ICRS): (ra, dec) in deg\n",
      "    ( 85.47654458,  29.29747917)>   hd37725_stis_001.fits\n",
      "None\n",
      "name HD160617  ::  <SkyCoord (ICRS): (ra, dec) in deg\n",
      "    ( 265.70551677, -40.32097928)>   hd160617_stis_001.fits\n",
      "None\n",
      "name FEIGE34  ::  <SkyCoord (ICRS): (ra, dec) in deg\n",
      "    ( 159.90308495,  43.10257086)>   feige34_stis_002.fits\n",
      "None\n",
      "name HD159222  ::  <SkyCoord (ICRS): (ra, dec) in deg\n",
      "    ( 263.00413544,  34.27114733)>   hd159222_stis_001.fits\n",
      "None\n",
      "name HZ43  ::  <SkyCoord (ICRS): (ra, dec) in deg\n",
      "    ( 199.0910417,  29.0987222)>   hz43_stis_002.fits\n",
      "None\n",
      "name HZ44  ::  <SkyCoord (ICRS): (ra, dec) in deg\n",
      "    ( 200.8969333,  36.1332056)>   hz44_stis_002.fits\n",
      "None\n",
      "name HZ21  ::  <SkyCoord (ICRS): (ra, dec) in deg\n",
      "    ( 183.484295,  32.9420947)>   hz21_stis_002.fits\n",
      "None\n",
      "name WD1057+719  ::  <SkyCoord (ICRS): (ra, dec) in deg\n",
      "    ( 165.1447937,  71.6344664)>   wd1057_719_stisnic_004.fits\n",
      "None\n",
      "name HZ4  ::  <SkyCoord (ICRS): (ra, dec) in deg\n",
      "    ( 58.841625,  9.788333)>   hz4_stis_003.fits\n",
      "None\n",
      "name FEIGE110  ::  <SkyCoord (ICRS): (ra, dec) in deg\n",
      "    ( 349.99332557, -5.16560011)>   feige110_stisnic_004.fits\n",
      "None\n",
      "name HD031128  ::  <SkyCoord (ICRS): (ra, dec) in deg\n",
      "    ( 73.04129219, -27.06415293)>   hd031128_stis_001.fits\n",
      "None\n",
      "name GD71  ::  <SkyCoord (ICRS): (ra, dec) in deg\n",
      "    ( 88.1150583,  15.8871528)>   gd71_stisnic_004.fits\n",
      "None\n",
      "name HD209458  ::  <SkyCoord (ICRS): (ra, dec) in deg\n",
      "    ( 330.79488361,  18.88431749)>   hd209458_stisnic_004.fits\n",
      "None\n",
      "name SIRIUS  ::  <SkyCoord (ICRS): (ra, dec) in deg\n",
      "    ( 101.2885408, -16.7131428)>   sirius_stis_001.fits\n",
      "None\n",
      "name ALPHA_LYR  ::  <SkyCoord (ICRS): (ra, dec) in deg\n",
      "    ( 279.2321017,  38.782316)>   alpha_lyr_stis_006.fits\n",
      "None\n",
      "name HD111980  ::  <SkyCoord (ICRS): (ra, dec) in deg\n",
      "    ( 193.31272205, -18.5222221)>   hd111980_stis_001.fits\n",
      "None\n",
      "name HD009051  ::  <SkyCoord (ICRS): (ra, dec) in deg\n",
      "    ( 22.19375857, -24.340401)>   hd009051_stis_001.fits\n",
      "None\n",
      "name HD60753  ::  <SkyCoord (ICRS): (ra, dec) in deg\n",
      "    ( 113.36382631, -50.58425502)>   hd60753_stis_001.fits\n",
      "None\n",
      "name LDS749B  ::  <SkyCoord (ICRS): (ra, dec) in deg\n",
      "    ( 323.067667,  0.254)>   lds749b_stisnic_004.fits\n",
      "None\n",
      "name HD180609  ::  <SkyCoord (ICRS): (ra, dec) in deg\n",
      "    ( 288.19666338,  64.17699441)>   hd180609_stis_001.fits\n",
      "None\n",
      "name HD158485  ::  <SkyCoord (ICRS): (ra, dec) in deg\n",
      "    ( 261.5199333,  58.6519306)>   hd158485_stis_001.fits\n",
      "None\n",
      "name HD37962  ::  <SkyCoord (ICRS): (ra, dec) in deg\n",
      "    ( 85.21652848, -31.35110766)>   hd37962_stis_001.fits\n",
      "None\n",
      "name HD163466  ::  <SkyCoord (ICRS): (ra, dec) in deg\n",
      "    ( 268.10572628,  60.39637404)>   hd163466_stis_001.fits\n",
      "None\n",
      "name HD185975  ::  <SkyCoord (ICRS): (ra, dec) in deg\n",
      "    ( 307.07803503, -87.47220604)>   hd185975_stis_001.fits\n",
      "None\n",
      "name G191B2B  ::  <SkyCoord (ICRS): (ra, dec) in deg\n",
      "    ( 76.37755349,  52.83109879)>   g191b2b_stisnic_004.fits\n",
      "None\n",
      "name HD116405  ::  <SkyCoord (ICRS): (ra, dec) in deg\n",
      "    ( 200.6878915,  44.7149234)>   hd116405_stis_001.fits\n",
      "None\n",
      "name HD14943  ::  <SkyCoord (ICRS): (ra, dec) in deg\n",
      "    ( 35.72781204, -51.09212928)>   hd14943_stis_001.fits\n",
      "None\n",
      "name HD200654  ::  <SkyCoord (ICRS): (ra, dec) in deg\n",
      "    ( 316.64479106, -49.96396598)>   hd200654_stis_001.fits\n",
      "None\n",
      "name HZ43B  ::  <SkyCoord (ICRS): (ra, dec) in deg\n",
      "    ( 199.090125,  29.0984389)>   hz43b_stis_002.fits\n",
      "None\n",
      "name WD1657+343  ::  <SkyCoord (ICRS): (ra, dec) in deg\n",
      "    ( 254.7129799,  34.3148042)>   wd1657_343_stisnic_004.fits\n",
      "None\n",
      "name HD165459  ::  <SkyCoord (ICRS): (ra, dec) in deg\n",
      "    ( 270.62808549,  58.62726654)>   hd165459_stisnic_001.fits\n",
      "None\n",
      "name HD93521  ::  <SkyCoord (ICRS): (ra, dec) in deg\n",
      "    ( 162.09796404,  37.5703034)>   hd93521_stis_002.fits\n",
      "None\n",
      "name GD153  ::  <SkyCoord (ICRS): (ra, dec) in deg\n",
      "    ( 194.2597375,  22.0313)>   gd153_stisnic_004.fits\n",
      "None\n",
      "name WD0308-565  ::  <SkyCoord (ICRS): (ra, dec) in deg\n",
      "    ( 47.449625, -56.397083)>   wd0308_565_stis_002.fits\n",
      "None\n",
      "name HD38949  ::  <SkyCoord (ICRS): (ra, dec) in deg\n",
      "    ( 87.08357786, -24.46385045)>   hd38949_stis_001.fits\n",
      "None\n",
      "name VB8  ::  <SkyCoord (ICRS): (ra, dec) in deg\n",
      "    ( 253.8970542, -8.394475)>   vb8_stisnic_004.fits\n",
      "None\n",
      "name HD106252  ::  <SkyCoord (ICRS): (ra, dec) in deg\n",
      "    ( 183.3729123,  10.041515)>   hd106252_stis_001.fits\n",
      "None\n",
      "name HD074000  ::  <SkyCoord (ICRS): (ra, dec) in deg\n",
      "    ( 130.21168191, -16.34514452)>   hd074000_stis_001.fits\n",
      "None\n"
     ]
    }
   ],
   "source": [
    "for key, starobj in All_CALSPEC_Stars_InSkyCoord.iteritems():\n",
    "    print starobj.show()"
   ]
  },
  {
   "cell_type": "markdown",
   "metadata": {
    "deletable": true,
    "editable": true,
    "slideshow": {
     "slide_type": "slide"
    }
   },
   "source": [
    "# Observation Definition\n",
    "\n",
    "\n",
    "- We must adapt the observation site and date here\n",
    "- Location with SkyCoord : obs_site\n",
    "- Local time : obs_date_time\n",
    "- UTC offset of the local fuseau horaire\n",
    "- Sideral time : obs_date_sidtime\n",
    "\n",
    "\n",
    "I started by computring with UTC offset, but it would be better to do with sidereal time."
   ]
  },
  {
   "cell_type": "markdown",
   "metadata": {},
   "source": [
    "## Choose CTIO observation site here\n",
    "\n",
    "Choose the observation site here"
   ]
  },
  {
   "cell_type": "code",
   "execution_count": 68,
   "metadata": {
    "collapsed": true,
    "deletable": true,
    "editable": true
   },
   "outputs": [],
   "source": [
    "obs_site=CTIO_OBS_loc\n",
    "obs_date_time=Time(CTIO_OBS_time)\n",
    "obs_utc_offset=CTIO_UTC_OFFSET"
   ]
  },
  {
   "cell_type": "code",
   "execution_count": 76,
   "metadata": {
    "collapsed": true
   },
   "outputs": [],
   "source": [
    "obs_date_sidtime=obs_date_time.sidereal_time('mean',longitude=obs_site.to_geodetic()[0])"
   ]
  },
  {
   "cell_type": "code",
   "execution_count": null,
   "metadata": {
    "collapsed": false,
    "deletable": true,
    "editable": true
   },
   "outputs": [],
   "source": [
    "#obs_site=WORK_OBS_loc\n",
    "#obs_date_time=Time(WORK_OBS_time)\n",
    "#obs_utc_offset=WORK_UTC_OFFSET"
   ]
  },
  {
   "cell_type": "code",
   "execution_count": 84,
   "metadata": {
    "collapsed": false,
    "deletable": true,
    "editable": true
   },
   "outputs": [
    {
     "name": "stdout",
     "output_type": "stream",
     "text": [
      "*********************************************************************** \n",
      "* \t obs site    ::  (<Longitude -70.815 deg>, <Latitude -30.165277777777778 deg>, <Quantity 2214.9999999993697 m>)\n",
      "* \t obs time    ::  2017-06-01 00:00:00\n",
      "* \t obs UTC off ::  -4\n",
      "* \t Local Sideral Time ::  11h55m25.7511s\n",
      "*********************************************************************** \n"
     ]
    }
   ],
   "source": [
    "print \"*********************************************************************** \"\n",
    "print \"* \\t obs site    :: \", obs_site.to_geodetic()\n",
    "print \"* \\t obs time    :: \", obs_date_time\n",
    "print \"* \\t obs UTC off :: \", obs_utc_offset\n",
    "print \"* \\t Local Sideral Time :: \",obs_date_sidtime\n",
    "print \"*********************************************************************** \"\n"
   ]
  },
  {
   "cell_type": "markdown",
   "metadata": {
    "deletable": true,
    "editable": true,
    "slideshow": {
     "slide_type": "slide"
    }
   },
   "source": [
    "# Show Star Elevation in Sky"
   ]
  },
  {
   "cell_type": "code",
   "execution_count": 78,
   "metadata": {
    "collapsed": true,
    "deletable": true,
    "editable": true
   },
   "outputs": [],
   "source": [
    "utcoffset=obs_utc_offset*u.hour\n",
    "midnight = obs_date_time - utcoffset\n",
    "delta_midnight = np.linspace(-12, 12, 1000)*u.hour"
   ]
  },
  {
   "cell_type": "code",
   "execution_count": 79,
   "metadata": {
    "collapsed": false,
    "deletable": true,
    "editable": true
   },
   "outputs": [],
   "source": [
    "all_times_ofthenight = midnight + delta_midnight\n",
    "frame_all_times_offthenight = AltAz(obstime=all_times_ofthenight, location=obs_site)\n",
    "sunaltazs_ofthenight = get_sun(all_times_ofthenight).transform_to(frame_all_times_offthenight)\n",
    "moonaltazs_ofthenight = get_moon(all_times_ofthenight).transform_to(frame_all_times_offthenight)"
   ]
  },
  {
   "cell_type": "code",
   "execution_count": 80,
   "metadata": {
    "collapsed": true,
    "deletable": true,
    "editable": true
   },
   "outputs": [],
   "source": [
    "selected_star_forObs = []\n",
    "selected_star_forObs_Filename = []"
   ]
  },
  {
   "cell_type": "code",
   "execution_count": 81,
   "metadata": {
    "collapsed": false,
    "deletable": true,
    "editable": true
   },
   "outputs": [
    {
     "name": "stdout",
     "output_type": "stream",
     "text": [
      "star ::  HD160617 alt= 79d50m22.7699s azim =  [u'179d40m29.84s'] delta_time= 1.78978978979 h\n",
      "star ::  HZ43 alt= 30d49m27.2602s azim =  [u'359d50m32.9244s'] delta_time= -2.63063063063 h\n",
      "star ::  HD111980 alt= 78d27m05.1846s azim =  [u'359d24m25.1397s'] delta_time= -3.01501501502 h\n",
      "star ::  HD185975 alt= 32d45m30.3263s azim =  [u'179d59m43.1589s'] delta_time= 4.64864864865 h\n",
      "star ::  HZ43B alt= 30d49m28.2741s azim =  [u'359d50m29.5637s'] delta_time= -2.63063063063 h\n",
      "star ::  GD153 alt= 37d53m41.0458s azim =  [u'0d05m40.439s'] delta_time= -2.96696696697 h\n",
      "star ::  VB8 alt= 68d15m14.1189s azim =  [u'0d19m33.8404s'] delta_time= 0.996996996997 h\n",
      "star ::  HD106252 alt= 49d53m19.3523s azim =  [u'0d03m50.9846s'] delta_time= -3.68768768769 h\n"
     ]
    },
    {
     "data": {
      "image/png": "[encoded data removed]",
      "text/plain": [
       "<matplotlib.figure.Figure at 0x113089790>"
      ]
     },
     "metadata": {},
     "output_type": "display_data"
    }
   ],
   "source": [
    "plt.figure(figsize=(16.,10.))\n",
    "plt.plot(delta_midnight, sunaltazs_ofthenight.alt, color='r',lw=8, label='Sun')\n",
    "plt.plot(delta_midnight, moonaltazs_ofthenight.alt, color='b',lw=8, label='Moon')\n",
    "\n",
    "for key, starobj in All_CALSPEC_Stars_InSkyCoord.iteritems():\n",
    "    star_traj_insky=starobj.getSkyCoord().transform_to(frame_all_times_offthenight)\n",
    "    alt_max=np.max(star_traj_insky.alt)\n",
    "    az_max=star_traj_insky.az[np.where(star_traj_insky.alt==alt_max)]\n",
    "    delta_tt=delta_midnight[np.where(star_traj_insky.alt==alt_max)][0]\n",
    "    if alt_max>30*u.deg and delta_tt<5*u.hour and delta_tt>-5*u.hour:\n",
    "        print 'star :: ',key,'alt=',alt_max,'azim = ',az_max,'delta_time=',delta_tt\n",
    "        plt.scatter(delta_midnight, star_traj_insky.alt,c=star_traj_insky.az, label=key, lw=0, s=8,cmap='viridis')\n",
    "        selected_star_forObs.append(key)\n",
    "        filen=starobj.getCalspecFile()\n",
    "        selected_star_forObs_Filename.append(filen)\n",
    "    \n",
    "# plot astronomical crepuscule\n",
    "plt.fill_between(delta_midnight.to('hr').value, 0, 90,\n",
    "                 sunaltazs_ofthenight.alt < -0*u.deg, color='0.5', zorder=0)\n",
    "#plot astronomical night\n",
    "plt.fill_between(delta_midnight.to('hr').value, 0, 90,\n",
    "                 sunaltazs_ofthenight.alt < -18*u.deg, color='k', zorder=0)\n",
    "plt.colorbar().set_label('Azimuth [deg]')\n",
    "plt.legend(loc='upper left')\n",
    "plt.xlim(-12, 12)\n",
    "plt.xticks(np.arange(13)*2 -12)\n",
    "plt.ylim(0, 90)\n",
    "plt.title('Observation')\n",
    "plt.xlabel('Hours from local Midnight')\n",
    "plt.ylabel('Altitude [deg]')\n",
    "plt.show()"
   ]
  },
  {
   "cell_type": "code",
   "execution_count": 82,
   "metadata": {
    "collapsed": false,
    "deletable": true,
    "editable": true
   },
   "outputs": [
    {
     "data": {
      "text/plain": [
       "['HD160617',\n",
       " 'HZ43',\n",
       " 'HD111980',\n",
       " 'HD185975',\n",
       " 'HZ43B',\n",
       " 'GD153',\n",
       " 'VB8',\n",
       " 'HD106252']"
      ]
     },
     "execution_count": 82,
     "metadata": {},
     "output_type": "execute_result"
    }
   ],
   "source": [
    "selected_star_forObs"
   ]
  },
  {
   "cell_type": "code",
   "execution_count": 83,
   "metadata": {
    "collapsed": false,
    "deletable": true,
    "editable": true
   },
   "outputs": [
    {
     "data": {
      "text/plain": [
       "['hd160617_stis_001.fits',\n",
       " 'hz43_stis_002.fits',\n",
       " 'hd111980_stis_001.fits',\n",
       " 'hd185975_stis_001.fits',\n",
       " 'hz43b_stis_002.fits',\n",
       " 'gd153_stisnic_004.fits',\n",
       " 'vb8_stisnic_004.fits',\n",
       " 'hd106252_stis_001.fits']"
      ]
     },
     "execution_count": 83,
     "metadata": {},
     "output_type": "execute_result"
    }
   ],
   "source": [
    "selected_star_forObs_Filename"
   ]
  },
  {
   "cell_type": "markdown",
   "metadata": {
    "deletable": true,
    "editable": true
   },
   "source": [
    "## Find the spectrum of these sources"
   ]
  },
  {
   "cell_type": "markdown",
   "metadata": {
    "collapsed": false,
    "deletable": true,
    "editable": true
   },
   "source": [
    "- See AtmCalibAna/tools/pysynphot_tools/CALSPEC_sed/CalSpecSED.ipynb"
   ]
  }
 ],
 "metadata": {
  "anaconda-cloud": {},
  "kernelspec": {
   "display_name": "Python [conda env:pyastrophys]",
   "language": "python",
   "name": "conda-env-pyastrophys-py"
  },
  "language_info": {
   "codemirror_mode": {
    "name": "ipython",
    "version": 2
   },
   "file_extension": ".py",
   "mimetype": "text/x-python",
   "name": "python",
   "nbconvert_exporter": "python",
   "pygments_lexer": "ipython2",
   "version": "2.7.12"
  },
  "toc": {
   "colors": {
    "hover_highlight": "#DAA520",
    "running_highlight": "#FF0000",
    "selected_highlight": "#FFD700"
   },
   "moveMenuLeft": true,
   "nav_menu": {
    "height": "30px",
    "width": "252px"
   },
   "navigate_menu": true,
   "number_sections": true,
   "sideBar": true,
   "threshold": 4,
   "toc_cell": false,
   "toc_section_display": "block",
   "toc_window_display": false,
   "widenNotebook": false
  }
 },
 "nbformat": 4,
 "nbformat_minor": 2
}
