{
 "cells": [
  {
   "cell_type": "markdown",
   "metadata": {
    "deletable": true,
    "editable": true
   },
   "source": [
    "========================================================\n",
    "# Query Simbad on CALSPEC sources\n",
    "========================================================\n",
    "\n",
    "- author Sylvie Dagoret-Campagne\n",
    "- Affiliation LAL-IN2P3-CNRS\n",
    "- Work : LSST & StarDice\n",
    "- date May 4th 2017"
   ]
  },
  {
   "cell_type": "markdown",
   "metadata": {},
   "source": [
    "# Configuration with packages\n",
    "---------------------------------------------"
   ]
  },
  {
   "cell_type": "code",
   "execution_count": 1,
   "metadata": {
    "collapsed": true,
    "deletable": true,
    "editable": true
   },
   "outputs": [],
   "source": [
    "import numpy as np\n",
    "# Set up matplotlib and use a nicer set of plot parameters\n",
    "import matplotlib\n",
    "import matplotlib.pyplot as plt\n",
    "%matplotlib inline"
   ]
  },
  {
   "cell_type": "code",
   "execution_count": 2,
   "metadata": {
    "collapsed": true,
    "deletable": true,
    "editable": true
   },
   "outputs": [],
   "source": [
    "import pandas as pd\n",
    "import os\n",
    "import re"
   ]
  },
  {
   "cell_type": "code",
   "execution_count": 3,
   "metadata": {
    "collapsed": true,
    "deletable": true,
    "editable": true
   },
   "outputs": [],
   "source": [
    "# to enlarge the sizes\n",
    "params = {'legend.fontsize': 'x-large',\n",
    "          'figure.figsize': (6, 4),\n",
    "         'axes.labelsize': 'x-large',\n",
    "         'axes.titlesize':'x-large',\n",
    "         'xtick.labelsize':'x-large',\n",
    "         'ytick.labelsize':'x-large'}\n",
    "plt.rcParams.update(params)"
   ]
  },
  {
   "cell_type": "code",
   "execution_count": 4,
   "metadata": {
    "collapsed": false,
    "deletable": true,
    "editable": true
   },
   "outputs": [
    {
     "data": {
      "text/plain": [
       "'/Users/dagoret-campagnesylvie/MacOsX/External/PySyn_CDBS/grp/hst/cdbs'"
      ]
     },
     "execution_count": 4,
     "metadata": {},
     "output_type": "execute_result"
    }
   ],
   "source": [
    "os.environ['PYSYN_CDBS']"
   ]
  },
  {
   "cell_type": "code",
   "execution_count": 5,
   "metadata": {
    "collapsed": true,
    "deletable": true,
    "editable": true
   },
   "outputs": [],
   "source": [
    "import astropy\n",
    "from astropy.io import fits\n",
    "import pysynphot as S\n",
    "S.primary_area=6*1e4\n",
    "S.binning=10."
   ]
  },
  {
   "cell_type": "code",
   "execution_count": 6,
   "metadata": {
    "collapsed": true
   },
   "outputs": [],
   "source": [
    "from astropy import units as u\n",
    "from astropy.coordinates import SkyCoord\n",
    "from astropy.coordinates import Angle\n",
    "from astropy.table import Table\n",
    "from astropy.coordinates import Angle\n",
    "from astropy.time import Time, TimezoneInfo"
   ]
  },
  {
   "cell_type": "code",
   "execution_count": 7,
   "metadata": {
    "collapsed": true
   },
   "outputs": [],
   "source": [
    "from astropy.visualization import astropy_mpl_style\n",
    "plt.style.use(astropy_mpl_style)\n",
    "\n",
    "from astropy.visualization import astropy_mpl_style\n",
    "plt.style.use(astropy_mpl_style)"
   ]
  },
  {
   "cell_type": "code",
   "execution_count": 8,
   "metadata": {
    "collapsed": true
   },
   "outputs": [],
   "source": [
    "from astropy.coordinates import SkyCoord, EarthLocation, AltAz"
   ]
  },
  {
   "cell_type": "code",
   "execution_count": 9,
   "metadata": {
    "collapsed": true
   },
   "outputs": [],
   "source": [
    "from datetime import datetime\n",
    "from pytz import timezone\n",
    "import pytz"
   ]
  },
  {
   "cell_type": "code",
   "execution_count": 10,
   "metadata": {
    "collapsed": true
   },
   "outputs": [],
   "source": [
    "from pytz import all_timezones,common_timezones"
   ]
  },
  {
   "cell_type": "code",
   "execution_count": null,
   "metadata": {
    "collapsed": true
   },
   "outputs": [],
   "source": []
  },
  {
   "cell_type": "code",
   "execution_count": 11,
   "metadata": {
    "collapsed": true
   },
   "outputs": [],
   "source": [
    "from astropy.coordinates import get_sun,get_moon"
   ]
  },
  {
   "cell_type": "markdown",
   "metadata": {},
   "source": [
    "# Initialisation"
   ]
  },
  {
   "cell_type": "code",
   "execution_count": 86,
   "metadata": {
    "collapsed": false
   },
   "outputs": [],
   "source": [
    "#common_timezones"
   ]
  },
  {
   "cell_type": "markdown",
   "metadata": {},
   "source": [
    "## Observatory sites"
   ]
  },
  {
   "cell_type": "code",
   "execution_count": 14,
   "metadata": {
    "collapsed": false
   },
   "outputs": [],
   "source": [
    "#EarthLocation.get_site_names()"
   ]
  },
  {
   "cell_type": "code",
   "execution_count": 15,
   "metadata": {
    "collapsed": true
   },
   "outputs": [],
   "source": [
    "observationtime=datetime(2017, 6, 1)"
   ]
  },
  {
   "cell_type": "markdown",
   "metadata": {},
   "source": [
    "### CTIO\n",
    "\n",
    "- http://www.ctio.noao.edu/noao/\n",
    "- http://ast.noao.edu/facilities/ctio\n",
    "\n",
    " \t\n",
    "- Coordinates :\t30°10′10.78″S 70°48′23.49″ , WCoordinates: 30°10′10.78″S 70°48′23.49″W\n",
    "- Altitude \t  : 2,207 metres "
   ]
  },
  {
   "cell_type": "markdown",
   "metadata": {},
   "source": [
    "#### CTIO time and Time zone and UTC Offset"
   ]
  },
  {
   "cell_type": "code",
   "execution_count": 16,
   "metadata": {
    "collapsed": false
   },
   "outputs": [],
   "source": [
    "CTIO_OBS_time=datetime(2017, 6, 1,0,0,0)"
   ]
  },
  {
   "cell_type": "code",
   "execution_count": 17,
   "metadata": {
    "collapsed": false
   },
   "outputs": [],
   "source": [
    "CTIO_TZ = timezone('America/Santiago')"
   ]
  },
  {
   "cell_type": "code",
   "execution_count": 18,
   "metadata": {
    "collapsed": false
   },
   "outputs": [],
   "source": [
    "td=CTIO_TZ.utcoffset(CTIO_OBS_time, is_dst=True)"
   ]
  },
  {
   "cell_type": "code",
   "execution_count": 19,
   "metadata": {
    "collapsed": false
   },
   "outputs": [],
   "source": [
    "timeshift_hours=td.days*24+td.seconds/3600."
   ]
  },
  {
   "cell_type": "code",
   "execution_count": 20,
   "metadata": {
    "collapsed": true
   },
   "outputs": [],
   "source": [
    "CTIO_UTC_OFFSET=int(timeshift_hours)"
   ]
  },
  {
   "cell_type": "code",
   "execution_count": 21,
   "metadata": {
    "collapsed": false
   },
   "outputs": [
    {
     "name": "stdout",
     "output_type": "stream",
     "text": [
      "CTIO_UTC_OFFSET =  -4\n"
     ]
    }
   ],
   "source": [
    "print 'CTIO_UTC_OFFSET = ', CTIO_UTC_OFFSET"
   ]
  },
  {
   "cell_type": "markdown",
   "metadata": {},
   "source": [
    "#### CTIO Location"
   ]
  },
  {
   "cell_type": "code",
   "execution_count": 22,
   "metadata": {
    "collapsed": false
   },
   "outputs": [],
   "source": [
    "CTIO_OBS_loc=EarthLocation.of_site('Cerro Tololo Interamerican Observatory')"
   ]
  },
  {
   "cell_type": "code",
   "execution_count": 23,
   "metadata": {
    "collapsed": false
   },
   "outputs": [
    {
     "data": {
      "text/plain": [
       "(<Longitude -70.815 deg>,\n",
       " <Latitude -30.165277777777778 deg>,\n",
       " <Quantity 2214.9999999993697 m>)"
      ]
     },
     "execution_count": 23,
     "metadata": {},
     "output_type": "execute_result"
    }
   ],
   "source": [
    "CTIO_OBS_loc.to_geodetic()"
   ]
  },
  {
   "cell_type": "markdown",
   "metadata": {},
   "source": [
    "### My Work"
   ]
  },
  {
   "cell_type": "code",
   "execution_count": 24,
   "metadata": {
    "collapsed": true
   },
   "outputs": [],
   "source": [
    "WORK_OBS_time=datetime(2017, 5, 5,0,0,0) # Choose Today evening"
   ]
  },
  {
   "cell_type": "code",
   "execution_count": 25,
   "metadata": {
    "collapsed": true
   },
   "outputs": [],
   "source": [
    "WORK_TZ = timezone('Europe/Paris')"
   ]
  },
  {
   "cell_type": "code",
   "execution_count": 27,
   "metadata": {
    "collapsed": false
   },
   "outputs": [],
   "source": [
    "td=WORK_TZ.utcoffset(WORK_OBS_time, is_dst=True)"
   ]
  },
  {
   "cell_type": "code",
   "execution_count": 28,
   "metadata": {
    "collapsed": true
   },
   "outputs": [],
   "source": [
    "timeshift_hours=td.days*24+td.seconds/3600."
   ]
  },
  {
   "cell_type": "code",
   "execution_count": 29,
   "metadata": {
    "collapsed": true
   },
   "outputs": [],
   "source": [
    "WORK_UTC_OFFSET=int(timeshift_hours)"
   ]
  },
  {
   "cell_type": "code",
   "execution_count": 30,
   "metadata": {
    "collapsed": false
   },
   "outputs": [
    {
     "name": "stdout",
     "output_type": "stream",
     "text": [
      "WORK_UTC_OFFSET 2\n"
     ]
    }
   ],
   "source": [
    "print 'WORK_UTC_OFFSET',WORK_UTC_OFFSET"
   ]
  },
  {
   "cell_type": "markdown",
   "metadata": {},
   "source": [
    "### My local time"
   ]
  },
  {
   "cell_type": "code",
   "execution_count": 90,
   "metadata": {
    "collapsed": false
   },
   "outputs": [
    {
     "data": {
      "text/plain": [
       "(<Longitude 2.1709371 deg>,\n",
       " <Latitude 48.69931509999999 deg>,\n",
       " <Quantity 60.069522858033785 m>)"
      ]
     },
     "execution_count": 90,
     "metadata": {},
     "output_type": "execute_result"
    }
   ],
   "source": [
    "WORK_OBS_loc=EarthLocation.of_address('Laboratoire de l accelerateur lineaire, Universite Paris Sud, Orsay, FRANCE,',get_height=True)\n",
    "WORK_OBS_loc.to_geodetic()"
   ]
  },
  {
   "cell_type": "markdown",
   "metadata": {},
   "source": [
    "### OHP\n",
    "\n",
    "- http://www.obs-hp.fr/info.shtml\n",
    "\n",
    "- Longitude = 5° 42' 44\" E \n",
    "- Latitude = +43° 55' 54\""
   ]
  },
  {
   "cell_type": "markdown",
   "metadata": {},
   "source": [
    "#### Observation Time"
   ]
  },
  {
   "cell_type": "code",
   "execution_count": 33,
   "metadata": {
    "collapsed": true
   },
   "outputs": [],
   "source": [
    "OHP_OBS_time=datetime(2017, 6, 20,0,0,0)"
   ]
  },
  {
   "cell_type": "code",
   "execution_count": 34,
   "metadata": {
    "collapsed": true
   },
   "outputs": [],
   "source": [
    "OHP_TZ = timezone('Europe/Paris')"
   ]
  },
  {
   "cell_type": "code",
   "execution_count": 35,
   "metadata": {
    "collapsed": true
   },
   "outputs": [],
   "source": [
    "td=OHP_TZ.utcoffset(OHP_OBS_time, is_dst=True)"
   ]
  },
  {
   "cell_type": "code",
   "execution_count": 36,
   "metadata": {
    "collapsed": true
   },
   "outputs": [],
   "source": [
    "timeshift_hours=td.days*24+td.seconds/3600."
   ]
  },
  {
   "cell_type": "code",
   "execution_count": 37,
   "metadata": {
    "collapsed": true
   },
   "outputs": [],
   "source": [
    "OHP_UTC_OFFSET=int(timeshift_hours)"
   ]
  },
  {
   "cell_type": "code",
   "execution_count": 38,
   "metadata": {
    "collapsed": false
   },
   "outputs": [
    {
     "name": "stdout",
     "output_type": "stream",
     "text": [
      "OHP_UTC_OFFSET =  2\n"
     ]
    }
   ],
   "source": [
    "print 'OHP_UTC_OFFSET = ', OHP_UTC_OFFSET"
   ]
  },
  {
   "cell_type": "markdown",
   "metadata": {},
   "source": [
    "#### Location"
   ]
  },
  {
   "cell_type": "code",
   "execution_count": 39,
   "metadata": {
    "collapsed": false
   },
   "outputs": [],
   "source": [
    "# Use Google to get earth location from adress\n",
    "OHP_OBS_loc=EarthLocation.of_address('Observatoire de haute Provence, FRANCE',get_height=True)"
   ]
  },
  {
   "cell_type": "code",
   "execution_count": 40,
   "metadata": {
    "collapsed": false
   },
   "outputs": [
    {
     "data": {
      "text/plain": [
       "(<Longitude 5.71362 deg>,\n",
       " <Latitude 43.930415 deg>,\n",
       " <Quantity 639.0343627919294 m>)"
      ]
     },
     "execution_count": 40,
     "metadata": {},
     "output_type": "execute_result"
    }
   ],
   "source": [
    "OHP_OBS_loc.to_geodetic()"
   ]
  },
  {
   "cell_type": "markdown",
   "metadata": {},
   "source": [
    "### LSST"
   ]
  },
  {
   "cell_type": "code",
   "execution_count": 41,
   "metadata": {
    "collapsed": true
   },
   "outputs": [],
   "source": [
    "LSST_OBS_loc=EarthLocation.of_site('Cerro Pachon')"
   ]
  },
  {
   "cell_type": "code",
   "execution_count": 42,
   "metadata": {
    "collapsed": false
   },
   "outputs": [
    {
     "data": {
      "text/plain": [
       "(<Longitude -70.7366833333333 deg>,\n",
       " <Latitude -30.240741666666672 deg>,\n",
       " <Quantity 2749.999999999238 m>)"
      ]
     },
     "execution_count": 42,
     "metadata": {},
     "output_type": "execute_result"
    }
   ],
   "source": [
    "LSST_OBS_loc.to_geodetic()"
   ]
  },
  {
   "cell_type": "markdown",
   "metadata": {
    "deletable": true,
    "editable": true
   },
   "source": [
    "# Query Simbad:\n",
    "https://astroquery.readthedocs.io/en/latest/simbad/simbad.html"
   ]
  },
  {
   "cell_type": "code",
   "execution_count": 43,
   "metadata": {
    "collapsed": true,
    "deletable": true,
    "editable": true
   },
   "outputs": [],
   "source": [
    "from astroquery.simbad import Simbad"
   ]
  },
  {
   "cell_type": "code",
   "execution_count": 44,
   "metadata": {
    "collapsed": true,
    "deletable": true,
    "editable": true
   },
   "outputs": [],
   "source": [
    "SEDfile_dir=os.path.join(os.environ['PYSYN_CDBS'], 'calspec')"
   ]
  },
  {
   "cell_type": "code",
   "execution_count": 45,
   "metadata": {
    "collapsed": false,
    "deletable": true,
    "editable": true
   },
   "outputs": [],
   "source": [
    "filelist=os.listdir(SEDfile_dir) "
   ]
  },
  {
   "cell_type": "markdown",
   "metadata": {
    "collapsed": false,
    "deletable": true,
    "editable": true
   },
   "source": [
    "## Extract the fits file headers"
   ]
  },
  {
   "cell_type": "code",
   "execution_count": 46,
   "metadata": {
    "collapsed": false,
    "deletable": true,
    "editable": true
   },
   "outputs": [
    {
     "name": "stderr",
     "output_type": "stream",
     "text": [
      "WARNING: The following header keyword is invalid or follows an unrecognized non-standard convention:\n",
      "    START STIS                                                                   [astropy.io.fits.card]\n",
      "WARNING: The following header keyword is invalid or follows an unrecognized non-standard convention:\n",
      "FILE WRITTEN BY ECHLREDUCE.PRO ON 11-Jun-2013 11:27:39.00                        [astropy.io.fits.card]\n",
      "WARNING: The following header keyword is invalid or follows an unrecognized non-standard convention:\n",
      "coadd list for E*H:                                                              [astropy.io.fits.card]\n",
      "WARNING: The following header keyword is invalid or follows an unrecognized non-standard convention:\n",
      " o57u01030 obb001040 obb005010 obb005020 obb001010 obb001090 obb005030           [astropy.io.fits.card]\n",
      "WARNING: The following header keyword is invalid or follows an unrecognized non-standard convention:\n",
      " obb005040 obb001060 obb001030 o57u01020 obb001050 obb001020 obb0010a0           [astropy.io.fits.card]\n",
      "WARNING: The following header keyword is invalid or follows an unrecognized non-standard convention:\n",
      " obb001070 o6hb100f0 obb001080 o57u01040 o5i011010 o5i011020 o5i011030           [astropy.io.fits.card]\n",
      "WARNING: The following header keyword is invalid or follows an unrecognized non-standard convention:\n",
      " obb0010b0 obb002090 obb0020b0 obb002010 obb002030 o6hb20060 obb002020           [astropy.io.fits.card]\n",
      "WARNING: The following header keyword is invalid or follows an unrecognized non-standard convention:\n",
      " o6hb20070 obb002040 o6hb20080 obb002050 obb002060 o6hb20090 obb002070           [astropy.io.fits.card]\n",
      "WARNING: The following header keyword is invalid or follows an unrecognized non-standard convention:\n",
      " obb002080 obb0020a0 obb0020c0 obb0020d0 obb004080 obb053040 obb053080           [astropy.io.fits.card]\n",
      "WARNING: The following header keyword is invalid or follows an unrecognized non-standard convention:\n",
      " obb053010 obb053020 obb053030 obb053050 obb053060 obb0530a0 obb053070           [astropy.io.fits.card]\n",
      "WARNING: The following header keyword is invalid or follows an unrecognized non-standard convention:\n",
      " obb053090 obb0530b0 obb004090 o5i010010 o5i010020 o5i010030 o5i013010           [astropy.io.fits.card]\n",
      "WARNING: The following header keyword is invalid or follows an unrecognized non-standard convention:\n",
      " o5i013020 o5i013030 o5i014010 o5i014020 o5i014030 o5i015010 o5i015020           [astropy.io.fits.card]\n",
      "WARNING: The following header keyword is invalid or follows an unrecognized non-standard convention:\n",
      " o5i015030 o6hb10010 o6hb10020 o6hb10030 o6hb10040 o6hb10050 o6hb10060           [astropy.io.fits.card]\n",
      "WARNING: The following header keyword is invalid or follows an unrecognized non-standard convention:\n",
      " o6hb10070 o6hb10080 o6hb10090 o6hb100a0 o6hb100b0 o6hb100c0 o6hb100d0           [astropy.io.fits.card]\n",
      "WARNING: The following header keyword is invalid or follows an unrecognized non-standard convention:\n",
      " o6hb100e0 o6hb20010 o6hb20020 o6hb20030 o6hb20040 o6hb20050 o6hb200a0           [astropy.io.fits.card]\n",
      "WARNING: The following header keyword is invalid or follows an unrecognized non-standard convention:\n",
      " o6hb200b0 o6hb200c0 o6hb200d0 o6hb200e0 o6hb200f0 o6hb30010 o6hb30020           [astropy.io.fits.card]\n",
      "WARNING: The following header keyword is invalid or follows an unrecognized non-standard convention:\n",
      " o6hb30030 o6hb30040 o6hb30050 o6hb30060 o6hb30070 o6hb30080 o6hb30090           [astropy.io.fits.card]\n",
      "WARNING: The following header keyword is invalid or follows an unrecognized non-standard convention:\n",
      " o6hb300a0 o6hb300b0 o6hb300c0 o6hb300d0 o6hb300e0 o6hb40080 o6hb40090           [astropy.io.fits.card]\n",
      "WARNING: The following header keyword is invalid or follows an unrecognized non-standard convention:\n",
      "SYS-ERROR is the broadband ~2% INTERNAL repeatability of echelles.               [astropy.io.fits.card]\n",
      "WARNING: The following header keyword is invalid or follows an unrecognized non-standard convention:\n",
      "IN ADDITION, THERE IS A SYSTEMATIC UNCERTAINTY IN THE ABS CALIB OF ~2-4%         [astropy.io.fits.card]\n",
      "WARNING: The following header keyword is invalid or follows an unrecognized non-standard convention:\n",
      "    Bohlin (2000,AJ,120,437). BOTH THE STAT-ERR AND SYS-ERR ARE 1-SIGMA.         [astropy.io.fits.card]\n",
      "WARNING: The following header keyword is invalid or follows an unrecognized non-standard convention:\n",
      "NO correction for stellar RADIAL VELOCITY                                        [astropy.io.fits.card]\n",
      "WARNING: The following header keyword is invalid or follows an unrecognized non-standard convention:\n",
      "G191B2B Sum of 105 OBS with STIS E*H Echelles                                    [astropy.io.fits.card]\n"
     ]
    }
   ],
   "source": [
    "star_header = []\n",
    "for filename in filelist:\n",
    "    index=0\n",
    "    if re.search('fits',filename):  #example of filename filter\n",
    "        index+=1\n",
    "        fullfilename = os.path.join(os.environ['PYSYN_CDBS'], 'calspec',filename)\n",
    "        hdr = fits.getheader(fullfilename)\n",
    "        star_header.append(hdr)"
   ]
  },
  {
   "cell_type": "code",
   "execution_count": 47,
   "metadata": {
    "collapsed": false,
    "deletable": true,
    "editable": true
   },
   "outputs": [
    {
     "data": {
      "text/plain": [
       "'10LAC'"
      ]
     },
     "execution_count": 47,
     "metadata": {},
     "output_type": "execute_result"
    }
   ],
   "source": [
    "star_header[1][7] # TARGETID"
   ]
  },
  {
   "cell_type": "markdown",
   "metadata": {
    "deletable": true,
    "editable": true
   },
   "source": [
    "## Extract the object name from the headers"
   ]
  },
  {
   "cell_type": "code",
   "execution_count": 48,
   "metadata": {
    "collapsed": false,
    "deletable": true,
    "editable": true
   },
   "outputs": [],
   "source": [
    "star_names = []\n",
    "index=0\n",
    "for hdr in star_header:\n",
    "    \n",
    "    star_name=star_header[index][7]\n",
    "    star_names.append(star_name)\n",
    "    index+=1"
   ]
  },
  {
   "cell_type": "code",
   "execution_count": 49,
   "metadata": {
    "collapsed": false,
    "deletable": true,
    "editable": true
   },
   "outputs": [
    {
     "data": {
      "text/plain": [
       "['10LAC',\n",
       " '10LAC',\n",
       " '10LAC',\n",
       " '1732526 with NICMOS observations',\n",
       " '1732526',\n",
       " '1732526',\n",
       " '1732526',\n",
       " '1740346 with NICMOS observations',\n",
       " '1740346 with NICMOS observations',\n",
       " '1740346',\n",
       " '1740346',\n",
       " '1740346',\n",
       " '1743045 with NICMOS observations',\n",
       " '1743045 with NICMOS observations',\n",
       " '1743045',\n",
       " '1743045',\n",
       " '1743045',\n",
       " '1757132',\n",
       " '1757132',\n",
       " '1757132',\n",
       " '1802271 with NICMOS observations',\n",
       " '1802271',\n",
       " '1802271',\n",
       " '1802271',\n",
       " '1805292 with NICMOS observations',\n",
       " '1805292 with NICMOS observations',\n",
       " '1805292',\n",
       " '1805292',\n",
       " '1805292',\n",
       " '1808347',\n",
       " '1808347',\n",
       " '1808347',\n",
       " '1812095 with NICMOS observations',\n",
       " '1812095 with NICMOS observations',\n",
       " '1812095',\n",
       " '1812095',\n",
       " '1812095',\n",
       " '1812524 with NICMOS observations',\n",
       " '1812524',\n",
       " '1812524',\n",
       " '2M0036+18 with STIS & NICMOS observations',\n",
       " '2M0036+18 with STIS & NICMOS observations',\n",
       " 'Standard star flux with re-calibrated STIS & NICMOS observations---',\n",
       " '2M0036+18',\n",
       " '2M0036+18',\n",
       " '2M0036+18',\n",
       " '2M0559-14 with STIS & NICMOS observations',\n",
       " '2M0559-14 with STIS & NICMOS observations',\n",
       " 'Standard star flux with re-calibrated STIS & NICMOS observations---',\n",
       " '2M0559-14',\n",
       " '2M0559-14',\n",
       " '2M0559-14',\n",
       " '  Astrophysics Supplement Series v44/p363, v44/p371, v73/p359, v73/p365.',\n",
       " 'AGK+81D266 with STIS observations',\n",
       " 'AGK+81D266 with IUE, STIS, & NICMOS observations',\n",
       " 'Standard star flux with re-calibrated STIS & NICMOS observations---',\n",
       " 'AGK+81D266',\n",
       " 'AGK+81D266',\n",
       " 'AGK+81D266',\n",
       " '  Astrophysics Supplement Series v44/p363, v44/p371, v73/p359, v73/p365.',\n",
       " '  Astrophysics Supplement Series v44/p363, v44/p371, v73/p359, v73/p365.',\n",
       " 'Bohlin, R. C. 2014, AJ, submitted',\n",
       " 'Bohlin, R. C. 2014, AJ, 147, 127',\n",
       " 'ALPHA_LYR with STIS observations',\n",
       " 'ALPHA_LYR with STIS observations',\n",
       " 'ALPHA_LYR with STIS observations',\n",
       " 'ALPHA_LYR with STIS observations',\n",
       " 'ALPHA_LYR',\n",
       " 'ALPHA_LYR',\n",
       " 'ALPHA_LYR',\n",
       " 'BD02D3375',\n",
       " 'BD02D3375',\n",
       " 'BD02D3375',\n",
       " 'BD17D4708 with STIS observations',\n",
       " 'BD17D4708 with STIS & NICMOS observations',\n",
       " 'BD21D0607',\n",
       " 'BD21D0607',\n",
       " 'BD21D0607',\n",
       " 'BD26D2606',\n",
       " 'BD26D2606',\n",
       " 'BD26D2606',\n",
       " 'BD29D2091',\n",
       " 'BD29D2091',\n",
       " 'BD29D2091',\n",
       " 'BD54D1216',\n",
       " 'BD54D1216',\n",
       " 'BD54D1216',\n",
       " 'BD60D1753',\n",
       " 'BD60D1753',\n",
       " 'BD60D1753',\n",
       " 'BD+17D4708 with STIS & NICMOS observations',\n",
       " 'Standard star flux with re-calibrated STIS & NICMOS observations---',\n",
       " 'BD+17D4708',\n",
       " 'BD+17D4708',\n",
       " 'BD+17D4708',\n",
       " '  Astrophysics Supplement Series v44/p363, v44/p371, v73/p359, v73/p365.',\n",
       " '  Astrophysics Supplement Series v44/p363, v44/p371, v73/p359, v73/p365.',\n",
       " '  Astrophysics Supplement Series v44/p363, v44/p371, v73/p359, v73/p365.',\n",
       " 'BD+28D4211 with STIS observations',\n",
       " 'BD28D4211',\n",
       " 'BD28D4211',\n",
       " 'BD28D4211',\n",
       " '  Astrophysics Supplement Series v44/p363, v44/p371, v73/p359, v73/p365.',\n",
       " '  Astrophysics Supplement Series v44/p363, v44/p371, v73/p359, v73/p365.',\n",
       " '  Astrophysics Supplement Series v44/p363, v44/p371, v73/p359, v73/p365.',\n",
       " '  Astrophysics Supplement Series v44/p363, v44/p371, v73/p359, v73/p365.',\n",
       " 'BD+75D325 with STIS observations',\n",
       " 'BD75',\n",
       " 'BD75',\n",
       " 'BD75',\n",
       " 'C26202 with STIS & NICMOS observations',\n",
       " 'C26202 with STIS & NICMOS observations',\n",
       " 'Standard star flux with re-calibrated STIS & NICMOS observations---',\n",
       " 'C26202',\n",
       " 'C26202',\n",
       " 'C26202',\n",
       " 'ETAUMA',\n",
       " 'ETAUMA',\n",
       " 'ETAUMA',\n",
       " '  Astrophysics Supplement Series v44/p363, v44/p371, v73/p359, v73/p365.',\n",
       " 'FEIGE110 with STIS observations',\n",
       " 'FEIGE110 with IUE, STIS, Oke, & NICMOS observations',\n",
       " 'Standard star flux with re-calibrated STIS & NICMOS observations---',\n",
       " 'FEIGE110',\n",
       " 'FEIGE110',\n",
       " 'FEIGE110',\n",
       " '  Astrophysics Supplement Series v44/p363, v44/p371, v73/p359, v73/p365.',\n",
       " 'FEIGE34 with STIS observations',\n",
       " 'FEIGE34',\n",
       " 'FEIGE34',\n",
       " 'FEIGE34',\n",
       " '  Astrophysics Supplement Series v44/p363, v44/p371, v73/p359, v73/p365.',\n",
       " '  Astrophysics Supplement Series v44/p363, v44/p371, v73/p359, v73/p365.',\n",
       " '  Astrophysics Supplement Series v44/p363, v44/p371, v73/p359, v73/p365.',\n",
       " '  Astrophysics Supplement Series v44/p363, v44/p371, v73/p359, v73/p365.',\n",
       " 'g191b2b_mod_004.fits',\n",
       " 'Bohlin, R. C. 2009, in preparation',\n",
       " 'New STIS g=4 value --> new Vega mag, update G191B2B mag',\n",
       " 'Rauch, Werner, Bohlin, & Kruk 2013, A&A, in press',\n",
       " 'Rauch, Werner, Bohlin, & Kruk 2013, A&A, 560, A106',\n",
       " 'Bohlin, Gordon, Tremblay 2014, PASP, 126, 711',\n",
       " '  Astrophysics Supplement Series v44/p363, v44/p371, v73/p359, v73/p365.',\n",
       " 'G191B2B with STIS observations',\n",
       " 'Rauch, et al. 2013, A&A, in press',\n",
       " 'G191B2B with STIS & NICMOS observations',\n",
       " 'G191B2B with STIS & NICMOS observations',\n",
       " 'Standard star flux with re-calibrated STIS & NICMOS observations---',\n",
       " 'G191B2B',\n",
       " 'G191B2B',\n",
       " 'G191B2B',\n",
       " '  Astrophysics Supplement Series v44/p363, v44/p371, v73/p359, v73/p365.',\n",
       " '  Astrophysics Supplement Series v44/p363, v44/p371, v73/p359, v73/p365.',\n",
       " '  Astrophysics Supplement Series v44/p363, v44/p371, v73/p359, v73/p365.',\n",
       " 'gd153_mod_004.fits',\n",
       " 'Bohlin, R. C. 2009, in preparation',\n",
       " 'New STIS g=4 value --> new Vega mag, update G191B2B mag',\n",
       " 'Rauch, Bohlin, & Kruk 2013',\n",
       " 'Rauch, Werner, Bohlin, & Kruk 2013, A&A, 560, A106',\n",
       " 'Bohlin, Gordon, Tremblay 2014, PASP, 126, 711',\n",
       " 'GD153 with STIS observations',\n",
       " 'GD153 with STIS & NICMOS observations',\n",
       " 'GD153 with STIS & NICMOS observations',\n",
       " 'Standard star flux with re-calibrated STIS & NICMOS observations---',\n",
       " 'GD153',\n",
       " 'GD153',\n",
       " 'GD153',\n",
       " '  Astrophysics Supplement Series v44/p363, v44/p371, v73/p359, v73/p365.',\n",
       " '  Astrophysics Supplement Series v44/p363, v44/p371, v73/p359, v73/p365.',\n",
       " 'gd71_mod_005.fits',\n",
       " 'Bohlin, R. C. 2009, in preparation',\n",
       " 'New STIS g=4 value --> new Vega mag, update G191B2B mag',\n",
       " 'Rauch, Bohlin, & Kruk 2013',\n",
       " 'Rauch, Werner, Bohlin, & Kruk 2013, A&A, 560, A106',\n",
       " 'Bohlin, Gordon, Tremblay 2014, PASP, 126, 711',\n",
       " 'GD71 with STIS observations',\n",
       " 'GD71 with STIS & NICMOS observations',\n",
       " 'GD71 with STIS & NICMOS observations',\n",
       " 'Standard star flux with re-calibrated STIS & NICMOS observations---',\n",
       " 'GD71',\n",
       " 'GD71',\n",
       " 'GD71',\n",
       " 'GJ7541A',\n",
       " 'GJ7541A',\n",
       " 'GJ7541A',\n",
       " '  Astrophysics Supplement Series v44/p363, v44/p371, v73/p359, v73/p365.',\n",
       " 'GRW+70D5824 with STIS observations',\n",
       " 'GRW+70D5824 with STIS & NICMOS observations',\n",
       " 'Standard star flux with re-calibrated STIS & NICMOS observations---',\n",
       " 'GRW+70D5824',\n",
       " 'GRW+70D5824',\n",
       " 'GRW+70D5824',\n",
       " 'HD009051',\n",
       " 'HD009051',\n",
       " 'HD009051',\n",
       " 'HD031128',\n",
       " 'HD031128',\n",
       " 'HD031128',\n",
       " 'HD074000',\n",
       " 'HD074000',\n",
       " 'HD074000',\n",
       " 'HD106252',\n",
       " 'HD106252',\n",
       " 'HD106252',\n",
       " 'HD111980',\n",
       " 'HD111980',\n",
       " 'HD111980',\n",
       " 'HD116405',\n",
       " 'HD116405',\n",
       " 'HD116405',\n",
       " 'HD14943',\n",
       " 'HD14943',\n",
       " 'HD14943',\n",
       " 'HD158485',\n",
       " 'HD158485',\n",
       " 'HD158485',\n",
       " 'HD159222',\n",
       " 'HD159222',\n",
       " 'HD159222',\n",
       " 'HD160617',\n",
       " 'HD160617',\n",
       " 'HD160617',\n",
       " 'HD163466',\n",
       " 'HD163466',\n",
       " 'HD163466',\n",
       " 'HD165459 with NICMOS observations',\n",
       " 'HD165459',\n",
       " 'HD165459',\n",
       " 'HD165459',\n",
       " 'HD180609',\n",
       " 'HD180609',\n",
       " 'HD180609',\n",
       " 'HD185975',\n",
       " 'HD185975',\n",
       " 'HD185975',\n",
       " 'HD200654',\n",
       " 'HD200654',\n",
       " 'HD200654',\n",
       " 'HD205905',\n",
       " 'HD205905',\n",
       " 'HD205905',\n",
       " 'HD209458 with STIS & NICMOS observations',\n",
       " 'Standard star flux with re-calibrated STIS & NICMOS observations---',\n",
       " 'HD209458',\n",
       " 'HD209458',\n",
       " 'HD209458',\n",
       " 'HD37725',\n",
       " 'HD37725',\n",
       " 'HD37725',\n",
       " 'HD37962',\n",
       " 'HD37962',\n",
       " 'HD37962',\n",
       " 'HD38949',\n",
       " 'HD38949',\n",
       " 'HD38949',\n",
       " 'HD60753',\n",
       " 'HD60753',\n",
       " 'HD60753',\n",
       " '  Astrophysics Supplement Series v44/p363, v44/p371, v73/p359, v73/p365.',\n",
       " 'HD93521 with STIS observations',\n",
       " 'HD93521',\n",
       " 'HD93521',\n",
       " 'HD93521',\n",
       " 'HS2027 with STIS observations',\n",
       " 'HS2027',\n",
       " 'HS2027',\n",
       " 'HS2027',\n",
       " '  Astrophysics Supplement Series v44/p363, v44/p371, v73/p359, v73/p365.',\n",
       " 'HZ21 with STIS observations',\n",
       " 'HZ21',\n",
       " 'HZ21',\n",
       " 'HZ21',\n",
       " '  Astrophysics Supplement Series v44/p363, v44/p371, v73/p359, v73/p365.',\n",
       " '  Astrophysics Supplement Series v44/p363, v44/p371, v73/p359, v73/p365.',\n",
       " 'hz43_mod_004.fits',\n",
       " 'Bohlin, R. C. 2009, in preparation',\n",
       " 'Rauch, Bohlin, & Kruk 2013',\n",
       " 'Rauch, Werner, Bohlin, & Kruk 2013, A&A, 560, A106',\n",
       " 'Bohlin, Gordon, Tremblay 2014, PASP, 126, 711',\n",
       " 'HZ43 with STIS observations',\n",
       " 'HZ43',\n",
       " 'HZ43',\n",
       " 'HZ43',\n",
       " 'HZ43B with STIS observations',\n",
       " 'HZ43B',\n",
       " 'HZ43B',\n",
       " 'HZ43B',\n",
       " '  Astrophysics Supplement Series v44/p363, v44/p371, v73/p359, v73/p365.',\n",
       " '  Astrophysics Supplement Series v44/p363, v44/p371, v73/p359, v73/p365.',\n",
       " 'HZ44 with STIS observations',\n",
       " 'HZ44',\n",
       " 'HZ44',\n",
       " 'HZ44',\n",
       " '  Astrophysics Supplement Series v44/p363, v44/p371, v73/p359, v73/p365.',\n",
       " 'HZ4 with STIS observations',\n",
       " 'HZ4 with STIS observations',\n",
       " 'HZ4',\n",
       " 'HZ4',\n",
       " 'HZ4',\n",
       " 'KF01T5 with NICMOS observations',\n",
       " 'KF01T5',\n",
       " 'KF01T5',\n",
       " 'KF06T1 with NICMOS observations',\n",
       " 'KF06T1',\n",
       " 'KF06T1',\n",
       " 'KF06T2 with NICMOS observations',\n",
       " 'KF06T2',\n",
       " 'KF06T2',\n",
       " 'KF06T2',\n",
       " 'KF08T3 with NICMOS observations',\n",
       " 'KF08T3',\n",
       " 'KF08T3',\n",
       " 'KSI2CETI',\n",
       " 'KSI2CETI',\n",
       " 'KSI2CETI',\n",
       " 'LAMLEP',\n",
       " 'LAMLEP',\n",
       " 'LAMLEP',\n",
       " '  Astrophysics Supplement Series v44/p363, v44/p371, v73/p359, v73/p365.',\n",
       " '  Astrophysics Supplement Series v44/p363, v44/p371, v73/p359, v73/p365.',\n",
       " 'Bohlin, R. C., & Koester, D. 2008, AJ, submitted',\n",
       " 'New STIS g=4 value --> new Vega mag, update G191B2B mag',\n",
       " 'Bohlin, R. C., & Koester, D. 2008, AJ, 135, 1092',\n",
       " 'Bohlin, R. C., & Koester, D. 2008, AJ, 135, 1092',\n",
       " 'Bohlin, R. C. 2014, AJ, 147, 127',\n",
       " 'LDS749B with STIS observations',\n",
       " 'LDS749B with STIS & NICMOS observations',\n",
       " 'LDS749B with STIS & NICMOS observations',\n",
       " 'Standard star flux with re-calibrated STIS & NICMOS observations---',\n",
       " 'LDS749B',\n",
       " 'LDS749B',\n",
       " 'LDS749B',\n",
       " '  Astrophysics Supplement Series v44/p363, v44/p371, v73/p359, v73/p365.',\n",
       " 'MUCOL',\n",
       " 'MUCOL',\n",
       " 'MUCOL',\n",
       " '  Astrophysics Supplement Series v44/p363, v44/p371, v73/p359, v73/p365.',\n",
       " '  Astrophysics Supplement Series v44/p363, v44/p371, v73/p359, v73/p365.',\n",
       " 'P041C with STIS observations',\n",
       " 'P041C with STIS & NICMOS observations',\n",
       " 'P041C with STIS & NICMOS observations',\n",
       " 'Standard star flux with re-calibrated STIS & NICMOS observations---',\n",
       " 'P041C',\n",
       " 'P041C',\n",
       " 'P041C',\n",
       " '  Astrophysics Supplement Series v44/p363, v44/p371, v73/p359, v73/p365.',\n",
       " 'P177D with STIS observations',\n",
       " 'P177D with STIS & NICMOS observations',\n",
       " 'P177D with STIS & NICMOS observations',\n",
       " 'Standard star flux with re-calibrated STIS & NICMOS observations---',\n",
       " 'P177D',\n",
       " 'P177D',\n",
       " 'P177D',\n",
       " '  Astrophysics Supplement Series v44/p363, v44/p371, v73/p359, v73/p365.',\n",
       " 'P330E with STIS observations',\n",
       " 'P330E with STIS & NICMOS observations',\n",
       " 'P330E with STIS & NICMOS observations',\n",
       " 'Standard star flux with re-calibrated STIS & NICMOS observations---',\n",
       " 'P330E',\n",
       " 'P330E',\n",
       " 'P330E',\n",
       " 0.0,\n",
       " 'SF1615+001A with STIS & NICMOS observations',\n",
       " 'SF1615+001A with STIS & NICMOS observations',\n",
       " 'Standard star flux with re-calibrated STIS & NICMOS observations---',\n",
       " 'SF1615+001A',\n",
       " 'SF1615+001A',\n",
       " 'SF1615+001A',\n",
       " 'Bohlin, R. C. 2014, AJ, submitted',\n",
       " 'Bohlin, R. C. 2014, AJ, 147, 127',\n",
       " 'SIRIUS',\n",
       " 'SIRIUS',\n",
       " 'SNAP-1 with STIS & NICMOS observations',\n",
       " 'SNAP-1 with STIS & NICMOS observations',\n",
       " 'Standard star flux with re-calibrated STIS & NICMOS observations---',\n",
       " 'SNAP-1',\n",
       " 'SNAP-1',\n",
       " 'SNAP-1',\n",
       " 'SNAP-2 with STIS & NICMOS observations',\n",
       " 'SNAP-2 with STIS & NICMOS observations',\n",
       " 'Standard star flux with re-calibrated STIS & NICMOS observations---',\n",
       " 'SNAP-2',\n",
       " 'SNAP-2',\n",
       " 'SNAP-2',\n",
       " '  Astrophysics Supplement Series v44/p363, v44/p371, v73/p359, v73/p365.',\n",
       " 'Sun with 2.5 to 2.7 micron extension',\n",
       " 'Sun with 2.5 to 2.7 micron extension-------------------------------',\n",
       " 'VB8 with STIS & NICMOS observations',\n",
       " 'VB8 with STIS & NICMOS observations',\n",
       " 'Standard star flux with re-calibrated STIS & NICMOS observations---',\n",
       " 'VB8',\n",
       " 'VB8',\n",
       " 'VB8',\n",
       " 'Koester He Model',\n",
       " 'Koester He Model',\n",
       " 'Bohlin, R. C. 2014, AJ, 147, 127',\n",
       " 'Standard star flux with STIS observations--------------------------',\n",
       " 'WD0308-565',\n",
       " 'WD0308-565',\n",
       " 'WD0308-565',\n",
       " 'WD0320-539 with STIS observations',\n",
       " 'WD0320-539',\n",
       " 'WD0320-539',\n",
       " 'WD0320-539',\n",
       " 'WD0947_857 with STIS observations',\n",
       " 'WD0947_857',\n",
       " 'WD0947_857',\n",
       " 'WD0947_857',\n",
       " 'WD1026_453 with STIS observations',\n",
       " 'WD1026_453',\n",
       " 'WD1026_453',\n",
       " 'WD1026_453',\n",
       " 'Bohlin, R. C. 2009, in preparation',\n",
       " 'New STIS g=4 value --> new Vega mag, update G191B2B mag',\n",
       " 'Hubeny TLusty203: PURE HYDROGEN NLTE MODEL',\n",
       " 'Hubeny TLusty203: PURE HYDROGEN NLTE MODEL',\n",
       " 'Bohlin, R. C. 2014, AJ, 147, 127',\n",
       " 'WD1057+719 with STIS & NICMOS observations',\n",
       " 'WD1057+719 with STIS & NICMOS observations',\n",
       " 'Standard star flux with re-calibrated STIS & NICMOS observations---',\n",
       " 'WD1057+719',\n",
       " 'WD1057+719',\n",
       " 'WD1057+719',\n",
       " 'Bohlin, R. C. 2009, in preparation',\n",
       " 'New STIS g=4 value --> new Vega mag, update G191B2B mag',\n",
       " 'Hubeny TLusty203: PURE HYDROGEN NLTE MODEL',\n",
       " 'Hubeny TLusty203: PURE HYDROGEN NLTE MODEL',\n",
       " 'Bohlin, R. C. 2014, AJ, 147, 127',\n",
       " 'WD1657+343 with STIS & NICMOS observations',\n",
       " 'WD1657+343 with STIS & NICMOS observations',\n",
       " 'Standard star flux with re-calibrated STIS & NICMOS observations---',\n",
       " 'WD1657+343',\n",
       " 'WD1657+343',\n",
       " 'WD1657+343',\n",
       " 'WDcovar.fits']"
      ]
     },
     "execution_count": 49,
     "metadata": {},
     "output_type": "execute_result"
    }
   ],
   "source": [
    "star_names"
   ]
  },
  {
   "cell_type": "code",
   "execution_count": 50,
   "metadata": {
    "collapsed": false,
    "deletable": true,
    "editable": true
   },
   "outputs": [],
   "source": [
    "class CalibSpecStarSmb:\n",
    "    \"\"\"\n",
    "    Class for the CALSPEC stars from Simbad Query\n",
    "    \"\"\"\n",
    "    name = \"\"          # the name of the star from CALSPEC/Pysynphot\n",
    "    simbadname=\"\"      # the name of the star returned by Astroquery-Simbad \n",
    "    RA =\"\"             # string Right assension\n",
    "    DEC=\"\"             # string declination\n",
    "\n",
    "    def __init__(self, name,simbname,ra,dec):   # constructor\n",
    "        self.name=name\n",
    "        self.simbname=simbname\n",
    "        self.RA=ra\n",
    "        self.DEC=dec\n",
    "    def show(self):                             # print \n",
    "        print 'name=',self.name,', ra=',self.RA,', dec=',self.DEC\n",
    "    def getName(self):                          # getters\n",
    "        return self.name\n",
    "    def getRA(self):\n",
    "        return self.RA\n",
    "    def getDEC(self):\n",
    "        return self.DEC  "
   ]
  },
  {
   "cell_type": "code",
   "execution_count": 51,
   "metadata": {
    "collapsed": true
   },
   "outputs": [],
   "source": [
    "class CalibSpecStarSkc:\n",
    "    \"\"\"\n",
    "    Class for the CALSPEC stars from SkyCoord Query\n",
    "    \"\"\"\n",
    "    name = \"\"          # the name of the star from CALSPEC/Pysynphot\n",
    "    RA =0             # number Right ascension in deg\n",
    "    DEC=0             # number declination\n",
    "    skycoord=astropy.coordinates.SkyCoord.from_name(\"VEGA\")  # creazy init with Vega\n",
    "\n",
    "    def __init__(self, name,ra,dec):   # constructor\n",
    "        self.name=name\n",
    "        self.RA=ra\n",
    "        self.DEC=dec\n",
    "        self.skycoord=astropy.coordinates.SkyCoord.from_name(name)\n",
    "    def show(self):                             # print \n",
    "        #print 'name=',self.name,', ra=',self.RA,', dec=',self.DEC\n",
    "        print 'name',self.name,' :: ', self.skycoord\n",
    "    def getName(self):                          # getters\n",
    "        return self.name\n",
    "    def getRA(self):\n",
    "        return self.RA\n",
    "    def getDEC(self):\n",
    "        return self.DEC \n",
    "    def getSkyCoord(self):\n",
    "        return self.skycoord"
   ]
  },
  {
   "cell_type": "markdown",
   "metadata": {
    "deletable": true,
    "editable": true
   },
   "source": [
    "## Loop on entries to get info on coordinates on CALSPEC from Simbad\n",
    "\n",
    "- This is a way to sort the good name for stars\n",
    "- Moreover it does not crash if Simbad does not recognize a name"
   ]
  },
  {
   "cell_type": "code",
   "execution_count": 52,
   "metadata": {
    "collapsed": false,
    "deletable": true,
    "editable": true
   },
   "outputs": [
    {
     "name": "stderr",
     "output_type": "stream",
     "text": [
      "/Users/dagoret-campagnesylvie/anaconda/envs/pyastrophys/lib/python2.7/site-packages/astropy/table/table.py:2517: FutureWarning: comparison to `None` will result in an elementwise object comparison in the future.\n",
      "  result = (self.as_array().data == other) & (self.mask == false_mask)\n",
      "/Users/dagoret-campagnesylvie/anaconda/envs/pyastrophys/lib/python2.7/site-packages/astroquery/simbad/core.py:136: UserWarning: Warning: The script line number 3 raised an error (recorded in the `errors` attribute of the result table): '1732526 with NICMOS observations': No known catalog could be found\n",
      "  (error.line, error.msg))\n",
      "/Users/dagoret-campagnesylvie/anaconda/envs/pyastrophys/lib/python2.7/site-packages/astroquery/simbad/core.py:136: UserWarning: Warning: The script line number 3 raised an error (recorded in the `errors` attribute of the result table): '1732526': No known catalog could be found\n",
      "  (error.line, error.msg))\n",
      "/Users/dagoret-campagnesylvie/anaconda/envs/pyastrophys/lib/python2.7/site-packages/astroquery/simbad/core.py:136: UserWarning: Warning: The script line number 3 raised an error (recorded in the `errors` attribute of the result table): '1740346 with NICMOS observations': No known catalog could be found\n",
      "  (error.line, error.msg))\n",
      "/Users/dagoret-campagnesylvie/anaconda/envs/pyastrophys/lib/python2.7/site-packages/astroquery/simbad/core.py:136: UserWarning: Warning: The script line number 3 raised an error (recorded in the `errors` attribute of the result table): '1740346': No known catalog could be found\n",
      "  (error.line, error.msg))\n",
      "/Users/dagoret-campagnesylvie/anaconda/envs/pyastrophys/lib/python2.7/site-packages/astroquery/simbad/core.py:136: UserWarning: Warning: The script line number 3 raised an error (recorded in the `errors` attribute of the result table): '1743045 with NICMOS observations': No known catalog could be found\n",
      "  (error.line, error.msg))\n",
      "/Users/dagoret-campagnesylvie/anaconda/envs/pyastrophys/lib/python2.7/site-packages/astroquery/simbad/core.py:136: UserWarning: Warning: The script line number 3 raised an error (recorded in the `errors` attribute of the result table): '1743045': No known catalog could be found\n",
      "  (error.line, error.msg))\n",
      "/Users/dagoret-campagnesylvie/anaconda/envs/pyastrophys/lib/python2.7/site-packages/astroquery/simbad/core.py:136: UserWarning: Warning: The script line number 3 raised an error (recorded in the `errors` attribute of the result table): '1757132': No known catalog could be found\n",
      "  (error.line, error.msg))\n"
     ]
    },
    {
     "name": "stdout",
     "output_type": "stream",
     "text": [
      "--------------------- 1 )  10LAC -------------------------\n",
      " MAIN_ID        RA           DEC      ... COO_WAVELENGTH     COO_BIBCODE    \n",
      "             \"h:m:s\"       \"d:m:s\"    ...                                   \n",
      "--------- ------------- ------------- ... -------------- -------------------\n",
      "*  10 Lac 22 39 15.6786 +39 03 00.971 ...              O 2007A&A...474..653V\n",
      "--------------------- 2 )  10LAC -------------------------\n",
      " MAIN_ID        RA           DEC      ... COO_WAVELENGTH     COO_BIBCODE    \n",
      "             \"h:m:s\"       \"d:m:s\"    ...                                   \n",
      "--------- ------------- ------------- ... -------------- -------------------\n",
      "*  10 Lac 22 39 15.6786 +39 03 00.971 ...              O 2007A&A...474..653V\n",
      "--------------------- 3 )  10LAC -------------------------\n",
      " MAIN_ID        RA           DEC      ... COO_WAVELENGTH     COO_BIBCODE    \n",
      "             \"h:m:s\"       \"d:m:s\"    ...                                   \n",
      "--------- ------------- ------------- ... -------------- -------------------\n",
      "*  10 Lac 22 39 15.6786 +39 03 00.971 ...              O 2007A&A...474..653V\n"
     ]
    },
    {
     "name": "stderr",
     "output_type": "stream",
     "text": [
      "/Users/dagoret-campagnesylvie/anaconda/envs/pyastrophys/lib/python2.7/site-packages/astroquery/simbad/core.py:136: UserWarning: Warning: The script line number 3 raised an error (recorded in the `errors` attribute of the result table): '1802271 with NICMOS observations': No known catalog could be found\n",
      "  (error.line, error.msg))\n",
      "/Users/dagoret-campagnesylvie/anaconda/envs/pyastrophys/lib/python2.7/site-packages/astroquery/simbad/core.py:136: UserWarning: Warning: The script line number 3 raised an error (recorded in the `errors` attribute of the result table): '1802271': No known catalog could be found\n",
      "  (error.line, error.msg))\n",
      "/Users/dagoret-campagnesylvie/anaconda/envs/pyastrophys/lib/python2.7/site-packages/astroquery/simbad/core.py:136: UserWarning: Warning: The script line number 3 raised an error (recorded in the `errors` attribute of the result table): '1805292 with NICMOS observations': No known catalog could be found\n",
      "  (error.line, error.msg))\n",
      "/Users/dagoret-campagnesylvie/anaconda/envs/pyastrophys/lib/python2.7/site-packages/astroquery/simbad/core.py:136: UserWarning: Warning: The script line number 3 raised an error (recorded in the `errors` attribute of the result table): '1805292': No known catalog could be found\n",
      "  (error.line, error.msg))\n",
      "/Users/dagoret-campagnesylvie/anaconda/envs/pyastrophys/lib/python2.7/site-packages/astroquery/simbad/core.py:136: UserWarning: Warning: The script line number 3 raised an error (recorded in the `errors` attribute of the result table): '1808347': No known catalog could be found\n",
      "  (error.line, error.msg))\n",
      "/Users/dagoret-campagnesylvie/anaconda/envs/pyastrophys/lib/python2.7/site-packages/astroquery/simbad/core.py:136: UserWarning: Warning: The script line number 3 raised an error (recorded in the `errors` attribute of the result table): '1812095 with NICMOS observations': No known catalog could be found\n",
      "  (error.line, error.msg))\n",
      "/Users/dagoret-campagnesylvie/anaconda/envs/pyastrophys/lib/python2.7/site-packages/astroquery/simbad/core.py:136: UserWarning: Warning: The script line number 3 raised an error (recorded in the `errors` attribute of the result table): '1812095': No known catalog could be found\n",
      "  (error.line, error.msg))\n",
      "/Users/dagoret-campagnesylvie/anaconda/envs/pyastrophys/lib/python2.7/site-packages/astroquery/simbad/core.py:136: UserWarning: Warning: The script line number 3 raised an error (recorded in the `errors` attribute of the result table): '1812524 with NICMOS observations': No known catalog could be found\n",
      "  (error.line, error.msg))\n",
      "/Users/dagoret-campagnesylvie/anaconda/envs/pyastrophys/lib/python2.7/site-packages/astroquery/simbad/core.py:136: UserWarning: Warning: The script line number 3 raised an error (recorded in the `errors` attribute of the result table): '1812524': No known catalog could be found\n",
      "  (error.line, error.msg))\n",
      "/Users/dagoret-campagnesylvie/anaconda/envs/pyastrophys/lib/python2.7/site-packages/astroquery/simbad/core.py:136: UserWarning: Warning: The script line number 3 raised an error (recorded in the `errors` attribute of the result table): '2M0036+18 with STIS & NICMOS observations': No known catalog could be found\n",
      "  (error.line, error.msg))\n",
      "/Users/dagoret-campagnesylvie/anaconda/envs/pyastrophys/lib/python2.7/site-packages/astroquery/simbad/core.py:136: UserWarning: Warning: The script line number 3 raised an error (recorded in the `errors` attribute of the result table): 'Standard star flux with re-calibrated STIS & NICMOS observations---': No known catalog could be found\n",
      "  (error.line, error.msg))\n",
      "/Users/dagoret-campagnesylvie/anaconda/envs/pyastrophys/lib/python2.7/site-packages/astroquery/simbad/core.py:136: UserWarning: Warning: The script line number 3 raised an error (recorded in the `errors` attribute of the result table): '2M0036+18': No known catalog could be found\n",
      "  (error.line, error.msg))\n",
      "/Users/dagoret-campagnesylvie/anaconda/envs/pyastrophys/lib/python2.7/site-packages/astroquery/simbad/core.py:136: UserWarning: Warning: The script line number 3 raised an error (recorded in the `errors` attribute of the result table): '2M0559-14 with STIS & NICMOS observations': No known catalog could be found\n",
      "  (error.line, error.msg))\n",
      "/Users/dagoret-campagnesylvie/anaconda/envs/pyastrophys/lib/python2.7/site-packages/astroquery/simbad/core.py:136: UserWarning: Warning: The script line number 3 raised an error (recorded in the `errors` attribute of the result table): '2M0559-14': No known catalog could be found\n",
      "  (error.line, error.msg))\n",
      "/Users/dagoret-campagnesylvie/anaconda/envs/pyastrophys/lib/python2.7/site-packages/astroquery/simbad/core.py:136: UserWarning: Warning: The script line number 3 raised an error (recorded in the `errors` attribute of the result table): 'Astrophysics Supplement Series v44/p363, v44/p371, v73/p359, v73/p365.': this identifier has an incorrect format for catalog: \tA (ACO): Abell, Corwin, Olowin\n",
      "  (error.line, error.msg))\n",
      "/Users/dagoret-campagnesylvie/anaconda/envs/pyastrophys/lib/python2.7/site-packages/astroquery/simbad/core.py:136: UserWarning: Warning: The script line number 3 raised an error (recorded in the `errors` attribute of the result table): Identifier not found in the database : NAME AGK+81D266 with STIS observations\n",
      "  (error.line, error.msg))\n",
      "/Users/dagoret-campagnesylvie/anaconda/envs/pyastrophys/lib/python2.7/site-packages/astroquery/simbad/core.py:136: UserWarning: Warning: The script line number 3 raised an error (recorded in the `errors` attribute of the result table): 'AGK+81D266 with IUE, STIS, & NICMOS observations': this identifier has an incorrect format for catalog: \tAGK (AG): catalogue AG\n",
      "  (error.line, error.msg))\n",
      "/Users/dagoret-campagnesylvie/anaconda/envs/pyastrophys/lib/python2.7/site-packages/astroquery/simbad/core.py:136: UserWarning: Warning: The script line number 3 raised an error (recorded in the `errors` attribute of the result table): Identifier not found in the database : NAME AGK+81D266\n",
      "  (error.line, error.msg))\n",
      "/Users/dagoret-campagnesylvie/anaconda/envs/pyastrophys/lib/python2.7/site-packages/astroquery/simbad/core.py:136: UserWarning: Warning: The script line number 3 raised an error (recorded in the `errors` attribute of the result table): 'Bohlin, R. C. 2014, AJ, submitted': this identifier has an incorrect format for catalogs: \tB (GC): General Cat. Boss \tB (Batten): Batten \tB (BBB): Basinski, Bok, Bok \tB (Barnard): catalogue Barnard\n",
      "  (error.line, error.msg))\n",
      "/Users/dagoret-campagnesylvie/anaconda/envs/pyastrophys/lib/python2.7/site-packages/astroquery/simbad/core.py:136: UserWarning: Warning: The script line number 3 raised an error (recorded in the `errors` attribute of the result table): 'Bohlin, R. C. 2014, AJ, 147, 127': this identifier has an incorrect format for catalogs: \tB (GC): General Cat. Boss \tB (Batten): Batten \tB (BBB): Basinski, Bok, Bok \tB (Barnard): catalogue Barnard\n",
      "  (error.line, error.msg))\n",
      "/Users/dagoret-campagnesylvie/anaconda/envs/pyastrophys/lib/python2.7/site-packages/astroquery/simbad/core.py:136: UserWarning: Warning: The script line number 3 raised an error (recorded in the `errors` attribute of the result table): Identifier not found in the database : NAME ALPHA LYR with STIS observations\n",
      "  (error.line, error.msg))\n"
     ]
    },
    {
     "name": "stdout",
     "output_type": "stream",
     "text": [
      "--------------------- 4 )  ALPHA_LYR -------------------------\n",
      " MAIN_ID        RA           DEC      ... COO_WAVELENGTH     COO_BIBCODE    \n",
      "             \"h:m:s\"       \"d:m:s\"    ...                                   \n",
      "--------- ------------- ------------- ... -------------- -------------------\n",
      "* alf Lyr 18 36 56.3363 +38 47 01.280 ...              O 2007A&A...474..653V\n",
      "--------------------- 5 )  ALPHA_LYR -------------------------\n",
      " MAIN_ID        RA           DEC      ... COO_WAVELENGTH     COO_BIBCODE    \n",
      "             \"h:m:s\"       \"d:m:s\"    ...                                   \n",
      "--------- ------------- ------------- ... -------------- -------------------\n",
      "* alf Lyr 18 36 56.3363 +38 47 01.280 ...              O 2007A&A...474..653V\n",
      "--------------------- 6 )  ALPHA_LYR -------------------------\n",
      " MAIN_ID        RA           DEC      ... COO_WAVELENGTH     COO_BIBCODE    \n",
      "             \"h:m:s\"       \"d:m:s\"    ...                                   \n",
      "--------- ------------- ------------- ... -------------- -------------------\n",
      "* alf Lyr 18 36 56.3363 +38 47 01.280 ...              O 2007A&A...474..653V\n"
     ]
    },
    {
     "name": "stderr",
     "output_type": "stream",
     "text": [
      "/Users/dagoret-campagnesylvie/anaconda/envs/pyastrophys/lib/python2.7/site-packages/astroquery/simbad/core.py:136: UserWarning: Warning: The script line number 3 raised an error (recorded in the `errors` attribute of the result table): Identifier not found in the database : NAME BD02D3375\n",
      "  (error.line, error.msg))\n",
      "/Users/dagoret-campagnesylvie/anaconda/envs/pyastrophys/lib/python2.7/site-packages/astroquery/simbad/core.py:136: UserWarning: Warning: The script line number 3 raised an error (recorded in the `errors` attribute of the result table): Identifier not found in the database : NAME BD17D4708 with STIS observations\n",
      "  (error.line, error.msg))\n",
      "/Users/dagoret-campagnesylvie/anaconda/envs/pyastrophys/lib/python2.7/site-packages/astroquery/simbad/core.py:136: UserWarning: Warning: The script line number 3 raised an error (recorded in the `errors` attribute of the result table): 'BD17D4708 with STIS & NICMOS observations': this identifier has an incorrect format for catalog: \tBD : Bonner Durchmusterung\n",
      "  (error.line, error.msg))\n",
      "/Users/dagoret-campagnesylvie/anaconda/envs/pyastrophys/lib/python2.7/site-packages/astroquery/simbad/core.py:136: UserWarning: Warning: The script line number 3 raised an error (recorded in the `errors` attribute of the result table): Identifier not found in the database : NAME BD21D0607\n",
      "  (error.line, error.msg))\n",
      "/Users/dagoret-campagnesylvie/anaconda/envs/pyastrophys/lib/python2.7/site-packages/astroquery/simbad/core.py:136: UserWarning: Warning: The script line number 3 raised an error (recorded in the `errors` attribute of the result table): Identifier not found in the database : NAME BD26D2606\n",
      "  (error.line, error.msg))\n",
      "/Users/dagoret-campagnesylvie/anaconda/envs/pyastrophys/lib/python2.7/site-packages/astroquery/simbad/core.py:136: UserWarning: Warning: The script line number 3 raised an error (recorded in the `errors` attribute of the result table): Identifier not found in the database : NAME BD29D2091\n",
      "  (error.line, error.msg))\n",
      "/Users/dagoret-campagnesylvie/anaconda/envs/pyastrophys/lib/python2.7/site-packages/astroquery/simbad/core.py:136: UserWarning: Warning: The script line number 3 raised an error (recorded in the `errors` attribute of the result table): Identifier not found in the database : NAME BD54D1216\n",
      "  (error.line, error.msg))\n",
      "/Users/dagoret-campagnesylvie/anaconda/envs/pyastrophys/lib/python2.7/site-packages/astroquery/simbad/core.py:136: UserWarning: Warning: The script line number 3 raised an error (recorded in the `errors` attribute of the result table): Identifier not found in the database : NAME BD60D1753\n",
      "  (error.line, error.msg))\n",
      "/Users/dagoret-campagnesylvie/anaconda/envs/pyastrophys/lib/python2.7/site-packages/astroquery/simbad/core.py:136: UserWarning: Warning: The script line number 3 raised an error (recorded in the `errors` attribute of the result table): 'BD+17D4708 with STIS & NICMOS observations': this identifier has an incorrect format for catalog: \tBD : Bonner Durchmusterung\n",
      "  (error.line, error.msg))\n",
      "/Users/dagoret-campagnesylvie/anaconda/envs/pyastrophys/lib/python2.7/site-packages/astroquery/simbad/core.py:136: UserWarning: Warning: The script line number 3 raised an error (recorded in the `errors` attribute of the result table): Identifier not found in the database : NAME BD+17D4708\n",
      "  (error.line, error.msg))\n",
      "/Users/dagoret-campagnesylvie/anaconda/envs/pyastrophys/lib/python2.7/site-packages/astroquery/simbad/core.py:136: UserWarning: Warning: The script line number 3 raised an error (recorded in the `errors` attribute of the result table): Identifier not found in the database : NAME BD+28D4211 with STIS observations\n",
      "  (error.line, error.msg))\n",
      "/Users/dagoret-campagnesylvie/anaconda/envs/pyastrophys/lib/python2.7/site-packages/astroquery/simbad/core.py:136: UserWarning: Warning: The script line number 3 raised an error (recorded in the `errors` attribute of the result table): Identifier not found in the database : NAME BD28D4211\n",
      "  (error.line, error.msg))\n",
      "/Users/dagoret-campagnesylvie/anaconda/envs/pyastrophys/lib/python2.7/site-packages/astroquery/simbad/core.py:136: UserWarning: Warning: The script line number 3 raised an error (recorded in the `errors` attribute of the result table): Identifier not found in the database : NAME BD+75D325 with STIS observations\n",
      "  (error.line, error.msg))\n",
      "/Users/dagoret-campagnesylvie/anaconda/envs/pyastrophys/lib/python2.7/site-packages/astroquery/simbad/core.py:136: UserWarning: Warning: The script line number 3 raised an error (recorded in the `errors` attribute of the result table): Identifier not found in the database : NAME BD75\n",
      "  (error.line, error.msg))\n",
      "/Users/dagoret-campagnesylvie/anaconda/envs/pyastrophys/lib/python2.7/site-packages/astroquery/simbad/core.py:136: UserWarning: Warning: The script line number 3 raised an error (recorded in the `errors` attribute of the result table): 'C26202 with STIS & NICMOS observations': this identifier has an incorrect format for catalog: \tC : Cluster\n",
      "  (error.line, error.msg))\n",
      "/Users/dagoret-campagnesylvie/anaconda/envs/pyastrophys/lib/python2.7/site-packages/astroquery/simbad/core.py:136: UserWarning: Warning: The script line number 3 raised an error (recorded in the `errors` attribute of the result table): Identifier not found in the database : NAME C 26202\n",
      "  (error.line, error.msg))\n",
      "/Users/dagoret-campagnesylvie/anaconda/envs/pyastrophys/lib/python2.7/site-packages/astroquery/simbad/core.py:136: UserWarning: Warning: The script line number 3 raised an error (recorded in the `errors` attribute of the result table): Identifier not found in the database : NAME ETAUMA\n",
      "  (error.line, error.msg))\n",
      "/Users/dagoret-campagnesylvie/anaconda/envs/pyastrophys/lib/python2.7/site-packages/astroquery/simbad/core.py:136: UserWarning: Warning: The script line number 3 raised an error (recorded in the `errors` attribute of the result table): Identifier not found in the database : NAME FEIGE110 with STIS observations\n",
      "  (error.line, error.msg))\n",
      "/Users/dagoret-campagnesylvie/anaconda/envs/pyastrophys/lib/python2.7/site-packages/astroquery/simbad/core.py:136: UserWarning: Warning: The script line number 3 raised an error (recorded in the `errors` attribute of the result table): 'FEIGE110 with IUE, STIS, Oke, & NICMOS observations': this identifier has an incorrect format for catalog: \tFEIGE : catalogue Feige\n",
      "  (error.line, error.msg))\n"
     ]
    },
    {
     "name": "stdout",
     "output_type": "stream",
     "text": [
      "--------------------- 7 )  FEIGE110 -------------------------\n",
      " MAIN_ID        RA           DEC      ... COO_WAVELENGTH     COO_BIBCODE    \n",
      "             \"h:m:s\"       \"d:m:s\"    ...                                   \n",
      "--------- ------------- ------------- ... -------------- -------------------\n",
      "Feige 110 23 19 58.3981 -05 09 56.160 ...              O 2007A&A...474..653V\n",
      "--------------------- 8 )  FEIGE110 -------------------------\n",
      " MAIN_ID        RA           DEC      ... COO_WAVELENGTH     COO_BIBCODE    \n",
      "             \"h:m:s\"       \"d:m:s\"    ...                                   \n",
      "--------- ------------- ------------- ... -------------- -------------------\n",
      "Feige 110 23 19 58.3981 -05 09 56.160 ...              O 2007A&A...474..653V\n",
      "--------------------- 9 )  FEIGE110 -------------------------\n",
      " MAIN_ID        RA           DEC      ... COO_WAVELENGTH     COO_BIBCODE    \n",
      "             \"h:m:s\"       \"d:m:s\"    ...                                   \n",
      "--------- ------------- ------------- ... -------------- -------------------\n",
      "Feige 110 23 19 58.3981 -05 09 56.160 ...              O 2007A&A...474..653V\n",
      "--------------------- 10 )  FEIGE34 -------------------------\n",
      " MAIN_ID        RA           DEC      ... COO_WAVELENGTH     COO_BIBCODE    \n",
      "             \"h:m:s\"       \"d:m:s\"    ...                                   \n",
      "--------- ------------- ------------- ... -------------- -------------------\n",
      "Feige  34 10 39 36.7403 +43 06 09.255 ...              O 2007A&A...474..653V\n",
      "--------------------- 11 )  FEIGE34 -------------------------\n",
      " MAIN_ID        RA           DEC      ... COO_WAVELENGTH     COO_BIBCODE    \n",
      "             \"h:m:s\"       \"d:m:s\"    ...                                   \n",
      "--------- ------------- ------------- ... -------------- -------------------\n",
      "Feige  34 10 39 36.7403 +43 06 09.255 ...              O 2007A&A...474..653V\n",
      "--------------------- 12 )  FEIGE34 -------------------------\n",
      " MAIN_ID        RA           DEC      ... COO_WAVELENGTH     COO_BIBCODE    \n",
      "             \"h:m:s\"       \"d:m:s\"    ...                                   \n",
      "--------- ------------- ------------- ... -------------- -------------------\n",
      "Feige  34 10 39 36.7403 +43 06 09.255 ...              O 2007A&A...474..653V\n"
     ]
    },
    {
     "name": "stderr",
     "output_type": "stream",
     "text": [
      "/Users/dagoret-campagnesylvie/anaconda/envs/pyastrophys/lib/python2.7/site-packages/astroquery/simbad/core.py:136: UserWarning: Warning: The script line number 3 raised an error (recorded in the `errors` attribute of the result table): Identifier not found in the database : NAME FEIGE34 with STIS observations\n",
      "  (error.line, error.msg))\n",
      "/Users/dagoret-campagnesylvie/anaconda/envs/pyastrophys/lib/python2.7/site-packages/astroquery/simbad/core.py:136: UserWarning: Warning: The script line number 3 raised an error (recorded in the `errors` attribute of the result table): 'g191b2b mod 004.fits': this identifier has an incorrect format for catalog: \tg : Giclas\n",
      "  (error.line, error.msg))\n",
      "/Users/dagoret-campagnesylvie/anaconda/envs/pyastrophys/lib/python2.7/site-packages/astroquery/simbad/core.py:136: UserWarning: Warning: The script line number 3 raised an error (recorded in the `errors` attribute of the result table): 'Bohlin, R. C. 2009, in preparation': this identifier has an incorrect format for catalogs: \tB (GC): General Cat. Boss \tB (Batten): Batten \tB (BBB): Basinski, Bok, Bok \tB (Barnard): catalogue Barnard\n",
      "  (error.line, error.msg))\n",
      "/Users/dagoret-campagnesylvie/anaconda/envs/pyastrophys/lib/python2.7/site-packages/astroquery/simbad/core.py:136: UserWarning: Warning: The script line number 3 raised an error (recorded in the `errors` attribute of the result table): 'New STIS g=4 value --> new Vega mag, update G191B2B mag': this identifier has an incorrect format for catalogs: \tN (NOVA): catalogue NOVA \tN (NGC): catalogue NGC\n",
      "  (error.line, error.msg))\n",
      "/Users/dagoret-campagnesylvie/anaconda/envs/pyastrophys/lib/python2.7/site-packages/astroquery/simbad/core.py:136: UserWarning: Warning: The script line number 3 raised an error (recorded in the `errors` attribute of the result table): 'Rauch, Werner, Bohlin, & Kruk 2013, A&A, in press': No known catalog could be found\n",
      "  (error.line, error.msg))\n",
      "/Users/dagoret-campagnesylvie/anaconda/envs/pyastrophys/lib/python2.7/site-packages/astroquery/simbad/core.py:136: UserWarning: Warning: The script line number 3 raised an error (recorded in the `errors` attribute of the result table): 'Rauch, Werner, Bohlin, & Kruk 2013, A&A, 560, A106': No known catalog could be found\n",
      "  (error.line, error.msg))\n",
      "/Users/dagoret-campagnesylvie/anaconda/envs/pyastrophys/lib/python2.7/site-packages/astroquery/simbad/core.py:136: UserWarning: Warning: The script line number 3 raised an error (recorded in the `errors` attribute of the result table): 'Bohlin, Gordon, Tremblay 2014, PASP, 126, 711': this identifier has an incorrect format for catalogs: \tB (GC): General Cat. Boss \tB (Batten): Batten \tB (BBB): Basinski, Bok, Bok \tB (Barnard): catalogue Barnard\n",
      "  (error.line, error.msg))\n",
      "/Users/dagoret-campagnesylvie/anaconda/envs/pyastrophys/lib/python2.7/site-packages/astroquery/simbad/core.py:136: UserWarning: Warning: The script line number 3 raised an error (recorded in the `errors` attribute of the result table): Identifier not found in the database : NAME G191B2B with STIS observations\n",
      "  (error.line, error.msg))\n",
      "/Users/dagoret-campagnesylvie/anaconda/envs/pyastrophys/lib/python2.7/site-packages/astroquery/simbad/core.py:136: UserWarning: Warning: The script line number 3 raised an error (recorded in the `errors` attribute of the result table): 'Rauch, et al. 2013, A&A, in press': No known catalog could be found\n",
      "  (error.line, error.msg))\n",
      "/Users/dagoret-campagnesylvie/anaconda/envs/pyastrophys/lib/python2.7/site-packages/astroquery/simbad/core.py:136: UserWarning: Warning: The script line number 3 raised an error (recorded in the `errors` attribute of the result table): 'G191B2B with STIS & NICMOS observations': this identifier has an incorrect format for catalog: \tG : Giclas\n",
      "  (error.line, error.msg))\n",
      "/Users/dagoret-campagnesylvie/anaconda/envs/pyastrophys/lib/python2.7/site-packages/astroquery/simbad/core.py:136: UserWarning: Warning: The script line number 3 raised an error (recorded in the `errors` attribute of the result table): 'gd153 mod 004.fits': this identifier has an incorrect format for catalog: \tgd : Giclas, Dwarf\n",
      "  (error.line, error.msg))\n",
      "/Users/dagoret-campagnesylvie/anaconda/envs/pyastrophys/lib/python2.7/site-packages/astroquery/simbad/core.py:136: UserWarning: Warning: The script line number 3 raised an error (recorded in the `errors` attribute of the result table): 'Rauch, Bohlin, & Kruk 2013': No known catalog could be found\n",
      "  (error.line, error.msg))\n"
     ]
    },
    {
     "name": "stdout",
     "output_type": "stream",
     "text": [
      "--------------------- 13 )  G191B2B -------------------------\n",
      "  MAIN_ID         RA           DEC      ... COO_WAVELENGTH     COO_BIBCODE    \n",
      "               \"h:m:s\"       \"d:m:s\"    ...                                   \n",
      "----------- ------------- ------------- ... -------------- -------------------\n",
      "BD+52   913 05 05 30.6128 +52 49 51.955 ...              O 2007A&A...474..653V\n",
      "--------------------- 14 )  G191B2B -------------------------\n",
      "  MAIN_ID         RA           DEC      ... COO_WAVELENGTH     COO_BIBCODE    \n",
      "               \"h:m:s\"       \"d:m:s\"    ...                                   \n",
      "----------- ------------- ------------- ... -------------- -------------------\n",
      "BD+52   913 05 05 30.6128 +52 49 51.955 ...              O 2007A&A...474..653V\n",
      "--------------------- 15 )  G191B2B -------------------------\n",
      "  MAIN_ID         RA           DEC      ... COO_WAVELENGTH     COO_BIBCODE    \n",
      "               \"h:m:s\"       \"d:m:s\"    ...                                   \n",
      "----------- ------------- ------------- ... -------------- -------------------\n",
      "BD+52   913 05 05 30.6128 +52 49 51.955 ...              O 2007A&A...474..653V\n"
     ]
    },
    {
     "name": "stderr",
     "output_type": "stream",
     "text": [
      "/Users/dagoret-campagnesylvie/anaconda/envs/pyastrophys/lib/python2.7/site-packages/astroquery/simbad/core.py:136: UserWarning: Warning: The script line number 3 raised an error (recorded in the `errors` attribute of the result table): Identifier not found in the database : NAME GD153 with STIS observations\n",
      "  (error.line, error.msg))\n",
      "/Users/dagoret-campagnesylvie/anaconda/envs/pyastrophys/lib/python2.7/site-packages/astroquery/simbad/core.py:136: UserWarning: Warning: The script line number 3 raised an error (recorded in the `errors` attribute of the result table): 'GD153 with STIS & NICMOS observations': this identifier has an incorrect format for catalog: \tGD : Giclas, Dwarf\n",
      "  (error.line, error.msg))\n",
      "/Users/dagoret-campagnesylvie/anaconda/envs/pyastrophys/lib/python2.7/site-packages/astroquery/simbad/core.py:136: UserWarning: Warning: The script line number 3 raised an error (recorded in the `errors` attribute of the result table): 'gd71 mod 005.fits': this identifier has an incorrect format for catalog: \tgd : Giclas, Dwarf\n",
      "  (error.line, error.msg))\n"
     ]
    },
    {
     "name": "stdout",
     "output_type": "stream",
     "text": [
      "--------------------- 16 )  GD153 -------------------------\n",
      "MAIN_ID      RA          DEC      ... COO_WAVELENGTH     COO_BIBCODE    \n",
      "          \"h:m:s\"      \"d:m:s\"    ...                                   \n",
      "------- ------------ ------------ ... -------------- -------------------\n",
      " GD 153 12 57 02.337 +22 01 52.68 ...              I 2003yCat.2246....0C\n",
      "--------------------- 17 )  GD153 -------------------------\n",
      "MAIN_ID      RA          DEC      ... COO_WAVELENGTH     COO_BIBCODE    \n",
      "          \"h:m:s\"      \"d:m:s\"    ...                                   \n",
      "------- ------------ ------------ ... -------------- -------------------\n",
      " GD 153 12 57 02.337 +22 01 52.68 ...              I 2003yCat.2246....0C\n",
      "--------------------- 18 )  GD153 -------------------------\n",
      "MAIN_ID      RA          DEC      ... COO_WAVELENGTH     COO_BIBCODE    \n",
      "          \"h:m:s\"      \"d:m:s\"    ...                                   \n",
      "------- ------------ ------------ ... -------------- -------------------\n",
      " GD 153 12 57 02.337 +22 01 52.68 ...              I 2003yCat.2246....0C\n"
     ]
    },
    {
     "name": "stderr",
     "output_type": "stream",
     "text": [
      "/Users/dagoret-campagnesylvie/anaconda/envs/pyastrophys/lib/python2.7/site-packages/astroquery/simbad/core.py:136: UserWarning: Warning: The script line number 3 raised an error (recorded in the `errors` attribute of the result table): Identifier not found in the database : NAME GD71 with STIS observations\n",
      "  (error.line, error.msg))\n",
      "/Users/dagoret-campagnesylvie/anaconda/envs/pyastrophys/lib/python2.7/site-packages/astroquery/simbad/core.py:136: UserWarning: Warning: The script line number 3 raised an error (recorded in the `errors` attribute of the result table): 'GD71 with STIS & NICMOS observations': this identifier has an incorrect format for catalog: \tGD : Giclas, Dwarf\n",
      "  (error.line, error.msg))\n",
      "/Users/dagoret-campagnesylvie/anaconda/envs/pyastrophys/lib/python2.7/site-packages/astroquery/simbad/core.py:136: UserWarning: Warning: The script line number 3 raised an error (recorded in the `errors` attribute of the result table): Identifier not found in the database : GJ  7541 A\n",
      "  (error.line, error.msg))\n",
      "/Users/dagoret-campagnesylvie/anaconda/envs/pyastrophys/lib/python2.7/site-packages/astroquery/simbad/core.py:136: UserWarning: Warning: The script line number 3 raised an error (recorded in the `errors` attribute of the result table): Identifier not found in the database : NAME AC +70D5824 with STIS observations\n",
      "  (error.line, error.msg))\n",
      "/Users/dagoret-campagnesylvie/anaconda/envs/pyastrophys/lib/python2.7/site-packages/astroquery/simbad/core.py:136: UserWarning: Warning: The script line number 3 raised an error (recorded in the `errors` attribute of the result table): 'GRW+70D5824 with STIS & NICMOS observations': this identifier has an incorrect format for catalog: \tAC : catalogue AC\n",
      "  (error.line, error.msg))\n",
      "/Users/dagoret-campagnesylvie/anaconda/envs/pyastrophys/lib/python2.7/site-packages/astroquery/simbad/core.py:136: UserWarning: Warning: The script line number 3 raised an error (recorded in the `errors` attribute of the result table): Identifier not found in the database : NAME AC +70D5824\n",
      "  (error.line, error.msg))\n"
     ]
    },
    {
     "name": "stdout",
     "output_type": "stream",
     "text": [
      "--------------------- 19 )  GD71 -------------------------\n",
      "MAIN_ID      RA          DEC      ... COO_WAVELENGTH     COO_BIBCODE    \n",
      "          \"h:m:s\"      \"d:m:s\"    ...                                   \n",
      "------- ------------ ------------ ... -------------- -------------------\n",
      "  GD 71 05 52 27.614 +15 53 13.75 ...              I 2003yCat.2246....0C\n",
      "--------------------- 20 )  GD71 -------------------------\n",
      "MAIN_ID      RA          DEC      ... COO_WAVELENGTH     COO_BIBCODE    \n",
      "          \"h:m:s\"      \"d:m:s\"    ...                                   \n",
      "------- ------------ ------------ ... -------------- -------------------\n",
      "  GD 71 05 52 27.614 +15 53 13.75 ...              I 2003yCat.2246....0C\n",
      "--------------------- 21 )  GD71 -------------------------\n",
      "MAIN_ID      RA          DEC      ... COO_WAVELENGTH     COO_BIBCODE    \n",
      "          \"h:m:s\"      \"d:m:s\"    ...                                   \n",
      "------- ------------ ------------ ... -------------- -------------------\n",
      "  GD 71 05 52 27.614 +15 53 13.75 ...              I 2003yCat.2246....0C\n",
      "--------------------- 22 )  HD009051 -------------------------\n",
      " MAIN_ID        RA           DEC      ... COO_WAVELENGTH     COO_BIBCODE    \n",
      "             \"h:m:s\"       \"d:m:s\"    ...                                   \n",
      "--------- ------------- ------------- ... -------------- -------------------\n",
      "HD   9051 01 28 46.5020 -24 20 25.443 ...              O 2007A&A...474..653V\n",
      "--------------------- 23 )  HD009051 -------------------------\n",
      " MAIN_ID        RA           DEC      ... COO_WAVELENGTH     COO_BIBCODE    \n",
      "             \"h:m:s\"       \"d:m:s\"    ...                                   \n",
      "--------- ------------- ------------- ... -------------- -------------------\n",
      "HD   9051 01 28 46.5020 -24 20 25.443 ...              O 2007A&A...474..653V\n",
      "--------------------- 24 )  HD009051 -------------------------\n",
      " MAIN_ID        RA           DEC      ... COO_WAVELENGTH     COO_BIBCODE    \n",
      "             \"h:m:s\"       \"d:m:s\"    ...                                   \n",
      "--------- ------------- ------------- ... -------------- -------------------\n",
      "HD   9051 01 28 46.5020 -24 20 25.443 ...              O 2007A&A...474..653V\n",
      "--------------------- 25 )  HD031128 -------------------------\n",
      " MAIN_ID        RA           DEC      ... COO_WAVELENGTH     COO_BIBCODE    \n",
      "             \"h:m:s\"       \"d:m:s\"    ...                                   \n",
      "--------- ------------- ------------- ... -------------- -------------------\n",
      "HD  31128 04 52 09.9101 -27 03 50.950 ...              O 2007A&A...474..653V\n",
      "--------------------- 26 )  HD031128 -------------------------\n",
      " MAIN_ID        RA           DEC      ... COO_WAVELENGTH     COO_BIBCODE    \n",
      "             \"h:m:s\"       \"d:m:s\"    ...                                   \n",
      "--------- ------------- ------------- ... -------------- -------------------\n",
      "HD  31128 04 52 09.9101 -27 03 50.950 ...              O 2007A&A...474..653V\n",
      "--------------------- 27 )  HD031128 -------------------------\n",
      " MAIN_ID        RA           DEC      ... COO_WAVELENGTH     COO_BIBCODE    \n",
      "             \"h:m:s\"       \"d:m:s\"    ...                                   \n",
      "--------- ------------- ------------- ... -------------- -------------------\n",
      "HD  31128 04 52 09.9101 -27 03 50.950 ...              O 2007A&A...474..653V\n",
      "--------------------- 28 )  HD074000 -------------------------\n",
      " MAIN_ID        RA           DEC      ... COO_WAVELENGTH     COO_BIBCODE    \n",
      "             \"h:m:s\"       \"d:m:s\"    ...                                   \n",
      "--------- ------------- ------------- ... -------------- -------------------\n",
      "HD  74000 08 40 50.8036 -16 20 42.520 ...              O 2007A&A...474..653V\n",
      "--------------------- 29 )  HD074000 -------------------------\n",
      " MAIN_ID        RA           DEC      ... COO_WAVELENGTH     COO_BIBCODE    \n",
      "             \"h:m:s\"       \"d:m:s\"    ...                                   \n",
      "--------- ------------- ------------- ... -------------- -------------------\n",
      "HD  74000 08 40 50.8036 -16 20 42.520 ...              O 2007A&A...474..653V\n",
      "--------------------- 30 )  HD074000 -------------------------\n",
      " MAIN_ID        RA           DEC      ... COO_WAVELENGTH     COO_BIBCODE    \n",
      "             \"h:m:s\"       \"d:m:s\"    ...                                   \n",
      "--------- ------------- ------------- ... -------------- -------------------\n",
      "HD  74000 08 40 50.8036 -16 20 42.520 ...              O 2007A&A...474..653V\n",
      "--------------------- 31 )  HD106252 -------------------------\n",
      " MAIN_ID        RA           DEC      ... COO_WAVELENGTH     COO_BIBCODE    \n",
      "             \"h:m:s\"       \"d:m:s\"    ...                                   \n",
      "--------- ------------- ------------- ... -------------- -------------------\n",
      "HD 106252 12 13 29.5093 +10 02 29.897 ...              O 2007A&A...474..653V\n",
      "--------------------- 32 )  HD106252 -------------------------\n",
      " MAIN_ID        RA           DEC      ... COO_WAVELENGTH     COO_BIBCODE    \n",
      "             \"h:m:s\"       \"d:m:s\"    ...                                   \n",
      "--------- ------------- ------------- ... -------------- -------------------\n",
      "HD 106252 12 13 29.5093 +10 02 29.897 ...              O 2007A&A...474..653V\n",
      "--------------------- 33 )  HD106252 -------------------------\n",
      " MAIN_ID        RA           DEC      ... COO_WAVELENGTH     COO_BIBCODE    \n",
      "             \"h:m:s\"       \"d:m:s\"    ...                                   \n",
      "--------- ------------- ------------- ... -------------- -------------------\n",
      "HD 106252 12 13 29.5093 +10 02 29.897 ...              O 2007A&A...474..653V\n",
      "--------------------- 34 )  HD111980 -------------------------\n",
      " MAIN_ID        RA           DEC      ... COO_WAVELENGTH     COO_BIBCODE    \n",
      "             \"h:m:s\"       \"d:m:s\"    ...                                   \n",
      "--------- ------------- ------------- ... -------------- -------------------\n",
      "HD 111980 12 53 15.0532 -18 31 19.999 ...              O 2007A&A...474..653V\n",
      "--------------------- 35 )  HD111980 -------------------------\n",
      " MAIN_ID        RA           DEC      ... COO_WAVELENGTH     COO_BIBCODE    \n",
      "             \"h:m:s\"       \"d:m:s\"    ...                                   \n",
      "--------- ------------- ------------- ... -------------- -------------------\n",
      "HD 111980 12 53 15.0532 -18 31 19.999 ...              O 2007A&A...474..653V\n",
      "--------------------- 36 )  HD111980 -------------------------\n",
      " MAIN_ID        RA           DEC      ... COO_WAVELENGTH     COO_BIBCODE    \n",
      "             \"h:m:s\"       \"d:m:s\"    ...                                   \n",
      "--------- ------------- ------------- ... -------------- -------------------\n",
      "HD 111980 12 53 15.0532 -18 31 19.999 ...              O 2007A&A...474..653V\n",
      "--------------------- 37 )  HD116405 -------------------------\n",
      " MAIN_ID        RA           DEC      ... COO_WAVELENGTH     COO_BIBCODE    \n",
      "             \"h:m:s\"       \"d:m:s\"    ...                                   \n",
      "--------- ------------- ------------- ... -------------- -------------------\n",
      "HD 116405 13 22 45.1228 +44 42 53.899 ...              O 2007A&A...474..653V\n",
      "--------------------- 38 )  HD116405 -------------------------\n",
      " MAIN_ID        RA           DEC      ... COO_WAVELENGTH     COO_BIBCODE    \n",
      "             \"h:m:s\"       \"d:m:s\"    ...                                   \n",
      "--------- ------------- ------------- ... -------------- -------------------\n",
      "HD 116405 13 22 45.1228 +44 42 53.899 ...              O 2007A&A...474..653V\n",
      "--------------------- 39 )  HD116405 -------------------------\n",
      " MAIN_ID        RA           DEC      ... COO_WAVELENGTH     COO_BIBCODE    \n",
      "             \"h:m:s\"       \"d:m:s\"    ...                                   \n",
      "--------- ------------- ------------- ... -------------- -------------------\n",
      "HD 116405 13 22 45.1228 +44 42 53.899 ...              O 2007A&A...474..653V\n",
      "--------------------- 40 )  HD14943 -------------------------\n",
      " MAIN_ID        RA           DEC      ... COO_WAVELENGTH     COO_BIBCODE    \n",
      "             \"h:m:s\"       \"d:m:s\"    ...                                   \n",
      "--------- ------------- ------------- ... -------------- -------------------\n",
      "HD  14943 02 22 54.6748 -51 05 31.665 ...              O 2007A&A...474..653V\n",
      "--------------------- 41 )  HD14943 -------------------------\n",
      " MAIN_ID        RA           DEC      ... COO_WAVELENGTH     COO_BIBCODE    \n",
      "             \"h:m:s\"       \"d:m:s\"    ...                                   \n",
      "--------- ------------- ------------- ... -------------- -------------------\n",
      "HD  14943 02 22 54.6748 -51 05 31.665 ...              O 2007A&A...474..653V\n",
      "--------------------- 42 )  HD14943 -------------------------\n",
      " MAIN_ID        RA           DEC      ... COO_WAVELENGTH     COO_BIBCODE    \n",
      "             \"h:m:s\"       \"d:m:s\"    ...                                   \n",
      "--------- ------------- ------------- ... -------------- -------------------\n",
      "HD  14943 02 22 54.6748 -51 05 31.665 ...              O 2007A&A...474..653V\n",
      "--------------------- 43 )  HD158485 -------------------------\n",
      "MAIN_ID        RA           DEC      ... COO_WAVELENGTH     COO_BIBCODE    \n",
      "            \"h:m:s\"       \"d:m:s\"    ...                                   \n",
      "-------- ------------- ------------- ... -------------- -------------------\n",
      "HR  6514 17 26 04.8365 +58 39 06.824 ...              O 2007A&A...474..653V\n",
      "--------------------- 44 )  HD158485 -------------------------\n",
      "MAIN_ID        RA           DEC      ... COO_WAVELENGTH     COO_BIBCODE    \n",
      "            \"h:m:s\"       \"d:m:s\"    ...                                   \n",
      "-------- ------------- ------------- ... -------------- -------------------\n",
      "HR  6514 17 26 04.8365 +58 39 06.824 ...              O 2007A&A...474..653V\n",
      "--------------------- 45 )  HD158485 -------------------------\n",
      "MAIN_ID        RA           DEC      ... COO_WAVELENGTH     COO_BIBCODE    \n",
      "            \"h:m:s\"       \"d:m:s\"    ...                                   \n",
      "-------- ------------- ------------- ... -------------- -------------------\n",
      "HR  6514 17 26 04.8365 +58 39 06.824 ...              O 2007A&A...474..653V\n",
      "--------------------- 46 )  HD159222 -------------------------\n",
      " MAIN_ID        RA           DEC      ... COO_WAVELENGTH     COO_BIBCODE    \n",
      "             \"h:m:s\"       \"d:m:s\"    ...                                   \n",
      "--------- ------------- ------------- ... -------------- -------------------\n",
      "HD 159222 17 32 00.9925 +34 16 16.130 ...              O 2007A&A...474..653V\n",
      "--------------------- 47 )  HD159222 -------------------------\n",
      " MAIN_ID        RA           DEC      ... COO_WAVELENGTH     COO_BIBCODE    \n",
      "             \"h:m:s\"       \"d:m:s\"    ...                                   \n",
      "--------- ------------- ------------- ... -------------- -------------------\n",
      "HD 159222 17 32 00.9925 +34 16 16.130 ...              O 2007A&A...474..653V\n",
      "--------------------- 48 )  HD159222 -------------------------\n",
      " MAIN_ID        RA           DEC      ... COO_WAVELENGTH     COO_BIBCODE    \n",
      "             \"h:m:s\"       \"d:m:s\"    ...                                   \n",
      "--------- ------------- ------------- ... -------------- -------------------\n",
      "HD 159222 17 32 00.9925 +34 16 16.130 ...              O 2007A&A...474..653V\n",
      "--------------------- 49 )  HD160617 -------------------------\n",
      " MAIN_ID        RA           DEC      ... COO_WAVELENGTH     COO_BIBCODE    \n",
      "             \"h:m:s\"       \"d:m:s\"    ...                                   \n",
      "--------- ------------- ------------- ... -------------- -------------------\n",
      "HD 160617 17 42 49.3240 -40 19 15.525 ...              O 2007A&A...474..653V\n",
      "--------------------- 50 )  HD160617 -------------------------\n",
      " MAIN_ID        RA           DEC      ... COO_WAVELENGTH     COO_BIBCODE    \n",
      "             \"h:m:s\"       \"d:m:s\"    ...                                   \n",
      "--------- ------------- ------------- ... -------------- -------------------\n",
      "HD 160617 17 42 49.3240 -40 19 15.525 ...              O 2007A&A...474..653V\n",
      "--------------------- 51 )  HD160617 -------------------------\n",
      " MAIN_ID        RA           DEC      ... COO_WAVELENGTH     COO_BIBCODE    \n",
      "             \"h:m:s\"       \"d:m:s\"    ...                                   \n",
      "--------- ------------- ------------- ... -------------- -------------------\n",
      "HD 160617 17 42 49.3240 -40 19 15.525 ...              O 2007A&A...474..653V\n",
      "--------------------- 52 )  HD163466 -------------------------\n",
      " MAIN_ID        RA           DEC      ... COO_WAVELENGTH     COO_BIBCODE    \n",
      "             \"h:m:s\"       \"d:m:s\"    ...                                   \n",
      "--------- ------------- ------------- ... -------------- -------------------\n",
      "HD 163466 17 52 25.3743 +60 23 46.946 ...              O 2007A&A...474..653V\n",
      "--------------------- 53 )  HD163466 -------------------------\n",
      " MAIN_ID        RA           DEC      ... COO_WAVELENGTH     COO_BIBCODE    \n",
      "             \"h:m:s\"       \"d:m:s\"    ...                                   \n",
      "--------- ------------- ------------- ... -------------- -------------------\n",
      "HD 163466 17 52 25.3743 +60 23 46.946 ...              O 2007A&A...474..653V\n",
      "--------------------- 54 )  HD163466 -------------------------\n",
      " MAIN_ID        RA           DEC      ... COO_WAVELENGTH     COO_BIBCODE    \n",
      "             \"h:m:s\"       \"d:m:s\"    ...                                   \n",
      "--------- ------------- ------------- ... -------------- -------------------\n",
      "HD 163466 17 52 25.3743 +60 23 46.946 ...              O 2007A&A...474..653V\n",
      "--------------------- 55 )  HD165459 -------------------------\n",
      " MAIN_ID        RA           DEC      ... COO_WAVELENGTH     COO_BIBCODE    \n",
      "             \"h:m:s\"       \"d:m:s\"    ...                                   \n",
      "--------- ------------- ------------- ... -------------- -------------------\n",
      "HD 165459 18 02 30.7405 +58 37 38.159 ...              O 2007A&A...474..653V\n",
      "--------------------- 56 )  HD165459 -------------------------\n",
      " MAIN_ID        RA           DEC      ... COO_WAVELENGTH     COO_BIBCODE    \n",
      "             \"h:m:s\"       \"d:m:s\"    ...                                   \n",
      "--------- ------------- ------------- ... -------------- -------------------\n",
      "HD 165459 18 02 30.7405 +58 37 38.159 ...              O 2007A&A...474..653V\n",
      "--------------------- 57 )  HD165459 -------------------------\n",
      " MAIN_ID        RA           DEC      ... COO_WAVELENGTH     COO_BIBCODE    \n",
      "             \"h:m:s\"       \"d:m:s\"    ...                                   \n",
      "--------- ------------- ------------- ... -------------- -------------------\n",
      "HD 165459 18 02 30.7405 +58 37 38.159 ...              O 2007A&A...474..653V\n",
      "--------------------- 58 )  HD180609 -------------------------\n",
      " MAIN_ID        RA           DEC      ... COO_WAVELENGTH     COO_BIBCODE    \n",
      "             \"h:m:s\"       \"d:m:s\"    ...                                   \n",
      "--------- ------------- ------------- ... -------------- -------------------\n",
      "HD 180609 19 12 47.1992 +64 10 37.179 ...              O 2007A&A...474..653V\n",
      "--------------------- 59 )  HD180609 -------------------------\n",
      " MAIN_ID        RA           DEC      ... COO_WAVELENGTH     COO_BIBCODE    \n",
      "             \"h:m:s\"       \"d:m:s\"    ...                                   \n",
      "--------- ------------- ------------- ... -------------- -------------------\n",
      "HD 180609 19 12 47.1992 +64 10 37.179 ...              O 2007A&A...474..653V\n",
      "--------------------- 60 )  HD180609 -------------------------\n",
      " MAIN_ID        RA           DEC      ... COO_WAVELENGTH     COO_BIBCODE    \n",
      "             \"h:m:s\"       \"d:m:s\"    ...                                   \n",
      "--------- ------------- ------------- ... -------------- -------------------\n",
      "HD 180609 19 12 47.1992 +64 10 37.179 ...              O 2007A&A...474..653V\n",
      "--------------------- 61 )  HD185975 -------------------------\n",
      " MAIN_ID        RA           DEC      ... COO_WAVELENGTH     COO_BIBCODE    \n",
      "             \"h:m:s\"       \"d:m:s\"    ...                                   \n",
      "--------- ------------- ------------- ... -------------- -------------------\n",
      "HD 185975 20 28 18.7284 -87 28 19.941 ...              O 2007A&A...474..653V\n",
      "--------------------- 62 )  HD185975 -------------------------\n",
      " MAIN_ID        RA           DEC      ... COO_WAVELENGTH     COO_BIBCODE    \n",
      "             \"h:m:s\"       \"d:m:s\"    ...                                   \n",
      "--------- ------------- ------------- ... -------------- -------------------\n",
      "HD 185975 20 28 18.7284 -87 28 19.941 ...              O 2007A&A...474..653V\n",
      "--------------------- 63 )  HD185975 -------------------------\n",
      " MAIN_ID        RA           DEC      ... COO_WAVELENGTH     COO_BIBCODE    \n",
      "             \"h:m:s\"       \"d:m:s\"    ...                                   \n",
      "--------- ------------- ------------- ... -------------- -------------------\n",
      "HD 185975 20 28 18.7284 -87 28 19.941 ...              O 2007A&A...474..653V\n",
      "--------------------- 64 )  HD200654 -------------------------\n",
      " MAIN_ID        RA           DEC      ... COO_WAVELENGTH     COO_BIBCODE    \n",
      "             \"h:m:s\"       \"d:m:s\"    ...                                   \n",
      "--------- ------------- ------------- ... -------------- -------------------\n",
      "HD 200654 21 06 34.7498 -49 57 50.277 ...              O 2007A&A...474..653V"
     ]
    },
    {
     "name": "stderr",
     "output_type": "stream",
     "text": [
      "/Users/dagoret-campagnesylvie/anaconda/envs/pyastrophys/lib/python2.7/site-packages/astroquery/simbad/core.py:136: UserWarning: Warning: The script line number 3 raised an error (recorded in the `errors` attribute of the result table): Identifier not found in the database : NAME HD165459 with NICMOS observations\n",
      "  (error.line, error.msg))\n"
     ]
    },
    {
     "name": "stdout",
     "output_type": "stream",
     "text": [
      "\n",
      "--------------------- 65 )  HD200654 -------------------------\n",
      " MAIN_ID        RA           DEC      ... COO_WAVELENGTH     COO_BIBCODE    \n",
      "             \"h:m:s\"       \"d:m:s\"    ...                                   \n",
      "--------- ------------- ------------- ... -------------- -------------------\n",
      "HD 200654 21 06 34.7498 -49 57 50.277 ...              O 2007A&A...474..653V\n",
      "--------------------- 66 )  HD200654 -------------------------\n",
      " MAIN_ID        RA           DEC      ... COO_WAVELENGTH     COO_BIBCODE    \n",
      "             \"h:m:s\"       \"d:m:s\"    ...                                   \n",
      "--------- ------------- ------------- ... -------------- -------------------\n",
      "HD 200654 21 06 34.7498 -49 57 50.277 ...              O 2007A&A...474..653V\n",
      "--------------------- 67 )  HD205905 -------------------------\n",
      " MAIN_ID        RA           DEC      ... COO_WAVELENGTH     COO_BIBCODE    \n",
      "             \"h:m:s\"       \"d:m:s\"    ...                                   \n",
      "--------- ------------- ------------- ... -------------- -------------------\n",
      "HD 205905 21 39 10.1515 -27 18 23.668 ...              O 2007A&A...474..653V\n",
      "--------------------- 68 )  HD205905 -------------------------\n",
      " MAIN_ID        RA           DEC      ... COO_WAVELENGTH     COO_BIBCODE    \n",
      "             \"h:m:s\"       \"d:m:s\"    ...                                   \n",
      "--------- ------------- ------------- ... -------------- -------------------\n",
      "HD 205905 21 39 10.1515 -27 18 23.668 ...              O 2007A&A...474..653V\n",
      "--------------------- 69 )  HD205905 -------------------------\n",
      " MAIN_ID        RA           DEC      ... COO_WAVELENGTH     COO_BIBCODE    \n",
      "             \"h:m:s\"       \"d:m:s\"    ...                                   \n",
      "--------- ------------- ------------- ... -------------- -------------------\n",
      "HD 205905 21 39 10.1515 -27 18 23.668 ...              O 2007A&A...474..653V\n",
      "--------------------- 70 )  HD209458 -------------------------\n",
      "  MAIN_ID         RA           DEC      ... COO_WAVELENGTH     COO_BIBCODE    \n",
      "               \"h:m:s\"       \"d:m:s\"    ...                                   \n",
      "----------- ------------- ------------- ... -------------- -------------------\n",
      "V* V376 Peg 22 03 10.7720 +18 53 03.543 ...              O 2007A&A...474..653V\n",
      "--------------------- 71 )  HD209458 -------------------------\n",
      "  MAIN_ID         RA           DEC      ... COO_WAVELENGTH     COO_BIBCODE    \n",
      "               \"h:m:s\"       \"d:m:s\"    ...                                   \n",
      "----------- ------------- ------------- ... -------------- -------------------\n",
      "V* V376 Peg 22 03 10.7720 +18 53 03.543 ...              O 2007A&A...474..653V\n",
      "--------------------- 72 )  HD209458 -------------------------\n",
      "  MAIN_ID         RA           DEC      ... COO_WAVELENGTH     COO_BIBCODE    \n",
      "               \"h:m:s\"       \"d:m:s\"    ...                                   \n",
      "----------- ------------- ------------- ... -------------- -------------------\n",
      "V* V376 Peg 22 03 10.7720 +18 53 03.543 ...              O 2007A&A...474..653V\n",
      "--------------------- 73 )  HD37725 -------------------------"
     ]
    },
    {
     "name": "stderr",
     "output_type": "stream",
     "text": [
      "/Users/dagoret-campagnesylvie/anaconda/envs/pyastrophys/lib/python2.7/site-packages/astroquery/simbad/core.py:136: UserWarning: Warning: The script line number 3 raised an error (recorded in the `errors` attribute of the result table): 'HD209458 with STIS & NICMOS observations': this identifier has an incorrect format for catalog: \tHD : Henry Draper\n",
      "  (error.line, error.msg))\n"
     ]
    },
    {
     "name": "stdout",
     "output_type": "stream",
     "text": [
      "\n",
      " MAIN_ID        RA           DEC      ... COO_WAVELENGTH     COO_BIBCODE    \n",
      "             \"h:m:s\"       \"d:m:s\"    ...                                   \n",
      "--------- ------------- ------------- ... -------------- -------------------\n",
      "HD  37725 05 41 54.3707 +29 17 50.925 ...                1998A&A...335L..65H\n",
      "--------------------- 74 )  HD37725 -------------------------\n",
      " MAIN_ID        RA           DEC      ... COO_WAVELENGTH     COO_BIBCODE    \n",
      "             \"h:m:s\"       \"d:m:s\"    ...                                   \n",
      "--------- ------------- ------------- ... -------------- -------------------\n",
      "HD  37725 05 41 54.3707 +29 17 50.925 ...                1998A&A...335L..65H\n",
      "--------------------- 75 )  HD37725 -------------------------\n",
      " MAIN_ID        RA           DEC      ... COO_WAVELENGTH     COO_BIBCODE    \n",
      "             \"h:m:s\"       \"d:m:s\"    ...                                   \n",
      "--------- ------------- ------------- ... -------------- -------------------\n",
      "HD  37725 05 41 54.3707 +29 17 50.925 ...                1998A&A...335L..65H\n",
      "--------------------- 76 )  HD37962 -------------------------\n",
      " MAIN_ID        RA           DEC      ... COO_WAVELENGTH     COO_BIBCODE    \n",
      "             \"h:m:s\"       \"d:m:s\"    ...                                   \n",
      "--------- ------------- ------------- ... -------------- -------------------\n",
      "HD  37962 05 40 51.9668 -31 21 03.987 ...              O 2007A&A...474..653V\n",
      "--------------------- 77 )  HD37962 -------------------------\n",
      " MAIN_ID        RA           DEC      ... COO_WAVELENGTH     COO_BIBCODE    \n",
      "             \"h:m:s\"       \"d:m:s\"    ...                                   \n",
      "--------- ------------- ------------- ... -------------- -------------------\n",
      "HD  37962 05 40 51.9668 -31 21 03.987 ...              O 2007A&A...474..653V\n",
      "--------------------- 78 )  HD37962 -------------------------\n",
      " MAIN_ID        RA           DEC      ... COO_WAVELENGTH     COO_BIBCODE    \n",
      "             \"h:m:s\"       \"d:m:s\"    ...                                   \n",
      "--------- ------------- ------------- ... -------------- -------------------\n",
      "HD  37962 05 40 51.9668 -31 21 03.987 ...              O 2007A&A...474..653V\n",
      "--------------------- 79 )  HD38949 -------------------------\n",
      " MAIN_ID        RA           DEC      ... COO_WAVELENGTH     COO_BIBCODE    \n",
      "             \"h:m:s\"       \"d:m:s\"    ...                                   \n",
      "--------- ------------- ------------- ... -------------- -------------------\n",
      "HD  38949 05 48 20.0586 -24 27 49.861 ...              O 2007A&A...474..653V\n",
      "--------------------- 80 )  HD38949 -------------------------\n",
      " MAIN_ID        RA           DEC      ... COO_WAVELENGTH     COO_BIBCODE    \n",
      "             \"h:m:s\"       \"d:m:s\"    ...                                   \n",
      "--------- ------------- ------------- ... -------------- -------------------\n",
      "HD  38949 05 48 20.0586 -24 27 49.861 ...              O 2007A&A...474..653V\n",
      "--------------------- 81 )  HD38949 -------------------------\n",
      " MAIN_ID        RA           DEC      ... COO_WAVELENGTH     COO_BIBCODE    \n",
      "             \"h:m:s\"       \"d:m:s\"    ...                                   \n",
      "--------- ------------- ------------- ... -------------- -------------------\n",
      "HD  38949 05 48 20.0586 -24 27 49.861 ...              O 2007A&A...474..653V\n",
      "--------------------- 82 )  HD60753 -------------------------\n",
      " MAIN_ID        RA           DEC      ... COO_WAVELENGTH     COO_BIBCODE    \n",
      "             \"h:m:s\"       \"d:m:s\"    ...                                   \n",
      "--------- ------------- ------------- ... -------------- -------------------\n",
      "HD  60753 07 33 27.3183 -50 35 03.318 ...              O 2007A&A...474..653V\n",
      "--------------------- 83 )  HD60753 -------------------------\n",
      " MAIN_ID        RA           DEC      ... COO_WAVELENGTH     COO_BIBCODE    \n",
      "             \"h:m:s\"       \"d:m:s\"    ...                                   \n",
      "--------- ------------- ------------- ... -------------- -------------------\n",
      "HD  60753 07 33 27.3183 -50 35 03.318 ...              O 2007A&A...474..653V\n",
      "--------------------- 84 )  HD60753 -------------------------\n",
      " MAIN_ID        RA           DEC      ... COO_WAVELENGTH     COO_BIBCODE    \n",
      "             \"h:m:s\"       \"d:m:s\"    ...                                   \n",
      "--------- ------------- ------------- ... -------------- -------------------\n",
      "HD  60753 07 33 27.3183 -50 35 03.318 ...              O 2007A&A...474..653V\n",
      "--------------------- 85 )  HD93521 -------------------------\n",
      " MAIN_ID        RA           DEC      ... COO_WAVELENGTH     COO_BIBCODE    \n",
      "             \"h:m:s\"       \"d:m:s\"    ...                                   \n",
      "--------- ------------- ------------- ... -------------- -------------------\n",
      "HD  93521 10 48 23.5113 +37 34 13.092 ...              O 2007A&A...474..653V\n",
      "--------------------- 86 )  HD93521 -------------------------\n",
      " MAIN_ID        RA           DEC      ... COO_WAVELENGTH     COO_BIBCODE    \n",
      "             \"h:m:s\"       \"d:m:s\"    ...                                   \n",
      "--------- ------------- ------------- ... -------------- -------------------\n",
      "HD  93521 10 48 23.5113 +37 34 13.092 ...              O 2007A&A...474..653V\n",
      "--------------------- 87 )  HD93521 -------------------------\n",
      " MAIN_ID        RA           DEC      ... COO_WAVELENGTH     COO_BIBCODE    \n",
      "             \"h:m:s\"       \"d:m:s\"    ...                                   \n",
      "--------- ------------- ------------- ... -------------- -------------------\n",
      "HD  93521 10 48 23.5113 +37 34 13.092 ...              O 2007A&A...474..653V\n",
      "--------------------- 88 )  HZ21 -------------------------\n",
      "MAIN_ID      RA         DEC     ... COO_QUAL COO_WAVELENGTH     COO_BIBCODE    \n",
      "          \"h:m:s\"     \"d:m:s\"   ...                                            \n",
      "------- ----------- ----------- ... -------- -------------- -------------------\n",
      "  HZ 21 12 13 56.25 +32 56 31.4 ...        B              I 2003yCat.2246....0C\n",
      "--------------------- 89 )  HZ21 -------------------------\n",
      "MAIN_ID      RA         DEC     ... COO_QUAL COO_WAVELENGTH     COO_BIBCODE    \n",
      "          \"h:m:s\"     \"d:m:s\"   ...                                            \n",
      "------- ----------- ----------- ... -------- -------------- -------------------\n",
      "  HZ 21 12 13 56.25 +32 56 31.4 ...        B              I 2003yCat.2246....0C\n"
     ]
    },
    {
     "name": "stderr",
     "output_type": "stream",
     "text": [
      "/Users/dagoret-campagnesylvie/anaconda/envs/pyastrophys/lib/python2.7/site-packages/astroquery/simbad/core.py:136: UserWarning: Warning: The script line number 3 raised an error (recorded in the `errors` attribute of the result table): Identifier not found in the database : NAME HD93521 with STIS observations\n",
      "  (error.line, error.msg))\n",
      "/Users/dagoret-campagnesylvie/anaconda/envs/pyastrophys/lib/python2.7/site-packages/astroquery/simbad/core.py:136: UserWarning: Warning: The script line number 3 raised an error (recorded in the `errors` attribute of the result table): Identifier not found in the database : NAME HS2027 with STIS observations\n",
      "  (error.line, error.msg))\n",
      "/Users/dagoret-campagnesylvie/anaconda/envs/pyastrophys/lib/python2.7/site-packages/astroquery/simbad/core.py:136: UserWarning: Warning: The script line number 3 raised an error (recorded in the `errors` attribute of the result table): Identifier not found in the database : NAME HS2027\n",
      "  (error.line, error.msg))\n",
      "/Users/dagoret-campagnesylvie/anaconda/envs/pyastrophys/lib/python2.7/site-packages/astroquery/simbad/core.py:136: UserWarning: Warning: The script line number 3 raised an error (recorded in the `errors` attribute of the result table): Identifier not found in the database : NAME HZ21 with STIS observations\n",
      "  (error.line, error.msg))\n"
     ]
    },
    {
     "name": "stdout",
     "output_type": "stream",
     "text": [
      "--------------------- 90 )  HZ21 -------------------------\n",
      "MAIN_ID      RA         DEC     ... COO_QUAL COO_WAVELENGTH     COO_BIBCODE    \n",
      "          \"h:m:s\"     \"d:m:s\"   ...                                            \n",
      "------- ----------- ----------- ... -------- -------------- -------------------\n",
      "  HZ 21 12 13 56.25 +32 56 31.4 ...        B              I 2003yCat.2246....0C\n",
      "--------------------- 91 )  HZ43 -------------------------\n",
      "MAIN_ID       RA           DEC      ... COO_WAVELENGTH     COO_BIBCODE    \n",
      "           \"h:m:s\"       \"d:m:s\"    ...                                   \n",
      "------- ------------- ------------- ... -------------- -------------------\n",
      "  HZ 43 13 16 21.8532 +29 05 55.379 ...              O 2007A&A...474..653V\n",
      "--------------------- 92 )  HZ43 -------------------------\n",
      "MAIN_ID       RA           DEC      ... COO_WAVELENGTH     COO_BIBCODE    \n",
      "           \"h:m:s\"       \"d:m:s\"    ...                                   \n",
      "------- ------------- ------------- ... -------------- -------------------\n",
      "  HZ 43 13 16 21.8532 +29 05 55.379 ...              O 2007A&A...474..653V\n",
      "--------------------- 93 )  HZ43 -------------------------\n",
      "MAIN_ID       RA           DEC      ... COO_WAVELENGTH     COO_BIBCODE    \n",
      "           \"h:m:s\"       \"d:m:s\"    ...                                   \n",
      "------- ------------- ------------- ... -------------- -------------------\n",
      "  HZ 43 13 16 21.8532 +29 05 55.379 ...              O 2007A&A...474..653V\n",
      "--------------------- 94 )  HZ43B -------------------------\n",
      "MAIN_ID      RA          DEC      ... COO_WAVELENGTH     COO_BIBCODE    \n",
      "          \"h:m:s\"      \"d:m:s\"    ...                                   \n",
      "------- ------------ ------------ ... -------------- -------------------\n",
      " HZ 43B 13 16 21.630 +29 05 54.38 ...              O 2009yCat.2294....0A"
     ]
    },
    {
     "name": "stderr",
     "output_type": "stream",
     "text": [
      "/Users/dagoret-campagnesylvie/anaconda/envs/pyastrophys/lib/python2.7/site-packages/astroquery/simbad/core.py:136: UserWarning: Warning: The script line number 3 raised an error (recorded in the `errors` attribute of the result table): 'hz43 mod 004.fits': this identifier has an incorrect format for catalog: \thz : Humason-Zwicky\n",
      "  (error.line, error.msg))\n",
      "/Users/dagoret-campagnesylvie/anaconda/envs/pyastrophys/lib/python2.7/site-packages/astroquery/simbad/core.py:136: UserWarning: Warning: The script line number 3 raised an error (recorded in the `errors` attribute of the result table): Identifier not found in the database : NAME HZ43 with STIS observations\n",
      "  (error.line, error.msg))\n",
      "/Users/dagoret-campagnesylvie/anaconda/envs/pyastrophys/lib/python2.7/site-packages/astroquery/simbad/core.py:136: UserWarning: Warning: The script line number 3 raised an error (recorded in the `errors` attribute of the result table): Identifier not found in the database : NAME HZ43B with STIS observations\n",
      "  (error.line, error.msg))\n"
     ]
    },
    {
     "name": "stdout",
     "output_type": "stream",
     "text": [
      "\n",
      "--------------------- 95 )  HZ43B -------------------------\n",
      "MAIN_ID      RA          DEC      ... COO_WAVELENGTH     COO_BIBCODE    \n",
      "          \"h:m:s\"      \"d:m:s\"    ...                                   \n",
      "------- ------------ ------------ ... -------------- -------------------\n",
      " HZ 43B 13 16 21.630 +29 05 54.38 ...              O 2009yCat.2294....0A\n",
      "--------------------- 96 )  HZ43B -------------------------\n",
      "MAIN_ID      RA          DEC      ... COO_WAVELENGTH     COO_BIBCODE    \n",
      "          \"h:m:s\"      \"d:m:s\"    ...                                   \n",
      "------- ------------ ------------ ... -------------- -------------------\n",
      " HZ 43B 13 16 21.630 +29 05 54.38 ...              O 2009yCat.2294....0A\n",
      "--------------------- 97 )  HZ44 -------------------------\n",
      "MAIN_ID      RA          DEC      ... COO_WAVELENGTH     COO_BIBCODE    \n",
      "          \"h:m:s\"      \"d:m:s\"    ...                                   \n",
      "------- ------------ ------------ ... -------------- -------------------\n",
      "  HZ 44 13 23 35.264 +36 07 59.54 ...              O 2003yCat.1289....0Z\n",
      "--------------------- 98 )  HZ44 -------------------------\n",
      "MAIN_ID      RA          DEC      ... COO_WAVELENGTH     COO_BIBCODE    \n",
      "          \"h:m:s\"      \"d:m:s\"    ...                                   \n",
      "------- ------------ ------------ ... -------------- -------------------\n",
      "  HZ 44 13 23 35.264 +36 07 59.54 ...              O 2003yCat.1289....0Z\n",
      "--------------------- 99 )  HZ44 -------------------------\n",
      "MAIN_ID      RA          DEC      ... COO_WAVELENGTH     COO_BIBCODE    \n",
      "          \"h:m:s\"      \"d:m:s\"    ...                                   \n",
      "------- ------------ ------------ ... -------------- -------------------\n",
      "  HZ 44 13 23 35.264 +36 07 59.54 ...              O 2003yCat.1289....0Z\n",
      "--------------------- 100 )  HZ4 -------------------------\n",
      "MAIN_ID      RA         DEC     ... COO_QUAL COO_WAVELENGTH     COO_BIBCODE    \n",
      "          \"h:m:s\"     \"d:m:s\"   ...                                            \n",
      "------- ----------- ----------- ... -------- -------------- -------------------\n",
      "  HZ  4 03 55 21.99 +09 47 18.0 ...        B              I 2003yCat.2246....0C\n",
      "--------------------- 101 )  HZ4 -------------------------\n",
      "MAIN_ID      RA         DEC     ... COO_QUAL COO_WAVELENGTH     COO_BIBCODE    \n",
      "          \"h:m:s\"     \"d:m:s\"   ...                                            \n",
      "------- ----------- ----------- ... -------- -------------- -------------------\n",
      "  HZ  4 03 55 21.99 +09 47 18.0 ...        B              I 2003yCat.2246....0C\n",
      "--------------------- 102 )  HZ4 -------------------------\n",
      "MAIN_ID      RA         DEC     ... COO_QUAL COO_WAVELENGTH     COO_BIBCODE    \n",
      "          \"h:m:s\"     \"d:m:s\"   ...                                            \n",
      "------- ----------- ----------- ... -------- -------------- -------------------\n",
      "  HZ  4 03 55 21.99 +09 47 18.0 ...        B              I 2003yCat.2246....0C\n"
     ]
    },
    {
     "name": "stderr",
     "output_type": "stream",
     "text": [
      "/Users/dagoret-campagnesylvie/anaconda/envs/pyastrophys/lib/python2.7/site-packages/astroquery/simbad/core.py:136: UserWarning: Warning: The script line number 3 raised an error (recorded in the `errors` attribute of the result table): Identifier not found in the database : NAME HZ44 with STIS observations\n",
      "  (error.line, error.msg))\n",
      "/Users/dagoret-campagnesylvie/anaconda/envs/pyastrophys/lib/python2.7/site-packages/astroquery/simbad/core.py:136: UserWarning: Warning: The script line number 3 raised an error (recorded in the `errors` attribute of the result table): Identifier not found in the database : NAME HZ4 with STIS observations\n",
      "  (error.line, error.msg))\n",
      "/Users/dagoret-campagnesylvie/anaconda/envs/pyastrophys/lib/python2.7/site-packages/astroquery/simbad/core.py:136: UserWarning: Warning: The script line number 3 raised an error (recorded in the `errors` attribute of the result table): Identifier not found in the database : NAME KF01T5 with NICMOS observations\n",
      "  (error.line, error.msg))\n",
      "/Users/dagoret-campagnesylvie/anaconda/envs/pyastrophys/lib/python2.7/site-packages/astroquery/simbad/core.py:136: UserWarning: Warning: The script line number 3 raised an error (recorded in the `errors` attribute of the result table): Identifier not found in the database : NAME KF01T5\n",
      "  (error.line, error.msg))\n",
      "/Users/dagoret-campagnesylvie/anaconda/envs/pyastrophys/lib/python2.7/site-packages/astroquery/simbad/core.py:136: UserWarning: Warning: The script line number 3 raised an error (recorded in the `errors` attribute of the result table): Identifier not found in the database : NAME KF06T1 with NICMOS observations\n",
      "  (error.line, error.msg))\n",
      "/Users/dagoret-campagnesylvie/anaconda/envs/pyastrophys/lib/python2.7/site-packages/astroquery/simbad/core.py:136: UserWarning: Warning: The script line number 3 raised an error (recorded in the `errors` attribute of the result table): Identifier not found in the database : NAME KF06T1\n",
      "  (error.line, error.msg))\n",
      "/Users/dagoret-campagnesylvie/anaconda/envs/pyastrophys/lib/python2.7/site-packages/astroquery/simbad/core.py:136: UserWarning: Warning: The script line number 3 raised an error (recorded in the `errors` attribute of the result table): Identifier not found in the database : NAME KF06T2 with NICMOS observations\n",
      "  (error.line, error.msg))\n",
      "/Users/dagoret-campagnesylvie/anaconda/envs/pyastrophys/lib/python2.7/site-packages/astroquery/simbad/core.py:136: UserWarning: Warning: The script line number 3 raised an error (recorded in the `errors` attribute of the result table): Identifier not found in the database : NAME KF06T2\n",
      "  (error.line, error.msg))\n",
      "/Users/dagoret-campagnesylvie/anaconda/envs/pyastrophys/lib/python2.7/site-packages/astroquery/simbad/core.py:136: UserWarning: Warning: The script line number 3 raised an error (recorded in the `errors` attribute of the result table): Identifier not found in the database : NAME KF08T3 with NICMOS observations\n",
      "  (error.line, error.msg))\n",
      "/Users/dagoret-campagnesylvie/anaconda/envs/pyastrophys/lib/python2.7/site-packages/astroquery/simbad/core.py:136: UserWarning: Warning: The script line number 3 raised an error (recorded in the `errors` attribute of the result table): Identifier not found in the database : NAME KF08T3\n",
      "  (error.line, error.msg))\n",
      "/Users/dagoret-campagnesylvie/anaconda/envs/pyastrophys/lib/python2.7/site-packages/astroquery/simbad/core.py:136: UserWarning: Warning: The script line number 3 raised an error (recorded in the `errors` attribute of the result table): Identifier not found in the database : NAME KSI2CETI\n",
      "  (error.line, error.msg))\n",
      "/Users/dagoret-campagnesylvie/anaconda/envs/pyastrophys/lib/python2.7/site-packages/astroquery/simbad/core.py:136: UserWarning: Warning: The script line number 3 raised an error (recorded in the `errors` attribute of the result table): Identifier not found in the database : NAME LAMLEP\n",
      "  (error.line, error.msg))\n",
      "/Users/dagoret-campagnesylvie/anaconda/envs/pyastrophys/lib/python2.7/site-packages/astroquery/simbad/core.py:136: UserWarning: Warning: The script line number 3 raised an error (recorded in the `errors` attribute of the result table): 'Bohlin, R. C., & Koester, D. 2008, AJ, submitted': this identifier has an incorrect format for catalogs: \tB (GC): General Cat. Boss \tB (Batten): Batten \tB (BBB): Basinski, Bok, Bok \tB (Barnard): catalogue Barnard\n",
      "  (error.line, error.msg))\n",
      "/Users/dagoret-campagnesylvie/anaconda/envs/pyastrophys/lib/python2.7/site-packages/astroquery/simbad/core.py:136: UserWarning: Warning: The script line number 3 raised an error (recorded in the `errors` attribute of the result table): 'Bohlin, R. C., & Koester, D. 2008, AJ, 135, 1092': this identifier has an incorrect format for catalogs: \tB (GC): General Cat. Boss \tB (Batten): Batten \tB (BBB): Basinski, Bok, Bok \tB (Barnard): catalogue Barnard\n",
      "  (error.line, error.msg))\n",
      "/Users/dagoret-campagnesylvie/anaconda/envs/pyastrophys/lib/python2.7/site-packages/astroquery/simbad/core.py:136: UserWarning: Warning: The script line number 3 raised an error (recorded in the `errors` attribute of the result table): 'LDS749B with STIS observations': this identifier has an incorrect format for catalog: \t** : Double Star\n",
      "  (error.line, error.msg))\n",
      "/Users/dagoret-campagnesylvie/anaconda/envs/pyastrophys/lib/python2.7/site-packages/astroquery/simbad/core.py:136: UserWarning: Warning: The script line number 3 raised an error (recorded in the `errors` attribute of the result table): 'LDS749B with STIS & NICMOS observations': this identifier has an incorrect format for catalog: \t** : Double Star\n",
      "  (error.line, error.msg))\n",
      "/Users/dagoret-campagnesylvie/anaconda/envs/pyastrophys/lib/python2.7/site-packages/astroquery/simbad/core.py:136: UserWarning: Warning: The script line number 3 raised an error (recorded in the `errors` attribute of the result table): Identifier not found in the database : NAME MUCOL\n",
      "  (error.line, error.msg))\n",
      "/Users/dagoret-campagnesylvie/anaconda/envs/pyastrophys/lib/python2.7/site-packages/astroquery/simbad/core.py:136: UserWarning: Warning: The script line number 3 raised an error (recorded in the `errors` attribute of the result table): Identifier not found in the database : NAME P041C with STIS observations\n",
      "  (error.line, error.msg))\n",
      "/Users/dagoret-campagnesylvie/anaconda/envs/pyastrophys/lib/python2.7/site-packages/astroquery/simbad/core.py:136: UserWarning: Warning: The script line number 3 raised an error (recorded in the `errors` attribute of the result table): 'P041C with STIS & NICMOS observations': No known catalog could be found\n",
      "  (error.line, error.msg))\n",
      "/Users/dagoret-campagnesylvie/anaconda/envs/pyastrophys/lib/python2.7/site-packages/astroquery/simbad/core.py:136: UserWarning: Warning: The script line number 3 raised an error (recorded in the `errors` attribute of the result table): Identifier not found in the database : NAME P 041C\n",
      "  (error.line, error.msg))\n"
     ]
    },
    {
     "name": "stdout",
     "output_type": "stream",
     "text": [
      "--------------------- 103 )  LDS749B -------------------------\n",
      "MAIN_ID      RA         DEC     ... COO_QUAL COO_WAVELENGTH     COO_BIBCODE    \n",
      "          \"h:m:s\"     \"d:m:s\"   ...                                            \n",
      "------- ----------- ----------- ... -------- -------------- -------------------\n",
      "LAWD 87 21 32 16.24 +00 15 14.4 ...        B              I 2003yCat.2246....0C\n",
      "--------------------- 104 )  LDS749B -------------------------\n",
      "MAIN_ID      RA         DEC     ... COO_QUAL COO_WAVELENGTH     COO_BIBCODE    \n",
      "          \"h:m:s\"     \"d:m:s\"   ...                                            \n",
      "------- ----------- ----------- ... -------- -------------- -------------------\n",
      "LAWD 87 21 32 16.24 +00 15 14.4 ...        B              I 2003yCat.2246....0C\n",
      "--------------------- 105 )  LDS749B -------------------------\n",
      "MAIN_ID      RA         DEC     ... COO_QUAL COO_WAVELENGTH     COO_BIBCODE    \n",
      "          \"h:m:s\"     \"d:m:s\"   ...                                            \n",
      "------- ----------- ----------- ... -------- -------------- -------------------\n",
      "LAWD 87 21 32 16.24 +00 15 14.4 ...        B              I 2003yCat.2246....0C\n"
     ]
    },
    {
     "name": "stderr",
     "output_type": "stream",
     "text": [
      "/Users/dagoret-campagnesylvie/anaconda/envs/pyastrophys/lib/python2.7/site-packages/astroquery/simbad/core.py:136: UserWarning: Warning: The script line number 3 raised an error (recorded in the `errors` attribute of the result table): Identifier not found in the database : NAME P177D with STIS observations\n",
      "  (error.line, error.msg))\n",
      "/Users/dagoret-campagnesylvie/anaconda/envs/pyastrophys/lib/python2.7/site-packages/astroquery/simbad/core.py:136: UserWarning: Warning: The script line number 3 raised an error (recorded in the `errors` attribute of the result table): 'P177D with STIS & NICMOS observations': No known catalog could be found\n",
      "  (error.line, error.msg))\n",
      "/Users/dagoret-campagnesylvie/anaconda/envs/pyastrophys/lib/python2.7/site-packages/astroquery/simbad/core.py:136: UserWarning: Warning: The script line number 3 raised an error (recorded in the `errors` attribute of the result table): Identifier not found in the database : NAME P 177D\n",
      "  (error.line, error.msg))\n",
      "/Users/dagoret-campagnesylvie/anaconda/envs/pyastrophys/lib/python2.7/site-packages/astroquery/simbad/core.py:136: UserWarning: Warning: The script line number 3 raised an error (recorded in the `errors` attribute of the result table): Identifier not found in the database : NAME P330E with STIS observations\n",
      "  (error.line, error.msg))\n",
      "/Users/dagoret-campagnesylvie/anaconda/envs/pyastrophys/lib/python2.7/site-packages/astroquery/simbad/core.py:136: UserWarning: Warning: The script line number 3 raised an error (recorded in the `errors` attribute of the result table): 'P330E with STIS & NICMOS observations': No known catalog could be found\n",
      "  (error.line, error.msg))\n",
      "/Users/dagoret-campagnesylvie/anaconda/envs/pyastrophys/lib/python2.7/site-packages/astroquery/simbad/core.py:136: UserWarning: Warning: The script line number 3 raised an error (recorded in the `errors` attribute of the result table): Identifier not found in the database : NAME P 330E\n",
      "  (error.line, error.msg))\n",
      "/Users/dagoret-campagnesylvie/anaconda/envs/pyastrophys/lib/python2.7/site-packages/astroquery/simbad/core.py:136: UserWarning: Warning: The script line number 3 raised an error (recorded in the `errors` attribute of the result table): '0.0': No known catalog could be found\n",
      "  (error.line, error.msg))\n",
      "/Users/dagoret-campagnesylvie/anaconda/envs/pyastrophys/lib/python2.7/site-packages/astroquery/simbad/core.py:136: UserWarning: Warning: The script line number 3 raised an error (recorded in the `errors` attribute of the result table): 'SF1615+001A with STIS & NICMOS observations': No known catalog could be found\n",
      "  (error.line, error.msg))\n",
      "/Users/dagoret-campagnesylvie/anaconda/envs/pyastrophys/lib/python2.7/site-packages/astroquery/simbad/core.py:136: UserWarning: Warning: The script line number 3 raised an error (recorded in the `errors` attribute of the result table): Identifier not found in the database : NAME SF1615+001A\n",
      "  (error.line, error.msg))\n"
     ]
    },
    {
     "name": "stdout",
     "output_type": "stream",
     "text": [
      "--------------------- 106 )  SIRIUS -------------------------\n",
      " MAIN_ID        RA           DEC      ... COO_WAVELENGTH     COO_BIBCODE    \n",
      "             \"h:m:s\"       \"d:m:s\"    ...                                   \n",
      "--------- ------------- ------------- ... -------------- -------------------\n",
      "* alf CMa 06 45 08.9172 -16 42 58.017 ...              O 2007A&A...474..653V\n",
      "--------------------- 107 )  SIRIUS -------------------------\n",
      " MAIN_ID        RA           DEC      ... COO_WAVELENGTH     COO_BIBCODE    \n",
      "             \"h:m:s\"       \"d:m:s\"    ...                                   \n",
      "--------- ------------- ------------- ... -------------- -------------------\n",
      "* alf CMa 06 45 08.9172 -16 42 58.017 ...              O 2007A&A...474..653V\n"
     ]
    },
    {
     "name": "stderr",
     "output_type": "stream",
     "text": [
      "/Users/dagoret-campagnesylvie/anaconda/envs/pyastrophys/lib/python2.7/site-packages/astroquery/simbad/core.py:136: UserWarning: Warning: The script line number 3 raised an error (recorded in the `errors` attribute of the result table): 'SNAP-1 with STIS & NICMOS observations': No known catalog could be found\n",
      "  (error.line, error.msg))\n",
      "/Users/dagoret-campagnesylvie/anaconda/envs/pyastrophys/lib/python2.7/site-packages/astroquery/simbad/core.py:136: UserWarning: Warning: The script line number 3 raised an error (recorded in the `errors` attribute of the result table): Identifier not found in the database : NAME SNAP-1\n",
      "  (error.line, error.msg))\n",
      "/Users/dagoret-campagnesylvie/anaconda/envs/pyastrophys/lib/python2.7/site-packages/astroquery/simbad/core.py:136: UserWarning: Warning: The script line number 3 raised an error (recorded in the `errors` attribute of the result table): 'SNAP-2 with STIS & NICMOS observations': No known catalog could be found\n",
      "  (error.line, error.msg))\n",
      "/Users/dagoret-campagnesylvie/anaconda/envs/pyastrophys/lib/python2.7/site-packages/astroquery/simbad/core.py:136: UserWarning: Warning: The script line number 3 raised an error (recorded in the `errors` attribute of the result table): Identifier not found in the database : NAME SNAP-2\n",
      "  (error.line, error.msg))\n",
      "/Users/dagoret-campagnesylvie/anaconda/envs/pyastrophys/lib/python2.7/site-packages/astroquery/simbad/core.py:136: UserWarning: Warning: The script line number 3 raised an error (recorded in the `errors` attribute of the result table): 'Sun with 2.5 to 2.7 micron extension': No known catalog could be found\n",
      "  (error.line, error.msg))\n",
      "/Users/dagoret-campagnesylvie/anaconda/envs/pyastrophys/lib/python2.7/site-packages/astroquery/simbad/core.py:136: UserWarning: Warning: The script line number 3 raised an error (recorded in the `errors` attribute of the result table): 'Sun with 2.5 to 2.7 micron extension-------------------------------': No known catalog could be found\n",
      "  (error.line, error.msg))\n",
      "/Users/dagoret-campagnesylvie/anaconda/envs/pyastrophys/lib/python2.7/site-packages/astroquery/simbad/core.py:136: UserWarning: Warning: The script line number 3 raised an error (recorded in the `errors` attribute of the result table): 'VB8 with STIS & NICMOS observations': this identifier has an incorrect format for catalog: \tVB : catalogue VB\n",
      "  (error.line, error.msg))\n"
     ]
    },
    {
     "name": "stdout",
     "output_type": "stream",
     "text": [
      "--------------------- 108 )  VB8 -------------------------\n",
      " MAIN_ID        RA          DEC      ... COO_WAVELENGTH     COO_BIBCODE    \n",
      "             \"h:m:s\"      \"d:m:s\"    ...                                   \n",
      "---------- ------------ ------------ ... -------------- -------------------\n",
      "GJ   644 C 16 55 35.293 -08 23 40.11 ...              I 2003yCat.2246....0C\n",
      "--------------------- 109 )  VB8 -------------------------\n",
      " MAIN_ID        RA          DEC      ... COO_WAVELENGTH     COO_BIBCODE    \n",
      "             \"h:m:s\"      \"d:m:s\"    ...                                   \n",
      "---------- ------------ ------------ ... -------------- -------------------\n",
      "GJ   644 C 16 55 35.293 -08 23 40.11 ...              I 2003yCat.2246....0C\n",
      "--------------------- 110 )  VB8 -------------------------\n",
      " MAIN_ID        RA          DEC      ... COO_WAVELENGTH     COO_BIBCODE    \n",
      "             \"h:m:s\"      \"d:m:s\"    ...                                   \n",
      "---------- ------------ ------------ ... -------------- -------------------\n",
      "GJ   644 C 16 55 35.293 -08 23 40.11 ...              I 2003yCat.2246....0C\n",
      "--------------------- 111 )  WD0308-565 -------------------------\n",
      "MAIN_ID      RA         DEC     ... COO_QUAL COO_WAVELENGTH     COO_BIBCODE    \n",
      "          \"h:m:s\"     \"d:m:s\"   ...                                            \n",
      "------- ----------- ----------- ... -------- -------------- -------------------\n",
      " WG   7 03 09 47.91 -56 23 49.5 ...        B              I 2003yCat.2246....0C\n",
      "--------------------- 112 )  WD0308-565 -------------------------\n",
      "MAIN_ID      RA         DEC     ... COO_QUAL COO_WAVELENGTH     COO_BIBCODE    \n",
      "          \"h:m:s\"     \"d:m:s\"   ...                                            \n",
      "------- ----------- ----------- ... -------- -------------- -------------------\n",
      " WG   7 03 09 47.91 -56 23 49.5 ...        B              I 2003yCat.2246....0C\n",
      "--------------------- 113 )  WD0308-565 -------------------------\n",
      "MAIN_ID      RA         DEC     ... COO_QUAL COO_WAVELENGTH     COO_BIBCODE    \n",
      "          \"h:m:s\"     \"d:m:s\"   ...                                            \n",
      "------- ----------- ----------- ... -------- -------------- -------------------\n",
      " WG   7 03 09 47.91 -56 23 49.5 ...        B              I 2003yCat.2246....0C\n",
      "--------------------- 114 )  WD0320-539 -------------------------\n",
      "MAIN_ID       RA         DEC     ... COO_QUAL COO_WAVELENGTH     COO_BIBCODE    \n",
      "           \"h:m:s\"     \"d:m:s\"   ...                                            \n",
      "-------- ----------- ----------- ... -------- -------------- -------------------\n",
      "LB  1663 03 22 14.83 -53 45 16.5 ...        B              I 2003yCat.2246....0C\n",
      "--------------------- 115 )  WD0320-539 -------------------------"
     ]
    },
    {
     "name": "stderr",
     "output_type": "stream",
     "text": [
      "/Users/dagoret-campagnesylvie/anaconda/envs/pyastrophys/lib/python2.7/site-packages/astroquery/simbad/core.py:136: UserWarning: Warning: The script line number 3 raised an error (recorded in the `errors` attribute of the result table): Identifier not found in the database : NAME Koester He Model\n",
      "  (error.line, error.msg))\n",
      "/Users/dagoret-campagnesylvie/anaconda/envs/pyastrophys/lib/python2.7/site-packages/astroquery/simbad/core.py:136: UserWarning: Warning: The script line number 3 raised an error (recorded in the `errors` attribute of the result table): Identifier not found in the database : NAME Standard star flux with STIS observations--------------------------\n",
      "  (error.line, error.msg))\n",
      "/Users/dagoret-campagnesylvie/anaconda/envs/pyastrophys/lib/python2.7/site-packages/astroquery/simbad/core.py:136: UserWarning: Warning: The script line number 3 raised an error (recorded in the `errors` attribute of the result table): Identifier not found in the database : NAME WD0320-539 with STIS observations\n",
      "  (error.line, error.msg))\n",
      "/Users/dagoret-campagnesylvie/anaconda/envs/pyastrophys/lib/python2.7/site-packages/astroquery/simbad/core.py:136: UserWarning: Warning: The script line number 3 raised an error (recorded in the `errors` attribute of the result table): Identifier not found in the database : NAME WD0947 857 with STIS observations\n",
      "  (error.line, error.msg))\n",
      "/Users/dagoret-campagnesylvie/anaconda/envs/pyastrophys/lib/python2.7/site-packages/astroquery/simbad/core.py:136: UserWarning: Warning: The script line number 3 raised an error (recorded in the `errors` attribute of the result table): Identifier not found in the database : NAME WD0947 857\n",
      "  (error.line, error.msg))\n"
     ]
    },
    {
     "name": "stdout",
     "output_type": "stream",
     "text": [
      "\n",
      "MAIN_ID       RA         DEC     ... COO_QUAL COO_WAVELENGTH     COO_BIBCODE    \n",
      "           \"h:m:s\"     \"d:m:s\"   ...                                            \n",
      "-------- ----------- ----------- ... -------- -------------- -------------------\n",
      "LB  1663 03 22 14.83 -53 45 16.5 ...        B              I 2003yCat.2246....0C\n",
      "--------------------- 116 )  WD0320-539 -------------------------\n",
      "MAIN_ID       RA         DEC     ... COO_QUAL COO_WAVELENGTH     COO_BIBCODE    \n",
      "           \"h:m:s\"     \"d:m:s\"   ...                                            \n",
      "-------- ----------- ----------- ... -------- -------------- -------------------\n",
      "LB  1663 03 22 14.83 -53 45 16.5 ...        B              I 2003yCat.2246....0C\n",
      "--------------------- "
     ]
    },
    {
     "name": "stderr",
     "output_type": "stream",
     "text": [
      "/Users/dagoret-campagnesylvie/anaconda/envs/pyastrophys/lib/python2.7/site-packages/astroquery/simbad/core.py:136: UserWarning: Warning: The script line number 3 raised an error (recorded in the `errors` attribute of the result table): Identifier not found in the database : NAME WD1026 453 with STIS observations\n",
      "  (error.line, error.msg))\n",
      "/Users/dagoret-campagnesylvie/anaconda/envs/pyastrophys/lib/python2.7/site-packages/astroquery/simbad/core.py:136: UserWarning: Warning: The script line number 3 raised an error (recorded in the `errors` attribute of the result table): Identifier not found in the database : NAME WD1026 453\n",
      "  (error.line, error.msg))\n",
      "/Users/dagoret-campagnesylvie/anaconda/envs/pyastrophys/lib/python2.7/site-packages/astroquery/simbad/core.py:136: UserWarning: Warning: The script line number 3 raised an error (recorded in the `errors` attribute of the result table): 'Hubeny TLusty203: PURE HYDROGEN NLTE MODEL': this identifier has an incorrect format for catalogs: \tH : catalogue H \tH (\n",
      "  (error.line, error.msg))\n",
      "/Users/dagoret-campagnesylvie/anaconda/envs/pyastrophys/lib/python2.7/site-packages/astroquery/simbad/core.py:136: UserWarning: Warning: The script line number 3 raised an error (recorded in the `errors` attribute of the result table): 'WD1057+719 with STIS & NICMOS observations': this identifier has an incorrect format for catalogs: \tWD (\n",
      "  (error.line, error.msg))\n"
     ]
    },
    {
     "name": "stdout",
     "output_type": "stream",
     "text": [
      "117 )  WD1057+719 -------------------------\n",
      "  MAIN_ID        RA         DEC     ... COO_WAVELENGTH     COO_BIBCODE    \n",
      "              \"h:m:s\"     \"d:m:s\"   ...                                   \n",
      "----------- ----------- ----------- ... -------------- -------------------\n",
      "PG 1057+719 11 00 34.24 +71 38 02.9 ...              I 2003yCat.2246....0C\n",
      "--------------------- 118 )  WD1057+719 -------------------------\n",
      "  MAIN_ID        RA         DEC     ... COO_WAVELENGTH     COO_BIBCODE    \n",
      "              \"h:m:s\"     \"d:m:s\"   ...                                   \n",
      "----------- ----------- ----------- ... -------------- -------------------\n",
      "PG 1057+719 11 00 34.24 +71 38 02.9 ...              I 2003yCat.2246....0C\n",
      "--------------------- 119 )  WD1057+719 -------------------------\n",
      "  MAIN_ID        RA         DEC     ... COO_WAVELENGTH     COO_BIBCODE    \n",
      "              \"h:m:s\"     \"d:m:s\"   ...                                   \n",
      "----------- ----------- ----------- ... -------------- -------------------\n",
      "PG 1057+719 11 00 34.24 +71 38 02.9 ...              I 2003yCat.2246....0C\n",
      "--------------------- 120 )  WD1657+343 -------------------------\n",
      "  MAIN_ID         RA           DEC      ... COO_WAVELENGTH     COO_BIBCODE    \n",
      "               \"h:m:s\"       \"d:m:s\"    ...                                   \n",
      "----------- ------------- ------------- ... -------------- -------------------\n",
      "PG 1657+344 16 58 51.1202 +34 18 53.293 ...              O 2010MNRAS.407..681M\n",
      "--------------------- 121 )  WD1657+343 -------------------------\n",
      "  MAIN_ID         RA           DEC      ... COO_WAVELENGTH     COO_BIBCODE    \n",
      "               \"h:m:s\"       \"d:m:s\"    ...                                   \n",
      "----------- ------------- ------------- ... -------------- -------------------\n",
      "PG 1657+344 16 58 51.1202 +34 18 53.293 ...              O 2010MNRAS.407..681M\n",
      "--------------------- 122 )  WD1657+343 -------------------------\n",
      "  MAIN_ID         RA           DEC      ... COO_WAVELENGTH     COO_BIBCODE    \n",
      "               \"h:m:s\"       \"d:m:s\"    ...                                   \n",
      "----------- ------------- ------------- ... -------------- -------------------\n",
      "PG 1657+344 16 58 51.1202 +34 18 53.293 ...              O 2010MNRAS.407..681M\n"
     ]
    },
    {
     "name": "stderr",
     "output_type": "stream",
     "text": [
      "/Users/dagoret-campagnesylvie/anaconda/envs/pyastrophys/lib/python2.7/site-packages/astroquery/simbad/core.py:136: UserWarning: Warning: The script line number 3 raised an error (recorded in the `errors` attribute of the result table): 'WD1657+343 with STIS & NICMOS observations': this identifier has an incorrect format for catalogs: \tWD (\n",
      "  (error.line, error.msg))\n",
      "/Users/dagoret-campagnesylvie/anaconda/envs/pyastrophys/lib/python2.7/site-packages/astroquery/simbad/core.py:136: UserWarning: Warning: The script line number 3 raised an error (recorded in the `errors` attribute of the result table): 'WDcovar.fits': this identifier has an incorrect format for catalogs: \tWD (\n",
      "  (error.line, error.msg))\n"
     ]
    }
   ],
   "source": [
    "All_CALSPEC_Stars_InSimbad = {} #dictionnary of stars\n",
    "count =0\n",
    "for name in star_names: # loop on star names from Pysynphot-CALSPEC\n",
    "    result_table = Simbad.query_object(name)   # Ask Simbad\n",
    "    if result_table != None:                   #check if Simbad has found the star\n",
    "        count+=1\n",
    "        print \"---------------------\",count,') ',name,'-------------------------'\n",
    "        print result_table\n",
    "        # create an object with the found star\n",
    "        newstar=CalibSpecStarSmb(name,result_table[\"MAIN_ID\"][0],result_table[\"RA\"][0],result_table[\"DEC\"][0])\n",
    "        # fill the dictionnary only if there is no instance of that star already in dictionnary\n",
    "        if not newstar.getName() in All_CALSPEC_Stars_InSimbad.keys():\n",
    "            All_CALSPEC_Stars_InSimbad[newstar.getName()]= newstar # fill the directionary with the new star- object\n",
    "            "
   ]
  },
  {
   "cell_type": "code",
   "execution_count": 53,
   "metadata": {
    "collapsed": false,
    "deletable": true,
    "editable": true
   },
   "outputs": [
    {
     "name": "stdout",
     "output_type": "stream",
     "text": [
      " Number of CALSPEC stars recognised by Simbad :  41\n"
     ]
    }
   ],
   "source": [
    "print \" Number of CALSPEC stars recognised by Simbad : \",len(All_CALSPEC_Stars_InSimbad)"
   ]
  },
  {
   "cell_type": "markdown",
   "metadata": {},
   "source": [
    "### shows list of CALSPEC stars from SimBad"
   ]
  },
  {
   "cell_type": "code",
   "execution_count": 54,
   "metadata": {
    "collapsed": false,
    "deletable": true,
    "editable": true
   },
   "outputs": [
    {
     "name": "stdout",
     "output_type": "stream",
     "text": [
      "['10LAC', 'HD205905', 'HD14943', 'HD37725', 'HD160617', 'FEIGE34', 'HD159222', 'HZ43', 'HZ44', 'HZ21', 'WD1057+719', 'HZ4', 'FEIGE110', 'HD031128', 'GD71', 'HD209458', 'SIRIUS', 'WD0320-539', 'HD111980', 'HD009051', 'HD60753', 'LDS749B', 'HD180609', 'HD158485', 'HD37962', 'HD163466', 'HD185975', 'G191B2B', 'HD116405', 'ALPHA_LYR', 'HD200654', 'HZ43B', 'WD1657+343', 'HD165459', 'HD93521', 'GD153', 'WD0308-565', 'HD38949', 'VB8', 'HD106252', 'HD074000']\n"
     ]
    }
   ],
   "source": [
    "print All_CALSPEC_Stars_InSimbad.keys()"
   ]
  },
  {
   "cell_type": "markdown",
   "metadata": {},
   "source": [
    "## From SkyCoord, also get the coordinates of the star"
   ]
  },
  {
   "cell_type": "code",
   "execution_count": 55,
   "metadata": {
    "collapsed": false,
    "deletable": true,
    "editable": true
   },
   "outputs": [],
   "source": [
    "All_CALSPEC_Stars_InSkyCoord = {} #dictionnary of stars\n",
    "for starnam in All_CALSPEC_Stars_InSimbad.keys():\n",
    "    starloc=astropy.coordinates.SkyCoord.from_name(starnam)\n",
    "    newstar=CalibSpecStarSkc(starnam,starloc.ra.deg,starloc.dec.deg)\n",
    "    All_CALSPEC_Stars_InSkyCoord [starnam] = newstar"
   ]
  },
  {
   "cell_type": "code",
   "execution_count": 56,
   "metadata": {
    "collapsed": false
   },
   "outputs": [
    {
     "name": "stdout",
     "output_type": "stream",
     "text": [
      " Number of CALSPEC stars recognised by SkyCoord :  41\n"
     ]
    }
   ],
   "source": [
    "print \" Number of CALSPEC stars recognised by SkyCoord : \",len(All_CALSPEC_Stars_InSkyCoord)"
   ]
  },
  {
   "cell_type": "code",
   "execution_count": 57,
   "metadata": {
    "collapsed": false
   },
   "outputs": [
    {
     "name": "stdout",
     "output_type": "stream",
     "text": [
      "['10LAC', 'HD205905', 'WD0320-539', 'HD37725', 'HD160617', 'FEIGE34', 'HD159222', 'HZ43', 'HZ44', 'HZ21', 'WD1057+719', 'HZ4', 'FEIGE110', 'HD031128', 'GD71', 'HD209458', 'SIRIUS', 'ALPHA_LYR', 'HD111980', 'HD009051', 'HD60753', 'LDS749B', 'HD180609', 'HD158485', 'HD37962', 'HD163466', 'HD185975', 'G191B2B', 'HD116405', 'HD14943', 'HD200654', 'HZ43B', 'WD1657+343', 'HD165459', 'HD93521', 'GD153', 'WD0308-565', 'HD38949', 'VB8', 'HD106252', 'HD074000']\n"
     ]
    }
   ],
   "source": [
    "print All_CALSPEC_Stars_InSkyCoord.keys()"
   ]
  },
  {
   "cell_type": "code",
   "execution_count": 58,
   "metadata": {
    "collapsed": false
   },
   "outputs": [
    {
     "name": "stdout",
     "output_type": "stream",
     "text": [
      "name 10LAC  ::  <SkyCoord (ICRS): (ra, dec) in deg\n",
      "    ( 339.81532766,  39.05026977)>\n",
      "None\n",
      "name HD205905  ::  <SkyCoord (ICRS): (ra, dec) in deg\n",
      "    ( 324.79229796, -27.30657448)>\n",
      "None\n",
      "name WD0320-539  ::  <SkyCoord (ICRS): (ra, dec) in deg\n",
      "    ( 50.561792, -53.754583)>\n",
      "None\n",
      "name HD37725  ::  <SkyCoord (ICRS): (ra, dec) in deg\n",
      "    ( 85.47654458,  29.29747917)>\n",
      "None\n",
      "name HD160617  ::  <SkyCoord (ICRS): (ra, dec) in deg\n",
      "    ( 265.70551677, -40.32097928)>\n",
      "None\n",
      "name FEIGE34  ::  <SkyCoord (ICRS): (ra, dec) in deg\n",
      "    ( 159.90308495,  43.10257086)>\n",
      "None\n",
      "name HD159222  ::  <SkyCoord (ICRS): (ra, dec) in deg\n",
      "    ( 263.00413544,  34.27114733)>\n",
      "None\n",
      "name HZ43  ::  <SkyCoord (ICRS): (ra, dec) in deg\n",
      "    ( 199.0910417,  29.0987222)>\n",
      "None\n",
      "name HZ44  ::  <SkyCoord (ICRS): (ra, dec) in deg\n",
      "    ( 200.8969333,  36.1332056)>\n",
      "None\n",
      "name HZ21  ::  <SkyCoord (ICRS): (ra, dec) in deg\n",
      "    ( 183.484295,  32.9420947)>\n",
      "None\n",
      "name WD1057+719  ::  <SkyCoord (ICRS): (ra, dec) in deg\n",
      "    ( 165.1447937,  71.6344664)>\n",
      "None\n",
      "name HZ4  ::  <SkyCoord (ICRS): (ra, dec) in deg\n",
      "    ( 58.841625,  9.788333)>\n",
      "None\n",
      "name FEIGE110  ::  <SkyCoord (ICRS): (ra, dec) in deg\n",
      "    ( 349.99332557, -5.16560011)>\n",
      "None\n",
      "name HD031128  ::  <SkyCoord (ICRS): (ra, dec) in deg\n",
      "    ( 73.04129219, -27.06415293)>\n",
      "None\n",
      "name GD71  ::  <SkyCoord (ICRS): (ra, dec) in deg\n",
      "    ( 88.1150583,  15.8871528)>\n",
      "None\n",
      "name HD209458  ::  <SkyCoord (ICRS): (ra, dec) in deg\n",
      "    ( 330.79488361,  18.88431749)>\n",
      "None\n",
      "name SIRIUS  ::  <SkyCoord (ICRS): (ra, dec) in deg\n",
      "    ( 101.2885408, -16.7131428)>\n",
      "None\n",
      "name ALPHA_LYR  ::  <SkyCoord (ICRS): (ra, dec) in deg\n",
      "    ( 279.2321017,  38.782316)>\n",
      "None\n",
      "name HD111980  ::  <SkyCoord (ICRS): (ra, dec) in deg\n",
      "    ( 193.31272205, -18.5222221)>\n",
      "None\n",
      "name HD009051  ::  <SkyCoord (ICRS): (ra, dec) in deg\n",
      "    ( 22.19375857, -24.340401)>\n",
      "None\n",
      "name HD60753  ::  <SkyCoord (ICRS): (ra, dec) in deg\n",
      "    ( 113.36382631, -50.58425502)>\n",
      "None\n",
      "name LDS749B  ::  <SkyCoord (ICRS): (ra, dec) in deg\n",
      "    ( 323.067667,  0.254)>\n",
      "None\n",
      "name HD180609  ::  <SkyCoord (ICRS): (ra, dec) in deg\n",
      "    ( 288.19666338,  64.17699441)>\n",
      "None\n",
      "name HD158485  ::  <SkyCoord (ICRS): (ra, dec) in deg\n",
      "    ( 261.5199333,  58.6519306)>\n",
      "None\n",
      "name HD37962  ::  <SkyCoord (ICRS): (ra, dec) in deg\n",
      "    ( 85.21652848, -31.35110766)>\n",
      "None\n",
      "name HD163466  ::  <SkyCoord (ICRS): (ra, dec) in deg\n",
      "    ( 268.10572628,  60.39637404)>\n",
      "None\n",
      "name HD185975  ::  <SkyCoord (ICRS): (ra, dec) in deg\n",
      "    ( 307.07803503, -87.47220604)>\n",
      "None\n",
      "name G191B2B  ::  <SkyCoord (ICRS): (ra, dec) in deg\n",
      "    ( 76.37755349,  52.83109879)>\n",
      "None\n",
      "name HD116405  ::  <SkyCoord (ICRS): (ra, dec) in deg\n",
      "    ( 200.6878915,  44.7149234)>\n",
      "None\n",
      "name HD14943  ::  <SkyCoord (ICRS): (ra, dec) in deg\n",
      "    ( 35.72781204, -51.09212928)>\n",
      "None\n",
      "name HD200654  ::  <SkyCoord (ICRS): (ra, dec) in deg\n",
      "    ( 316.64479106, -49.96396598)>\n",
      "None\n",
      "name HZ43B  ::  <SkyCoord (ICRS): (ra, dec) in deg\n",
      "    ( 199.090125,  29.0984389)>\n",
      "None\n",
      "name WD1657+343  ::  <SkyCoord (ICRS): (ra, dec) in deg\n",
      "    ( 254.7129799,  34.3148042)>\n",
      "None\n",
      "name HD165459  ::  <SkyCoord (ICRS): (ra, dec) in deg\n",
      "    ( 270.62808549,  58.62726654)>\n",
      "None\n",
      "name HD93521  ::  <SkyCoord (ICRS): (ra, dec) in deg\n",
      "    ( 162.09796404,  37.5703034)>\n",
      "None\n",
      "name GD153  ::  <SkyCoord (ICRS): (ra, dec) in deg\n",
      "    ( 194.2597375,  22.0313)>\n",
      "None\n",
      "name WD0308-565  ::  <SkyCoord (ICRS): (ra, dec) in deg\n",
      "    ( 47.449625, -56.397083)>\n",
      "None\n",
      "name HD38949  ::  <SkyCoord (ICRS): (ra, dec) in deg\n",
      "    ( 87.08357786, -24.46385045)>\n",
      "None\n",
      "name VB8  ::  <SkyCoord (ICRS): (ra, dec) in deg\n",
      "    ( 253.8970542, -8.394475)>\n",
      "None\n",
      "name HD106252  ::  <SkyCoord (ICRS): (ra, dec) in deg\n",
      "    ( 183.3729123,  10.041515)>\n",
      "None\n",
      "name HD074000  ::  <SkyCoord (ICRS): (ra, dec) in deg\n",
      "    ( 130.21168191, -16.34514452)>\n",
      "None\n"
     ]
    }
   ],
   "source": [
    "for key, starobj in All_CALSPEC_Stars_InSkyCoord.iteritems():\n",
    "    print starobj.show()"
   ]
  },
  {
   "cell_type": "markdown",
   "metadata": {},
   "source": [
    "# Observation Definition\n",
    "\n",
    "\n",
    "- We must adapt the observation site and date here"
   ]
  },
  {
   "cell_type": "code",
   "execution_count": 97,
   "metadata": {
    "collapsed": true
   },
   "outputs": [],
   "source": [
    "#obs_site=CTIO_OBS_loc\n",
    "#obs_date_time=Time(CTIO_OBS_time)\n",
    "#obs_utc_offset=CTIO_UTC_OFFSET"
   ]
  },
  {
   "cell_type": "code",
   "execution_count": 91,
   "metadata": {
    "collapsed": false
   },
   "outputs": [],
   "source": [
    "obs_site=WORK_OBS_loc\n",
    "obs_date_time=Time(WORK_OBS_time)\n",
    "obs_utc_offset=WORK_UTC_OFFSET"
   ]
  },
  {
   "cell_type": "code",
   "execution_count": 96,
   "metadata": {
    "collapsed": false
   },
   "outputs": [
    {
     "name": "stdout",
     "output_type": "stream",
     "text": [
      "*********************************************************************** \n",
      "* \t obs site    ::  (<Longitude 2.1709371 deg>, <Latitude 48.69931509999999 deg>, <Quantity 60.069522858033785 m>)\n",
      "* \t obs time    ::  2017-05-05 00:00:00\n",
      "* \t obs UTC off ::  2\n",
      "*********************************************************************** \n"
     ]
    }
   ],
   "source": [
    "print \"*********************************************************************** \"\n",
    "print \"* \\t obs site    :: \", obs_site.to_geodetic()\n",
    "print \"* \\t obs time    :: \", obs_date_time\n",
    "print \"* \\t obs UTC off :: \",obs_utc_offset\n",
    "print \"*********************************************************************** \"\n"
   ]
  },
  {
   "cell_type": "markdown",
   "metadata": {},
   "source": [
    "# Show Star Elevation in Sky"
   ]
  },
  {
   "cell_type": "code",
   "execution_count": 98,
   "metadata": {
    "collapsed": true
   },
   "outputs": [],
   "source": [
    "utcoffset=obs_utc_offset*u.hour\n",
    "midnight = obs_date_time - utcoffset\n",
    "delta_midnight = np.linspace(-12, 12, 1000)*u.hour"
   ]
  },
  {
   "cell_type": "code",
   "execution_count": 99,
   "metadata": {
    "collapsed": false
   },
   "outputs": [],
   "source": [
    "all_times_ofthenight = midnight + delta_midnight\n",
    "frame_all_times_offthenight = AltAz(obstime=all_times_ofthenight, location=obs_site)\n",
    "sunaltazs_ofthenight = get_sun(all_times_ofthenight).transform_to(frame_all_times_offthenight)\n",
    "moonaltazs_ofthenight = get_moon(all_times_ofthenight).transform_to(frame_all_times_offthenight)"
   ]
  },
  {
   "cell_type": "code",
   "execution_count": 100,
   "metadata": {
    "collapsed": false
   },
   "outputs": [
    {
     "name": "stdout",
     "output_type": "stream",
     "text": [
      "star ::  FEIGE34 alt= 84d18m51.6574s azim =  [u'180d54m02.4037s'] delta_time= -2.31831831832 h\n",
      "star ::  HZ43 alt= 70d18m35.1648s azim =  [u'180d00m38.4427s'] delta_time= 0.276276276276 h\n",
      "star ::  HZ44 alt= 77d20m44.2177s azim =  [u'180d02m43.0232s'] delta_time= 0.396396396396 h\n",
      "star ::  HZ21 alt= 74d08m53.5909s azim =  [u'180d11m09.0216s'] delta_time= -0.756756756757 h\n",
      "star ::  WD1057+719 alt= 67d09m13.3638s azim =  [u'0d05m04.9116s'] delta_time= -1.98198198198 h\n",
      "star ::  HD116405 alt= 85d55m35.8798s azim =  [u'178d40m47.9537s'] delta_time= 0.372372372372 h\n",
      "star ::  HZ43B alt= 70d18m34.1427s azim =  [u'180d00m46.999s'] delta_time= 0.276276276276 h\n",
      "star ::  WD1657+343 alt= 75d35m22.8703s azim =  [u'180d14m44.534s'] delta_time= 3.97597597598 h\n",
      "star ::  HD93521 alt= 78d46m51.0498s azim =  [u'180d25m11.967s'] delta_time= -2.17417417417 h\n",
      "star ::  GD153 alt= 63d14m21.9646s azim =  [u'180d16m06.2292s'] delta_time= -0.036036036036 h\n",
      "star ::  HD106252 alt= 51d14m45.0502s azim =  [u'180d15m54.9355s'] delta_time= -0.756756756757 h\n"
     ]
    },
    {
     "data": {
      "image/png": "[encoded data removed]",
      "text/plain": [
       "<matplotlib.figure.Figure at 0x10df3fb90>"
      ]
     },
     "metadata": {},
     "output_type": "display_data"
    }
   ],
   "source": [
    "plt.figure(figsize=(16.,10.))\n",
    "plt.plot(delta_midnight, sunaltazs_ofthenight.alt, color='r',lw=8, label='Sun')\n",
    "plt.plot(delta_midnight, moonaltazs_ofthenight.alt, color='b',lw=8, label='Moon')\n",
    "#plt.scatter(delta_midnight, hd_158485_altazs_May09_to_10.alt,\n",
    "#            c=hd_158485_altazs_May09_to_10.az, label='hd_158485', lw=0, s=8,\n",
    "#            cmap='viridis')\n",
    "\n",
    "for key, starobj in All_CALSPEC_Stars_InSkyCoord.iteritems():\n",
    "    star_traj_insky=starobj.getSkyCoord().transform_to(frame_all_times_offthenight)\n",
    "    alt_max=np.max(star_traj_insky.alt)\n",
    "    az_max=star_traj_insky.az[np.where(star_traj_insky.alt==alt_max)]\n",
    "    delta_tt=delta_midnight[np.where(star_traj_insky.alt==alt_max)][0]\n",
    "    if alt_max>45*u.deg and delta_tt<4*u.hour and delta_tt>-4*u.hour:\n",
    "        print 'star :: ',key,'alt=',alt_max,'azim = ',az_max,'delta_time=',delta_tt\n",
    "        plt.scatter(delta_midnight, star_traj_insky.alt,c=star_traj_insky.az, label=key, lw=0, s=8,cmap='viridis')\n",
    "    \n",
    "    \n",
    "# plot astronomical crepuscule\n",
    "plt.fill_between(delta_midnight.to('hr').value, 0, 90,\n",
    "                 sunaltazs_ofthenight.alt < -0*u.deg, color='0.5', zorder=0)\n",
    "#plot astronomical night\n",
    "plt.fill_between(delta_midnight.to('hr').value, 0, 90,\n",
    "                 sunaltazs_ofthenight.alt < -18*u.deg, color='k', zorder=0)\n",
    "plt.colorbar().set_label('Azimuth [deg]')\n",
    "plt.legend(loc='upper left')\n",
    "plt.xlim(-12, 12)\n",
    "plt.xticks(np.arange(13)*2 -12)\n",
    "plt.ylim(0, 90)\n",
    "plt.title('Observation')\n",
    "plt.xlabel('Hours from local Midnight')\n",
    "plt.ylabel('Altitude [deg]')\n",
    "plt.show()"
   ]
  },
  {
   "cell_type": "code",
   "execution_count": null,
   "metadata": {
    "collapsed": true
   },
   "outputs": [],
   "source": []
  }
 ],
 "metadata": {
  "anaconda-cloud": {},
  "kernelspec": {
   "display_name": "Python [conda env:pyastrophys]",
   "language": "python",
   "name": "conda-env-pyastrophys-py"
  },
  "language_info": {
   "codemirror_mode": {
    "name": "ipython",
    "version": 2
   },
   "file_extension": ".py",
   "mimetype": "text/x-python",
   "name": "python",
   "nbconvert_exporter": "python",
   "pygments_lexer": "ipython2",
   "version": "2.7.12"
  },
  "toc": {
   "colors": {
    "hover_highlight": "#DAA520",
    "running_highlight": "#FF0000",
    "selected_highlight": "#FFD700"
   },
   "moveMenuLeft": true,
   "nav_menu": {
    "height": "30px",
    "width": "252px"
   },
   "navigate_menu": true,
   "number_sections": true,
   "sideBar": true,
   "threshold": 4,
   "toc_cell": false,
   "toc_section_display": "block",
   "toc_window_display": false,
   "widenNotebook": false
  }
 },
 "nbformat": 4,
 "nbformat_minor": 2
}
