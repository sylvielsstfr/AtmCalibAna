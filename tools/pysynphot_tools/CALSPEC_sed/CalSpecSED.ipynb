{
 "cells": [
  {
   "cell_type": "markdown",
   "metadata": {
    "deletable": true,
    "editable": true
   },
   "source": [
    "========================================================\n",
    "# View CALSPEC SED \n",
    "========================================================\n",
    "\n",
    "- author Sylvie Dagoret-Campagne\n",
    "- Affiliation LAL-IN2P3-CNRS\n",
    "- Work : LSST & StarDice\n",
    "- date May 5th 2017"
   ]
  },
  {
   "cell_type": "markdown",
   "metadata": {
    "deletable": true,
    "editable": true
   },
   "source": [
    "# Configuration with packages\n",
    "---------------------------------------------"
   ]
  },
  {
   "cell_type": "code",
   "execution_count": 1,
   "metadata": {
    "collapsed": true,
    "deletable": true,
    "editable": true
   },
   "outputs": [],
   "source": [
    "import numpy as np\n",
    "# Set up matplotlib and use a nicer set of plot parameters\n",
    "import matplotlib\n",
    "import matplotlib.pyplot as plt\n",
    "%matplotlib inline"
   ]
  },
  {
   "cell_type": "code",
   "execution_count": 2,
   "metadata": {
    "collapsed": true,
    "deletable": true,
    "editable": true
   },
   "outputs": [],
   "source": [
    "import pandas as pd\n",
    "import os\n",
    "import re"
   ]
  },
  {
   "cell_type": "code",
   "execution_count": 3,
   "metadata": {
    "collapsed": false,
    "deletable": true,
    "editable": true
   },
   "outputs": [],
   "source": [
    "# to enlarge the sizes\n",
    "params = {'legend.fontsize': 'x-large',\n",
    "          'figure.figsize': (6, 6),\n",
    "         'axes.labelsize': 'x-large',\n",
    "         'axes.titlesize':'x-large',\n",
    "         'xtick.labelsize':'x-large',\n",
    "         'ytick.labelsize':'x-large'}\n",
    "plt.rcParams.update(params)"
   ]
  },
  {
   "cell_type": "code",
   "execution_count": 4,
   "metadata": {
    "collapsed": false,
    "deletable": true,
    "editable": true
   },
   "outputs": [
    {
     "data": {
      "text/plain": [
       "'/Users/dagoret-campagnesylvie/MacOsX/External/PySyn_CDBS/grp/hst/cdbs'"
      ]
     },
     "execution_count": 4,
     "metadata": {},
     "output_type": "execute_result"
    }
   ],
   "source": [
    "os.environ['PYSYN_CDBS']"
   ]
  },
  {
   "cell_type": "code",
   "execution_count": 5,
   "metadata": {
    "collapsed": true,
    "deletable": true,
    "editable": true
   },
   "outputs": [],
   "source": [
    "import astropy\n",
    "from astropy.io import fits\n",
    "import pysynphot as S\n",
    "S.primary_area=6*1e4\n",
    "S.binning=10."
   ]
  },
  {
   "cell_type": "code",
   "execution_count": 6,
   "metadata": {
    "collapsed": true,
    "deletable": true,
    "editable": true
   },
   "outputs": [],
   "source": [
    "from astropy import units as u\n",
    "from astropy.coordinates import SkyCoord\n",
    "from astropy.coordinates import Angle\n",
    "from astropy.table import Table\n",
    "from astropy.coordinates import Angle\n",
    "from astropy.time import Time, TimezoneInfo"
   ]
  },
  {
   "cell_type": "code",
   "execution_count": 7,
   "metadata": {
    "collapsed": false,
    "deletable": true,
    "editable": true
   },
   "outputs": [],
   "source": [
    "from astropy.visualization import astropy_mpl_style\n",
    "plt.style.use(astropy_mpl_style)"
   ]
  },
  {
   "cell_type": "code",
   "execution_count": 8,
   "metadata": {
    "collapsed": true,
    "deletable": true,
    "editable": true
   },
   "outputs": [],
   "source": [
    "from astropy.coordinates import SkyCoord, EarthLocation, AltAz"
   ]
  },
  {
   "cell_type": "code",
   "execution_count": 9,
   "metadata": {
    "collapsed": true,
    "deletable": true,
    "editable": true
   },
   "outputs": [],
   "source": [
    "from datetime import datetime\n",
    "from pytz import timezone\n",
    "import pytz"
   ]
  },
  {
   "cell_type": "code",
   "execution_count": 10,
   "metadata": {
    "collapsed": true,
    "deletable": true,
    "editable": true
   },
   "outputs": [],
   "source": [
    "from pytz import all_timezones,common_timezones"
   ]
  },
  {
   "cell_type": "code",
   "execution_count": 11,
   "metadata": {
    "collapsed": true,
    "deletable": true,
    "editable": true
   },
   "outputs": [],
   "source": [
    "from astroquery.simbad import Simbad"
   ]
  },
  {
   "cell_type": "code",
   "execution_count": 12,
   "metadata": {
    "collapsed": true,
    "deletable": true,
    "editable": true
   },
   "outputs": [],
   "source": [
    "from astropy.coordinates import get_sun,get_moon"
   ]
  },
  {
   "cell_type": "markdown",
   "metadata": {
    "deletable": true,
    "editable": true
   },
   "source": [
    "# Initialisation"
   ]
  },
  {
   "cell_type": "markdown",
   "metadata": {
    "deletable": true,
    "editable": true
   },
   "source": [
    "## Simbad"
   ]
  },
  {
   "cell_type": "code",
   "execution_count": 13,
   "metadata": {
    "collapsed": false,
    "deletable": true,
    "editable": true
   },
   "outputs": [],
   "source": [
    "# Simbad.list_votable_fields()"
   ]
  },
  {
   "cell_type": "code",
   "execution_count": 14,
   "metadata": {
    "collapsed": false,
    "deletable": true,
    "editable": true
   },
   "outputs": [],
   "source": [
    "# Simbad.get_field_description ('flux(filtername)') "
   ]
  },
  {
   "cell_type": "code",
   "execution_count": 15,
   "metadata": {
    "collapsed": false,
    "deletable": true,
    "editable": true
   },
   "outputs": [],
   "source": [
    "# Simbad.get_votable_fields()"
   ]
  },
  {
   "cell_type": "code",
   "execution_count": 16,
   "metadata": {
    "collapsed": true,
    "deletable": true,
    "editable": true
   },
   "outputs": [],
   "source": [
    "customSimbad = Simbad()"
   ]
  },
  {
   "cell_type": "code",
   "execution_count": 17,
   "metadata": {
    "collapsed": false,
    "deletable": true,
    "editable": true
   },
   "outputs": [],
   "source": [
    "customSimbad.add_votable_fields('flux(U)','flux(B)','flux(V)','flux(R)','flux(I)','flux(J)')"
   ]
  },
  {
   "cell_type": "code",
   "execution_count": 18,
   "metadata": {
    "collapsed": false,
    "deletable": true,
    "editable": true
   },
   "outputs": [],
   "source": [
    "result_table = customSimbad.query_object('VEGA')   # Ask Simbad ALPHA_LYR"
   ]
  },
  {
   "cell_type": "code",
   "execution_count": 19,
   "metadata": {
    "collapsed": false,
    "deletable": true,
    "editable": true
   },
   "outputs": [
    {
     "name": "stdout",
     "output_type": "stream",
     "text": [
      " MAIN_ID        RA           DEC      RA_PREC ... FLUX_R FLUX_I    FLUX_J  \n",
      "             \"h:m:s\"       \"d:m:s\"            ...  mag    mag       mag    \n",
      "--------- ------------- ------------- ------- ... ------ ------ -----------\n",
      "* alf Lyr 18 36 56.3363 +38 47 01.280       9 ...   0.07    0.1 -0.18000001\n"
     ]
    }
   ],
   "source": [
    "print result_table"
   ]
  },
  {
   "cell_type": "markdown",
   "metadata": {
    "deletable": true,
    "editable": true
   },
   "source": [
    "# Query Simbad:\n",
    "https://astroquery.readthedocs.io/en/latest/simbad/simbad.html"
   ]
  },
  {
   "cell_type": "code",
   "execution_count": 20,
   "metadata": {
    "collapsed": true,
    "deletable": true,
    "editable": true
   },
   "outputs": [],
   "source": [
    "from astroquery.simbad import Simbad"
   ]
  },
  {
   "cell_type": "code",
   "execution_count": 21,
   "metadata": {
    "collapsed": true,
    "deletable": true,
    "editable": true
   },
   "outputs": [],
   "source": [
    "SEDfile_dir=os.path.join(os.environ['PYSYN_CDBS'], 'calspec')"
   ]
  },
  {
   "cell_type": "code",
   "execution_count": 22,
   "metadata": {
    "collapsed": false,
    "deletable": true,
    "editable": true
   },
   "outputs": [],
   "source": [
    "filelist=os.listdir(SEDfile_dir) "
   ]
  },
  {
   "cell_type": "markdown",
   "metadata": {
    "collapsed": false,
    "deletable": true,
    "editable": true
   },
   "source": [
    "## Extract the fits file headers"
   ]
  },
  {
   "cell_type": "code",
   "execution_count": 23,
   "metadata": {
    "collapsed": false,
    "deletable": true,
    "editable": true
   },
   "outputs": [
    {
     "name": "stderr",
     "output_type": "stream",
     "text": [
      "WARNING: The following header keyword is invalid or follows an unrecognized non-standard convention:\n",
      "    START STIS                                                                   [astropy.io.fits.card]\n",
      "WARNING: The following header keyword is invalid or follows an unrecognized non-standard convention:\n",
      "FILE WRITTEN BY ECHLREDUCE.PRO ON 11-Jun-2013 11:27:39.00                        [astropy.io.fits.card]\n",
      "WARNING: The following header keyword is invalid or follows an unrecognized non-standard convention:\n",
      "coadd list for E*H:                                                              [astropy.io.fits.card]\n",
      "WARNING: The following header keyword is invalid or follows an unrecognized non-standard convention:\n",
      " o57u01030 obb001040 obb005010 obb005020 obb001010 obb001090 obb005030           [astropy.io.fits.card]\n",
      "WARNING: The following header keyword is invalid or follows an unrecognized non-standard convention:\n",
      " obb005040 obb001060 obb001030 o57u01020 obb001050 obb001020 obb0010a0           [astropy.io.fits.card]\n",
      "WARNING: The following header keyword is invalid or follows an unrecognized non-standard convention:\n",
      " obb001070 o6hb100f0 obb001080 o57u01040 o5i011010 o5i011020 o5i011030           [astropy.io.fits.card]\n",
      "WARNING: The following header keyword is invalid or follows an unrecognized non-standard convention:\n",
      " obb0010b0 obb002090 obb0020b0 obb002010 obb002030 o6hb20060 obb002020           [astropy.io.fits.card]\n",
      "WARNING: The following header keyword is invalid or follows an unrecognized non-standard convention:\n",
      " o6hb20070 obb002040 o6hb20080 obb002050 obb002060 o6hb20090 obb002070           [astropy.io.fits.card]\n",
      "WARNING: The following header keyword is invalid or follows an unrecognized non-standard convention:\n",
      " obb002080 obb0020a0 obb0020c0 obb0020d0 obb004080 obb053040 obb053080           [astropy.io.fits.card]\n",
      "WARNING: The following header keyword is invalid or follows an unrecognized non-standard convention:\n",
      " obb053010 obb053020 obb053030 obb053050 obb053060 obb0530a0 obb053070           [astropy.io.fits.card]\n",
      "WARNING: The following header keyword is invalid or follows an unrecognized non-standard convention:\n",
      " obb053090 obb0530b0 obb004090 o5i010010 o5i010020 o5i010030 o5i013010           [astropy.io.fits.card]\n",
      "WARNING: The following header keyword is invalid or follows an unrecognized non-standard convention:\n",
      " o5i013020 o5i013030 o5i014010 o5i014020 o5i014030 o5i015010 o5i015020           [astropy.io.fits.card]\n",
      "WARNING: The following header keyword is invalid or follows an unrecognized non-standard convention:\n",
      " o5i015030 o6hb10010 o6hb10020 o6hb10030 o6hb10040 o6hb10050 o6hb10060           [astropy.io.fits.card]\n",
      "WARNING: The following header keyword is invalid or follows an unrecognized non-standard convention:\n",
      " o6hb10070 o6hb10080 o6hb10090 o6hb100a0 o6hb100b0 o6hb100c0 o6hb100d0           [astropy.io.fits.card]\n",
      "WARNING: The following header keyword is invalid or follows an unrecognized non-standard convention:\n",
      " o6hb100e0 o6hb20010 o6hb20020 o6hb20030 o6hb20040 o6hb20050 o6hb200a0           [astropy.io.fits.card]\n",
      "WARNING: The following header keyword is invalid or follows an unrecognized non-standard convention:\n",
      " o6hb200b0 o6hb200c0 o6hb200d0 o6hb200e0 o6hb200f0 o6hb30010 o6hb30020           [astropy.io.fits.card]\n",
      "WARNING: The following header keyword is invalid or follows an unrecognized non-standard convention:\n",
      " o6hb30030 o6hb30040 o6hb30050 o6hb30060 o6hb30070 o6hb30080 o6hb30090           [astropy.io.fits.card]\n",
      "WARNING: The following header keyword is invalid or follows an unrecognized non-standard convention:\n",
      " o6hb300a0 o6hb300b0 o6hb300c0 o6hb300d0 o6hb300e0 o6hb40080 o6hb40090           [astropy.io.fits.card]\n",
      "WARNING: The following header keyword is invalid or follows an unrecognized non-standard convention:\n",
      "SYS-ERROR is the broadband ~2% INTERNAL repeatability of echelles.               [astropy.io.fits.card]\n",
      "WARNING: The following header keyword is invalid or follows an unrecognized non-standard convention:\n",
      "IN ADDITION, THERE IS A SYSTEMATIC UNCERTAINTY IN THE ABS CALIB OF ~2-4%         [astropy.io.fits.card]\n",
      "WARNING: The following header keyword is invalid or follows an unrecognized non-standard convention:\n",
      "    Bohlin (2000,AJ,120,437). BOTH THE STAT-ERR AND SYS-ERR ARE 1-SIGMA.         [astropy.io.fits.card]\n",
      "WARNING: The following header keyword is invalid or follows an unrecognized non-standard convention:\n",
      "NO correction for stellar RADIAL VELOCITY                                        [astropy.io.fits.card]\n",
      "WARNING: The following header keyword is invalid or follows an unrecognized non-standard convention:\n",
      "G191B2B Sum of 105 OBS with STIS E*H Echelles                                    [astropy.io.fits.card]\n"
     ]
    }
   ],
   "source": [
    "star_header = []\n",
    "all_filelist = []\n",
    "for filename in filelist:\n",
    "    index=0\n",
    "    if re.search('fits',filename):  #example of filename filter\n",
    "        index+=1\n",
    "        fullfilename = os.path.join(os.environ['PYSYN_CDBS'], 'calspec',filename)\n",
    "        hdr = fits.getheader(fullfilename)\n",
    "        star_header.append(hdr)\n",
    "        all_filelist.append(filename)"
   ]
  },
  {
   "cell_type": "markdown",
   "metadata": {
    "deletable": true,
    "editable": true
   },
   "source": [
    "## Extract the object name from the headers"
   ]
  },
  {
   "cell_type": "code",
   "execution_count": 24,
   "metadata": {
    "collapsed": false,
    "deletable": true,
    "editable": true
   },
   "outputs": [],
   "source": [
    "star_names = []\n",
    "index=0\n",
    "for hdr in star_header:    \n",
    "    star_name=star_header[index][7]\n",
    "    star_names.append(star_name)\n",
    "    index+=1"
   ]
  },
  {
   "cell_type": "code",
   "execution_count": 25,
   "metadata": {
    "collapsed": false,
    "deletable": true,
    "editable": true
   },
   "outputs": [],
   "source": [
    "#star_names"
   ]
  },
  {
   "cell_type": "code",
   "execution_count": 26,
   "metadata": {
    "collapsed": false,
    "deletable": true,
    "editable": true
   },
   "outputs": [],
   "source": [
    "class CalibSpecStarSmb:\n",
    "    \"\"\"\n",
    "    Class for the CALSPEC stars from Simbad Query\n",
    "    \"\"\"\n",
    "    name = \"\"          # the name of the star from CALSPEC/Pysynphot\n",
    "    simbadname=\"\"      # the name of the star returned by Astroquery-Simbad \n",
    "    RA =\"\"             # string Right assension\n",
    "    DEC=\"\"             # string declination\n",
    "    U=0                # magnitudes\n",
    "    B=0\n",
    "    V=0\n",
    "    R=0\n",
    "    I=0\n",
    "    J=0\n",
    "    filelist = []\n",
    "\n",
    "    def __init__(self, name,simbname,ra,dec,u,b,v,r,i,j):   # constructor\n",
    "        self.name=name\n",
    "        self.simbname=simbname\n",
    "        self.RA=ra\n",
    "        self.DEC=dec\n",
    "        self.U=u\n",
    "        self.B=b\n",
    "        self.V=v\n",
    "        self.R=r\n",
    "        self.I=i\n",
    "        self.J=j\n",
    "        self.filelist = []\n",
    "    def setFileList(self,files):\n",
    "        self.filelist=files\n",
    "    def getFilelist(self):\n",
    "        return self.filelist\n",
    "    def show(self):                             # print \n",
    "        print 'name=',self.name,', ra=',self.RA,', dec=',self.DEC, ' V=',self.V,'mag'\n",
    "    def getName(self):                          # getters\n",
    "        return self.name\n",
    "    def getRA(self):\n",
    "        return self.RA\n",
    "    def getDEC(self):\n",
    "        return self.DEC  "
   ]
  },
  {
   "cell_type": "code",
   "execution_count": 27,
   "metadata": {
    "collapsed": true,
    "deletable": true,
    "editable": true
   },
   "outputs": [],
   "source": [
    "class CalibSpecStarSkc:\n",
    "    \"\"\"\n",
    "    Class for the CALSPEC stars from SkyCoord Query\n",
    "    \"\"\"\n",
    "    name = \"\"          # the name of the star from CALSPEC/Pysynphot\n",
    "    RA =0             # number Right ascension in deg\n",
    "    DEC=0             # number declination\n",
    "    \n",
    "    skycoord=astropy.coordinates.SkyCoord.from_name(\"VEGA\")  # creazy init with Vega\n",
    "\n",
    "    def __init__(self, name,ra,dec):   # constructor\n",
    "        self.name=name\n",
    "        self.RA=ra\n",
    "        self.DEC=dec\n",
    "        self.skycoord=astropy.coordinates.SkyCoord.from_name(name)\n",
    "        \n",
    "    def show(self):                             # print \n",
    "        #print 'name=',self.name,', ra=',self.RA,', dec=',self.DEC\n",
    "        print 'name',self.name,' :: ', self.skycoord\n",
    "    def getName(self):                          # getters\n",
    "        return self.name\n",
    "    def getRA(self):\n",
    "        return self.RA\n",
    "    def getDEC(self):\n",
    "        return self.DEC \n",
    "    def getSkyCoord(self):\n",
    "        return self.skycoord"
   ]
  },
  {
   "cell_type": "markdown",
   "metadata": {
    "deletable": true,
    "editable": true
   },
   "source": [
    "## Loop on entries to get info on coordinates on CALSPEC from Simbad\n",
    "\n",
    "- This is a way to sort the good name for stars\n",
    "- Moreover it does not crash if Simbad does not recognize a name"
   ]
  },
  {
   "cell_type": "code",
   "execution_count": 28,
   "metadata": {
    "collapsed": false,
    "deletable": true,
    "editable": true
   },
   "outputs": [
    {
     "name": "stderr",
     "output_type": "stream",
     "text": [
      "/Users/dagoret-campagnesylvie/anaconda/envs/pyastrophys/lib/python2.7/site-packages/astropy/table/table.py:2517: FutureWarning: comparison to `None` will result in an elementwise object comparison in the future.\n",
      "  result = (self.as_array().data == other) & (self.mask == false_mask)\n",
      "/Users/dagoret-campagnesylvie/anaconda/envs/pyastrophys/lib/python2.7/site-packages/astroquery/simbad/core.py:136: UserWarning: Warning: The script line number 3 raised an error (recorded in the `errors` attribute of the result table): '1732526 with NICMOS observations': No known catalog could be found\n",
      "  (error.line, error.msg))\n",
      "/Users/dagoret-campagnesylvie/anaconda/envs/pyastrophys/lib/python2.7/site-packages/astroquery/simbad/core.py:136: UserWarning: Warning: The script line number 3 raised an error (recorded in the `errors` attribute of the result table): '1732526': No known catalog could be found\n",
      "  (error.line, error.msg))\n",
      "/Users/dagoret-campagnesylvie/anaconda/envs/pyastrophys/lib/python2.7/site-packages/astroquery/simbad/core.py:136: UserWarning: Warning: The script line number 3 raised an error (recorded in the `errors` attribute of the result table): '1740346 with NICMOS observations': No known catalog could be found\n",
      "  (error.line, error.msg))\n",
      "/Users/dagoret-campagnesylvie/anaconda/envs/pyastrophys/lib/python2.7/site-packages/astroquery/simbad/core.py:136: UserWarning: Warning: The script line number 3 raised an error (recorded in the `errors` attribute of the result table): '1740346': No known catalog could be found\n",
      "  (error.line, error.msg))\n",
      "/Users/dagoret-campagnesylvie/anaconda/envs/pyastrophys/lib/python2.7/site-packages/astroquery/simbad/core.py:136: UserWarning: Warning: The script line number 3 raised an error (recorded in the `errors` attribute of the result table): '1743045 with NICMOS observations': No known catalog could be found\n",
      "  (error.line, error.msg))\n"
     ]
    },
    {
     "name": "stdout",
     "output_type": "stream",
     "text": [
      "--------------------- 1 )  10LAC -------------------------\n",
      " MAIN_ID        RA           DEC      RA_PREC ... FLUX_R   FLUX_I    FLUX_J \n",
      "             \"h:m:s\"       \"d:m:s\"            ...  mag      mag       mag   \n",
      "--------- ------------- ------------- ------- ... ------ --------- ---------\n",
      "*  10 Lac 22 39 15.6786 +39 03 00.971       9 ...   4.98 5.1900001 5.3899999\n",
      "--------------------- 2 )  10LAC -------------------------\n",
      " MAIN_ID        RA           DEC      RA_PREC ... FLUX_R   FLUX_I    FLUX_J \n",
      "             \"h:m:s\"       \"d:m:s\"            ...  mag      mag       mag   \n",
      "--------- ------------- ------------- ------- ... ------ --------- ---------\n",
      "*  10 Lac 22 39 15.6786 +39 03 00.971       9 ...   4.98 5.1900001 5.3899999\n",
      "--------------------- 3 )  10LAC -------------------------\n",
      " MAIN_ID        RA           DEC      RA_PREC ... FLUX_R   FLUX_I    FLUX_J \n",
      "             \"h:m:s\"       \"d:m:s\"            ...  mag      mag       mag   \n",
      "--------- ------------- ------------- ------- ... ------ --------- ---------\n",
      "*  10 Lac 22 39 15.6786 +39 03 00.971       9 ...   4.98 5.1900001 5.3899999\n"
     ]
    },
    {
     "name": "stderr",
     "output_type": "stream",
     "text": [
      "/Users/dagoret-campagnesylvie/anaconda/envs/pyastrophys/lib/python2.7/site-packages/astroquery/simbad/core.py:136: UserWarning: Warning: The script line number 3 raised an error (recorded in the `errors` attribute of the result table): '1743045': No known catalog could be found\n",
      "  (error.line, error.msg))\n",
      "/Users/dagoret-campagnesylvie/anaconda/envs/pyastrophys/lib/python2.7/site-packages/astroquery/simbad/core.py:136: UserWarning: Warning: The script line number 3 raised an error (recorded in the `errors` attribute of the result table): '1757132': No known catalog could be found\n",
      "  (error.line, error.msg))\n",
      "/Users/dagoret-campagnesylvie/anaconda/envs/pyastrophys/lib/python2.7/site-packages/astroquery/simbad/core.py:136: UserWarning: Warning: The script line number 3 raised an error (recorded in the `errors` attribute of the result table): '1802271 with NICMOS observations': No known catalog could be found\n",
      "  (error.line, error.msg))\n",
      "/Users/dagoret-campagnesylvie/anaconda/envs/pyastrophys/lib/python2.7/site-packages/astroquery/simbad/core.py:136: UserWarning: Warning: The script line number 3 raised an error (recorded in the `errors` attribute of the result table): '1802271': No known catalog could be found\n",
      "  (error.line, error.msg))\n",
      "/Users/dagoret-campagnesylvie/anaconda/envs/pyastrophys/lib/python2.7/site-packages/astroquery/simbad/core.py:136: UserWarning: Warning: The script line number 3 raised an error (recorded in the `errors` attribute of the result table): '1805292 with NICMOS observations': No known catalog could be found\n",
      "  (error.line, error.msg))\n",
      "/Users/dagoret-campagnesylvie/anaconda/envs/pyastrophys/lib/python2.7/site-packages/astroquery/simbad/core.py:136: UserWarning: Warning: The script line number 3 raised an error (recorded in the `errors` attribute of the result table): '1805292': No known catalog could be found\n",
      "  (error.line, error.msg))\n",
      "/Users/dagoret-campagnesylvie/anaconda/envs/pyastrophys/lib/python2.7/site-packages/astroquery/simbad/core.py:136: UserWarning: Warning: The script line number 3 raised an error (recorded in the `errors` attribute of the result table): '1808347': No known catalog could be found\n",
      "  (error.line, error.msg))\n",
      "/Users/dagoret-campagnesylvie/anaconda/envs/pyastrophys/lib/python2.7/site-packages/astroquery/simbad/core.py:136: UserWarning: Warning: The script line number 3 raised an error (recorded in the `errors` attribute of the result table): '1812095 with NICMOS observations': No known catalog could be found\n",
      "  (error.line, error.msg))\n",
      "/Users/dagoret-campagnesylvie/anaconda/envs/pyastrophys/lib/python2.7/site-packages/astroquery/simbad/core.py:136: UserWarning: Warning: The script line number 3 raised an error (recorded in the `errors` attribute of the result table): '1812095': No known catalog could be found\n",
      "  (error.line, error.msg))\n",
      "/Users/dagoret-campagnesylvie/anaconda/envs/pyastrophys/lib/python2.7/site-packages/astroquery/simbad/core.py:136: UserWarning: Warning: The script line number 3 raised an error (recorded in the `errors` attribute of the result table): '1812524 with NICMOS observations': No known catalog could be found\n",
      "  (error.line, error.msg))\n",
      "/Users/dagoret-campagnesylvie/anaconda/envs/pyastrophys/lib/python2.7/site-packages/astroquery/simbad/core.py:136: UserWarning: Warning: The script line number 3 raised an error (recorded in the `errors` attribute of the result table): '1812524': No known catalog could be found\n",
      "  (error.line, error.msg))\n",
      "/Users/dagoret-campagnesylvie/anaconda/envs/pyastrophys/lib/python2.7/site-packages/astroquery/simbad/core.py:136: UserWarning: Warning: The script line number 3 raised an error (recorded in the `errors` attribute of the result table): '2M0036+18 with STIS & NICMOS observations': No known catalog could be found\n",
      "  (error.line, error.msg))\n",
      "/Users/dagoret-campagnesylvie/anaconda/envs/pyastrophys/lib/python2.7/site-packages/astroquery/simbad/core.py:136: UserWarning: Warning: The script line number 3 raised an error (recorded in the `errors` attribute of the result table): 'Standard star flux with re-calibrated STIS & NICMOS observations---': No known catalog could be found\n",
      "  (error.line, error.msg))\n",
      "/Users/dagoret-campagnesylvie/anaconda/envs/pyastrophys/lib/python2.7/site-packages/astroquery/simbad/core.py:136: UserWarning: Warning: The script line number 3 raised an error (recorded in the `errors` attribute of the result table): '2M0036+18': No known catalog could be found\n",
      "  (error.line, error.msg))\n",
      "/Users/dagoret-campagnesylvie/anaconda/envs/pyastrophys/lib/python2.7/site-packages/astroquery/simbad/core.py:136: UserWarning: Warning: The script line number 3 raised an error (recorded in the `errors` attribute of the result table): '2M0559-14 with STIS & NICMOS observations': No known catalog could be found\n",
      "  (error.line, error.msg))\n",
      "/Users/dagoret-campagnesylvie/anaconda/envs/pyastrophys/lib/python2.7/site-packages/astroquery/simbad/core.py:136: UserWarning: Warning: The script line number 3 raised an error (recorded in the `errors` attribute of the result table): '2M0559-14': No known catalog could be found\n",
      "  (error.line, error.msg))\n",
      "/Users/dagoret-campagnesylvie/anaconda/envs/pyastrophys/lib/python2.7/site-packages/astroquery/simbad/core.py:136: UserWarning: Warning: The script line number 3 raised an error (recorded in the `errors` attribute of the result table): 'Astrophysics Supplement Series v44/p363, v44/p371, v73/p359, v73/p365.': this identifier has an incorrect format for catalog: \tA (ACO): Abell, Corwin, Olowin\n",
      "  (error.line, error.msg))\n",
      "/Users/dagoret-campagnesylvie/anaconda/envs/pyastrophys/lib/python2.7/site-packages/astroquery/simbad/core.py:136: UserWarning: Warning: The script line number 3 raised an error (recorded in the `errors` attribute of the result table): Identifier not found in the database : NAME AGK+81D266 with STIS observations\n",
      "  (error.line, error.msg))\n",
      "/Users/dagoret-campagnesylvie/anaconda/envs/pyastrophys/lib/python2.7/site-packages/astroquery/simbad/core.py:136: UserWarning: Warning: The script line number 3 raised an error (recorded in the `errors` attribute of the result table): 'AGK+81D266 with IUE, STIS, & NICMOS observations': this identifier has an incorrect format for catalog: \tAGK (AG): catalogue AG\n",
      "  (error.line, error.msg))\n",
      "/Users/dagoret-campagnesylvie/anaconda/envs/pyastrophys/lib/python2.7/site-packages/astroquery/simbad/core.py:136: UserWarning: Warning: The script line number 3 raised an error (recorded in the `errors` attribute of the result table): Identifier not found in the database : NAME AGK+81D266\n",
      "  (error.line, error.msg))\n",
      "/Users/dagoret-campagnesylvie/anaconda/envs/pyastrophys/lib/python2.7/site-packages/astroquery/simbad/core.py:136: UserWarning: Warning: The script line number 3 raised an error (recorded in the `errors` attribute of the result table): 'Bohlin, R. C. 2014, AJ, submitted': this identifier has an incorrect format for catalogs: \tB (GC): General Cat. Boss \tB (Batten): Batten \tB (BBB): Basinski, Bok, Bok \tB (Barnard): catalogue Barnard\n",
      "  (error.line, error.msg))\n",
      "/Users/dagoret-campagnesylvie/anaconda/envs/pyastrophys/lib/python2.7/site-packages/astroquery/simbad/core.py:136: UserWarning: Warning: The script line number 3 raised an error (recorded in the `errors` attribute of the result table): 'Bohlin, R. C. 2014, AJ, 147, 127': this identifier has an incorrect format for catalogs: \tB (GC): General Cat. Boss \tB (Batten): Batten \tB (BBB): Basinski, Bok, Bok \tB (Barnard): catalogue Barnard\n",
      "  (error.line, error.msg))\n",
      "/Users/dagoret-campagnesylvie/anaconda/envs/pyastrophys/lib/python2.7/site-packages/astroquery/simbad/core.py:136: UserWarning: Warning: The script line number 3 raised an error (recorded in the `errors` attribute of the result table): Identifier not found in the database : NAME ALPHA LYR with STIS observations\n",
      "  (error.line, error.msg))\n",
      "/Users/dagoret-campagnesylvie/anaconda/envs/pyastrophys/lib/python2.7/site-packages/astroquery/simbad/core.py:136: UserWarning: Warning: The script line number 3 raised an error (recorded in the `errors` attribute of the result table): Identifier not found in the database : NAME BD02D3375\n",
      "  (error.line, error.msg))\n",
      "/Users/dagoret-campagnesylvie/anaconda/envs/pyastrophys/lib/python2.7/site-packages/astroquery/simbad/core.py:136: UserWarning: Warning: The script line number 3 raised an error (recorded in the `errors` attribute of the result table): Identifier not found in the database : NAME BD17D4708 with STIS observations\n",
      "  (error.line, error.msg))\n",
      "/Users/dagoret-campagnesylvie/anaconda/envs/pyastrophys/lib/python2.7/site-packages/astroquery/simbad/core.py:136: UserWarning: Warning: The script line number 3 raised an error (recorded in the `errors` attribute of the result table): 'BD17D4708 with STIS & NICMOS observations': this identifier has an incorrect format for catalog: \tBD : Bonner Durchmusterung\n",
      "  (error.line, error.msg))\n"
     ]
    },
    {
     "name": "stdout",
     "output_type": "stream",
     "text": [
      "--------------------- 4 )  ALPHA_LYR -------------------------\n",
      " MAIN_ID        RA           DEC      RA_PREC ... FLUX_R FLUX_I    FLUX_J  \n",
      "             \"h:m:s\"       \"d:m:s\"            ...  mag    mag       mag    \n",
      "--------- ------------- ------------- ------- ... ------ ------ -----------\n",
      "* alf Lyr 18 36 56.3363 +38 47 01.280       9 ...   0.07    0.1 -0.18000001\n",
      "--------------------- 5 )  ALPHA_LYR -------------------------\n",
      " MAIN_ID        RA           DEC      RA_PREC ... FLUX_R FLUX_I    FLUX_J  \n",
      "             \"h:m:s\"       \"d:m:s\"            ...  mag    mag       mag    \n",
      "--------- ------------- ------------- ------- ... ------ ------ -----------\n",
      "* alf Lyr 18 36 56.3363 +38 47 01.280       9 ...   0.07    0.1 -0.18000001\n",
      "--------------------- 6 )  ALPHA_LYR -------------------------\n",
      " MAIN_ID        RA           DEC      RA_PREC ... FLUX_R FLUX_I    FLUX_J  \n",
      "             \"h:m:s\"       \"d:m:s\"            ...  mag    mag       mag    \n",
      "--------- ------------- ------------- ------- ... ------ ------ -----------\n",
      "* alf Lyr 18 36 56.3363 +38 47 01.280       9 ...   0.07    0.1 -0.18000001\n"
     ]
    },
    {
     "name": "stderr",
     "output_type": "stream",
     "text": [
      "/Users/dagoret-campagnesylvie/anaconda/envs/pyastrophys/lib/python2.7/site-packages/astroquery/simbad/core.py:136: UserWarning: Warning: The script line number 3 raised an error (recorded in the `errors` attribute of the result table): Identifier not found in the database : NAME BD21D0607\n",
      "  (error.line, error.msg))\n",
      "/Users/dagoret-campagnesylvie/anaconda/envs/pyastrophys/lib/python2.7/site-packages/astroquery/simbad/core.py:136: UserWarning: Warning: The script line number 3 raised an error (recorded in the `errors` attribute of the result table): Identifier not found in the database : NAME BD26D2606\n",
      "  (error.line, error.msg))\n",
      "/Users/dagoret-campagnesylvie/anaconda/envs/pyastrophys/lib/python2.7/site-packages/astroquery/simbad/core.py:136: UserWarning: Warning: The script line number 3 raised an error (recorded in the `errors` attribute of the result table): Identifier not found in the database : NAME BD29D2091\n",
      "  (error.line, error.msg))\n",
      "/Users/dagoret-campagnesylvie/anaconda/envs/pyastrophys/lib/python2.7/site-packages/astroquery/simbad/core.py:136: UserWarning: Warning: The script line number 3 raised an error (recorded in the `errors` attribute of the result table): Identifier not found in the database : NAME BD54D1216\n",
      "  (error.line, error.msg))\n",
      "/Users/dagoret-campagnesylvie/anaconda/envs/pyastrophys/lib/python2.7/site-packages/astroquery/simbad/core.py:136: UserWarning: Warning: The script line number 3 raised an error (recorded in the `errors` attribute of the result table): Identifier not found in the database : NAME BD60D1753\n",
      "  (error.line, error.msg))\n",
      "/Users/dagoret-campagnesylvie/anaconda/envs/pyastrophys/lib/python2.7/site-packages/astroquery/simbad/core.py:136: UserWarning: Warning: The script line number 3 raised an error (recorded in the `errors` attribute of the result table): 'BD+17D4708 with STIS & NICMOS observations': this identifier has an incorrect format for catalog: \tBD : Bonner Durchmusterung\n",
      "  (error.line, error.msg))\n",
      "/Users/dagoret-campagnesylvie/anaconda/envs/pyastrophys/lib/python2.7/site-packages/astroquery/simbad/core.py:136: UserWarning: Warning: The script line number 3 raised an error (recorded in the `errors` attribute of the result table): Identifier not found in the database : NAME BD+17D4708\n",
      "  (error.line, error.msg))\n",
      "/Users/dagoret-campagnesylvie/anaconda/envs/pyastrophys/lib/python2.7/site-packages/astroquery/simbad/core.py:136: UserWarning: Warning: The script line number 3 raised an error (recorded in the `errors` attribute of the result table): Identifier not found in the database : NAME BD+28D4211 with STIS observations\n",
      "  (error.line, error.msg))\n",
      "/Users/dagoret-campagnesylvie/anaconda/envs/pyastrophys/lib/python2.7/site-packages/astroquery/simbad/core.py:136: UserWarning: Warning: The script line number 3 raised an error (recorded in the `errors` attribute of the result table): Identifier not found in the database : NAME BD28D4211\n",
      "  (error.line, error.msg))\n",
      "/Users/dagoret-campagnesylvie/anaconda/envs/pyastrophys/lib/python2.7/site-packages/astroquery/simbad/core.py:136: UserWarning: Warning: The script line number 3 raised an error (recorded in the `errors` attribute of the result table): Identifier not found in the database : NAME BD+75D325 with STIS observations\n",
      "  (error.line, error.msg))\n",
      "/Users/dagoret-campagnesylvie/anaconda/envs/pyastrophys/lib/python2.7/site-packages/astroquery/simbad/core.py:136: UserWarning: Warning: The script line number 3 raised an error (recorded in the `errors` attribute of the result table): Identifier not found in the database : NAME BD75\n",
      "  (error.line, error.msg))\n",
      "/Users/dagoret-campagnesylvie/anaconda/envs/pyastrophys/lib/python2.7/site-packages/astroquery/simbad/core.py:136: UserWarning: Warning: The script line number 3 raised an error (recorded in the `errors` attribute of the result table): 'C26202 with STIS & NICMOS observations': this identifier has an incorrect format for catalog: \tC : Cluster\n",
      "  (error.line, error.msg))\n",
      "/Users/dagoret-campagnesylvie/anaconda/envs/pyastrophys/lib/python2.7/site-packages/astroquery/simbad/core.py:136: UserWarning: Warning: The script line number 3 raised an error (recorded in the `errors` attribute of the result table): Identifier not found in the database : NAME C 26202\n",
      "  (error.line, error.msg))\n",
      "/Users/dagoret-campagnesylvie/anaconda/envs/pyastrophys/lib/python2.7/site-packages/astroquery/simbad/core.py:136: UserWarning: Warning: The script line number 3 raised an error (recorded in the `errors` attribute of the result table): Identifier not found in the database : NAME ETAUMA\n",
      "  (error.line, error.msg))\n",
      "/Users/dagoret-campagnesylvie/anaconda/envs/pyastrophys/lib/python2.7/site-packages/astroquery/simbad/core.py:136: UserWarning: Warning: The script line number 3 raised an error (recorded in the `errors` attribute of the result table): Identifier not found in the database : NAME FEIGE110 with STIS observations\n",
      "  (error.line, error.msg))\n",
      "/Users/dagoret-campagnesylvie/anaconda/envs/pyastrophys/lib/python2.7/site-packages/astroquery/simbad/core.py:136: UserWarning: Warning: The script line number 3 raised an error (recorded in the `errors` attribute of the result table): 'FEIGE110 with IUE, STIS, Oke, & NICMOS observations': this identifier has an incorrect format for catalog: \tFEIGE : catalogue Feige\n",
      "  (error.line, error.msg))\n",
      "/Users/dagoret-campagnesylvie/anaconda/envs/pyastrophys/lib/python2.7/site-packages/astroquery/simbad/core.py:136: UserWarning: Warning: The script line number 3 raised an error (recorded in the `errors` attribute of the result table): Identifier not found in the database : NAME FEIGE34 with STIS observations\n",
      "  (error.line, error.msg))\n"
     ]
    },
    {
     "name": "stdout",
     "output_type": "stream",
     "text": [
      "--------------------- 7 )  FEIGE110 -------------------------\n",
      " MAIN_ID        RA           DEC      RA_PREC ... FLUX_V FLUX_R FLUX_I FLUX_J\n",
      "             \"h:m:s\"       \"d:m:s\"            ...  mag    mag    mag    mag  \n",
      "--------- ------------- ------------- ------- ... ------ ------ ------ ------\n",
      "Feige 110 23 19 58.3981 -05 09 56.160       9 ...   11.5  11.97 12.145 12.548\n",
      "--------------------- 8 )  FEIGE110 -------------------------\n",
      " MAIN_ID        RA           DEC      RA_PREC ... FLUX_V FLUX_R FLUX_I FLUX_J\n",
      "             \"h:m:s\"       \"d:m:s\"            ...  mag    mag    mag    mag  \n",
      "--------- ------------- ------------- ------- ... ------ ------ ------ ------\n",
      "Feige 110 23 19 58.3981 -05 09 56.160       9 ...   11.5  11.97 12.145 12.548\n",
      "--------------------- 9 )  FEIGE110 -------------------------\n",
      " MAIN_ID        RA           DEC      RA_PREC ... FLUX_V FLUX_R FLUX_I FLUX_J\n",
      "             \"h:m:s\"       \"d:m:s\"            ...  mag    mag    mag    mag  \n",
      "--------- ------------- ------------- ------- ... ------ ------ ------ ------\n",
      "Feige 110 23 19 58.3981 -05 09 56.160       9 ...   11.5  11.97 12.145 12.548\n",
      "--------------------- 10 )  FEIGE34 -------------------------\n",
      " MAIN_ID        RA           DEC      RA_PREC ... FLUX_V FLUX_R FLUX_I FLUX_J\n",
      "             \"h:m:s\"       \"d:m:s\"            ...  mag    mag    mag    mag  \n",
      "--------- ------------- ------------- ------- ... ------ ------ ------ ------\n",
      "Feige  34 10 39 36.7403 +43 06 09.255       9 ...  11.14 11.319 11.464 11.643\n",
      "--------------------- 11 )  FEIGE34 -------------------------\n",
      " MAIN_ID        RA           DEC      RA_PREC ... FLUX_V FLUX_R FLUX_I FLUX_J\n",
      "             \"h:m:s\"       \"d:m:s\"            ...  mag    mag    mag    mag  \n",
      "--------- ------------- ------------- ------- ... ------ ------ ------ ------\n",
      "Feige  34 10 39 36.7403 +43 06 09.255       9 ...  11.14 11.319 11.464 11.643\n",
      "--------------------- 12 )  FEIGE34 -------------------------\n",
      " MAIN_ID        RA           DEC      RA_PREC ... FLUX_V FLUX_R FLUX_I FLUX_J\n",
      "             \"h:m:s\"       \"d:m:s\"            ...  mag    mag    mag    mag  \n",
      "--------- ------------- ------------- ------- ... ------ ------ ------ ------\n",
      "Feige  34 10 39 36.7403 +43 06 09.255       9 ...  11.14 11.319 11.464 11.643\n"
     ]
    },
    {
     "name": "stderr",
     "output_type": "stream",
     "text": [
      "/Users/dagoret-campagnesylvie/anaconda/envs/pyastrophys/lib/python2.7/site-packages/astroquery/simbad/core.py:136: UserWarning: Warning: The script line number 3 raised an error (recorded in the `errors` attribute of the result table): 'g191b2b mod 004.fits': this identifier has an incorrect format for catalog: \tg : Giclas\n",
      "  (error.line, error.msg))\n",
      "/Users/dagoret-campagnesylvie/anaconda/envs/pyastrophys/lib/python2.7/site-packages/astroquery/simbad/core.py:136: UserWarning: Warning: The script line number 3 raised an error (recorded in the `errors` attribute of the result table): 'Bohlin, R. C. 2009, in preparation': this identifier has an incorrect format for catalogs: \tB (GC): General Cat. Boss \tB (Batten): Batten \tB (BBB): Basinski, Bok, Bok \tB (Barnard): catalogue Barnard\n",
      "  (error.line, error.msg))\n",
      "/Users/dagoret-campagnesylvie/anaconda/envs/pyastrophys/lib/python2.7/site-packages/astroquery/simbad/core.py:136: UserWarning: Warning: The script line number 3 raised an error (recorded in the `errors` attribute of the result table): 'New STIS g=4 value --> new Vega mag, update G191B2B mag': this identifier has an incorrect format for catalogs: \tN (NOVA): catalogue NOVA \tN (NGC): catalogue NGC\n",
      "  (error.line, error.msg))\n",
      "/Users/dagoret-campagnesylvie/anaconda/envs/pyastrophys/lib/python2.7/site-packages/astroquery/simbad/core.py:136: UserWarning: Warning: The script line number 3 raised an error (recorded in the `errors` attribute of the result table): 'Rauch, Werner, Bohlin, & Kruk 2013, A&A, in press': No known catalog could be found\n",
      "  (error.line, error.msg))\n",
      "/Users/dagoret-campagnesylvie/anaconda/envs/pyastrophys/lib/python2.7/site-packages/astroquery/simbad/core.py:136: UserWarning: Warning: The script line number 3 raised an error (recorded in the `errors` attribute of the result table): 'Rauch, Werner, Bohlin, & Kruk 2013, A&A, 560, A106': No known catalog could be found\n",
      "  (error.line, error.msg))\n",
      "/Users/dagoret-campagnesylvie/anaconda/envs/pyastrophys/lib/python2.7/site-packages/astroquery/simbad/core.py:136: UserWarning: Warning: The script line number 3 raised an error (recorded in the `errors` attribute of the result table): 'Bohlin, Gordon, Tremblay 2014, PASP, 126, 711': this identifier has an incorrect format for catalogs: \tB (GC): General Cat. Boss \tB (Batten): Batten \tB (BBB): Basinski, Bok, Bok \tB (Barnard): catalogue Barnard\n",
      "  (error.line, error.msg))\n",
      "/Users/dagoret-campagnesylvie/anaconda/envs/pyastrophys/lib/python2.7/site-packages/astroquery/simbad/core.py:136: UserWarning: Warning: The script line number 3 raised an error (recorded in the `errors` attribute of the result table): Identifier not found in the database : NAME G191B2B with STIS observations\n",
      "  (error.line, error.msg))\n",
      "/Users/dagoret-campagnesylvie/anaconda/envs/pyastrophys/lib/python2.7/site-packages/astroquery/simbad/core.py:136: UserWarning: Warning: The script line number 3 raised an error (recorded in the `errors` attribute of the result table): 'Rauch, et al. 2013, A&A, in press': No known catalog could be found\n",
      "  (error.line, error.msg))\n",
      "/Users/dagoret-campagnesylvie/anaconda/envs/pyastrophys/lib/python2.7/site-packages/astroquery/simbad/core.py:136: UserWarning: Warning: The script line number 3 raised an error (recorded in the `errors` attribute of the result table): 'G191B2B with STIS & NICMOS observations': this identifier has an incorrect format for catalog: \tG : Giclas\n",
      "  (error.line, error.msg))\n"
     ]
    },
    {
     "name": "stdout",
     "output_type": "stream",
     "text": [
      "--------------------- 13 )  G191B2B -------------------------\n",
      "  MAIN_ID         RA           DEC      RA_PREC ... FLUX_V FLUX_R FLUX_I FLUX_J\n",
      "               \"h:m:s\"       \"d:m:s\"            ...  mag    mag    mag    mag  \n",
      "----------- ------------- ------------- ------- ... ------ ------ ------ ------\n",
      "BD+52   913 05 05 30.6128 +52 49 51.955       9 ...  11.69  11.93 12.108 12.543\n",
      "--------------------- 14 )  G191B2B -------------------------\n",
      "  MAIN_ID         RA           DEC      RA_PREC ... FLUX_V FLUX_R FLUX_I FLUX_J\n",
      "               \"h:m:s\"       \"d:m:s\"            ...  mag    mag    mag    mag  \n",
      "----------- ------------- ------------- ------- ... ------ ------ ------ ------\n",
      "BD+52   913 05 05 30.6128 +52 49 51.955       9 ...  11.69  11.93 12.108 12.543\n",
      "--------------------- 15 )  G191B2B -------------------------\n",
      "  MAIN_ID         RA           DEC      RA_PREC ... FLUX_V FLUX_R FLUX_I FLUX_J\n",
      "               \"h:m:s\"       \"d:m:s\"            ...  mag    mag    mag    mag  \n",
      "----------- ------------- ------------- ------- ... ------ ------ ------ ------\n",
      "BD+52   913 05 05 30.6128 +52 49 51.955       9 ...  11.69  11.93 12.108 12.543\n"
     ]
    },
    {
     "name": "stderr",
     "output_type": "stream",
     "text": [
      "/Users/dagoret-campagnesylvie/anaconda/envs/pyastrophys/lib/python2.7/site-packages/astroquery/simbad/core.py:136: UserWarning: Warning: The script line number 3 raised an error (recorded in the `errors` attribute of the result table): 'gd153 mod 004.fits': this identifier has an incorrect format for catalog: \tgd : Giclas, Dwarf\n",
      "  (error.line, error.msg))\n",
      "/Users/dagoret-campagnesylvie/anaconda/envs/pyastrophys/lib/python2.7/site-packages/astroquery/simbad/core.py:136: UserWarning: Warning: The script line number 3 raised an error (recorded in the `errors` attribute of the result table): 'Rauch, Bohlin, & Kruk 2013': No known catalog could be found\n",
      "  (error.line, error.msg))\n",
      "/Users/dagoret-campagnesylvie/anaconda/envs/pyastrophys/lib/python2.7/site-packages/astroquery/simbad/core.py:136: UserWarning: Warning: The script line number 3 raised an error (recorded in the `errors` attribute of the result table): Identifier not found in the database : NAME GD153 with STIS observations\n",
      "  (error.line, error.msg))\n",
      "/Users/dagoret-campagnesylvie/anaconda/envs/pyastrophys/lib/python2.7/site-packages/astroquery/simbad/core.py:136: UserWarning: Warning: The script line number 3 raised an error (recorded in the `errors` attribute of the result table): 'GD153 with STIS & NICMOS observations': this identifier has an incorrect format for catalog: \tGD : Giclas, Dwarf\n",
      "  (error.line, error.msg))\n"
     ]
    },
    {
     "name": "stdout",
     "output_type": "stream",
     "text": [
      "--------------------- 16 )  GD153 -------------------------\n",
      "MAIN_ID      RA          DEC      RA_PREC ... FLUX_V FLUX_R FLUX_I FLUX_J\n",
      "          \"h:m:s\"      \"d:m:s\"            ...  mag    mag    mag    mag  \n",
      "------- ------------ ------------ ------- ... ------ ------ ------ ------\n",
      " GD 153 12 57 02.337 +22 01 52.68       7 ... 13.349 13.488 13.669 14.012\n",
      "--------------------- 17 )  GD153 -------------------------\n",
      "MAIN_ID      RA          DEC      RA_PREC ... FLUX_V FLUX_R FLUX_I FLUX_J\n",
      "          \"h:m:s\"      \"d:m:s\"            ...  mag    mag    mag    mag  \n",
      "------- ------------ ------------ ------- ... ------ ------ ------ ------\n",
      " GD 153 12 57 02.337 +22 01 52.68       7 ... 13.349 13.488 13.669 14.012\n",
      "--------------------- 18 )  GD153 -------------------------\n",
      "MAIN_ID      RA          DEC      RA_PREC ... FLUX_V FLUX_R FLUX_I FLUX_J\n",
      "          \"h:m:s\"      \"d:m:s\"            ...  mag    mag    mag    mag  \n",
      "------- ------------ ------------ ------- ... ------ ------ ------ ------\n",
      " GD 153 12 57 02.337 +22 01 52.68       7 ... 13.349 13.488 13.669 14.012\n"
     ]
    },
    {
     "name": "stderr",
     "output_type": "stream",
     "text": [
      "/Users/dagoret-campagnesylvie/anaconda/envs/pyastrophys/lib/python2.7/site-packages/astroquery/simbad/core.py:136: UserWarning: Warning: The script line number 3 raised an error (recorded in the `errors` attribute of the result table): 'gd71 mod 005.fits': this identifier has an incorrect format for catalog: \tgd : Giclas, Dwarf\n",
      "  (error.line, error.msg))\n",
      "/Users/dagoret-campagnesylvie/anaconda/envs/pyastrophys/lib/python2.7/site-packages/astroquery/simbad/core.py:136: UserWarning: Warning: The script line number 3 raised an error (recorded in the `errors` attribute of the result table): Identifier not found in the database : NAME GD71 with STIS observations\n",
      "  (error.line, error.msg))\n",
      "/Users/dagoret-campagnesylvie/anaconda/envs/pyastrophys/lib/python2.7/site-packages/astroquery/simbad/core.py:136: UserWarning: Warning: The script line number 3 raised an error (recorded in the `errors` attribute of the result table): 'GD71 with STIS & NICMOS observations': this identifier has an incorrect format for catalog: \tGD : Giclas, Dwarf\n",
      "  (error.line, error.msg))\n"
     ]
    },
    {
     "name": "stdout",
     "output_type": "stream",
     "text": [
      "--------------------- 19 )  GD71 -------------------------\n",
      "MAIN_ID      RA          DEC      RA_PREC ... FLUX_V FLUX_R FLUX_I FLUX_J\n",
      "          \"h:m:s\"      \"d:m:s\"            ...  mag    mag    mag    mag  \n",
      "------- ------------ ------------ ------- ... ------ ------ ------ ------\n",
      "  GD 71 05 52 27.614 +15 53 13.75       7 ... 13.032 13.169 13.337 13.728\n",
      "--------------------- 20 )  GD71 -------------------------\n",
      "MAIN_ID      RA          DEC      RA_PREC ... FLUX_V FLUX_R FLUX_I FLUX_J\n",
      "          \"h:m:s\"      \"d:m:s\"            ...  mag    mag    mag    mag  \n",
      "------- ------------ ------------ ------- ... ------ ------ ------ ------\n",
      "  GD 71 05 52 27.614 +15 53 13.75       7 ... 13.032 13.169 13.337 13.728\n",
      "--------------------- 21 )  GD71 -------------------------\n",
      "MAIN_ID      RA          DEC      RA_PREC ... FLUX_V FLUX_R FLUX_I FLUX_J\n",
      "          \"h:m:s\"      \"d:m:s\"            ...  mag    mag    mag    mag  \n",
      "------- ------------ ------------ ------- ... ------ ------ ------ ------\n",
      "  GD 71 05 52 27.614 +15 53 13.75       7 ... 13.032 13.169 13.337 13.728\n"
     ]
    },
    {
     "name": "stderr",
     "output_type": "stream",
     "text": [
      "/Users/dagoret-campagnesylvie/anaconda/envs/pyastrophys/lib/python2.7/site-packages/astroquery/simbad/core.py:136: UserWarning: Warning: The script line number 3 raised an error (recorded in the `errors` attribute of the result table): Identifier not found in the database : GJ  7541 A\n",
      "  (error.line, error.msg))\n",
      "/Users/dagoret-campagnesylvie/anaconda/envs/pyastrophys/lib/python2.7/site-packages/astroquery/simbad/core.py:136: UserWarning: Warning: The script line number 3 raised an error (recorded in the `errors` attribute of the result table): Identifier not found in the database : NAME AC +70D5824 with STIS observations\n",
      "  (error.line, error.msg))\n",
      "/Users/dagoret-campagnesylvie/anaconda/envs/pyastrophys/lib/python2.7/site-packages/astroquery/simbad/core.py:136: UserWarning: Warning: The script line number 3 raised an error (recorded in the `errors` attribute of the result table): 'GRW+70D5824 with STIS & NICMOS observations': this identifier has an incorrect format for catalog: \tAC : catalogue AC\n",
      "  (error.line, error.msg))\n",
      "/Users/dagoret-campagnesylvie/anaconda/envs/pyastrophys/lib/python2.7/site-packages/astroquery/simbad/core.py:136: UserWarning: Warning: The script line number 3 raised an error (recorded in the `errors` attribute of the result table): Identifier not found in the database : NAME AC +70D5824\n",
      "  (error.line, error.msg))\n"
     ]
    },
    {
     "name": "stdout",
     "output_type": "stream",
     "text": [
      "--------------------- 22 )  HD009051 -------------------------\n",
      " MAIN_ID        RA           DEC      RA_PREC ...   FLUX_V  FLUX_R FLUX_I FLUX_J\n",
      "             \"h:m:s\"       \"d:m:s\"            ...    mag     mag    mag    mag  \n",
      "--------- ------------- ------------- ------- ... --------- ------ ------ ------\n",
      "HD   9051 01 28 46.5020 -24 20 25.443       9 ... 8.9200001     --     --  7.289\n",
      "--------------------- 23 )  HD009051 -------------------------\n",
      " MAIN_ID        RA           DEC      RA_PREC ...   FLUX_V  FLUX_R FLUX_I FLUX_J\n",
      "             \"h:m:s\"       \"d:m:s\"            ...    mag     mag    mag    mag  \n",
      "--------- ------------- ------------- ------- ... --------- ------ ------ ------\n",
      "HD   9051 01 28 46.5020 -24 20 25.443       9 ... 8.9200001     --     --  7.289\n",
      "--------------------- 24 )  HD009051 -------------------------\n",
      " MAIN_ID        RA           DEC      RA_PREC ...   FLUX_V  FLUX_R FLUX_I FLUX_J\n",
      "             \"h:m:s\"       \"d:m:s\"            ...    mag     mag    mag    mag  \n",
      "--------- ------------- ------------- ------- ... --------- ------ ------ ------\n",
      "HD   9051 01 28 46.5020 -24 20 25.443       9 ... 8.9200001     --     --  7.289\n",
      "--------------------- 25 )  HD031128 -------------------------\n",
      " MAIN_ID        RA           DEC      RA_PREC ... FLUX_R FLUX_I   FLUX_J \n",
      "             \"h:m:s\"       \"d:m:s\"            ...  mag    mag      mag   \n",
      "--------- ------------- ------------- ------- ... ------ ------ ---------\n",
      "HD  31128 04 52 09.9101 -27 03 50.950       9 ...     --     -- 8.0319996\n",
      "--------------------- 26 )  HD031128 -------------------------\n",
      " MAIN_ID        RA           DEC      RA_PREC ... FLUX_R FLUX_I   FLUX_J \n",
      "             \"h:m:s\"       \"d:m:s\"            ...  mag    mag      mag   \n",
      "--------- ------------- ------------- ------- ... ------ ------ ---------\n",
      "HD  31128 04 52 09.9101 -27 03 50.950       9 ...     --     -- 8.0319996\n",
      "--------------------- 27 )  HD031128 -------------------------\n",
      " MAIN_ID        RA           DEC      RA_PREC ... FLUX_R FLUX_I   FLUX_J \n",
      "             \"h:m:s\"       \"d:m:s\"            ...  mag    mag      mag   \n",
      "--------- ------------- ------------- ------- ... ------ ------ ---------\n",
      "HD  31128 04 52 09.9101 -27 03 50.950       9 ...     --     -- 8.0319996\n",
      "--------------------- 28 )  HD074000 -------------------------\n",
      " MAIN_ID        RA           DEC      RA_PREC ... FLUX_R FLUX_I   FLUX_J \n",
      "             \"h:m:s\"       \"d:m:s\"            ...  mag    mag      mag   \n",
      "--------- ------------- ------------- ------- ... ------ ------ ---------\n",
      "HD  74000 08 40 50.8036 -16 20 42.520       9 ...     --     -- 8.7159996\n",
      "--------------------- 29 )  HD074000 -------------------------\n",
      " MAIN_ID        RA           DEC      RA_PREC ... FLUX_R FLUX_I   FLUX_J \n",
      "             \"h:m:s\"       \"d:m:s\"            ...  mag    mag      mag   \n",
      "--------- ------------- ------------- ------- ... ------ ------ ---------\n",
      "HD  74000 08 40 50.8036 -16 20 42.520       9 ...     --     -- 8.7159996\n",
      "--------------------- 30 )  HD074000 -------------------------\n",
      " MAIN_ID        RA           DEC      RA_PREC ... FLUX_R FLUX_I   FLUX_J \n",
      "             \"h:m:s\"       \"d:m:s\"            ...  mag    mag      mag   \n",
      "--------- ------------- ------------- ------- ... ------ ------ ---------\n",
      "HD  74000 08 40 50.8036 -16 20 42.520       9 ...     --     -- 8.7159996\n",
      "--------------------- 31 )  HD106252 -------------------------\n",
      " MAIN_ID        RA           DEC      RA_PREC ... FLUX_R   FLUX_I    FLUX_J \n",
      "             \"h:m:s\"       \"d:m:s\"            ...  mag      mag       mag   \n",
      "--------- ------------- ------------- ------- ... ------ --------- ---------\n",
      "HD 106252 12 13 29.5093 +10 02 29.897       9 ...    7.0 6.6999998 6.3000002\n",
      "--------------------- 32 )  HD106252 -------------------------\n",
      " MAIN_ID        RA           DEC      RA_PREC ... FLUX_R   FLUX_I    FLUX_J \n",
      "             \"h:m:s\"       \"d:m:s\"            ...  mag      mag       mag   \n",
      "--------- ------------- ------------- ------- ... ------ --------- ---------\n",
      "HD 106252 12 13 29.5093 +10 02 29.897       9 ...    7.0 6.6999998 6.3000002\n",
      "--------------------- 33 )  HD106252 -------------------------\n",
      " MAIN_ID        RA           DEC      RA_PREC ... FLUX_R   FLUX_I    FLUX_J \n",
      "             \"h:m:s\"       \"d:m:s\"            ...  mag      mag       mag   \n",
      "--------- ------------- ------------- ------- ... ------ --------- ---------\n",
      "HD 106252 12 13 29.5093 +10 02 29.897       9 ...    7.0 6.6999998 6.3000002\n",
      "--------------------- 34 )  HD111980 -------------------------\n",
      " MAIN_ID        RA           DEC      RA_PREC ... FLUX_R FLUX_I   FLUX_J \n",
      "             \"h:m:s\"       \"d:m:s\"            ...  mag    mag      mag   \n",
      "--------- ------------- ------------- ------- ... ------ ------ ---------\n",
      "HD 111980 12 53 15.0532 -18 31 19.999       9 ...     --     -- 7.1760001\n",
      "--------------------- 35 )  HD111980 -------------------------\n",
      " MAIN_ID        RA           DEC      RA_PREC ... FLUX_R FLUX_I   FLUX_J \n",
      "             \"h:m:s\"       \"d:m:s\"            ...  mag    mag      mag   \n",
      "--------- ------------- ------------- ------- ... ------ ------ ---------\n",
      "HD 111980 12 53 15.0532 -18 31 19.999       9 ...     --     -- 7.1760001\n",
      "--------------------- 36 )  HD111980 -------------------------\n",
      " MAIN_ID        RA           DEC      RA_PREC ... FLUX_R FLUX_I   FLUX_J \n",
      "             \"h:m:s\"       \"d:m:s\"            ...  mag    mag      mag   \n",
      "--------- ------------- ------------- ------- ... ------ ------ ---------\n",
      "HD 111980 12 53 15.0532 -18 31 19.999       9 ...     --     -- 7.1760001\n",
      "--------------------- 37 )  HD116405 -------------------------\n",
      " MAIN_ID        RA           DEC      RA_PREC ... FLUX_R FLUX_I   FLUX_J \n",
      "             \"h:m:s\"       \"d:m:s\"            ...  mag    mag      mag   \n",
      "--------- ------------- ------------- ------- ... ------ ------ ---------\n",
      "HD 116405 13 22 45.1228 +44 42 53.899       9 ...     --     -- 8.3929996\n",
      "--------------------- 38 )  HD116405 -------------------------\n",
      " MAIN_ID        RA           DEC      RA_PREC ... FLUX_R FLUX_I   FLUX_J \n",
      "             \"h:m:s\"       \"d:m:s\"            ...  mag    mag      mag   \n",
      "--------- ------------- ------------- ------- ... ------ ------ ---------\n",
      "HD 116405 13 22 45.1228 +44 42 53.899       9 ...     --     -- 8.3929996\n",
      "--------------------- 39 )  HD116405 -------------------------\n",
      " MAIN_ID        RA           DEC      RA_PREC ... FLUX_R FLUX_I   FLUX_J \n",
      "             \"h:m:s\"       \"d:m:s\"            ...  mag    mag      mag   \n",
      "--------- ------------- ------------- ------- ... ------ ------ ---------\n",
      "HD 116405 13 22 45.1228 +44 42 53.899       9 ...     --     -- 8.3929996\n",
      "--------------------- 40 )  HD14943 -------------------------\n",
      " MAIN_ID        RA           DEC      RA_PREC ...   FLUX_V  FLUX_R FLUX_I FLUX_J\n",
      "             \"h:m:s\"       \"d:m:s\"            ...    mag     mag    mag    mag  \n",
      "--------- ------------- ------------- ------- ... --------- ------ ------ ------\n",
      "HD  14943 02 22 54.6748 -51 05 31.665       9 ... 5.8979998     --     --  5.585\n",
      "--------------------- 41 )  HD14943 -------------------------\n",
      " MAIN_ID        RA           DEC      RA_PREC ...   FLUX_V  FLUX_R FLUX_I FLUX_J\n",
      "             \"h:m:s\"       \"d:m:s\"            ...    mag     mag    mag    mag  \n",
      "--------- ------------- ------------- ------- ... --------- ------ ------ ------\n",
      "HD  14943 02 22 54.6748 -51 05 31.665       9 ... 5.8979998     --     --  5.585\n",
      "--------------------- 42 )  HD14943 -------------------------\n",
      " MAIN_ID        RA           DEC      RA_PREC ...   FLUX_V  FLUX_R FLUX_I FLUX_J\n",
      "             \"h:m:s\"       \"d:m:s\"            ...    mag     mag    mag    mag  \n",
      "--------- ------------- ------------- ------- ... --------- ------ ------ ------\n",
      "HD  14943 02 22 54.6748 -51 05 31.665       9 ... 5.8979998     --     --  5.585\n",
      "--------------------- 43 )  HD158485 -------------------------\n",
      "MAIN_ID        RA           DEC      RA_PREC ... FLUX_V FLUX_R FLUX_I   FLUX_J \n",
      "            \"h:m:s\"       \"d:m:s\"            ...  mag    mag    mag      mag   \n",
      "-------- ------------- ------------- ------- ... ------ ------ ------ ---------\n",
      "HR  6514 17 26 04.8365 +58 39 06.824       9 ...  6.494     --     -- 6.1719999\n",
      "--------------------- 44 )  HD158485 -------------------------\n",
      "MAIN_ID        RA           DEC      RA_PREC ... FLUX_V FLUX_R FLUX_I   FLUX_J \n",
      "            \"h:m:s\"       \"d:m:s\"            ...  mag    mag    mag      mag   \n",
      "-------- ------------- ------------- ------- ... ------ ------ ------ ---------\n",
      "HR  6514 17 26 04.8365 +58 39 06.824       9 ...  6.494     --     -- 6.1719999\n",
      "--------------------- 45 )  HD158485 -------------------------\n",
      "MAIN_ID        RA           DEC      RA_PREC ... FLUX_V FLUX_R FLUX_I   FLUX_J \n",
      "            \"h:m:s\"       \"d:m:s\"            ...  mag    mag    mag      mag   \n",
      "-------- ------------- ------------- ------- ... ------ ------ ------ ---------\n",
      "HR  6514 17 26 04.8365 +58 39 06.824       9 ...  6.494     --     -- 6.1719999\n",
      "--------------------- 46 )  HD159222 -------------------------\n",
      " MAIN_ID        RA           DEC      RA_PREC ...   FLUX_R    FLUX_I  FLUX_J\n",
      "             \"h:m:s\"       \"d:m:s\"            ...    mag       mag     mag  \n",
      "--------- ------------- ------------- ------- ... --------- --------- ------\n",
      "HD 159222 17 32 00.9925 +34 16 16.130       9 ... 6.0999999 5.8000002  5.342\n",
      "--------------------- 47 )  HD159222 -------------------------\n",
      " MAIN_ID        RA           DEC      RA_PREC ...   FLUX_R    FLUX_I  FLUX_J\n",
      "             \"h:m:s\"       \"d:m:s\"            ...    mag       mag     mag  \n",
      "--------- ------------- ------------- ------- ... --------- --------- ------\n",
      "HD 159222 17 32 00.9925 +34 16 16.130       9 ... 6.0999999 5.8000002  5.342\n",
      "--------------------- 48 )  HD159222 -------------------------\n",
      " MAIN_ID        RA           DEC      RA_PREC ...   FLUX_R    FLUX_I  FLUX_J\n",
      "             \"h:m:s\"       \"d:m:s\"            ...    mag       mag     mag  \n",
      "--------- ------------- ------------- ------- ... --------- --------- ------\n",
      "HD 159222 17 32 00.9925 +34 16 16.130       9 ... 6.0999999 5.8000002  5.342\n",
      "--------------------- 49 )  HD160617 -------------------------\n",
      " MAIN_ID        RA           DEC      RA_PREC ...   FLUX_R    FLUX_I    FLUX_J \n",
      "             \"h:m:s\"       \"d:m:s\"            ...    mag       mag       mag   \n",
      "--------- ------------- ------------- ------- ... --------- --------- ---------\n",
      "HD 160617 17 42 49.3240 -40 19 15.525       9 ... 8.3940001 8.0649996 7.6279998\n",
      "--------------------- 50 )  HD160617 -------------------------\n",
      " MAIN_ID        RA           DEC      RA_PREC ...   FLUX_R    FLUX_I    FLUX_J \n",
      "             \"h:m:s\"       \"d:m:s\"            ...    mag       mag       mag   \n",
      "--------- ------------- ------------- ------- ... --------- --------- ---------\n",
      "HD 160617 17 42 49.3240 -40 19 15.525       9 ... 8.3940001 8.0649996 7.6279998\n",
      "--------------------- 51 )  HD160617 -------------------------\n",
      " MAIN_ID        RA           DEC      RA_PREC ...   FLUX_R    FLUX_I    FLUX_J \n",
      "             \"h:m:s\"       \"d:m:s\"            ...    mag       mag       mag   \n",
      "--------- ------------- ------------- ------- ... --------- --------- ---------\n",
      "HD 160617 17 42 49.3240 -40 19 15.525       9 ... 8.3940001 8.0649996 7.6279998\n",
      "--------------------- 52 )  HD163466 -------------------------\n",
      " MAIN_ID        RA           DEC      RA_PREC ...   FLUX_V  FLUX_R FLUX_I FLUX_J\n",
      "             \"h:m:s\"       \"d:m:s\"            ...    mag     mag    mag    mag  \n",
      "--------- ------------- ------------- ------- ... --------- ------ ------ ------\n",
      "HD 163466 17 52 25.3743 +60 23 46.946       9 ... 6.8499999     --     --  6.402\n",
      "--------------------- 53 )  HD163466 -------------------------\n",
      " MAIN_ID        RA           DEC      RA_PREC ...   FLUX_V  FLUX_R FLUX_I FLUX_J\n",
      "             \"h:m:s\"       \"d:m:s\"            ...    mag     mag    mag    mag  \n",
      "--------- ------------- ------------- ------- ... --------- ------ ------ ------\n",
      "HD 163466 17 52 25.3743 +60 23 46.946       9 ... 6.8499999     --     --  6.402\n",
      "--------------------- 54 )  HD163466 -------------------------\n",
      " MAIN_ID        RA           DEC      RA_PREC ...   FLUX_V  FLUX_R FLUX_I FLUX_J\n",
      "             \"h:m:s\"       \"d:m:s\"            ...    mag     mag    mag    mag  \n",
      "--------- ------------- ------------- ------- ... --------- ------ ------ ------\n",
      "HD 163466 17 52 25.3743 +60 23 46.946       9 ... 6.8499999     --     --  6.402\n"
     ]
    },
    {
     "name": "stderr",
     "output_type": "stream",
     "text": [
      "/Users/dagoret-campagnesylvie/anaconda/envs/pyastrophys/lib/python2.7/site-packages/astroquery/simbad/core.py:136: UserWarning: Warning: The script line number 3 raised an error (recorded in the `errors` attribute of the result table): Identifier not found in the database : NAME HD165459 with NICMOS observations\n",
      "  (error.line, error.msg))\n"
     ]
    },
    {
     "name": "stdout",
     "output_type": "stream",
     "text": [
      "--------------------- 55 )  HD165459 -------------------------\n",
      " MAIN_ID        RA           DEC      RA_PREC ... FLUX_R   FLUX_I    FLUX_J \n",
      "             \"h:m:s\"       \"d:m:s\"            ...  mag      mag       mag   \n",
      "--------- ------------- ------------- ------- ... ------ --------- ---------\n",
      "HD 165459 18 02 30.7405 +58 37 38.159       9 ...     -- 6.6999998 6.6370001\n",
      "--------------------- 56 )  HD165459 -------------------------\n",
      " MAIN_ID        RA           DEC      RA_PREC ... FLUX_R   FLUX_I    FLUX_J \n",
      "             \"h:m:s\"       \"d:m:s\"            ...  mag      mag       mag   \n",
      "--------- ------------- ------------- ------- ... ------ --------- ---------\n",
      "HD 165459 18 02 30.7405 +58 37 38.159       9 ...     -- 6.6999998 6.6370001\n",
      "--------------------- 57 )  HD165459 -------------------------\n",
      " MAIN_ID        RA           DEC      RA_PREC ... FLUX_R   FLUX_I    FLUX_J \n",
      "             \"h:m:s\"       \"d:m:s\"            ...  mag      mag       mag   \n",
      "--------- ------------- ------------- ------- ... ------ --------- ---------\n",
      "HD 165459 18 02 30.7405 +58 37 38.159       9 ...     -- 6.6999998 6.6370001\n",
      "--------------------- 58 )  HD180609 -------------------------\n",
      " MAIN_ID        RA           DEC      RA_PREC ... FLUX_R FLUX_I   FLUX_J \n",
      "             \"h:m:s\"       \"d:m:s\"            ...  mag    mag      mag   \n",
      "--------- ------------- ------------- ------- ... ------ ------ ---------\n",
      "HD 180609 19 12 47.1992 +64 10 37.179       9 ...     --     -- 9.1660004\n",
      "--------------------- 59 )  HD180609 -------------------------\n",
      " MAIN_ID        RA           DEC      RA_PREC ... FLUX_R FLUX_I   FLUX_J \n",
      "             \"h:m:s\"       \"d:m:s\"            ...  mag    mag      mag   \n",
      "--------- ------------- ------------- ------- ... ------ ------ ---------\n",
      "HD 180609 19 12 47.1992 +64 10 37.179       9 ...     --     -- 9.1660004\n",
      "--------------------- 60 )  HD180609 -------------------------\n",
      " MAIN_ID        RA           DEC      RA_PREC ... FLUX_R FLUX_I   FLUX_J \n",
      "             \"h:m:s\"       \"d:m:s\"            ...  mag    mag      mag   \n",
      "--------- ------------- ------------- ------- ... ------ ------ ---------\n",
      "HD 180609 19 12 47.1992 +64 10 37.179       9 ...     --     -- 9.1660004\n",
      "--------------------- 61 )  HD185975 -------------------------\n",
      " MAIN_ID        RA           DEC      RA_PREC ... FLUX_R FLUX_I   FLUX_J \n",
      "             \"h:m:s\"       \"d:m:s\"            ...  mag    mag      mag   \n",
      "--------- ------------- ------------- ------- ... ------ ------ ---------\n",
      "HD 185975 20 28 18.7284 -87 28 19.941       9 ...     --     -- 6.8629999\n",
      "--------------------- 62 )  HD185975 -------------------------\n",
      " MAIN_ID        RA           DEC      RA_PREC ... FLUX_R FLUX_I   FLUX_J \n",
      "             \"h:m:s\"       \"d:m:s\"            ...  mag    mag      mag   \n",
      "--------- ------------- ------------- ------- ... ------ ------ ---------\n",
      "HD 185975 20 28 18.7284 -87 28 19.941       9 ...     --     -- 6.8629999\n",
      "--------------------- 63 )  HD185975 -------------------------\n",
      " MAIN_ID        RA           DEC      RA_PREC ... FLUX_R FLUX_I   FLUX_J \n",
      "             \"h:m:s\"       \"d:m:s\"            ...  mag    mag      mag   \n",
      "--------- ------------- ------------- ------- ... ------ ------ ---------\n",
      "HD 185975 20 28 18.7284 -87 28 19.941       9 ...     --     -- 6.8629999\n",
      "--------------------- 64 )  HD200654 -------------------------\n",
      " MAIN_ID        RA           DEC      RA_PREC ... FLUX_R FLUX_I   FLUX_J \n",
      "             \"h:m:s\"       \"d:m:s\"            ...  mag    mag      mag   \n",
      "--------- ------------- ------------- ------- ... ------ ------ ---------\n",
      "HD 200654 21 06 34.7498 -49 57 50.277       9 ...     --     -- 7.6479998\n",
      "--------------------- 65 )  HD200654 -------------------------\n",
      " MAIN_ID        RA           DEC      RA_PREC ... FLUX_R FLUX_I   FLUX_J \n",
      "             \"h:m:s\"       \"d:m:s\"            ...  mag    mag      mag   \n",
      "--------- ------------- ------------- ------- ... ------ ------ ---------\n",
      "HD 200654 21 06 34.7498 -49 57 50.277       9 ...     --     -- 7.6479998\n",
      "--------------------- 66 )  HD200654 -------------------------\n",
      " MAIN_ID        RA           DEC      RA_PREC ... FLUX_R FLUX_I   FLUX_J \n",
      "             \"h:m:s\"       \"d:m:s\"            ...  mag    mag      mag   \n",
      "--------- ------------- ------------- ------- ... ------ ------ ---------\n",
      "HD 200654 21 06 34.7498 -49 57 50.277       9 ...     --     -- 7.6479998\n",
      "--------------------- 67 )  HD205905 -------------------------\n",
      " MAIN_ID        RA           DEC      RA_PREC ... FLUX_R FLUX_I   FLUX_J \n",
      "             \"h:m:s\"       \"d:m:s\"            ...  mag    mag      mag   \n",
      "--------- ------------- ------------- ------- ... ------ ------ ---------\n",
      "HD 205905 21 39 10.1515 -27 18 23.668       9 ...     --     -- 5.6950002\n",
      "--------------------- 68 )  HD205905 -------------------------\n",
      " MAIN_ID        RA           DEC      RA_PREC ... FLUX_R FLUX_I   FLUX_J \n",
      "             \"h:m:s\"       \"d:m:s\"            ...  mag    mag      mag   \n",
      "--------- ------------- ------------- ------- ... ------ ------ ---------\n",
      "HD 205905 21 39 10.1515 -27 18 23.668       9 ...     --     -- 5.6950002\n",
      "--------------------- 69 )  HD205905 -------------------------\n",
      " MAIN_ID        RA           DEC      RA_PREC ... FLUX_R FLUX_I   FLUX_J \n",
      "             \"h:m:s\"       \"d:m:s\"            ...  mag    mag      mag   \n",
      "--------- ------------- ------------- ------- ... ------ ------ ---------\n",
      "HD 205905 21 39 10.1515 -27 18 23.668       9 ...     --     -- 5.6950002\n",
      "--------------------- 70 )  HD209458 -------------------------\n",
      "  MAIN_ID         RA           DEC      RA_PREC ... FLUX_R FLUX_I   FLUX_J \n",
      "               \"h:m:s\"       \"d:m:s\"            ...  mag    mag      mag   \n",
      "----------- ------------- ------------- ------- ... ------ ------ ---------\n",
      "V* V376 Peg 22 03 10.7720 +18 53 03.543       9 ...     --     -- 6.5910001\n",
      "---------------------"
     ]
    },
    {
     "name": "stderr",
     "output_type": "stream",
     "text": [
      "/Users/dagoret-campagnesylvie/anaconda/envs/pyastrophys/lib/python2.7/site-packages/astroquery/simbad/core.py:136: UserWarning: Warning: The script line number 3 raised an error (recorded in the `errors` attribute of the result table): 'HD209458 with STIS & NICMOS observations': this identifier has an incorrect format for catalog: \tHD : Henry Draper\n",
      "  (error.line, error.msg))\n"
     ]
    },
    {
     "name": "stdout",
     "output_type": "stream",
     "text": [
      " 71 )  HD209458 -------------------------\n",
      "  MAIN_ID         RA           DEC      RA_PREC ... FLUX_R FLUX_I   FLUX_J \n",
      "               \"h:m:s\"       \"d:m:s\"            ...  mag    mag      mag   \n",
      "----------- ------------- ------------- ------- ... ------ ------ ---------\n",
      "V* V376 Peg 22 03 10.7720 +18 53 03.543       9 ...     --     -- 6.5910001\n",
      "--------------------- 72 )  HD209458 -------------------------\n",
      "  MAIN_ID         RA           DEC      RA_PREC ... FLUX_R FLUX_I   FLUX_J \n",
      "               \"h:m:s\"       \"d:m:s\"            ...  mag    mag      mag   \n",
      "----------- ------------- ------------- ------- ... ------ ------ ---------\n",
      "V* V376 Peg 22 03 10.7720 +18 53 03.543       9 ...     --     -- 6.5910001\n",
      "--------------------- 73 )  HD37725 -------------------------\n",
      " MAIN_ID        RA           DEC      RA_PREC ... FLUX_R FLUX_I   FLUX_J \n",
      "             \"h:m:s\"       \"d:m:s\"            ...  mag    mag      mag   \n",
      "--------- ------------- ------------- ------- ... ------ ------ ---------\n",
      "HD  37725 05 41 54.3707 +29 17 50.925       8 ...     --     -- 7.9530001\n",
      "--------------------- 74 )  HD37725 -------------------------\n",
      " MAIN_ID        RA           DEC      RA_PREC ... FLUX_R FLUX_I   FLUX_J \n",
      "             \"h:m:s\"       \"d:m:s\"            ...  mag    mag      mag   \n",
      "--------- ------------- ------------- ------- ... ------ ------ ---------\n",
      "HD  37725 05 41 54.3707 +29 17 50.925       8 ...     --     -- 7.9530001\n",
      "--------------------- 75 )  HD37725 -------------------------\n",
      " MAIN_ID        RA           DEC      RA_PREC ... FLUX_R FLUX_I   FLUX_J \n",
      "             \"h:m:s\"       \"d:m:s\"            ...  mag    mag      mag   \n",
      "--------- ------------- ------------- ------- ... ------ ------ ---------\n",
      "HD  37725 05 41 54.3707 +29 17 50.925       8 ...     --     -- 7.9530001\n",
      "--------------------- 76 )  HD37962 -------------------------\n",
      " MAIN_ID        RA           DEC      RA_PREC ... FLUX_R FLUX_I   FLUX_J \n",
      "             \"h:m:s\"       \"d:m:s\"            ...  mag    mag      mag   \n",
      "--------- ------------- ------------- ------- ... ------ ------ ---------\n",
      "HD  37962 05 40 51.9668 -31 21 03.987       9 ...     --     -- 6.6750002\n",
      "--------------------- 77 )  HD37962 -------------------------\n",
      " MAIN_ID        RA           DEC      RA_PREC ... FLUX_R FLUX_I   FLUX_J \n",
      "             \"h:m:s\"       \"d:m:s\"            ...  mag    mag      mag   \n",
      "--------- ------------- ------------- ------- ... ------ ------ ---------\n",
      "HD  37962 05 40 51.9668 -31 21 03.987       9 ...     --     -- 6.6750002\n",
      "--------------------- 78 )  HD37962 -------------------------\n",
      " MAIN_ID        RA           DEC      RA_PREC ... FLUX_R FLUX_I   FLUX_J \n",
      "             \"h:m:s\"       \"d:m:s\"            ...  mag    mag      mag   \n",
      "--------- ------------- ------------- ------- ... ------ ------ ---------\n",
      "HD  37962 05 40 51.9668 -31 21 03.987       9 ...     --     -- 6.6750002\n",
      "--------------------- 79 )  HD38949 -------------------------\n",
      " MAIN_ID        RA           DEC      RA_PREC ... FLUX_R FLUX_I   FLUX_J \n",
      "             \"h:m:s\"       \"d:m:s\"            ...  mag    mag      mag   \n",
      "--------- ------------- ------------- ------- ... ------ ------ ---------\n",
      "HD  38949 05 48 20.0586 -24 27 49.861       9 ...     --     -- 6.7480001\n",
      "--------------------- 80 )  HD38949 -------------------------\n",
      " MAIN_ID        RA           DEC      RA_PREC ... FLUX_R FLUX_I   FLUX_J \n",
      "             \"h:m:s\"       \"d:m:s\"            ...  mag    mag      mag   \n",
      "--------- ------------- ------------- ------- ... ------ ------ ---------\n",
      "HD  38949 05 48 20.0586 -24 27 49.861       9 ...     --     -- 6.7480001\n",
      "--------------------- 81 )  HD38949 -------------------------\n",
      " MAIN_ID        RA           DEC      RA_PREC ... FLUX_R FLUX_I   FLUX_J \n",
      "             \"h:m:s\"       \"d:m:s\"            ...  mag    mag      mag   \n",
      "--------- ------------- ------------- ------- ... ------ ------ ---------\n",
      "HD  38949 05 48 20.0586 -24 27 49.861       9 ...     --     -- 6.7480001\n",
      "--------------------- 82 )  HD60753 -------------------------\n",
      " MAIN_ID        RA           DEC      RA_PREC ... FLUX_R FLUX_I   FLUX_J \n",
      "             \"h:m:s\"       \"d:m:s\"            ...  mag    mag      mag   \n",
      "--------- ------------- ------------- ------- ... ------ ------ ---------\n",
      "HD  60753 07 33 27.3183 -50 35 03.318       9 ...     --     -- 6.7779999\n",
      "--------------------- 83 )  HD60753 -------------------------\n",
      " MAIN_ID        RA           DEC      RA_PREC ... FLUX_R FLUX_I   FLUX_J \n",
      "             \"h:m:s\"       \"d:m:s\"            ...  mag    mag      mag   \n",
      "--------- ------------- ------------- ------- ... ------ ------ ---------\n",
      "HD  60753 07 33 27.3183 -50 35 03.318       9 ...     --     -- 6.7779999\n",
      "--------------------- 84 )  HD60753 -------------------------\n",
      " MAIN_ID        RA           DEC      RA_PREC ... FLUX_R FLUX_I   FLUX_J \n",
      "             \"h:m:s\"       \"d:m:s\"            ...  mag    mag      mag   \n",
      "--------- ------------- ------------- ------- ... ------ ------ ---------\n",
      "HD  60753 07 33 27.3183 -50 35 03.318       9 ...     --     -- 6.7779999\n",
      "--------------------- 85 )  HD93521 -------------------------\n",
      " MAIN_ID        RA           DEC      RA_PREC ... FLUX_R FLUX_I   FLUX_J \n",
      "             \"h:m:s\"       \"d:m:s\"            ...  mag    mag      mag   \n",
      "--------- ------------- ------------- ------- ... ------ ------ ---------\n",
      "HD  93521 10 48 23.5113 +37 34 13.092       9 ...     --     -- 7.4990001\n",
      "--------------------- 86 )  HD93521 -------------------------\n",
      " MAIN_ID        RA           DEC      RA_PREC ... FLUX_R FLUX_I   FLUX_J \n",
      "             \"h:m:s\"       \"d:m:s\"            ...  mag    mag      mag   \n",
      "--------- ------------- ------------- ------- ... ------ ------ ---------\n",
      "HD  93521 10 48 23.5113 +37 34 13.092       9 ...     --     -- 7.4990001\n"
     ]
    },
    {
     "name": "stderr",
     "output_type": "stream",
     "text": [
      "/Users/dagoret-campagnesylvie/anaconda/envs/pyastrophys/lib/python2.7/site-packages/astroquery/simbad/core.py:136: UserWarning: Warning: The script line number 3 raised an error (recorded in the `errors` attribute of the result table): Identifier not found in the database : NAME HD93521 with STIS observations\n",
      "  (error.line, error.msg))\n",
      "/Users/dagoret-campagnesylvie/anaconda/envs/pyastrophys/lib/python2.7/site-packages/astroquery/simbad/core.py:136: UserWarning: Warning: The script line number 3 raised an error (recorded in the `errors` attribute of the result table): Identifier not found in the database : NAME HS2027 with STIS observations\n",
      "  (error.line, error.msg))\n",
      "/Users/dagoret-campagnesylvie/anaconda/envs/pyastrophys/lib/python2.7/site-packages/astroquery/simbad/core.py:136: UserWarning: Warning: The script line number 3 raised an error (recorded in the `errors` attribute of the result table): Identifier not found in the database : NAME HS2027\n",
      "  (error.line, error.msg))\n",
      "/Users/dagoret-campagnesylvie/anaconda/envs/pyastrophys/lib/python2.7/site-packages/astroquery/simbad/core.py:136: UserWarning: Warning: The script line number 3 raised an error (recorded in the `errors` attribute of the result table): Identifier not found in the database : NAME HZ21 with STIS observations\n",
      "  (error.line, error.msg))\n"
     ]
    },
    {
     "name": "stdout",
     "output_type": "stream",
     "text": [
      "--------------------- 87 )  HD93521 -------------------------\n",
      " MAIN_ID        RA           DEC      RA_PREC ... FLUX_R FLUX_I   FLUX_J \n",
      "             \"h:m:s\"       \"d:m:s\"            ...  mag    mag      mag   \n",
      "--------- ------------- ------------- ------- ... ------ ------ ---------\n",
      "HD  93521 10 48 23.5113 +37 34 13.092       9 ...     --     -- 7.4990001\n",
      "--------------------- 88 )  HZ21 -------------------------\n",
      "MAIN_ID      RA         DEC     RA_PREC DEC_PREC ... FLUX_V FLUX_R FLUX_I FLUX_J\n",
      "          \"h:m:s\"     \"d:m:s\"                    ...  mag    mag    mag    mag  \n",
      "------- ----------- ----------- ------- -------- ... ------ ------ ------ ------\n",
      "  HZ 21 12 13 56.25 +32 56 31.4       6        6 ... 14.688 14.837 15.038 15.351\n",
      "--------------------- 89 )  HZ21 -------------------------\n",
      "MAIN_ID      RA         DEC     RA_PREC DEC_PREC ... FLUX_V FLUX_R FLUX_I FLUX_J\n",
      "          \"h:m:s\"     \"d:m:s\"                    ...  mag    mag    mag    mag  \n",
      "------- ----------- ----------- ------- -------- ... ------ ------ ------ ------\n",
      "  HZ 21 12 13 56.25 +32 56 31.4       6        6 ... 14.688 14.837 15.038 15.351\n",
      "--------------------- 90 )  HZ21 -------------------------\n",
      "MAIN_ID      RA         DEC     RA_PREC DEC_PREC ... FLUX_V FLUX_R FLUX_I FLUX_J\n",
      "          \"h:m:s\"     \"d:m:s\"                    ...  mag    mag    mag    mag  \n",
      "------- ----------- ----------- ------- -------- ... ------ ------ ------ ------\n",
      "  HZ 21 12 13 56.25 +32 56 31.4       6        6 ... 14.688 14.837 15.038 15.351\n"
     ]
    },
    {
     "name": "stderr",
     "output_type": "stream",
     "text": [
      "/Users/dagoret-campagnesylvie/anaconda/envs/pyastrophys/lib/python2.7/site-packages/astroquery/simbad/core.py:136: UserWarning: Warning: The script line number 3 raised an error (recorded in the `errors` attribute of the result table): 'hz43 mod 004.fits': this identifier has an incorrect format for catalog: \thz : Humason-Zwicky\n",
      "  (error.line, error.msg))\n",
      "/Users/dagoret-campagnesylvie/anaconda/envs/pyastrophys/lib/python2.7/site-packages/astroquery/simbad/core.py:136: UserWarning: Warning: The script line number 3 raised an error (recorded in the `errors` attribute of the result table): Identifier not found in the database : NAME HZ43 with STIS observations\n",
      "  (error.line, error.msg))\n",
      "/Users/dagoret-campagnesylvie/anaconda/envs/pyastrophys/lib/python2.7/site-packages/astroquery/simbad/core.py:136: UserWarning: Warning: The script line number 3 raised an error (recorded in the `errors` attribute of the result table): Identifier not found in the database : NAME HZ43B with STIS observations\n",
      "  (error.line, error.msg))\n"
     ]
    },
    {
     "name": "stdout",
     "output_type": "stream",
     "text": [
      "--------------------- 91 )  HZ43 -------------------------\n",
      "MAIN_ID       RA           DEC      RA_PREC ... FLUX_V FLUX_R FLUX_I FLUX_J\n",
      "           \"h:m:s\"       \"d:m:s\"            ...  mag    mag    mag    mag  \n",
      "------- ------------- ------------- ------- ... ------ ------ ------ ------\n",
      "  HZ 43 13 16 21.8532 +29 05 55.379       9 ...  12.66     --     -- 10.373\n",
      "--------------------- 92 )  HZ43 -------------------------\n",
      "MAIN_ID       RA           DEC      RA_PREC ... FLUX_V FLUX_R FLUX_I FLUX_J\n",
      "           \"h:m:s\"       \"d:m:s\"            ...  mag    mag    mag    mag  \n",
      "------- ------------- ------------- ------- ... ------ ------ ------ ------\n",
      "  HZ 43 13 16 21.8532 +29 05 55.379       9 ...  12.66     --     -- 10.373\n",
      "--------------------- 93 )  HZ43 -------------------------\n",
      "MAIN_ID       RA           DEC      RA_PREC ... FLUX_V FLUX_R FLUX_I FLUX_J\n",
      "           \"h:m:s\"       \"d:m:s\"            ...  mag    mag    mag    mag  \n",
      "------- ------------- ------------- ------- ... ------ ------ ------ ------\n",
      "  HZ 43 13 16 21.8532 +29 05 55.379       9 ...  12.66     --     -- 10.373\n",
      "--------------------- 94 )  HZ43B -------------------------\n",
      "MAIN_ID      RA          DEC      RA_PREC ... FLUX_V FLUX_R FLUX_I FLUX_J\n",
      "          \"h:m:s\"      \"d:m:s\"            ...  mag    mag    mag    mag  \n",
      "------- ------------ ------------ ------- ... ------ ------ ------ ------\n",
      " HZ 43B 13 16 21.630 +29 05 54.38       7 ...  12.66     --     -- 12.806\n",
      "--------------------- 95 )  HZ43B -------------------------\n",
      "MAIN_ID      RA          DEC      RA_PREC ... FLUX_V FLUX_R FLUX_I FLUX_J\n",
      "          \"h:m:s\"      \"d:m:s\"            ...  mag    mag    mag    mag  \n",
      "------- ------------ ------------ ------- ... ------ ------ ------ ------\n",
      " HZ 43B 13 16 21.630 +29 05 54.38       7 ...  12.66     --     -- 12.806\n",
      "--------------------- 96 )  HZ43B -------------------------\n",
      "MAIN_ID      RA          DEC      RA_PREC ... FLUX_V FLUX_R FLUX_I FLUX_J\n",
      "          \"h:m:s\"      \"d:m:s\"            ...  mag    mag    mag    mag  \n",
      "------- ------------ ------------ ------- ... ------ ------ ------ ------\n",
      " HZ 43B 13 16 21.630 +29 05 54.38       7 ...  12.66     --     -- 12.806\n",
      "--------------------- 97 ) "
     ]
    },
    {
     "name": "stderr",
     "output_type": "stream",
     "text": [
      "/Users/dagoret-campagnesylvie/anaconda/envs/pyastrophys/lib/python2.7/site-packages/astroquery/simbad/core.py:136: UserWarning: Warning: The script line number 3 raised an error (recorded in the `errors` attribute of the result table): Identifier not found in the database : NAME HZ44 with STIS observations\n",
      "  (error.line, error.msg))\n",
      "/Users/dagoret-campagnesylvie/anaconda/envs/pyastrophys/lib/python2.7/site-packages/astroquery/simbad/core.py:136: UserWarning: Warning: The script line number 3 raised an error (recorded in the `errors` attribute of the result table): Identifier not found in the database : NAME HZ4 with STIS observations\n",
      "  (error.line, error.msg))\n",
      "/Users/dagoret-campagnesylvie/anaconda/envs/pyastrophys/lib/python2.7/site-packages/astroquery/simbad/core.py:136: UserWarning: Warning: The script line number 3 raised an error (recorded in the `errors` attribute of the result table): Identifier not found in the database : NAME KF01T5 with NICMOS observations\n",
      "  (error.line, error.msg))\n",
      "/Users/dagoret-campagnesylvie/anaconda/envs/pyastrophys/lib/python2.7/site-packages/astroquery/simbad/core.py:136: UserWarning: Warning: The script line number 3 raised an error (recorded in the `errors` attribute of the result table): Identifier not found in the database : NAME KF01T5\n",
      "  (error.line, error.msg))\n"
     ]
    },
    {
     "name": "stdout",
     "output_type": "stream",
     "text": [
      " HZ44 -------------------------\n",
      "MAIN_ID      RA          DEC      RA_PREC ... FLUX_V FLUX_R FLUX_I FLUX_J\n",
      "          \"h:m:s\"      \"d:m:s\"            ...  mag    mag    mag    mag  \n",
      "------- ------------ ------------ ------- ... ------ ------ ------ ------\n",
      "  HZ 44 13 23 35.264 +36 07 59.54       7 ...  11.65   12.0 11.995 12.386\n",
      "--------------------- 98 )  HZ44 -------------------------\n",
      "MAIN_ID      RA          DEC      RA_PREC ... FLUX_V FLUX_R FLUX_I FLUX_J\n",
      "          \"h:m:s\"      \"d:m:s\"            ...  mag    mag    mag    mag  \n",
      "------- ------------ ------------ ------- ... ------ ------ ------ ------\n",
      "  HZ 44 13 23 35.264 +36 07 59.54       7 ...  11.65   12.0 11.995 12.386\n",
      "--------------------- 99 )  HZ44 -------------------------\n",
      "MAIN_ID      RA          DEC      RA_PREC ... FLUX_V FLUX_R FLUX_I FLUX_J\n",
      "          \"h:m:s\"      \"d:m:s\"            ...  mag    mag    mag    mag  \n",
      "------- ------------ ------------ ------- ... ------ ------ ------ ------\n",
      "  HZ 44 13 23 35.264 +36 07 59.54       7 ...  11.65   12.0 11.995 12.386\n",
      "--------------------- 100 )  HZ4 -------------------------\n",
      "MAIN_ID      RA         DEC     RA_PREC DEC_PREC ... FLUX_V FLUX_R FLUX_I FLUX_J\n",
      "          \"h:m:s\"     \"d:m:s\"                    ...  mag    mag    mag    mag  \n",
      "------- ----------- ----------- ------- -------- ... ------ ------ ------ ------\n",
      "  HZ  4 03 55 21.99 +09 47 18.0       6        6 ... 14.506  14.58 14.642 14.831\n",
      "--------------------- 101 )  HZ4 -------------------------\n",
      "MAIN_ID      RA         DEC     RA_PREC DEC_PREC ... FLUX_V FLUX_R FLUX_I FLUX_J\n",
      "          \"h:m:s\"     \"d:m:s\"                    ...  mag    mag    mag    mag  \n",
      "------- ----------- ----------- ------- -------- ... ------ ------ ------ ------\n",
      "  HZ  4 03 55 21.99 +09 47 18.0       6        6 ... 14.506  14.58 14.642 14.831\n",
      "--------------------- 102 )  HZ4 -------------------------\n",
      "MAIN_ID      RA         DEC     RA_PREC DEC_PREC ... FLUX_V FLUX_R FLUX_I FLUX_J\n",
      "          \"h:m:s\"     \"d:m:s\"                    ...  mag    mag    mag    mag  \n",
      "------- ----------- ----------- ------- -------- ... ------ ------ ------ ------\n",
      "  HZ  4 03 55 21.99 +09 47 18.0       6        6 ... 14.506  14.58 14.642 14.831\n"
     ]
    },
    {
     "name": "stderr",
     "output_type": "stream",
     "text": [
      "/Users/dagoret-campagnesylvie/anaconda/envs/pyastrophys/lib/python2.7/site-packages/astroquery/simbad/core.py:136: UserWarning: Warning: The script line number 3 raised an error (recorded in the `errors` attribute of the result table): Identifier not found in the database : NAME KF06T1 with NICMOS observations\n",
      "  (error.line, error.msg))\n",
      "/Users/dagoret-campagnesylvie/anaconda/envs/pyastrophys/lib/python2.7/site-packages/astroquery/simbad/core.py:136: UserWarning: Warning: The script line number 3 raised an error (recorded in the `errors` attribute of the result table): Identifier not found in the database : NAME KF06T1\n",
      "  (error.line, error.msg))\n",
      "/Users/dagoret-campagnesylvie/anaconda/envs/pyastrophys/lib/python2.7/site-packages/astroquery/simbad/core.py:136: UserWarning: Warning: The script line number 3 raised an error (recorded in the `errors` attribute of the result table): Identifier not found in the database : NAME KF06T2 with NICMOS observations\n",
      "  (error.line, error.msg))\n",
      "/Users/dagoret-campagnesylvie/anaconda/envs/pyastrophys/lib/python2.7/site-packages/astroquery/simbad/core.py:136: UserWarning: Warning: The script line number 3 raised an error (recorded in the `errors` attribute of the result table): Identifier not found in the database : NAME KF06T2\n",
      "  (error.line, error.msg))\n",
      "/Users/dagoret-campagnesylvie/anaconda/envs/pyastrophys/lib/python2.7/site-packages/astroquery/simbad/core.py:136: UserWarning: Warning: The script line number 3 raised an error (recorded in the `errors` attribute of the result table): Identifier not found in the database : NAME KF08T3 with NICMOS observations\n",
      "  (error.line, error.msg))\n",
      "/Users/dagoret-campagnesylvie/anaconda/envs/pyastrophys/lib/python2.7/site-packages/astroquery/simbad/core.py:136: UserWarning: Warning: The script line number 3 raised an error (recorded in the `errors` attribute of the result table): Identifier not found in the database : NAME KF08T3\n",
      "  (error.line, error.msg))\n",
      "/Users/dagoret-campagnesylvie/anaconda/envs/pyastrophys/lib/python2.7/site-packages/astroquery/simbad/core.py:136: UserWarning: Warning: The script line number 3 raised an error (recorded in the `errors` attribute of the result table): Identifier not found in the database : NAME KSI2CETI\n",
      "  (error.line, error.msg))\n",
      "/Users/dagoret-campagnesylvie/anaconda/envs/pyastrophys/lib/python2.7/site-packages/astroquery/simbad/core.py:136: UserWarning: Warning: The script line number 3 raised an error (recorded in the `errors` attribute of the result table): Identifier not found in the database : NAME LAMLEP\n",
      "  (error.line, error.msg))\n",
      "/Users/dagoret-campagnesylvie/anaconda/envs/pyastrophys/lib/python2.7/site-packages/astroquery/simbad/core.py:136: UserWarning: Warning: The script line number 3 raised an error (recorded in the `errors` attribute of the result table): 'Bohlin, R. C., & Koester, D. 2008, AJ, submitted': this identifier has an incorrect format for catalogs: \tB (GC): General Cat. Boss \tB (Batten): Batten \tB (BBB): Basinski, Bok, Bok \tB (Barnard): catalogue Barnard\n",
      "  (error.line, error.msg))\n",
      "/Users/dagoret-campagnesylvie/anaconda/envs/pyastrophys/lib/python2.7/site-packages/astroquery/simbad/core.py:136: UserWarning: Warning: The script line number 3 raised an error (recorded in the `errors` attribute of the result table): 'Bohlin, R. C., & Koester, D. 2008, AJ, 135, 1092': this identifier has an incorrect format for catalogs: \tB (GC): General Cat. Boss \tB (Batten): Batten \tB (BBB): Basinski, Bok, Bok \tB (Barnard): catalogue Barnard\n",
      "  (error.line, error.msg))\n",
      "/Users/dagoret-campagnesylvie/anaconda/envs/pyastrophys/lib/python2.7/site-packages/astroquery/simbad/core.py:136: UserWarning: Warning: The script line number 3 raised an error (recorded in the `errors` attribute of the result table): 'LDS749B with STIS observations': this identifier has an incorrect format for catalog: \t** : Double Star\n",
      "  (error.line, error.msg))\n",
      "/Users/dagoret-campagnesylvie/anaconda/envs/pyastrophys/lib/python2.7/site-packages/astroquery/simbad/core.py:136: UserWarning: Warning: The script line number 3 raised an error (recorded in the `errors` attribute of the result table): 'LDS749B with STIS & NICMOS observations': this identifier has an incorrect format for catalog: \t** : Double Star\n",
      "  (error.line, error.msg))\n"
     ]
    },
    {
     "name": "stdout",
     "output_type": "stream",
     "text": [
      "--------------------- 103 )  LDS749B -------------------------\n",
      "MAIN_ID      RA         DEC     RA_PREC DEC_PREC ... FLUX_V FLUX_R FLUX_I FLUX_J\n",
      "          \"h:m:s\"     \"d:m:s\"                    ...  mag    mag    mag    mag  \n",
      "------- ----------- ----------- ------- -------- ... ------ ------ ------ ------\n",
      "LAWD 87 21 32 16.24 +00 15 14.4       6        6 ... 14.674 14.675 14.676 14.894\n",
      "--------------------- 104 )  LDS749B -------------------------\n",
      "MAIN_ID      RA         DEC     RA_PREC DEC_PREC ... FLUX_V FLUX_R FLUX_I FLUX_J\n",
      "          \"h:m:s\"     \"d:m:s\"                    ...  mag    mag    mag    mag  \n",
      "------- ----------- ----------- ------- -------- ... ------ ------ ------ ------\n",
      "LAWD 87 21 32 16.24 +00 15 14.4       6        6 ... 14.674 14.675 14.676 14.894\n",
      "--------------------- 105 )  LDS749B -------------------------\n",
      "MAIN_ID      RA         DEC     RA_PREC DEC_PREC ... FLUX_V FLUX_R FLUX_I FLUX_J\n",
      "          \"h:m:s\"     \"d:m:s\"                    ...  mag    mag    mag    mag  \n",
      "------- ----------- ----------- ------- -------- ... ------ ------ ------ ------\n",
      "LAWD 87 21 32 16.24 +00 15 14.4       6        6 ... 14.674 14.675 14.676 14.894\n"
     ]
    },
    {
     "name": "stderr",
     "output_type": "stream",
     "text": [
      "/Users/dagoret-campagnesylvie/anaconda/envs/pyastrophys/lib/python2.7/site-packages/astroquery/simbad/core.py:136: UserWarning: Warning: The script line number 3 raised an error (recorded in the `errors` attribute of the result table): Identifier not found in the database : NAME MUCOL\n",
      "  (error.line, error.msg))\n",
      "/Users/dagoret-campagnesylvie/anaconda/envs/pyastrophys/lib/python2.7/site-packages/astroquery/simbad/core.py:136: UserWarning: Warning: The script line number 3 raised an error (recorded in the `errors` attribute of the result table): Identifier not found in the database : NAME P041C with STIS observations\n",
      "  (error.line, error.msg))\n",
      "/Users/dagoret-campagnesylvie/anaconda/envs/pyastrophys/lib/python2.7/site-packages/astroquery/simbad/core.py:136: UserWarning: Warning: The script line number 3 raised an error (recorded in the `errors` attribute of the result table): 'P041C with STIS & NICMOS observations': No known catalog could be found\n",
      "  (error.line, error.msg))\n",
      "/Users/dagoret-campagnesylvie/anaconda/envs/pyastrophys/lib/python2.7/site-packages/astroquery/simbad/core.py:136: UserWarning: Warning: The script line number 3 raised an error (recorded in the `errors` attribute of the result table): Identifier not found in the database : NAME P 041C\n",
      "  (error.line, error.msg))\n",
      "/Users/dagoret-campagnesylvie/anaconda/envs/pyastrophys/lib/python2.7/site-packages/astroquery/simbad/core.py:136: UserWarning: Warning: The script line number 3 raised an error (recorded in the `errors` attribute of the result table): Identifier not found in the database : NAME P177D with STIS observations\n",
      "  (error.line, error.msg))\n",
      "/Users/dagoret-campagnesylvie/anaconda/envs/pyastrophys/lib/python2.7/site-packages/astroquery/simbad/core.py:136: UserWarning: Warning: The script line number 3 raised an error (recorded in the `errors` attribute of the result table): 'P177D with STIS & NICMOS observations': No known catalog could be found\n",
      "  (error.line, error.msg))\n",
      "/Users/dagoret-campagnesylvie/anaconda/envs/pyastrophys/lib/python2.7/site-packages/astroquery/simbad/core.py:136: UserWarning: Warning: The script line number 3 raised an error (recorded in the `errors` attribute of the result table): Identifier not found in the database : NAME P 177D\n",
      "  (error.line, error.msg))\n",
      "/Users/dagoret-campagnesylvie/anaconda/envs/pyastrophys/lib/python2.7/site-packages/astroquery/simbad/core.py:136: UserWarning: Warning: The script line number 3 raised an error (recorded in the `errors` attribute of the result table): Identifier not found in the database : NAME P330E with STIS observations\n",
      "  (error.line, error.msg))\n",
      "/Users/dagoret-campagnesylvie/anaconda/envs/pyastrophys/lib/python2.7/site-packages/astroquery/simbad/core.py:136: UserWarning: Warning: The script line number 3 raised an error (recorded in the `errors` attribute of the result table): 'P330E with STIS & NICMOS observations': No known catalog could be found\n",
      "  (error.line, error.msg))\n",
      "/Users/dagoret-campagnesylvie/anaconda/envs/pyastrophys/lib/python2.7/site-packages/astroquery/simbad/core.py:136: UserWarning: Warning: The script line number 3 raised an error (recorded in the `errors` attribute of the result table): Identifier not found in the database : NAME P 330E\n",
      "  (error.line, error.msg))\n",
      "/Users/dagoret-campagnesylvie/anaconda/envs/pyastrophys/lib/python2.7/site-packages/astroquery/simbad/core.py:136: UserWarning: Warning: The script line number 3 raised an error (recorded in the `errors` attribute of the result table): '0.0': No known catalog could be found\n",
      "  (error.line, error.msg))\n",
      "/Users/dagoret-campagnesylvie/anaconda/envs/pyastrophys/lib/python2.7/site-packages/astroquery/simbad/core.py:136: UserWarning: Warning: The script line number 3 raised an error (recorded in the `errors` attribute of the result table): 'SF1615+001A with STIS & NICMOS observations': No known catalog could be found\n",
      "  (error.line, error.msg))\n",
      "/Users/dagoret-campagnesylvie/anaconda/envs/pyastrophys/lib/python2.7/site-packages/astroquery/simbad/core.py:136: UserWarning: Warning: The script line number 3 raised an error (recorded in the `errors` attribute of the result table): Identifier not found in the database : NAME SF1615+001A\n",
      "  (error.line, error.msg))\n",
      "/Users/dagoret-campagnesylvie/anaconda/envs/pyastrophys/lib/python2.7/site-packages/astroquery/simbad/core.py:136: UserWarning: Warning: The script line number 3 raised an error (recorded in the `errors` attribute of the result table): 'SNAP-1 with STIS & NICMOS observations': No known catalog could be found\n",
      "  (error.line, error.msg))\n",
      "/Users/dagoret-campagnesylvie/anaconda/envs/pyastrophys/lib/python2.7/site-packages/astroquery/simbad/core.py:136: UserWarning: Warning: The script line number 3 raised an error (recorded in the `errors` attribute of the result table): Identifier not found in the database : NAME SNAP-1\n",
      "  (error.line, error.msg))\n",
      "/Users/dagoret-campagnesylvie/anaconda/envs/pyastrophys/lib/python2.7/site-packages/astroquery/simbad/core.py:136: UserWarning: Warning: The script line number 3 raised an error (recorded in the `errors` attribute of the result table): 'SNAP-2 with STIS & NICMOS observations': No known catalog could be found\n",
      "  (error.line, error.msg))\n"
     ]
    },
    {
     "name": "stdout",
     "output_type": "stream",
     "text": [
      "--------------------- 106 )  SIRIUS -------------------------\n",
      " MAIN_ID        RA           DEC      RA_PREC ... FLUX_R   FLUX_I   FLUX_J\n",
      "             \"h:m:s\"       \"d:m:s\"            ...  mag      mag      mag  \n",
      "--------- ------------- ------------- ------- ... ------ ---------- ------\n",
      "* alf CMa 06 45 08.9172 -16 42 58.017       9 ...  -1.46 -1.4299999  -1.36\n",
      "--------------------- 107 )  SIRIUS -------------------------\n",
      " MAIN_ID        RA           DEC      RA_PREC ... FLUX_R   FLUX_I   FLUX_J\n",
      "             \"h:m:s\"       \"d:m:s\"            ...  mag      mag      mag  \n",
      "--------- ------------- ------------- ------- ... ------ ---------- ------\n",
      "* alf CMa 06 45 08.9172 -16 42 58.017       9 ...  -1.46 -1.4299999  -1.36\n"
     ]
    },
    {
     "name": "stderr",
     "output_type": "stream",
     "text": [
      "/Users/dagoret-campagnesylvie/anaconda/envs/pyastrophys/lib/python2.7/site-packages/astroquery/simbad/core.py:136: UserWarning: Warning: The script line number 3 raised an error (recorded in the `errors` attribute of the result table): Identifier not found in the database : NAME SNAP-2\n",
      "  (error.line, error.msg))\n",
      "/Users/dagoret-campagnesylvie/anaconda/envs/pyastrophys/lib/python2.7/site-packages/astroquery/simbad/core.py:136: UserWarning: Warning: The script line number 3 raised an error (recorded in the `errors` attribute of the result table): 'Sun with 2.5 to 2.7 micron extension': No known catalog could be found\n",
      "  (error.line, error.msg))\n",
      "/Users/dagoret-campagnesylvie/anaconda/envs/pyastrophys/lib/python2.7/site-packages/astroquery/simbad/core.py:136: UserWarning: Warning: The script line number 3 raised an error (recorded in the `errors` attribute of the result table): 'Sun with 2.5 to 2.7 micron extension-------------------------------': No known catalog could be found\n",
      "  (error.line, error.msg))\n",
      "/Users/dagoret-campagnesylvie/anaconda/envs/pyastrophys/lib/python2.7/site-packages/astroquery/simbad/core.py:136: UserWarning: Warning: The script line number 3 raised an error (recorded in the `errors` attribute of the result table): 'VB8 with STIS & NICMOS observations': this identifier has an incorrect format for catalog: \tVB : catalogue VB\n",
      "  (error.line, error.msg))\n",
      "/Users/dagoret-campagnesylvie/anaconda/envs/pyastrophys/lib/python2.7/site-packages/astroquery/simbad/core.py:136: UserWarning: Warning: The script line number 3 raised an error (recorded in the `errors` attribute of the result table): Identifier not found in the database : NAME Koester He Model\n",
      "  (error.line, error.msg))\n"
     ]
    },
    {
     "name": "stdout",
     "output_type": "stream",
     "text": [
      "--------------------- 108 )  VB8 -------------------------\n",
      " MAIN_ID        RA          DEC      RA_PREC ... FLUX_V FLUX_R FLUX_I FLUX_J\n",
      "             \"h:m:s\"      \"d:m:s\"            ...  mag    mag    mag    mag  \n",
      "---------- ------------ ------------ ------- ... ------ ------ ------ ------\n",
      "GJ   644 C 16 55 35.293 -08 23 40.11       7 ... 16.916 14.566  12.24  9.776\n",
      "--------------------- 109 )  VB8 -------------------------\n",
      " MAIN_ID        RA          DEC      RA_PREC ... FLUX_V FLUX_R FLUX_I FLUX_J\n",
      "             \"h:m:s\"      \"d:m:s\"            ...  mag    mag    mag    mag  \n",
      "---------- ------------ ------------ ------- ... ------ ------ ------ ------\n",
      "GJ   644 C 16 55 35.293 -08 23 40.11       7 ... 16.916 14.566  12.24  9.776\n",
      "--------------------- 110 )  VB8 -------------------------\n",
      " MAIN_ID        RA          DEC      RA_PREC ... FLUX_V FLUX_R FLUX_I FLUX_J\n",
      "             \"h:m:s\"      \"d:m:s\"            ...  mag    mag    mag    mag  \n",
      "---------- ------------ ------------ ------- ... ------ ------ ------ ------\n",
      "GJ   644 C 16 55 35.293 -08 23 40.11       7 ... 16.916 14.566  12.24  9.776\n",
      "--------------------- 111 )  WD0308-565 -------------------------\n",
      "MAIN_ID      RA         DEC     RA_PREC DEC_PREC ... FLUX_V FLUX_R FLUX_I FLUX_J\n",
      "          \"h:m:s\"     \"d:m:s\"                    ...  mag    mag    mag    mag  \n",
      "------- ----------- ----------- ------- -------- ... ------ ------ ------ ------\n",
      " WG   7 03 09 47.91 -56 23 49.5       6        6 ...  14.14  14.42     -- 14.598\n",
      "--------------------- 112 )  WD0308-565 -------------------------\n",
      "MAIN_ID      RA         DEC     RA_PREC DEC_PREC ... FLUX_V FLUX_R FLUX_I FLUX_J\n",
      "          \"h:m:s\"     \"d:m:s\"                    ...  mag    mag    mag    mag  \n",
      "------- ----------- ----------- ------- -------- ... ------ ------ ------ ------\n",
      " WG   7 03 09 47.91 -56 23 49.5       6        6 ...  14.14  14.42     -- 14.598\n",
      "--------------------- 113 )  WD0308-565 -------------------------\n",
      "MAIN_ID      RA         DEC     RA_PREC DEC_PREC ... FLUX_V FLUX_R FLUX_I FLUX_J\n",
      "          \"h:m:s\"     \"d:m:s\"                    ...  mag    mag    mag    mag  \n",
      "------- ----------- ----------- ------- -------- ... ------ ------ ------ ------\n",
      " WG   7 03 09 47.91 -56 23 49.5       6        6 ...  14.14  14.42     -- 14.598\n"
     ]
    },
    {
     "name": "stderr",
     "output_type": "stream",
     "text": [
      "/Users/dagoret-campagnesylvie/anaconda/envs/pyastrophys/lib/python2.7/site-packages/astroquery/simbad/core.py:136: UserWarning: Warning: The script line number 3 raised an error (recorded in the `errors` attribute of the result table): Identifier not found in the database : NAME Standard star flux with STIS observations--------------------------\n",
      "  (error.line, error.msg))\n",
      "/Users/dagoret-campagnesylvie/anaconda/envs/pyastrophys/lib/python2.7/site-packages/astroquery/simbad/core.py:136: UserWarning: Warning: The script line number 3 raised an error (recorded in the `errors` attribute of the result table): Identifier not found in the database : NAME WD0320-539 with STIS observations\n",
      "  (error.line, error.msg))\n",
      "/Users/dagoret-campagnesylvie/anaconda/envs/pyastrophys/lib/python2.7/site-packages/astroquery/simbad/core.py:136: UserWarning: Warning: The script line number 3 raised an error (recorded in the `errors` attribute of the result table): Identifier not found in the database : NAME WD0947 857 with STIS observations\n",
      "  (error.line, error.msg))\n",
      "/Users/dagoret-campagnesylvie/anaconda/envs/pyastrophys/lib/python2.7/site-packages/astroquery/simbad/core.py:136: UserWarning: Warning: The script line number 3 raised an error (recorded in the `errors` attribute of the result table): Identifier not found in the database : NAME WD0947 857\n",
      "  (error.line, error.msg))\n"
     ]
    },
    {
     "name": "stdout",
     "output_type": "stream",
     "text": [
      "--------------------- 114 )  WD0320-539 -------------------------\n",
      "MAIN_ID       RA         DEC     RA_PREC ... FLUX_V FLUX_R FLUX_I FLUX_J\n",
      "           \"h:m:s\"     \"d:m:s\"           ...  mag    mag    mag    mag  \n",
      "-------- ----------- ----------- ------- ... ------ ------ ------ ------\n",
      "LB  1663 03 22 14.83 -53 45 16.5       6 ...   14.9  15.51  15.21  15.61\n",
      "--------------------- 115 )  WD0320-539 -------------------------\n",
      "MAIN_ID       RA         DEC     RA_PREC ... FLUX_V FLUX_R FLUX_I FLUX_J\n",
      "           \"h:m:s\"     \"d:m:s\"           ...  mag    mag    mag    mag  \n",
      "-------- ----------- ----------- ------- ... ------ ------ ------ ------\n",
      "LB  1663 03 22 14.83 -53 45 16.5       6 ...   14.9  15.51  15.21  15.61\n",
      "--------------------- 116 )  WD0320-539 -------------------------\n",
      "MAIN_ID       RA         DEC     RA_PREC ... FLUX_V FLUX_R FLUX_I FLUX_J\n",
      "           \"h:m:s\"     \"d:m:s\"           ...  mag    mag    mag    mag  \n",
      "-------- ----------- ----------- ------- ... ------ ------ ------ ------\n",
      "LB  1663 03 22 14.83 -53 45 16.5       6 ...   14.9  15.51  15.21  15.61\n"
     ]
    },
    {
     "name": "stderr",
     "output_type": "stream",
     "text": [
      "/Users/dagoret-campagnesylvie/anaconda/envs/pyastrophys/lib/python2.7/site-packages/astroquery/simbad/core.py:136: UserWarning: Warning: The script line number 3 raised an error (recorded in the `errors` attribute of the result table): Identifier not found in the database : NAME WD1026 453 with STIS observations\n",
      "  (error.line, error.msg))\n",
      "/Users/dagoret-campagnesylvie/anaconda/envs/pyastrophys/lib/python2.7/site-packages/astroquery/simbad/core.py:136: UserWarning: Warning: The script line number 3 raised an error (recorded in the `errors` attribute of the result table): Identifier not found in the database : NAME WD1026 453\n",
      "  (error.line, error.msg))\n",
      "/Users/dagoret-campagnesylvie/anaconda/envs/pyastrophys/lib/python2.7/site-packages/astroquery/simbad/core.py:136: UserWarning: Warning: The script line number 3 raised an error (recorded in the `errors` attribute of the result table): 'Hubeny TLusty203: PURE HYDROGEN NLTE MODEL': this identifier has an incorrect format for catalogs: \tH : catalogue H \tH (\n",
      "  (error.line, error.msg))\n",
      "/Users/dagoret-campagnesylvie/anaconda/envs/pyastrophys/lib/python2.7/site-packages/astroquery/simbad/core.py:136: UserWarning: Warning: The script line number 3 raised an error (recorded in the `errors` attribute of the result table): 'WD1057+719 with STIS & NICMOS observations': this identifier has an incorrect format for catalogs: \tWD (\n",
      "  (error.line, error.msg))\n"
     ]
    },
    {
     "name": "stdout",
     "output_type": "stream",
     "text": [
      "--------------------- 117 )  WD1057+719 -------------------------\n",
      "  MAIN_ID        RA         DEC     RA_PREC ... FLUX_V FLUX_R FLUX_I FLUX_J\n",
      "              \"h:m:s\"     \"d:m:s\"           ...  mag    mag    mag    mag  \n",
      "----------- ----------- ----------- ------- ... ------ ------ ------ ------\n",
      "PG 1057+719 11 00 34.24 +71 38 02.9       6 ...  14.68  15.23     -- 15.472\n",
      "--------------------- 118 )  WD1057+719 -------------------------\n",
      "  MAIN_ID        RA         DEC     RA_PREC ... FLUX_V FLUX_R FLUX_I FLUX_J\n",
      "              \"h:m:s\"     \"d:m:s\"           ...  mag    mag    mag    mag  \n",
      "----------- ----------- ----------- ------- ... ------ ------ ------ ------\n",
      "PG 1057+719 11 00 34.24 +71 38 02.9       6 ...  14.68  15.23     -- 15.472\n",
      "--------------------- 119 )  WD1057+719 -------------------------\n",
      "  MAIN_ID        RA         DEC     RA_PREC ... FLUX_V FLUX_R FLUX_I FLUX_J\n",
      "              \"h:m:s\"     \"d:m:s\"           ...  mag    mag    mag    mag  \n",
      "----------- ----------- ----------- ------- ... ------ ------ ------ ------\n",
      "PG 1057+719 11 00 34.24 +71 38 02.9       6 ...  14.68  15.23     -- 15.472\n",
      "--------------------- 120 )  WD1657+343 -------------------------\n",
      "  MAIN_ID         RA           DEC      RA_PREC ... FLUX_V FLUX_R FLUX_I FLUX_J\n",
      "               \"h:m:s\"       \"d:m:s\"            ...  mag    mag    mag    mag  \n",
      "----------- ------------- ------------- ------- ... ------ ------ ------ ------\n",
      "PG 1657+344 16 58 51.1202 +34 18 53.293       8 ...     --     --     --     --\n",
      "--------------------- 121 )  WD1657+343 -------------------------\n",
      "  MAIN_ID         RA           DEC      RA_PREC ... FLUX_V FLUX_R FLUX_I FLUX_J\n",
      "               \"h:m:s\"       \"d:m:s\"            ...  mag    mag    mag    mag  \n",
      "----------- ------------- ------------- ------- ... ------ ------ ------ ------\n",
      "PG 1657+344 16 58 51.1202 +34 18 53.293       8 ...     --     --     --     --\n",
      "--------------------- 122 )  WD1657+343 -------------------------\n",
      "  MAIN_ID         RA           DEC      RA_PREC ... FLUX_V FLUX_R FLUX_I FLUX_J\n",
      "               \"h:m:s\"       \"d:m:s\"            ...  mag    mag    mag    mag  \n",
      "----------- ------------- ------------- ------- ... ------ ------ ------ ------\n",
      "PG 1657+344 16 58 51.1202 +34 18 53.293       8 ...     --     --     --     --\n"
     ]
    },
    {
     "name": "stderr",
     "output_type": "stream",
     "text": [
      "/Users/dagoret-campagnesylvie/anaconda/envs/pyastrophys/lib/python2.7/site-packages/astroquery/simbad/core.py:136: UserWarning: Warning: The script line number 3 raised an error (recorded in the `errors` attribute of the result table): 'WD1657+343 with STIS & NICMOS observations': this identifier has an incorrect format for catalogs: \tWD (\n",
      "  (error.line, error.msg))\n",
      "/Users/dagoret-campagnesylvie/anaconda/envs/pyastrophys/lib/python2.7/site-packages/astroquery/simbad/core.py:136: UserWarning: Warning: The script line number 3 raised an error (recorded in the `errors` attribute of the result table): 'WDcovar.fits': this identifier has an incorrect format for catalogs: \tWD (\n",
      "  (error.line, error.msg))\n"
     ]
    }
   ],
   "source": [
    "All_CALSPEC_Stars_InSimbad = {} #dictionnary of stars\n",
    "count =0\n",
    "for name in star_names: # loop on star names from Pysynphot-CALSPEC\n",
    "    result_table = customSimbad.query_object(name)   # Ask Simbad\n",
    "    if result_table != None:                   #check if Simbad has found the star\n",
    "        count+=1\n",
    "        print \"---------------------\",count,') ',name,'-------------------------'\n",
    "        print result_table\n",
    "        # create an object with the found star\n",
    "        newstar=CalibSpecStarSmb(name,result_table[\"MAIN_ID\"][0],result_table[\"RA\"][0],result_table[\"DEC\"][0],result_table[\"FLUX_U\"][0],result_table[\"FLUX_B\"][0],result_table[\"FLUX_V\"][0],result_table[\"FLUX_R\"][0],result_table[\"FLUX_I\"][0],result_table[\"FLUX_J\"][0])\n",
    "        # fill the dictionnary only if there is no instance of that star already in dictionnary\n",
    "        if not newstar.getName() in All_CALSPEC_Stars_InSimbad.keys():\n",
    "            All_CALSPEC_Stars_InSimbad[newstar.getName()]= newstar # fill the directionary with the new star- object\n",
    "            "
   ]
  },
  {
   "cell_type": "code",
   "execution_count": 29,
   "metadata": {
    "collapsed": false,
    "deletable": true,
    "editable": true
   },
   "outputs": [
    {
     "name": "stdout",
     "output_type": "stream",
     "text": [
      " Number of CALSPEC stars recognised by Simbad :  41\n"
     ]
    }
   ],
   "source": [
    "print \" Number of CALSPEC stars recognised by Simbad : \",len(All_CALSPEC_Stars_InSimbad)"
   ]
  },
  {
   "cell_type": "markdown",
   "metadata": {
    "deletable": true,
    "editable": true
   },
   "source": [
    "### shows list of CALSPEC stars from SimBad"
   ]
  },
  {
   "cell_type": "code",
   "execution_count": 30,
   "metadata": {
    "collapsed": false,
    "deletable": true,
    "editable": true
   },
   "outputs": [
    {
     "name": "stdout",
     "output_type": "stream",
     "text": [
      "['10LAC', 'HD205905', 'HD14943', 'HD37725', 'HD160617', 'FEIGE34', 'HD159222', 'HZ43', 'HZ44', 'HZ21', 'WD1057+719', 'HZ4', 'FEIGE110', 'HD031128', 'GD71', 'HD209458', 'SIRIUS', 'WD0320-539', 'HD111980', 'HD009051', 'HD60753', 'LDS749B', 'HD180609', 'HD158485', 'HD37962', 'HD163466', 'HD185975', 'G191B2B', 'HD116405', 'ALPHA_LYR', 'HD200654', 'HZ43B', 'WD1657+343', 'HD165459', 'HD93521', 'GD153', 'WD0308-565', 'HD38949', 'VB8', 'HD106252', 'HD074000']\n"
     ]
    }
   ],
   "source": [
    "print All_CALSPEC_Stars_InSimbad.keys()"
   ]
  },
  {
   "cell_type": "markdown",
   "metadata": {
    "deletable": true,
    "editable": true
   },
   "source": [
    "## From SkyCoord, also get the coordinates of the star"
   ]
  },
  {
   "cell_type": "code",
   "execution_count": 31,
   "metadata": {
    "collapsed": false,
    "deletable": true,
    "editable": true
   },
   "outputs": [],
   "source": [
    "All_CALSPEC_Stars_InSkyCoord = {} #dictionnary of stars\n",
    "for starnam in All_CALSPEC_Stars_InSimbad.keys():\n",
    "    starloc=astropy.coordinates.SkyCoord.from_name(starnam)\n",
    "    newstar=CalibSpecStarSkc(starnam,starloc.ra.deg,starloc.dec.deg)\n",
    "    All_CALSPEC_Stars_InSkyCoord [starnam] = newstar"
   ]
  },
  {
   "cell_type": "code",
   "execution_count": 32,
   "metadata": {
    "collapsed": false,
    "deletable": true,
    "editable": true
   },
   "outputs": [
    {
     "name": "stdout",
     "output_type": "stream",
     "text": [
      " Number of CALSPEC stars recognised by SkyCoord :  41\n"
     ]
    }
   ],
   "source": [
    "print \" Number of CALSPEC stars recognised by SkyCoord : \",len(All_CALSPEC_Stars_InSkyCoord)"
   ]
  },
  {
   "cell_type": "code",
   "execution_count": 33,
   "metadata": {
    "collapsed": false,
    "deletable": true,
    "editable": true
   },
   "outputs": [
    {
     "name": "stdout",
     "output_type": "stream",
     "text": [
      "['10LAC', 'HD205905', 'WD0320-539', 'HD37725', 'HD160617', 'FEIGE34', 'HD159222', 'HZ43', 'HZ44', 'HZ21', 'WD1057+719', 'HZ4', 'FEIGE110', 'HD031128', 'GD71', 'HD209458', 'SIRIUS', 'ALPHA_LYR', 'HD111980', 'HD009051', 'HD60753', 'LDS749B', 'HD180609', 'HD158485', 'HD37962', 'HD163466', 'HD185975', 'G191B2B', 'HD116405', 'HD14943', 'HD200654', 'HZ43B', 'WD1657+343', 'HD165459', 'HD93521', 'GD153', 'WD0308-565', 'HD38949', 'VB8', 'HD106252', 'HD074000']\n"
     ]
    }
   ],
   "source": [
    "print All_CALSPEC_Stars_InSkyCoord.keys()"
   ]
  },
  {
   "cell_type": "code",
   "execution_count": 34,
   "metadata": {
    "collapsed": false,
    "deletable": true,
    "editable": true
   },
   "outputs": [
    {
     "name": "stdout",
     "output_type": "stream",
     "text": [
      "name 10LAC  ::  <SkyCoord (ICRS): (ra, dec) in deg\n",
      "    ( 339.81532766,  39.05026977)>\n",
      "None\n",
      "name HD205905  ::  <SkyCoord (ICRS): (ra, dec) in deg\n",
      "    ( 324.79229796, -27.30657448)>\n",
      "None\n",
      "name WD0320-539  ::  <SkyCoord (ICRS): (ra, dec) in deg\n",
      "    ( 50.561792, -53.754583)>\n",
      "None\n",
      "name HD37725  ::  <SkyCoord (ICRS): (ra, dec) in deg\n",
      "    ( 85.47654458,  29.29747917)>\n",
      "None\n",
      "name HD160617  ::  <SkyCoord (ICRS): (ra, dec) in deg\n",
      "    ( 265.70551677, -40.32097928)>\n",
      "None\n",
      "name FEIGE34  ::  <SkyCoord (ICRS): (ra, dec) in deg\n",
      "    ( 159.90308495,  43.10257086)>\n",
      "None\n",
      "name HD159222  ::  <SkyCoord (ICRS): (ra, dec) in deg\n",
      "    ( 263.00413544,  34.27114733)>\n",
      "None\n",
      "name HZ43  ::  <SkyCoord (ICRS): (ra, dec) in deg\n",
      "    ( 199.0910417,  29.0987222)>\n",
      "None\n",
      "name HZ44  ::  <SkyCoord (ICRS): (ra, dec) in deg\n",
      "    ( 200.8969333,  36.1332056)>\n",
      "None\n",
      "name HZ21  ::  <SkyCoord (ICRS): (ra, dec) in deg\n",
      "    ( 183.484295,  32.9420947)>\n",
      "None\n",
      "name WD1057+719  ::  <SkyCoord (ICRS): (ra, dec) in deg\n",
      "    ( 165.1447937,  71.6344664)>\n",
      "None\n",
      "name HZ4  ::  <SkyCoord (ICRS): (ra, dec) in deg\n",
      "    ( 58.841625,  9.788333)>\n",
      "None\n",
      "name FEIGE110  ::  <SkyCoord (ICRS): (ra, dec) in deg\n",
      "    ( 349.99332557, -5.16560011)>\n",
      "None\n",
      "name HD031128  ::  <SkyCoord (ICRS): (ra, dec) in deg\n",
      "    ( 73.04129219, -27.06415293)>\n",
      "None\n",
      "name GD71  ::  <SkyCoord (ICRS): (ra, dec) in deg\n",
      "    ( 88.1150583,  15.8871528)>\n",
      "None\n",
      "name HD209458  ::  <SkyCoord (ICRS): (ra, dec) in deg\n",
      "    ( 330.79488361,  18.88431749)>\n",
      "None\n",
      "name SIRIUS  ::  <SkyCoord (ICRS): (ra, dec) in deg\n",
      "    ( 101.2885408, -16.7131428)>\n",
      "None\n",
      "name ALPHA_LYR  ::  <SkyCoord (ICRS): (ra, dec) in deg\n",
      "    ( 279.2321017,  38.782316)>\n",
      "None\n",
      "name HD111980  ::  <SkyCoord (ICRS): (ra, dec) in deg\n",
      "    ( 193.31272205, -18.5222221)>\n",
      "None\n",
      "name HD009051  ::  <SkyCoord (ICRS): (ra, dec) in deg\n",
      "    ( 22.19375857, -24.340401)>\n",
      "None\n",
      "name HD60753  ::  <SkyCoord (ICRS): (ra, dec) in deg\n",
      "    ( 113.36382631, -50.58425502)>\n",
      "None\n",
      "name LDS749B  ::  <SkyCoord (ICRS): (ra, dec) in deg\n",
      "    ( 323.067667,  0.254)>\n",
      "None\n",
      "name HD180609  ::  <SkyCoord (ICRS): (ra, dec) in deg\n",
      "    ( 288.19666338,  64.17699441)>\n",
      "None\n",
      "name HD158485  ::  <SkyCoord (ICRS): (ra, dec) in deg\n",
      "    ( 261.5199333,  58.6519306)>\n",
      "None\n",
      "name HD37962  ::  <SkyCoord (ICRS): (ra, dec) in deg\n",
      "    ( 85.21652848, -31.35110766)>\n",
      "None\n",
      "name HD163466  ::  <SkyCoord (ICRS): (ra, dec) in deg\n",
      "    ( 268.10572628,  60.39637404)>\n",
      "None\n",
      "name HD185975  ::  <SkyCoord (ICRS): (ra, dec) in deg\n",
      "    ( 307.07803503, -87.47220604)>\n",
      "None\n",
      "name G191B2B  ::  <SkyCoord (ICRS): (ra, dec) in deg\n",
      "    ( 76.37755349,  52.83109879)>\n",
      "None\n",
      "name HD116405  ::  <SkyCoord (ICRS): (ra, dec) in deg\n",
      "    ( 200.6878915,  44.7149234)>\n",
      "None\n",
      "name HD14943  ::  <SkyCoord (ICRS): (ra, dec) in deg\n",
      "    ( 35.72781204, -51.09212928)>\n",
      "None\n",
      "name HD200654  ::  <SkyCoord (ICRS): (ra, dec) in deg\n",
      "    ( 316.64479106, -49.96396598)>\n",
      "None\n",
      "name HZ43B  ::  <SkyCoord (ICRS): (ra, dec) in deg\n",
      "    ( 199.090125,  29.0984389)>\n",
      "None\n",
      "name WD1657+343  ::  <SkyCoord (ICRS): (ra, dec) in deg\n",
      "    ( 254.7129799,  34.3148042)>\n",
      "None\n",
      "name HD165459  ::  <SkyCoord (ICRS): (ra, dec) in deg\n",
      "    ( 270.62808549,  58.62726654)>\n",
      "None\n",
      "name HD93521  ::  <SkyCoord (ICRS): (ra, dec) in deg\n",
      "    ( 162.09796404,  37.5703034)>\n",
      "None\n",
      "name GD153  ::  <SkyCoord (ICRS): (ra, dec) in deg\n",
      "    ( 194.2597375,  22.0313)>\n",
      "None\n",
      "name WD0308-565  ::  <SkyCoord (ICRS): (ra, dec) in deg\n",
      "    ( 47.449625, -56.397083)>\n",
      "None\n",
      "name HD38949  ::  <SkyCoord (ICRS): (ra, dec) in deg\n",
      "    ( 87.08357786, -24.46385045)>\n",
      "None\n",
      "name VB8  ::  <SkyCoord (ICRS): (ra, dec) in deg\n",
      "    ( 253.8970542, -8.394475)>\n",
      "None\n",
      "name HD106252  ::  <SkyCoord (ICRS): (ra, dec) in deg\n",
      "    ( 183.3729123,  10.041515)>\n",
      "None\n",
      "name HD074000  ::  <SkyCoord (ICRS): (ra, dec) in deg\n",
      "    ( 130.21168191, -16.34514452)>\n",
      "None\n"
     ]
    }
   ],
   "source": [
    "for key, starobj in All_CALSPEC_Stars_InSkyCoord.iteritems():\n",
    "    print starobj.show()"
   ]
  },
  {
   "cell_type": "markdown",
   "metadata": {
    "deletable": true,
    "editable": true
   },
   "source": [
    "# SED files\n",
    "--------------------\n",
    "\n"
   ]
  },
  {
   "cell_type": "markdown",
   "metadata": {
    "deletable": true,
    "editable": true
   },
   "source": [
    "## Group all files "
   ]
  },
  {
   "cell_type": "code",
   "execution_count": 35,
   "metadata": {
    "collapsed": false,
    "deletable": true,
    "editable": true
   },
   "outputs": [],
   "source": [
    " # filelist"
   ]
  },
  {
   "cell_type": "markdown",
   "metadata": {
    "deletable": true,
    "editable": true
   },
   "source": [
    "### Group files according star name"
   ]
  },
  {
   "cell_type": "code",
   "execution_count": 36,
   "metadata": {
    "collapsed": false,
    "deletable": true,
    "editable": true
   },
   "outputs": [],
   "source": [
    "old_star = None\n",
    "for Starnam in All_CALSPEC_Stars_InSimbad.keys():\n",
    "    if Starnam != old_star: \n",
    "        if old_star != None:\n",
    "            All_CALSPEC_Stars_InSimbad[old_star].setFileList(star_files)\n",
    "        star_files = []\n",
    "        old_star=Starnam\n",
    "        \n",
    "    starnam=Starnam.lower()\n",
    "    for file in filelist:\n",
    "        if re.search(Starnam,file) or re.search(starnam,file):\n",
    "            star_files.append(file)\n",
    "All_CALSPEC_Stars_InSimbad[old_star].setFileList(star_files)   # don't forget last file"
   ]
  },
  {
   "cell_type": "markdown",
   "metadata": {
    "deletable": true,
    "editable": true
   },
   "source": [
    "### View the lists of files"
   ]
  },
  {
   "cell_type": "code",
   "execution_count": 37,
   "metadata": {
    "collapsed": false,
    "deletable": true,
    "editable": true
   },
   "outputs": [
    {
     "name": "stdout",
     "output_type": "stream",
     "text": [
      "10LAC  :: \t  ['10lac_stis_001.fits', '10lac_stis_002.fits', '10lac_stis_003.fits']\n",
      "HD205905  :: \t  ['hd205905_stis_001.fits', 'hd205905_stis_002.fits', 'hd205905_stis_003.fits']\n",
      "HD14943  :: \t  ['hd14943_stis_001.fits', 'hd14943_stis_002.fits', 'hd14943_stis_003.fits']\n",
      "HD37725  :: \t  ['hd37725_stis_001.fits', 'hd37725_stis_002.fits', 'hd37725_stis_003.fits']\n",
      "HD160617  :: \t  ['hd160617_stis_001.fits', 'hd160617_stis_002.fits', 'hd160617_stis_003.fits']\n",
      "FEIGE34  :: \t  ['feige34_005.fits', 'feige34_stis_001.fits', 'feige34_stis_002.fits', 'feige34_stis_003.fits', 'feige34_stis_004.fits']\n",
      "HD159222  :: \t  ['hd159222_stis_001.fits', 'hd159222_stis_002.fits', 'hd159222_stis_003.fits']\n",
      "HZ43  :: \t  ['hz43_fos_003.fits', 'hz43_mod_004.fits', 'hz43_mod_005.fits', 'hz43_mod_008.fits', 'hz43_mod_009.fits', 'hz43_mod_010.fits', 'hz43_stis_001.fits', 'hz43_stis_002.fits', 'hz43_stis_003.fits', 'hz43_stis_004.fits', 'hz43b_stis_001.fits', 'hz43b_stis_002.fits', 'hz43b_stis_003.fits', 'hz43b_stis_004.fits']\n",
      "HZ44  :: \t  ['hz44_005.fits', 'hz44_fos_003.fits', 'hz44_stis_001.fits', 'hz44_stis_002.fits', 'hz44_stis_003.fits', 'hz44_stis_004.fits']\n",
      "HZ21  :: \t  ['hz21_005.fits', 'hz21_stis_001.fits', 'hz21_stis_002.fits', 'hz21_stis_003.fits', 'hz21_stis_004.fits']\n",
      "WD1057+719  :: \t  []\n",
      "HZ4  :: \t  ['hz43_fos_003.fits', 'hz43_mod_004.fits', 'hz43_mod_005.fits', 'hz43_mod_008.fits', 'hz43_mod_009.fits', 'hz43_mod_010.fits', 'hz43_stis_001.fits', 'hz43_stis_002.fits', 'hz43_stis_003.fits', 'hz43_stis_004.fits', 'hz43b_stis_001.fits', 'hz43b_stis_002.fits', 'hz43b_stis_003.fits', 'hz43b_stis_004.fits', 'hz44_005.fits', 'hz44_fos_003.fits', 'hz44_stis_001.fits', 'hz44_stis_002.fits', 'hz44_stis_003.fits', 'hz44_stis_004.fits', 'hz4_004.fits', 'hz4_stis_001.fits', 'hz4_stis_002.fits', 'hz4_stis_003.fits', 'hz4_stis_004.fits', 'hz4_stis_005.fits']\n",
      "FEIGE110  :: \t  ['feige110_005.fits', 'feige110_stis_001.fits', 'feige110_stisnic_002.fits', 'feige110_stisnic_003.fits', 'feige110_stisnic_004.fits', 'feige110_stisnic_005.fits', 'feige110_stisnic_006.fits']\n",
      "HD031128  :: \t  ['hd031128_stis_001.fits', 'hd031128_stis_002.fits', 'hd031128_stis_003.fits']\n",
      "GD71  :: \t  ['gd71_fos_003.fits', 'gd71_mod_005.fits', 'gd71_mod_006.fits', 'gd71_mod_007.fits', 'gd71_mod_008.fits', 'gd71_mod_009.fits', 'gd71_mod_010.fits', 'gd71_stis_001.fits', 'gd71_stisnic_001.fits', 'gd71_stisnic_002.fits', 'gd71_stisnic_003.fits', 'gd71_stisnic_004.fits', 'gd71_stisnic_005.fits', 'gd71_stisnic_006.fits']\n",
      "HD209458  :: \t  ['hd209458_stisnic_002.fits', 'hd209458_stisnic_003.fits', 'hd209458_stisnic_004.fits', 'hd209458_stisnic_005.fits', 'hd209458_stisnic_006.fits']\n",
      "SIRIUS  :: \t  ['sirius_mod_001.fits', 'sirius_mod_002.fits', 'sirius_stis_001.fits', 'sirius_stis_002.fits']\n",
      "WD0320-539  :: \t  []\n",
      "HD111980  :: \t  ['hd111980_stis_001.fits', 'hd111980_stis_002.fits', 'hd111980_stis_003.fits']\n",
      "HD009051  :: \t  ['hd009051_stis_001.fits', 'hd009051_stis_002.fits', 'hd009051_stis_003.fits']\n",
      "HD60753  :: \t  ['hd60753_stis_001.fits', 'hd60753_stis_002.fits', 'hd60753_stis_003.fits']\n",
      "LDS749B  :: \t  ['lds749b_005.fits', 'lds749b_mod_001.fits', 'lds749b_mod_002.fits', 'lds749b_mod_003.fits', 'lds749b_mod_004.fits', 'lds749b_mod_005.fits', 'lds749b_stis_001.fits', 'lds749b_stisnic_001.fits', 'lds749b_stisnic_002.fits', 'lds749b_stisnic_003.fits', 'lds749b_stisnic_004.fits', 'lds749b_stisnic_005.fits', 'lds749b_stisnic_006.fits']\n",
      "HD180609  :: \t  ['hd180609_stis_001.fits', 'hd180609_stis_002.fits', 'hd180609_stis_003.fits']\n",
      "HD158485  :: \t  ['hd158485_stis_001.fits', 'hd158485_stis_002.fits', 'hd158485_stis_003.fits']\n",
      "HD37962  :: \t  ['hd37962_stis_001.fits', 'hd37962_stis_002.fits', 'hd37962_stis_003.fits']\n",
      "HD163466  :: \t  ['hd163466_stis_001.fits', 'hd163466_stis_002.fits', 'hd163466_stis_003.fits']\n",
      "HD185975  :: \t  ['hd185975_stis_001.fits', 'hd185975_stis_002.fits', 'hd185975_stis_003.fits']\n",
      "G191B2B  :: \t  ['g191b2b_005.fits', 'g191b2b_fos_003.fits', 'g191b2b_mod_004.fits', 'g191b2b_mod_005.fits', 'g191b2b_mod_007.fits', 'g191b2b_mod_008.fits', 'g191b2b_mod_009.fits', 'g191b2b_mod_010.fits', 'g191b2b_nic_001.fits', 'g191b2b_stis_001.fits', 'g191b2b_stisfuse_001.fits', 'g191b2b_stisnic_001.fits', 'g191b2b_stisnic_002.fits', 'g191b2b_stisnic_003.fits', 'g191b2b_stisnic_004.fits', 'g191b2b_stisnic_005.fits', 'g191b2b_stisnic_006.fits']\n",
      "HD116405  :: \t  ['hd116405_stis_001.fits', 'hd116405_stis_002.fits', 'hd116405_stis_003.fits']\n",
      "ALPHA_LYR  :: \t  ['alpha_lyr_004.fits', 'alpha_lyr_005.fits', 'alpha_lyr_mod_001.fits', 'alpha_lyr_mod_002.fits', 'alpha_lyr_stis_002.fits', 'alpha_lyr_stis_003.fits', 'alpha_lyr_stis_004.fits', 'alpha_lyr_stis_005.fits', 'alpha_lyr_stis_006.fits', 'alpha_lyr_stis_007.fits', 'alpha_lyr_stis_008.fits']\n",
      "HD200654  :: \t  ['hd200654_stis_001.fits', 'hd200654_stis_002.fits', 'hd200654_stis_003.fits']\n",
      "HZ43B  :: \t  ['hz43b_stis_001.fits', 'hz43b_stis_002.fits', 'hz43b_stis_003.fits', 'hz43b_stis_004.fits']\n",
      "WD1657+343  :: \t  []\n",
      "HD165459  :: \t  ['hd165459_nic_002.fits', 'hd165459_stisnic_001.fits', 'hd165459_stisnic_002.fits', 'hd165459_stisnic_003.fits']\n",
      "HD93521  :: \t  ['hd93521_005.fits', 'hd93521_stis_001.fits', 'hd93521_stis_002.fits', 'hd93521_stis_003.fits', 'hd93521_stis_004.fits']\n",
      "GD153  :: \t  ['gd153_fos_003.fits', 'gd153_mod_004.fits', 'gd153_mod_005.fits', 'gd153_mod_007.fits', 'gd153_mod_008.fits', 'gd153_mod_009.fits', 'gd153_mod_010.fits', 'gd153_stis_001.fits', 'gd153_stisnic_001.fits', 'gd153_stisnic_002.fits', 'gd153_stisnic_003.fits', 'gd153_stisnic_004.fits', 'gd153_stisnic_005.fits', 'gd153_stisnic_006.fits']\n",
      "WD0308-565  :: \t  []\n",
      "HD38949  :: \t  ['hd38949_stis_001.fits', 'hd38949_stis_002.fits', 'hd38949_stis_003.fits']\n",
      "VB8  :: \t  ['vb8_stisnic_001.fits', 'vb8_stisnic_002.fits', 'vb8_stisnic_003.fits', 'vb8_stisnic_004.fits', 'vb8_stisnic_005.fits', 'vb8_stisnic_006.fits']\n",
      "HD106252  :: \t  ['hd106252_stis_001.fits', 'hd106252_stis_002.fits', 'hd106252_stis_003.fits']\n",
      "HD074000  :: \t  ['hd074000_stis_001.fits', 'hd074000_stis_002.fits', 'hd074000_stis_003.fits']\n"
     ]
    }
   ],
   "source": [
    "for Starnam in All_CALSPEC_Stars_InSimbad.keys():\n",
    "    print Starnam, ' :: \\t ',All_CALSPEC_Stars_InSimbad[Starnam].getFilelist()"
   ]
  },
  {
   "cell_type": "code",
   "execution_count": 38,
   "metadata": {
    "collapsed": false,
    "deletable": true,
    "editable": true
   },
   "outputs": [],
   "source": [
    "SELECTED_STAR_NAME='HD159222'"
   ]
  },
  {
   "cell_type": "code",
   "execution_count": 39,
   "metadata": {
    "collapsed": false
   },
   "outputs": [],
   "source": [
    "theStar=All_CALSPEC_Stars_InSimbad[SELECTED_STAR_NAME]"
   ]
  },
  {
   "cell_type": "code",
   "execution_count": 40,
   "metadata": {
    "collapsed": true
   },
   "outputs": [],
   "source": [
    "thefilelist=theStar.getFilelist()"
   ]
  },
  {
   "cell_type": "code",
   "execution_count": 41,
   "metadata": {
    "collapsed": false
   },
   "outputs": [
    {
     "data": {
      "text/plain": [
       "['hd159222_stis_001.fits', 'hd159222_stis_002.fits', 'hd159222_stis_003.fits']"
      ]
     },
     "execution_count": 41,
     "metadata": {},
     "output_type": "execute_result"
    }
   ],
   "source": [
    "thefilelist"
   ]
  },
  {
   "cell_type": "code",
   "execution_count": 42,
   "metadata": {
    "collapsed": false
   },
   "outputs": [
    {
     "name": "stdout",
     "output_type": "stream",
     "text": [
      "Filename: /Users/dagoret-campagnesylvie/MacOsX/External/PySyn_CDBS/grp/hst/cdbs/calspec/hd159222_stis_001.fits\n",
      "No.    Name         Type      Cards   Dimensions   Format\n",
      "  0  PRIMARY     PrimaryHDU      71   ()      \n",
      "  1  SCI         BinTableHDU     39   3739R x 7C   [1E, 1E, 1E, 1E, 1E, 1I, 1E]   \n",
      "Filename: /Users/dagoret-campagnesylvie/MacOsX/External/PySyn_CDBS/grp/hst/cdbs/calspec/hd159222_stis_002.fits\n",
      "No.    Name         Type      Cards   Dimensions   Format\n",
      "  0  PRIMARY     PrimaryHDU      71   ()      \n",
      "  1  SCI         BinTableHDU     39   3739R x 7C   [1E, 1E, 1E, 1E, 1E, 1I, 1E]   \n",
      "Filename: /Users/dagoret-campagnesylvie/MacOsX/External/PySyn_CDBS/grp/hst/cdbs/calspec/hd159222_stis_003.fits\n",
      "No.    Name         Type      Cards   Dimensions   Format\n",
      "  0  PRIMARY     PrimaryHDU      71   ()      \n",
      "  1  SCI         BinTableHDU     39   3739R x 7C   [1D, 1E, 1E, 1E, 1E, 1I, 1E]   \n"
     ]
    },
    {
     "data": {
      "image/png": "[encoded data removed]",
      "text/plain": [
       "<matplotlib.figure.Figure at 0x116586f90>"
      ]
     },
     "metadata": {},
     "output_type": "display_data"
    }
   ],
   "source": [
    "starname=SELECTED_STAR_NAME\n",
    "for file in thefilelist:\n",
    "        fullfilename=os.path.join(os.environ['PYSYN_CDBS'], 'calspec',file)\n",
    "        hdulist=fits.open(fullfilename)\n",
    "        hdulist.info()\n",
    "        table_data=hdulist[1].data\n",
    "        #print table_data.columns  # shows the columns names of the table\n",
    "        wavelengths=table_data.field('WAVELENGTH')/10.\n",
    "        flux=table_data.field('FLUX')\n",
    "        title='SED '+starname\n",
    "        plt.plot(wavelengths,flux,label=file.split('.')[0])\n",
    "        plt.title(title)\n",
    "        plt.ylabel('flux')\n",
    "        plt.xlabel('$\\lambda$ (nm)')\n",
    "        plt.xlim(0,2000)\n",
    "        plt.legend()"
   ]
  },
  {
   "cell_type": "code",
   "execution_count": 43,
   "metadata": {
    "collapsed": false
   },
   "outputs": [],
   "source": [
    "def PlotSED(starname,thefilelist):\n",
    "    for file in thefilelist:\n",
    "        fullfilename=os.path.join(os.environ['PYSYN_CDBS'], 'calspec',file)\n",
    "        hdulist=fits.open(fullfilename)\n",
    "        #hdulist.info()\n",
    "        table_data=hdulist[1].data\n",
    "        #print table_data.columns  # shows the columns names of the table\n",
    "        wavelengths=table_data.field('WAVELENGTH')/10.\n",
    "        flux=table_data.field('FLUX')\n",
    "        title='SED '+starname\n",
    "        plt.plot(wavelengths,flux,label=file.split('.')[0])\n",
    "        plt.title(title)\n",
    "        plt.ylabel('flux')\n",
    "        plt.xlabel('$\\lambda$ (nm)')\n",
    "        plt.xlim(0,2000)\n",
    "        plt.legend()\n",
    "        hdulist.close()"
   ]
  },
  {
   "cell_type": "code",
   "execution_count": null,
   "metadata": {
    "collapsed": false
   },
   "outputs": [
    {
     "name": "stdout",
     "output_type": "stream",
     "text": [
      "HD159222 ['hd159222_stis_001.fits', 'hd159222_stis_002.fits', 'hd159222_stis_003.fits']\n"
     ]
    },
    {
     "data": {
      "image/png": "[encoded data removed]",
      "text/plain": [
       "<matplotlib.figure.Figure at 0x1166b39d0>"
      ]
     },
     "metadata": {},
     "output_type": "display_data"
    }
   ],
   "source": [
    "PlotSED(SELECTED_STAR_NAME,thefilelist)"
   ]
  },
  {
   "cell_type": "code",
   "execution_count": null,
   "metadata": {
    "collapsed": false
   },
   "outputs": [
    {
     "name": "stdout",
     "output_type": "stream",
     "text": [
      "10LAC ['10lac_stis_001.fits', '10lac_stis_002.fits', '10lac_stis_003.fits']\n",
      "HD205905 ['hd205905_stis_001.fits', 'hd205905_stis_002.fits', 'hd205905_stis_003.fits']\n",
      "HD14943 ['hd14943_stis_001.fits', 'hd14943_stis_002.fits', 'hd14943_stis_003.fits']\n",
      "HD37725 ['hd37725_stis_001.fits', 'hd37725_stis_002.fits', 'hd37725_stis_003.fits']\n",
      "HD160617 ['hd160617_stis_001.fits', 'hd160617_stis_002.fits', 'hd160617_stis_003.fits']\n",
      "FEIGE34 ['feige34_005.fits', 'feige34_stis_001.fits', 'feige34_stis_002.fits', 'feige34_stis_003.fits', 'feige34_stis_004.fits']\n"
     ]
    },
    {
     "name": "stderr",
     "output_type": "stream",
     "text": [
      "WARNING: VerifyWarning: Invalid keyword for column 2: Column null option (TNULLn) is invalid for binary table columns of type '1E' (got 1.6e+38).  The invalid value will be ignored for the purpose of formatting the data in this column. [astropy.io.fits.column]\n",
      "WARNING: VerifyWarning: Invalid keyword for column 3: Column null option (TNULLn) is invalid for binary table columns of type '1E' (got 1.6e+38).  The invalid value will be ignored for the purpose of formatting the data in this column. [astropy.io.fits.column]\n",
      "WARNING: VerifyWarning: Invalid keyword for column 4: Column null option (TNULLn) is invalid for binary table columns of type '1E' (got 1.6e+38).  The invalid value will be ignored for the purpose of formatting the data in this column. [astropy.io.fits.column]\n",
      "WARNING: VerifyWarning: Invalid keyword for column 5: Column null option (TNULLn) is invalid for binary table columns of type '1E' (got 1.6e+38).  The invalid value will be ignored for the purpose of formatting the data in this column. [astropy.io.fits.column]\n",
      "WARNING: VerifyWarning: Invalid keyword for column 7: Column null option (TNULLn) is invalid for binary table columns of type '1E' (got 1.6e+38).  The invalid value will be ignored for the purpose of formatting the data in this column. [astropy.io.fits.column]\n"
     ]
    },
    {
     "name": "stdout",
     "output_type": "stream",
     "text": [
      "HD159222 ['hd159222_stis_001.fits', 'hd159222_stis_002.fits', 'hd159222_stis_003.fits']\n",
      "HZ43 ['hz43_fos_003.fits', 'hz43_mod_004.fits', 'hz43_mod_005.fits', 'hz43_mod_008.fits', 'hz43_mod_009.fits', 'hz43_mod_010.fits', 'hz43_stis_001.fits', 'hz43_stis_002.fits', 'hz43_stis_003.fits', 'hz43_stis_004.fits', 'hz43b_stis_001.fits', 'hz43b_stis_002.fits', 'hz43b_stis_003.fits', 'hz43b_stis_004.fits']\n",
      "HZ44 ['hz44_005.fits', 'hz44_fos_003.fits', 'hz44_stis_001.fits', 'hz44_stis_002.fits', 'hz44_stis_003.fits', 'hz44_stis_004.fits']\n",
      "HZ21 ['hz21_005.fits', 'hz21_stis_001.fits', 'hz21_stis_002.fits', 'hz21_stis_003.fits', 'hz21_stis_004.fits']\n",
      "WD1057+719 []\n",
      "HZ4 ['hz43_fos_003.fits', 'hz43_mod_004.fits', 'hz43_mod_005.fits', 'hz43_mod_008.fits', 'hz43_mod_009.fits', 'hz43_mod_010.fits', 'hz43_stis_001.fits', 'hz43_stis_002.fits', 'hz43_stis_003.fits', 'hz43_stis_004.fits', 'hz43b_stis_001.fits', 'hz43b_stis_002.fits', 'hz43b_stis_003.fits', 'hz43b_stis_004.fits', 'hz44_005.fits', 'hz44_fos_003.fits', 'hz44_stis_001.fits', 'hz44_stis_002.fits', 'hz44_stis_003.fits', 'hz44_stis_004.fits', 'hz4_004.fits', 'hz4_stis_001.fits', 'hz4_stis_002.fits', 'hz4_stis_003.fits', 'hz4_stis_004.fits', 'hz4_stis_005.fits']\n",
      "FEIGE110 ['feige110_005.fits', 'feige110_stis_001.fits', 'feige110_stisnic_002.fits', 'feige110_stisnic_003.fits', 'feige110_stisnic_004.fits', 'feige110_stisnic_005.fits', 'feige110_stisnic_006.fits']\n",
      "HD031128 ['hd031128_stis_001.fits', 'hd031128_stis_002.fits', 'hd031128_stis_003.fits']\n",
      "GD71 ['gd71_fos_003.fits', 'gd71_mod_005.fits', 'gd71_mod_006.fits', 'gd71_mod_007.fits', 'gd71_mod_008.fits', 'gd71_mod_009.fits', 'gd71_mod_010.fits', 'gd71_stis_001.fits', 'gd71_stisnic_001.fits', 'gd71_stisnic_002.fits', 'gd71_stisnic_003.fits', 'gd71_stisnic_004.fits', 'gd71_stisnic_005.fits', 'gd71_stisnic_006.fits']\n",
      "HD209458 ['hd209458_stisnic_002.fits', 'hd209458_stisnic_003.fits', 'hd209458_stisnic_004.fits', 'hd209458_stisnic_005.fits', 'hd209458_stisnic_006.fits']\n",
      "SIRIUS ['sirius_mod_001.fits', 'sirius_mod_002.fits', 'sirius_stis_001.fits', 'sirius_stis_002.fits']\n",
      "WD0320-539 []\n",
      "HD111980 ['hd111980_stis_001.fits', 'hd111980_stis_002.fits', 'hd111980_stis_003.fits']\n",
      "HD009051 ['hd009051_stis_001.fits', 'hd009051_stis_002.fits', 'hd009051_stis_003.fits']\n",
      "HD60753 ['hd60753_stis_001.fits', 'hd60753_stis_002.fits', 'hd60753_stis_003.fits']\n",
      "LDS749B ['lds749b_005.fits', 'lds749b_mod_001.fits', 'lds749b_mod_002.fits', 'lds749b_mod_003.fits', 'lds749b_mod_004.fits', 'lds749b_mod_005.fits', 'lds749b_stis_001.fits', 'lds749b_stisnic_001.fits', 'lds749b_stisnic_002.fits', 'lds749b_stisnic_003.fits', 'lds749b_stisnic_004.fits', 'lds749b_stisnic_005.fits', 'lds749b_stisnic_006.fits']\n",
      "HD180609 ['hd180609_stis_001.fits', 'hd180609_stis_002.fits', 'hd180609_stis_003.fits']\n",
      "HD158485 ['hd158485_stis_001.fits', 'hd158485_stis_002.fits', 'hd158485_stis_003.fits']\n",
      "HD37962 ['hd37962_stis_001.fits', 'hd37962_stis_002.fits', 'hd37962_stis_003.fits']\n",
      "HD163466 ['hd163466_stis_001.fits', 'hd163466_stis_002.fits', 'hd163466_stis_003.fits']\n",
      "HD185975 ['hd185975_stis_001.fits', 'hd185975_stis_002.fits', 'hd185975_stis_003.fits']\n",
      "G191B2B ['g191b2b_005.fits', 'g191b2b_fos_003.fits', 'g191b2b_mod_004.fits', 'g191b2b_mod_005.fits', 'g191b2b_mod_007.fits', 'g191b2b_mod_008.fits', 'g191b2b_mod_009.fits', 'g191b2b_mod_010.fits', 'g191b2b_nic_001.fits', 'g191b2b_stis_001.fits', 'g191b2b_stisfuse_001.fits', 'g191b2b_stisnic_001.fits', 'g191b2b_stisnic_002.fits', 'g191b2b_stisnic_003.fits', 'g191b2b_stisnic_004.fits', 'g191b2b_stisnic_005.fits', 'g191b2b_stisnic_006.fits']\n",
      "HD116405 ['hd116405_stis_001.fits', 'hd116405_stis_002.fits', 'hd116405_stis_003.fits']\n",
      "ALPHA_LYR ['alpha_lyr_004.fits', 'alpha_lyr_005.fits', 'alpha_lyr_mod_001.fits', 'alpha_lyr_mod_002.fits', 'alpha_lyr_stis_002.fits', 'alpha_lyr_stis_003.fits', 'alpha_lyr_stis_004.fits', 'alpha_lyr_stis_005.fits', 'alpha_lyr_stis_006.fits', 'alpha_lyr_stis_007.fits', 'alpha_lyr_stis_008.fits']\n",
      "HD200654 ['hd200654_stis_001.fits', 'hd200654_stis_002.fits', 'hd200654_stis_003.fits']\n"
     ]
    },
    {
     "name": "stderr",
     "output_type": "stream",
     "text": [
      "ERROR:root:Internal Python error in the inspect module.\n",
      "Below is the traceback from this internal error.\n",
      "\n"
     ]
    },
    {
     "name": "stdout",
     "output_type": "stream",
     "text": [
      "Traceback (most recent call last):\n",
      "  File \"/Users/dagoret-campagnesylvie/anaconda/envs/pyastrophys/lib/python2.7/site-packages/IPython/core/ultratb.py\", line 1132, in get_records\n",
      "  File \"/Users/dagoret-campagnesylvie/anaconda/envs/pyastrophys/lib/python2.7/site-packages/IPython/core/ultratb.py\", line 313, in wrapped\n",
      "  File \"/Users/dagoret-campagnesylvie/anaconda/envs/pyastrophys/lib/python2.7/site-packages/IPython/core/ultratb.py\", line 358, in _fixed_getinnerframes\n",
      "  File \"/Users/dagoret-campagnesylvie/anaconda/envs/pyastrophys/lib/python2.7/inspect.py\", line 1049, in getinnerframes\n",
      "  File \"/Users/dagoret-campagnesylvie/anaconda/envs/pyastrophys/lib/python2.7/inspect.py\", line 1009, in getframeinfo\n",
      "  File \"/Users/dagoret-campagnesylvie/anaconda/envs/pyastrophys/lib/python2.7/inspect.py\", line 454, in getsourcefile\n",
      "  File \"/Users/dagoret-campagnesylvie/anaconda/envs/pyastrophys/lib/python2.7/inspect.py\", line 483, in getmodule\n",
      "  File \"/Users/dagoret-campagnesylvie/anaconda/envs/pyastrophys/lib/python2.7/inspect.py\", line 467, in getabsfile\n",
      "  File \"/Users/dagoret-campagnesylvie/anaconda/envs/pyastrophys/lib/python2.7/posixpath.py\", line 364, in abspath\n",
      "OSError: [Errno 24] Too many open files\n"
     ]
    },
    {
     "ename": "IndexError",
     "evalue": "string index out of range",
     "output_type": "error",
     "traceback": [
      "\u001b[0;31m---------------------------------------------------------------------------\u001b[0m",
      "\u001b[0;31mIndexError\u001b[0m                                Traceback (most recent call last)",
      "\u001b[0;32m/Users/dagoret-campagnesylvie/anaconda/envs/pyastrophys/lib/python2.7/site-packages/IPython/core/interactiveshell.pyc\u001b[0m in \u001b[0;36mrun_code\u001b[0;34m(self, code_obj, result)\u001b[0m\n",
      "\u001b[0;32m/Users/dagoret-campagnesylvie/anaconda/envs/pyastrophys/lib/python2.7/site-packages/IPython/core/interactiveshell.pyc\u001b[0m in \u001b[0;36mshowtraceback\u001b[0;34m(self, exc_tuple, filename, tb_offset, exception_only)\u001b[0m\n",
      "\u001b[0;32m/Users/dagoret-campagnesylvie/anaconda/envs/pyastrophys/lib/python2.7/site-packages/IPython/core/ultratb.pyc\u001b[0m in \u001b[0;36mstructured_traceback\u001b[0;34m(self, etype, value, tb, tb_offset, number_of_lines_of_context)\u001b[0m\n",
      "\u001b[0;32m/Users/dagoret-campagnesylvie/anaconda/envs/pyastrophys/lib/python2.7/site-packages/IPython/core/ultratb.pyc\u001b[0m in \u001b[0;36mstructured_traceback\u001b[0;34m(self, etype, value, tb, tb_offset, number_of_lines_of_context)\u001b[0m\n",
      "\u001b[0;32m/Users/dagoret-campagnesylvie/anaconda/envs/pyastrophys/lib/python2.7/site-packages/IPython/core/ultratb.pyc\u001b[0m in \u001b[0;36mstructured_traceback\u001b[0;34m(self, etype, evalue, etb, tb_offset, number_of_lines_of_context)\u001b[0m\n",
      "\u001b[0;31mIndexError\u001b[0m: string index out of range"
     ]
    }
   ],
   "source": [
    "for Starnam in All_CALSPEC_Stars_InSimbad.keys():\n",
    "    PlotSED(Starnam,All_CALSPEC_Stars_InSimbad[Starnam].getFilelist())"
   ]
  },
  {
   "cell_type": "code",
   "execution_count": null,
   "metadata": {
    "collapsed": true
   },
   "outputs": [],
   "source": []
  }
 ],
 "metadata": {
  "anaconda-cloud": {},
  "kernelspec": {
   "display_name": "Python [conda env:pyastrophys]",
   "language": "python",
   "name": "conda-env-pyastrophys-py"
  },
  "language_info": {
   "codemirror_mode": {
    "name": "ipython",
    "version": 2
   },
   "file_extension": ".py",
   "mimetype": "text/x-python",
   "name": "python",
   "nbconvert_exporter": "python",
   "pygments_lexer": "ipython2",
   "version": "2.7.12"
  },
  "toc": {
   "colors": {
    "hover_highlight": "#DAA520",
    "running_highlight": "#FF0000",
    "selected_highlight": "#FFD700"
   },
   "moveMenuLeft": true,
   "nav_menu": {
    "height": "30px",
    "width": "252px"
   },
   "navigate_menu": true,
   "number_sections": true,
   "sideBar": true,
   "threshold": 4,
   "toc_cell": false,
   "toc_section_display": "block",
   "toc_window_display": false,
   "widenNotebook": false
  }
 },
 "nbformat": 4,
 "nbformat_minor": 2
}
